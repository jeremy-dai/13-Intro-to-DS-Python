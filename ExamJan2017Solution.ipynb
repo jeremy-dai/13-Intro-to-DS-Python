{
 "cells": [
  {
   "cell_type": "markdown",
   "metadata": {},
   "source": [
    "# Exam Introduction to Data Science, January 2017\n"
   ]
  },
  {
   "cell_type": "markdown",
   "metadata": {},
   "source": [
    "---\n",
    "\n",
    "# Question 1 (20).\n",
    "\n",
    "- (5) Is an R vector a mutable, or an immutable type? How can you tell?\n",
    "- (5) In both Python and R, integers can be exponentiated using `**`. So why does the expression `200**200` give a different result in these two languages?"
   ]
  },
  {
   "cell_type": "markdown",
   "metadata": {},
   "source": [
    "> **Answer:**\n",
    ">\n",
    "> A vector is a mutable type. You can tell because you can do `a <- c(3,6,2)` and then `a[1] <- 5` and then observe that the value of `a` changed. (However, but students do not have to point this out, it's hard in R to create two references to the same object, so that mutable types generally don't create a lot of confusion.)"
   ]
  },
  {
   "cell_type": "markdown",
   "metadata": {},
   "source": [
    "As you know, Python supports *dictionaries*: a type that can be used to store (key,value) pairs. For any key, the corresponding value can be accessed efficiently:"
   ]
  },
  {
   "cell_type": "code",
   "execution_count": 201,
   "metadata": {
    "collapsed": false
   },
   "outputs": [
    {
     "data": {
      "text/plain": [
       "'chocolate'"
      ]
     },
     "execution_count": 201,
     "metadata": {},
     "output_type": "execute_result"
    }
   ],
   "source": [
    "d = {}\n",
    "d[\"mood\"] = \"confident\"\n",
    "d[\"food\"] = \"chocolate\"\n",
    "\n",
    "d[\"food\"]"
   ]
  },
  {
   "cell_type": "markdown",
   "metadata": {},
   "source": [
    "R does not support dictionaries per se. Nevertheless the above code snippet can be translated into R as follows:\n",
    "\n",
    "```{r}\n",
    "> d <- NULL\n",
    "> d[\"mood\"] <- \"confident\"\n",
    "> d[\"food\"] <- \"chocolate\"\n",
    "> d[\"food\"]\n",
    "       food \n",
    "\"chocolate\" \n",
    "```\n",
    "\n",
    "- (5) `d` is an atomic vector. Does that mean its keys all have to be of the same type - or the values? What attributes does `d` have?\n",
    "- (5) Paste below the same code given above, but modified so it does not use an atomic vector, but an R `list` to fake a dictionary. What would be the advantage of using a list?"
   ]
  },
  {
   "cell_type": "markdown",
   "metadata": {},
   "source": [
    "> **Answer:**\n",
    ">\n",
    "> - It means that all its *values* must be of the same type. (However, the keys must also be of the same type because they are stored in the `names` attribute, which is also an atomic vector.)\n",
    ">\n",
    "> - Using a list instead of a vector, the code becomes:\n",
    "```\n",
    "> d <- list()\n",
    "> d[[\"mood\"]] <- \"confident\"\n",
    "> d[[\"food\"]] <- \"chocolate\"\n",
    "> d[[\"food\"]]\n",
    "> [1] \"chocolate\"\n",
    "```\n",
    "> The advantage is that this way the values can be of different types."
   ]
  },
  {
   "cell_type": "markdown",
   "metadata": {},
   "source": [
    "---\n",
    "# Question 2 (10).\n",
    "\n",
    "- (10-2m, m=#mistakes) Which of the following objects are immutable? Which are sequences? Which are iterable?\n",
    "\n",
    "\n",
    "1. `42`\n",
    "- `[\"good\", \"luck\"]`\n",
    "- `None`\n",
    "- `\"sugar and spice and everything nice\"`\n",
    "- `{ 2,3,5,7,11 }`\n",
    "- `range(20)`\n",
    " "
   ]
  },
  {
   "cell_type": "markdown",
   "metadata": {},
   "source": [
    "> **Answer:**\n",
    "> \n",
    "> - Immutable: 1,3,4,6.\n",
    "> - Sequence: 2,4,6\n",
    "> - Iterable: 2,4,5,6"
   ]
  },
  {
   "cell_type": "markdown",
   "metadata": {},
   "source": [
    "---\n",
    "\n",
    "# Question 3 (20).\n",
    "\n",
    "Look at the following bit of code, implementing the beginnings of a hotel register."
   ]
  },
  {
   "cell_type": "code",
   "execution_count": 18,
   "metadata": {
    "collapsed": false
   },
   "outputs": [
    {
     "name": "stdout",
     "output_type": "stream",
     "text": [
      "Steven's room number is 10\n"
     ]
    }
   ],
   "source": [
    "class Register:\n",
    "    \n",
    "    def __init__(self):\n",
    "        self.register = []\n",
    "        \n",
    "    def insert(self, name, room):\n",
    "        self.register.append((name, room))\n",
    "        \n",
    "    def look_up_room(self, name):\n",
    "        for n, r in self.register:\n",
    "            if name == n:\n",
    "                return r\n",
    "        \n",
    "r = Register()\n",
    "r.insert(\"steven\", 10)\n",
    "r.insert(\"frank\", 15)\n",
    "print(\"Steven's room number is\", r.look_up_room(\"steven\"))        "
   ]
  },
  {
   "cell_type": "markdown",
   "metadata": {},
   "source": [
    "- (5) What happens if all occurrences of the word 'self' are replaced by 'me' in the code above?"
   ]
  },
  {
   "cell_type": "markdown",
   "metadata": {},
   "source": [
    "> **Answer:**\n",
    ">\n",
    "> Nothing. It is a convention to use the name \"self\", but it is just a regular function parameter name, any other name will work as well."
   ]
  },
  {
   "cell_type": "markdown",
   "metadata": {},
   "source": [
    "Imagine that one day, there is a very good season and the hotel welcomes about a hundred million guests.\n",
    "\n",
    "- (5) Why does looking up guests become slow?\n",
    "- (10) Fix the code so that looking up guests is fast, regardless of the number of guests (as long as they fit in memory)."
   ]
  },
  {
   "cell_type": "markdown",
   "metadata": {},
   "source": [
    "> **Answer:**\n",
    ">\n",
    "> It becomes slow because it has to check all registered entries one by one to see if the guest is in there.\n",
    ">\n",
    "> (Fix code by changing the representation of the register as a dictionary that maps the name to the room number.)"
   ]
  },
  {
   "cell_type": "markdown",
   "metadata": {
    "collapsed": true
   },
   "source": [
    "---\n",
    "\n",
    "# Question 4 (25)\n",
    "\n",
    "The function `is_prime` below tests if a number is prime. If `n` is composite (not prime), it must have a divisor `d` that is larger than one and less than `n`. As you see, the function works by checking that `n` has no such divisors."
   ]
  },
  {
   "cell_type": "code",
   "execution_count": 211,
   "metadata": {
    "collapsed": false
   },
   "outputs": [
    {
     "name": "stdout",
     "output_type": "stream",
     "text": [
      "2 is prime!\n",
      "3 is prime!\n",
      "5 is prime!\n",
      "7 is prime!\n",
      "11 is prime!\n",
      "13 is prime!\n",
      "17 is prime!\n",
      "19 is prime!\n"
     ]
    }
   ],
   "source": [
    "# in: two integers d and n\n",
    "# out: True if d divides n (which means that d*k==n for some integer k),\n",
    "#      and False otherwise.\n",
    "def divides(d, n):\n",
    "    return n%d==0\n",
    "\n",
    "# in:  an integer n\n",
    "# out: True if n is prime, False otherwise\n",
    "def is_prime(n):\n",
    "    if n<2:\n",
    "        return False\n",
    "    for i in range(2,n):\n",
    "        if divides(i,n):\n",
    "            return False\n",
    "    return True\n",
    "\n",
    "# test\n",
    "for n in range(20):\n",
    "    if is_prime(n):\n",
    "        print(n, \"is prime!\")"
   ]
  },
  {
   "cell_type": "markdown",
   "metadata": {},
   "source": [
    "There are two ways in which the performance of the algorithm above can be improved:\n",
    "\n",
    "- (5) Since even numbers never divide odd numbers, such checks can be skipped altogether. Improve the performance of `is_prime`, by changing the code so it handles even numbers and odd numbers separately, and does not test odd numbers for even divisors.\n",
    "\n",
    "-  (10) Suppose that `n` *does* have a divisor `d`. If `d` is larger than the square root of `n`, then `n/d` must be a divisor of `n` that is *less* than the square root. So all composite numbers must have *some* divisor less than or equal to their square root. Again, improve the performance of `is_prime` by taking this into account."
   ]
  },
  {
   "cell_type": "code",
   "execution_count": 204,
   "metadata": {
    "collapsed": false
   },
   "outputs": [
    {
     "name": "stdout",
     "output_type": "stream",
     "text": [
      "2 is prime!\n",
      "3 is prime!\n",
      "5 is prime!\n",
      "7 is prime!\n",
      "11 is prime!\n",
      "13 is prime!\n",
      "17 is prime!\n",
      "19 is prime!\n"
     ]
    }
   ],
   "source": [
    "# ANSWER\n",
    "\n",
    "import math\n",
    "\n",
    "def is_prime_improved(n):\n",
    "    if n<2:\n",
    "        return False\n",
    "    if divides(2,n):\n",
    "        return n==2 # 2 is the only even prime\n",
    "    for i in range(3,int(math.sqrt(n))+1,2):\n",
    "        if divides(i,n):\n",
    "            return False\n",
    "    return True\n",
    "\n",
    "# test\n",
    "for n in range(20):\n",
    "    if is_prime_improved(n):\n",
    "        print(n, \"is prime!\")"
   ]
  },
  {
   "cell_type": "markdown",
   "metadata": {},
   "source": [
    "- (10) Now write a function `first_primes(n)` that uses `yield` to return a `generator` object. The generator should produce the first `n` primes."
   ]
  },
  {
   "cell_type": "code",
   "execution_count": 203,
   "metadata": {
    "collapsed": false
   },
   "outputs": [
    {
     "data": {
      "text/plain": [
       "[2, 3, 5, 7, 11, 13, 17, 19, 23, 29]"
      ]
     },
     "execution_count": 203,
     "metadata": {},
     "output_type": "execute_result"
    }
   ],
   "source": [
    "# ANSWER\n",
    "\n",
    "def first_primes(n):\n",
    "    p = 1\n",
    "    for i in range(n):\n",
    "        while not is_prime_improved(p):\n",
    "            p += 1\n",
    "        yield p\n",
    "        p += 1\n",
    "\n",
    "list(first_primes(10))"
   ]
  },
  {
   "cell_type": "markdown",
   "metadata": {},
   "source": [
    "---\n",
    "\n",
    "# Question 5 (30).\n",
    "\n",
    "For this question we will revisit the data that were used in the lectures to demonstrate regression with `sklearn`.\n",
    "\n",
    "In the lecture we found a model for the the data using polynomial regression. In this question we will also use linear regression, but this time we will present the data to the linear model in a different way, so that the result is not a polynomial, but a stepwise linear function! Stepwise linear functions can be more robust than polynomials, because they do more reasonable interpolations for values of $x$ that have few close-by observations in the training data. The details are explained below.\n",
    "\n",
    "First, let's recreate the data set from the lectures:"
   ]
  },
  {
   "cell_type": "code",
   "execution_count": 218,
   "metadata": {
    "collapsed": false
   },
   "outputs": [
    {
     "data": {
      "image/png": "[encoded data removed]",
      "text/plain": [
       "<matplotlib.figure.Figure at 0x10bcc55f8>"
      ]
     },
     "metadata": {},
     "output_type": "display_data"
    }
   ],
   "source": [
    "%matplotlib inline\n",
    "import numpy as np\n",
    "import matplotlib.pyplot as plt\n",
    "\n",
    "# the x values: uniform from [0,1].\n",
    "n = 100\n",
    "x = np.random.random(n)\n",
    "\n",
    "# the function that we will attempt to reconstruct:\n",
    "def f(x):\n",
    "    return np.sin(11*x)+np.sin(15*x+2.1)\n",
    "\n",
    "# generate y values\n",
    "y = f(x) + np.random.randn(n)\n",
    "\n",
    "# show the data\n",
    "plt.figure(figsize=(10,8))\n",
    "xs = np.linspace(0,1,300)\n",
    "plt.plot(x, y, 'g.')\n",
    "plt.plot(xs, f(xs), 'r', LineWidth=3)\n",
    "plt.xlim(0,1)\n",
    "plt.show()\n"
   ]
  },
  {
   "cell_type": "markdown",
   "metadata": {},
   "source": [
    "Our piecewise linear model will consist of $k$ line segments that have start/end points at $x$ coordinates $0, d, 2d, 3d, \\ldots, 1$, where $d=1/k$.\n",
    "\n",
    "To write $y$ as a linear combination of coefficients and input variables, we need to introduce a number of dummy input variables in the same way that we did in the polynomial regression. Recall that in that case, we replaced each $x$ value by a row vector $(x^0, x^1, x^2, \\ldots, x^k)$, where $k$ was the degree of polynomial we used. (In the code, the entry $x^0$, called the *intercept*, was omitted because it's supplied by default by sklearn's linear model implementation.)\n",
    "\n",
    "In this case, we do the same except we introduce *different* dummy variables $(x^{[1]}, x^{[2]}, \\ldots, x^{[k]})$, that we define as follows:\n",
    "\n",
    "$$\n",
    "x^{[j]} = \\begin{cases}\n",
    "0&\\text{if $x<d\\cdot (j-1)$},\\\\\n",
    "1&\\text{if $x\\ge d\\cdot j$, and}\\\\\n",
    "\\frac{x-d\\cdot(j-1)}{d}&\\text{otherwise.}\n",
    "\\end{cases}\n",
    "$$\n",
    "\n",
    "So in words, the $j$th dummy variable is 0 if $x$ is to the left of the $j$th bin, it is $1$ if $x$ is to the right of the $j$th bin, and otherwise it measures the position of $x$ in the bin as a number that runs from 0 to 1.\n",
    "\n",
    "The model can now be described as a linear combination of these variables:\n",
    "\n",
    "$$\n",
    "y = \\beta_0+\\beta_1 x^{[1]}+\\beta_2 x^{[2]}+\\ldots+\\beta_k x^{[k]}.\n",
    "$$\n",
    "\n",
    "Like in polynomial regression, we will be able to learn the coefficients $\\beta_0, \\beta_1,\\ldots,\\beta_k$ that minimize the squared prediction error using linear regression.\n",
    "\n",
    "- (12) Write a function `make_dummies(x,k)` that creates a list of the dummy variables $x^{[1]}, x^{[2]}, \\ldots, x^{[k]}$ for a given real number $x$ (with $0\\le x<1$). Test it by checking that `make_dummies(0.23,10)` yields the list `[1,1,0.3,0,0,0,0,0,0,0]`.\n",
    "\n",
    "**Note:** *If you have trouble writing the function, then simply use the incorrect code as provided. It will yield ordinary rather than piecewise linear regression, but that doesn't affect your grade.*"
   ]
  },
  {
   "cell_type": "code",
   "execution_count": 219,
   "metadata": {
    "collapsed": false
   },
   "outputs": [
    {
     "data": {
      "text/plain": [
       "[1, 1, 0.3, 0, 0, 0, 0, 0, 0, 0]"
      ]
     },
     "execution_count": 219,
     "metadata": {},
     "output_type": "execute_result"
    }
   ],
   "source": [
    "# ANSWER\n",
    "\n",
    "# in:  a scalar x and the number of segments k\n",
    "# out: a list of k values for the dummy variables x^[1], ..., x^[k]\n",
    "def make_dummies(x, k):\n",
    "    if x==1:\n",
    "        return [1]*k\n",
    "    b = int(x*k)\n",
    "    return [1]*b + [k*(x-b/k)] + [0]*(k-b-1)\n",
    "\n",
    "make_dummies(0.23,10)"
   ]
  },
  {
   "cell_type": "markdown",
   "metadata": {},
   "source": [
    "The next step is to create the *design matrix*, which collects all the rows of dummy variables for the given data.\n",
    "\n",
    "For example, given a vector $x = \\pmatrix{0.23\\\\0.81\\\\0.39}$, if $k=10$, the design matrix $X$ would look like this:\n",
    "\n",
    "$$X=\\pmatrix{%\n",
    "  1&1&0.3&0&0&0&0&0&0&0\\\\\n",
    "  1&1&1&1&1&1&1&1&0.1&0\\\\\n",
    "  1&1&1&0.9&0&0&0&0&0&0\\\\\n",
    "  }$$\n",
    "  \n",
    "So the design matrix $X$ is an $n$ by $k$ matrix of which row $i$ contains the dummy variables for $x_i$.\n",
    "\n",
    "- (8) Write a function `make_design(x, k)` that creates a `numpy` ndarray `X` containing the design matrix. Test it on the example vector given above."
   ]
  },
  {
   "cell_type": "code",
   "execution_count": 220,
   "metadata": {
    "collapsed": false
   },
   "outputs": [
    {
     "data": {
      "text/plain": [
       "array([[ 1. ,  1. ,  0.3,  0. ,  0. ,  0. ,  0. ,  0. ,  0. ,  0. ],\n",
       "       [ 1. ,  1. ,  1. ,  1. ,  1. ,  1. ,  1. ,  1. ,  0.1,  0. ],\n",
       "       [ 1. ,  1. ,  1. ,  0.9,  0. ,  0. ,  0. ,  0. ,  0. ,  0. ]])"
      ]
     },
     "execution_count": 220,
     "metadata": {},
     "output_type": "execute_result"
    }
   ],
   "source": [
    "# ANSWER\n",
    "\n",
    "# in: a vector x (as a Python list) and the number of segments k\n",
    "# out: a numpy ndarray containing the design matrix\n",
    "def make_design(x, k):\n",
    "    X = np.empty([len(x), k])\n",
    "    for i in range(len(x)):\n",
    "        X[i,:] = make_dummies(x[i], k)\n",
    "    return X\n",
    "\n",
    "make_design([0.23,0.81,0.39], 10)"
   ]
  },
  {
   "cell_type": "markdown",
   "metadata": {},
   "source": [
    "Finally, we will use `sklearn` to fit a model to our data, and `pyplot` to display the results!\n",
    "\n",
    "- (4) Import `linear_model` from `sklearn` and fit it with the design matrix `X` you constructed above, together with the response variables `y`."
   ]
  },
  {
   "cell_type": "code",
   "execution_count": 221,
   "metadata": {
    "collapsed": false
   },
   "outputs": [
    {
     "data": {
      "text/plain": [
       "LinearRegression(copy_X=True, fit_intercept=True, n_jobs=1, normalize=False)"
      ]
     },
     "execution_count": 221,
     "metadata": {},
     "output_type": "execute_result"
    }
   ],
   "source": [
    "# ANSWER\n",
    "\n",
    "from sklearn import linear_model\n",
    "k = 10\n",
    "model = linear_model.LinearRegression()\n",
    "model.fit(make_design(x,k), y)"
   ]
  },
  {
   "cell_type": "markdown",
   "metadata": {},
   "source": [
    "- (3) Now we should plot the shape of the piecewise linear model we just fitted. To do so, we will calculate the model's prediction for *all* $x$-coordinates in the vector `xs` that is defined above. Store the predictions in a variable `ys`. (Hint: supply the model's `predict` function with the design matrix for `xs`.)"
   ]
  },
  {
   "cell_type": "code",
   "execution_count": 222,
   "metadata": {
    "collapsed": false
   },
   "outputs": [],
   "source": [
    "# ANSWER\n",
    "\n",
    "ys = model.predict(make_design(xs, k))"
   ]
  },
  {
   "cell_type": "markdown",
   "metadata": {},
   "source": [
    "- (3) Finally, modify the code below to include the model's predictions `(xs,ys)`."
   ]
  },
  {
   "cell_type": "code",
   "execution_count": 223,
   "metadata": {
    "collapsed": false
   },
   "outputs": [
    {
     "data": {
      "image/png": "[encoded data removed]",
      "text/plain": [
       "<matplotlib.figure.Figure at 0x10c2d6f98>"
      ]
     },
     "metadata": {},
     "output_type": "display_data"
    }
   ],
   "source": [
    "# ANSWER\n",
    "\n",
    "plt.figure(figsize=(10,8))\n",
    "plt.plot(x, y, 'g.')\n",
    "plt.plot(xs, f(xs), 'r', LineWidth=2)\n",
    "plt.plot(xs, ys, LineWidth=2) # THIS LINE WAS ADDED\n",
    "plt.xlim(0,1)\n",
    "plt.show()"
   ]
  },
  {
   "cell_type": "code",
   "execution_count": null,
   "metadata": {
    "collapsed": true
   },
   "outputs": [],
   "source": []
  }
 ],
 "metadata": {
  "kernelspec": {
   "display_name": "Python 3",
   "language": "python",
   "name": "python3"
  },
  "language_info": {
   "codemirror_mode": {
    "name": "ipython",
    "version": 3
   },
   "file_extension": ".py",
   "mimetype": "text/x-python",
   "name": "python",
   "nbconvert_exporter": "python",
   "pygments_lexer": "ipython3",
   "version": "3.5.2"
  }
 },
 "nbformat": 4,
 "nbformat_minor": 0
}
