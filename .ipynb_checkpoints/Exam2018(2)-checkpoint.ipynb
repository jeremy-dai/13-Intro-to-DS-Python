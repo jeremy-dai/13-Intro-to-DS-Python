{
 "cells": [
  {
   "cell_type": "markdown",
   "metadata": {},
   "source": [
    "# Exam Introduction to Data Science 2018-2019"
   ]
  },
  {
   "cell_type": "markdown",
   "metadata": {},
   "source": [
    "**NAME:** *(enter here)*\n",
    "\n",
    "**ULCN:** *(enter here)*"
   ]
  },
  {
   "cell_type": "markdown",
   "metadata": {},
   "source": [
    "Download the `ipynb` file for this exam from the Assignments section on blackboard. **Enter your name and ULCN above and rename the notebook to contain your name.** Then answer the questions in the notebook and submit via Blackboard before 17:01. If there is a problem with blackboard, you can send your solution by email to `steven.de.rooij@gmail.com` - it *will* be marked provided that your email is sent before 17:01.\n",
    "\n",
    "Some of the questions require textual answers; other questions require Python code as answers. You can tell which kind of answer is expected by looking at the type of the notebook cell where your answer is supposed to go: Markdown cells require textual answers or R code, while Code cells require Python code answers. For this exam we will not deduct points for poor documentation and testing; but if your code does not work, we will grade more generously if you made your intentions clear; also you will likely save time by programming methodically.\n",
    "\n",
    "Each question is marked by a bullet point and labelled with the number of points you can earn. 100 points equals a grade of 10; there are 105 points in the exam.\n",
    "\n",
    "You may use anything that is bundled with this exam on Blackboard, or is locally present on your laptop, and any written material that you may have brought. (Presumably most of the information you need can be found in the lecture notebooks.) You may not consult the internet, or use your computer for any communication. To prevent any suspicion we advise that you turn off the wireless and bluetooth capabilities of your laptop after downloading this exam and the reference material from blackboard.\n",
    "\n",
    "The best of luck!"
   ]
  },
  {
   "cell_type": "markdown",
   "metadata": {},
   "source": [
    "# Evaluate this cell before you start:"
   ]
  },
  {
   "cell_type": "code",
   "execution_count": null,
   "metadata": {
    "collapsed": true
   },
   "outputs": [],
   "source": [
    "import numpy as np\n",
    "import matplotlib as mpl\n",
    "import matplotlib.pyplot as plt\n",
    "%matplotlib inline\n",
    "mpl.rcParams['figure.figsize'] = [10,10]"
   ]
  },
  {
   "cell_type": "markdown",
   "metadata": {},
   "source": [
    "# Q1 (35). Klauber triangle\n",
    "\n",
    "We will plot a Klauber triangle: a visualisation of the prime numbers, that shows some of the patterns exhibited by the primes.\n",
    "\n",
    "A prime number is a positive integer that has exactly two divisors: 1 and the number itself. For example, 1 is not a prime, because it has only one divisor (1 itself). 9 is not a prime because it has three divisors (1, 3 and 9). But 2 is a prime, and so is 7, and so on.\n",
    "\n",
    "- (10) The function below is supposed to test whether or not a number is prime, but as the test shows, it doesn't work properly. Fix the function by checking that $n$ is not divisible by any number $m$ that satisfies $2\\le m\\le\\sqrt{n}$. (To check that $m$ is less than $\\sqrt{n}$, either use the function `np.sqrt` or check that $m^2<n$.)\n",
    "\n",
    "(Hint: the expression `n%m==0` is `True` if `m` is a divisor of `n`, and `False` otherwise. Second hint: if you find this hard, you can use the incorrect version of the function in subsequent questions.)"
   ]
  },
  {
   "cell_type": "code",
   "execution_count": 1,
   "metadata": {},
   "outputs": [
    {
     "name": "stdout",
     "output_type": "stream",
     "text": [
      "primes up to 30  : [2, 3, 5, 7, 11, 13, 17, 19, 23, 29]\n",
      "is_prime function: [1, 2, 3, 5, 7, 11, 13, 17, 19, 23, 25, 29]\n"
     ]
    }
   ],
   "source": [
    "# in: an integer n\n",
    "# out: True if n is prime, False otherwise\n",
    "# TO DO! Fix this code\n",
    "def is_prime(n):\n",
    "    if n!=2 and n%2==0:\n",
    "        return False\n",
    "    if n!=3 and n%3==0:\n",
    "        return False\n",
    "    return True\n",
    "\n",
    "print(\"primes up to 30  :\", [2,3,5,7,11,13,17,19,23,29])\n",
    "print(\"is_prime function:\", [n for n in range(1,30) if is_prime(n)])"
   ]
  },
  {
   "cell_type": "markdown",
   "metadata": {},
   "source": [
    "The next step is to plot a Klauber triangle. This arranges all the numbers in a triangular shape, like so:\n",
    "\n",
    "```\n",
    "            1\n",
    "          2 3 4\n",
    "        5 6 7 8 9\n",
    "      10...\n",
    "```\n",
    "\n",
    "(So if the top row is row 0, then row $r$ represents the numbers $r^2+1$ to $(r+1)^2$.) And then later we will replace the numbers by the colour white when they're prime, and blue otherwise.\n",
    "\n",
    "To do so, we will create a NumPy matrix. Each position is marked as 0 when it's outside the triangle, 1 when it is composite, and 2 when it is prime. This is what such a matrix should look like:\n",
    "\n",
    "```\n",
    "0 0 0 1 0 0 0\n",
    "0 0 2 2 1 0 0\n",
    "0 2 1 2 1 1 0\n",
    "1 2 1 2 1 1 1\n",
    "```\n"
   ]
  },
  {
   "cell_type": "markdown",
   "metadata": {},
   "source": [
    "- (5) Suppose we want to generate the first $r$ rows of a Klauber triangle. It will be represented in a NumPy matrix of $r$ rows; how many columns should it have?"
   ]
  },
  {
   "cell_type": "markdown",
   "metadata": {},
   "source": [
    "**Answer here**"
   ]
  },
  {
   "cell_type": "markdown",
   "metadata": {},
   "source": [
    "- (5) You can see in the example matrix above that the first nonzero entry in row number 0 is in column 3. More generally, given a row $r$, in what column do the first and last nonzero numbers appear?"
   ]
  },
  {
   "cell_type": "markdown",
   "metadata": {},
   "source": [
    "**Answer here**"
   ]
  },
  {
   "cell_type": "markdown",
   "metadata": {},
   "source": [
    "- (15) Write a function `klauber` that, given a number `nrows`, creates a Numpy matrix contains the first `nrows` rows of the triangle. Test the function by creating the matrix with 5 rows and checking the output."
   ]
  },
  {
   "cell_type": "code",
   "execution_count": null,
   "metadata": {
    "collapsed": true
   },
   "outputs": [],
   "source": [
    "# in: the required number of rows\n",
    "# out: the NumPy matrix containing the Klauber triangle with the given number of rows\n",
    "def klauber(nrows):\n",
    "    # TO DO: complete this function\n",
    "\n",
    "# test: verify that this returns the matrix you'd expect\n",
    "klauber(5)"
   ]
  },
  {
   "cell_type": "markdown",
   "metadata": {},
   "source": [
    "The code below plots a Klauber triangle with 100 rows using PyPlot's `imshow` function. Notice the vertical and diagonal patterns."
   ]
  },
  {
   "cell_type": "code",
   "execution_count": 2,
   "metadata": {},
   "outputs": [
    {
     "ename": "NameError",
     "evalue": "name 'klauber' is not defined",
     "output_type": "error",
     "traceback": [
      "\u001b[0;31m---------------------------------------------------------------------------\u001b[0m",
      "\u001b[0;31mNameError\u001b[0m                                 Traceback (most recent call last)",
      "\u001b[0;32m<ipython-input-2-7a36ab5cf934>\u001b[0m in \u001b[0;36m<module>\u001b[0;34m()\u001b[0m\n\u001b[1;32m      1\u001b[0m \u001b[0;31m# create the triangle\u001b[0m\u001b[0;34m\u001b[0m\u001b[0;34m\u001b[0m\u001b[0m\n\u001b[0;32m----> 2\u001b[0;31m \u001b[0mm\u001b[0m \u001b[0;34m=\u001b[0m \u001b[0mklauber\u001b[0m\u001b[0;34m(\u001b[0m\u001b[0;36m100\u001b[0m\u001b[0;34m)\u001b[0m\u001b[0;34m\u001b[0m\u001b[0m\n\u001b[0m\u001b[1;32m      3\u001b[0m \u001b[0;34m\u001b[0m\u001b[0m\n\u001b[1;32m      4\u001b[0m \u001b[0;31m# create the colormap\u001b[0m\u001b[0;34m\u001b[0m\u001b[0;34m\u001b[0m\u001b[0m\n\u001b[1;32m      5\u001b[0m \u001b[0mcm\u001b[0m \u001b[0;34m=\u001b[0m \u001b[0mmpl\u001b[0m\u001b[0;34m.\u001b[0m\u001b[0mcolors\u001b[0m\u001b[0;34m.\u001b[0m\u001b[0mListedColormap\u001b[0m\u001b[0;34m(\u001b[0m\u001b[0;34m[\u001b[0m\u001b[0;34m\"black\"\u001b[0m\u001b[0;34m,\u001b[0m \u001b[0;34m\"blue\"\u001b[0m\u001b[0;34m,\u001b[0m \u001b[0;34m\"white\"\u001b[0m\u001b[0;34m]\u001b[0m\u001b[0;34m)\u001b[0m\u001b[0;34m\u001b[0m\u001b[0m\n",
      "\u001b[0;31mNameError\u001b[0m: name 'klauber' is not defined"
     ]
    }
   ],
   "source": [
    "# create the triangle\n",
    "m = klauber(100)\n",
    "\n",
    "# create the colormap\n",
    "cm = mpl.colors.ListedColormap([\"black\", \"blue\", \"white\"])\n",
    "\n",
    "# plot the triangle\n",
    "plt.imshow(m, interpolation='none', cmap = cm)\n",
    "plt.show()"
   ]
  },
  {
   "cell_type": "markdown",
   "metadata": {},
   "source": [
    "# Q2 (35): Interference pattern\n",
    "\n",
    "Next, we will plot an image that displays a number of waves that display an interference pattern.\n",
    "\n",
    "The first step is to define the function that will calculate the waves. Imagine a pond where a stone has been thrown into the water at a position $(u,v)$. From that position a wave will originate; the water level at a distance $d$ from the starting position is given by the formula $\\sin(d)$.\n",
    "\n",
    "- (10) Write a function \"wave\" that takes as inputs: (a) the tuple $(u,v)$ specifying where the stone hit the water, and (b) a tuple $(x,y)$ specifying the position where we want to know the height of the wave. The function should calculate the distance $d$ between the two positions using the Pythagorean theorem $d=\\sqrt{(u-x)^2+(v-y)^2}$, and then evaluate the height of the wave using the formula given above. Hint: you can use `np.sqrt` and `np.sin`."
   ]
  },
  {
   "cell_type": "code",
   "execution_count": null,
   "metadata": {
    "collapsed": true
   },
   "outputs": [],
   "source": [
    "# in: a tuple uv specifying the position where the wave originates, and a tuple xy\n",
    "# out: the height of the wave at position xy.\n",
    "def wave(uv, xy):\n",
    "    # TO DO: complete this function"
   ]
  },
  {
   "cell_type": "markdown",
   "metadata": {},
   "source": [
    "- (10) Now write a function `renderwave` that renders this wave in a NumPy matrix. "
   ]
  },
  {
   "cell_type": "code",
   "execution_count": null,
   "metadata": {
    "collapsed": true
   },
   "outputs": [],
   "source": [
    "# in: an int n, a float scale and a tuple uv\n",
    "# out: an n by n NumPy matrix that represents a region of the wave function for\n",
    "#      the wave that originates at the location given by uv.\n",
    "#      The region ranges from (0,0) to (scale,scale).\n",
    "#      In other words: entry (r,c) of the matrix corresponds to coordinate\n",
    "#      (x,y)=(scale*c/n,scale*r/n) of the wave function, and should be set to\n",
    "#      wave(uv, (x,y))\n",
    "def renderwave(n, scale, uv):\n",
    "    # TO DO: complete this function"
   ]
  },
  {
   "cell_type": "markdown",
   "metadata": {},
   "source": [
    "- (5) Render a wave originating at (20,40) on a 200 by 200 matrix, to a scale of 50, and plot the matrix using code similar to that used to plot the triangle above. Use `cmap='plasma'`."
   ]
  },
  {
   "cell_type": "code",
   "execution_count": null,
   "metadata": {
    "collapsed": true
   },
   "outputs": [],
   "source": [
    "# TO DO: your code here"
   ]
  },
  {
   "cell_type": "markdown",
   "metadata": {},
   "source": [
    "- (5) Next, we will add several waves together. Write a function `renderwaves` in which the input `uv` is replaced by a *tuple* `uvs` of coordinates where stones hit the water. The matrix should then be filled by the *sum* of the waves of all these stones. "
   ]
  },
  {
   "cell_type": "code",
   "execution_count": null,
   "metadata": {
    "collapsed": true
   },
   "outputs": [],
   "source": [
    "# in: an int n, a float scale and a tuple uvs of tuples specifying wave origins\n",
    "# out: an n by n NumPy matrix that represents a region of the wave function for\n",
    "#      the combination of waves that originate at the locations given by uvs.\n",
    "#      The region ranges from (0,0) to (scale,scale).\n",
    "#      In other words: entry (r,c) of the matrix corresponds to coordinate\n",
    "#      (x,y)=(scale*c/n,scale*r/n) of the wave function, and should be set to:\n",
    "#         wave(uvs[0], (x,y)) + wave(uvs[1], (x,y)) + ...\n",
    "\n",
    "def renderwaves(n, scale, uvs):\n",
    "    # TO DO: complete this function"
   ]
  },
  {
   "cell_type": "markdown",
   "metadata": {},
   "source": [
    "- (5) Test your function by plotting waves at (10,15), (30,10) and (10,40)."
   ]
  },
  {
   "cell_type": "code",
   "execution_count": 3,
   "metadata": {
    "collapsed": true
   },
   "outputs": [],
   "source": [
    "# TO DO: enter your code here"
   ]
  },
  {
   "cell_type": "markdown",
   "metadata": {},
   "source": [
    "# Q3 (35). Simulating water\n",
    "\n",
    "We now modeled each of the waves explicitly. However, it is also possible to evaluate waves by  simulating the water surface directly. This works as follows:\n",
    "\n",
    "- There are two matrices: `height` and `speed`. The former represents the water level at each position, like the matrix we generated in the previous question. The latter represents how quickly the water level *rises or falls* in any specific position.\n",
    "\n",
    "- We will simulate the water level over several iterations.\n",
    "  \n",
    "  - Each iteration, the `speed` is updated based on the current heights of the water level. If the level at a particular position is *lower* than the level at its neighbouring positions, then the water level at that position will be accelerated upwards, so the `speed` at that position will increase. Vice versa, if a level at a particular position is *higher* than the level at its neighbouring positions, then the `speed` will decrease.\n",
    "  \n",
    "  - Also each iteration, the `height` is updated based on the currend speeds.\n",
    "  \n",
    "We will develop this simulation in steps.\n",
    "\n",
    "- (10) Step 1: write a function `shiftright` that, given a NumPy matrix m, appends a column of zeros on the left and removes the rightmost column. For example, given a matrix\n",
    "\n",
    "```\n",
    "1 2 3\n",
    "4 5 6\n",
    "7 8 9\n",
    "```\n",
    "\n",
    "the function should yield a new matrix\n",
    "\n",
    "```\n",
    "0 1 2\n",
    "0 4 5\n",
    "0 7 8\n",
    "```\n",
    "Also write similar functions `shiftleft`, `shiftup` and `shiftdown`.\n",
    "\n",
    "Hints: use `hstack` or `vstack`, `zeros` and use indexing to drop a row or column."
   ]
  },
  {
   "cell_type": "code",
   "execution_count": null,
   "metadata": {
    "collapsed": true
   },
   "outputs": [],
   "source": [
    "# in:  a matrix m\n",
    "# out: the result of dropping the rightmost column of m,\n",
    "#      and adding a column of zeroes on the left\n",
    "def shiftright(m):\n",
    "    # TO DO: complete this function\n",
    "    \n",
    "# analogous to shiftright, but shifts the matrix to the left\n",
    "def shiftleft(m):\n",
    "    # TO DO: complete this function\n",
    "\n",
    "# analogous to shiftright, but shifts the matrix downward\n",
    "def shiftdown(m):\n",
    "    # TO DO: complete this function\n",
    "\n",
    "# analogous to shiftright, but shifts the matrix upward\n",
    "def shiftup(m):\n",
    "    # TO DO: complete this function"
   ]
  },
  {
   "cell_type": "markdown",
   "metadata": {},
   "source": [
    "- (10) Step 2: write a function `acceleration` that takes the height matrix as input, and calculates the *acceleration*: the difference between the height of each entry and the average height of its neighbours. This can be done by taking the average of the shifted versions of the matrix, and then subtracting the original height matrix from that."
   ]
  },
  {
   "cell_type": "code",
   "execution_count": null,
   "metadata": {
    "collapsed": true
   },
   "outputs": [],
   "source": [
    "# in: a height matrix m\n",
    "# out: a matrix q such that q[r,c] is the average of the four cells neighbouring m[r,c],\n",
    "#      minus m[r,c] itself. Neighbours outside the range of the matrix count as zero.\n",
    "def acceleration(m):\n",
    "    # TO DO: complete this function"
   ]
  },
  {
   "cell_type": "markdown",
   "metadata": {},
   "source": [
    "- (10) Step 3: Create a function `simwater` that, given initial `height` and `speed` matrices and a requested number of iterations, performs the simulation as follows:\n",
    "  - Repeat for the given number of iterations:\n",
    "    - Calculate the acceleration matrix\n",
    "    - Scale the acceleration by a factor 0.02 and add the scaled acceleration to the speed matrix.\n",
    "    - Add the speed matrix to the height matrix.\n",
    "  - Return the updated `height` and `speed` matrices."
   ]
  },
  {
   "cell_type": "code",
   "execution_count": null,
   "metadata": {
    "collapsed": true
   },
   "outputs": [],
   "source": [
    "# in: matrices \"height\" and \"speed\" of the same size, and the number of iterations\n",
    "# out: a tuple (height,speed) containing the height and speed matrices after running\n",
    "#      the simulation for the requested number of iterations.\n",
    "def simwater(height, speed, niter):\n",
    "    # TO DO: complete this function"
   ]
  },
  {
   "cell_type": "markdown",
   "metadata": {},
   "source": [
    "- (5) Step 4: Initialise 200 by 200 `height` and `speed` matrices to zero. Set the heights at positions (60,80), (140,100) and (90,140) to 1 (these are some initial disturbances of the water surface). Then run the simulation for 1000 iterations. Plot the results as before."
   ]
  },
  {
   "cell_type": "code",
   "execution_count": null,
   "metadata": {
    "collapsed": true
   },
   "outputs": [],
   "source": [
    "# TO DO: enter code here"
   ]
  }
 ],
 "metadata": {
  "kernelspec": {
   "display_name": "Python [default]",
   "language": "python",
   "name": "python3"
  },
  "language_info": {
   "codemirror_mode": {
    "name": "ipython",
    "version": 3
   },
   "file_extension": ".py",
   "mimetype": "text/x-python",
   "name": "python",
   "nbconvert_exporter": "python",
   "pygments_lexer": "ipython3",
   "version": "3.5.3"
  }
 },
 "nbformat": 4,
 "nbformat_minor": 1
}
