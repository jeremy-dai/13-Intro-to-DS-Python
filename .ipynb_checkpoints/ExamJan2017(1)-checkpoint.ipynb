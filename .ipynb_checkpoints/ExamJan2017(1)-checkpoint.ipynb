{
 "cells": [
  {
   "cell_type": "markdown",
   "metadata": {},
   "source": [
    "# Exam Introduction to Data Science, January 2017"
   ]
  },
  {
   "cell_type": "markdown",
   "metadata": {},
   "source": [
    "**NAME:** *(enter here)*\n",
    "\n",
    "**ULCN:** *(enter here)*"
   ]
  },
  {
   "cell_type": "markdown",
   "metadata": {},
   "source": [
    "Download the `ipynb` file for this exam from the Assignments section on blackboard. Answer the questions in the notebook, **check that you entered your name and ULCN** and send your solution to `steven.de.rooij@gmail.com` before 17.01.\n",
    "\n",
    "Some of the questions require textual answers; other questions require Python code as answers. You can tell which kind of answer is expected by looking at the type of the notebook cell where your answer is supposed to go: Markdown cells require textual answers or R code, while Code cells require Python code answers.\n",
    "\n",
    "Each question is marked by a bullet point and labelled with the number of points you can earn. You can earn maximally 110 credit points; your grade will be the number of points divided by 10. Anywhere over 100 points obviously gets rounded down to a grade of 10.\n",
    "\n",
    "You may use anything that is bundled with this exam on Blackboard, or is locally present on your laptop, and any written material that you may have brought. (Presumably most of the information you need can be found on the lecture notebooks.) You may not consult the internet, or use your computer for any communication. To prevent any suspicion we advise that you turn off the wireless and bluetooth capabilities of your laptop after downloading this exam and the reference material from blackboard.\n",
    "\n",
    "The best of luck!"
   ]
  },
  {
   "cell_type": "markdown",
   "metadata": {},
   "source": [
    "---\n",
    "\n",
    "# Question 1 (15).\n",
    "\n",
    "- (3) Is an R vector a mutable, or an immutable type? How can you tell?\n",
    "- (4) In both Python and R, numbers can be exponentiated using `**`. So why does the expression `200**200` give a different result in these two languages?"
   ]
  },
  {
   "cell_type": "markdown",
   "metadata": {},
   "source": [
    "> **Answer:**\n",
    ">\n",
    "> *write your answer here!*"
   ]
  },
  {
   "cell_type": "markdown",
   "metadata": {},
   "source": [
    "As you know, Python supports *dictionaries*, which can store (key,value) pairs. For any key, the corresponding value can be accessed efficiently:"
   ]
  },
  {
   "cell_type": "code",
   "execution_count": null,
   "metadata": {},
   "outputs": [],
   "source": [
    "d = {}\n",
    "d[\"mood\"] = \"confident\"\n",
    "d[\"food\"] = \"chocolate\"\n",
    "\n",
    "d[\"food\"]"
   ]
  },
  {
   "cell_type": "markdown",
   "metadata": {},
   "source": [
    "R does not support dictionaries per se. Nevertheless the above code snippet can be translated into R as follows:\n",
    "\n",
    "```{r}\n",
    "> d <- NULL\n",
    "> d[\"mood\"] <- \"confident\"\n",
    "> d[\"food\"] <- \"chocolate\"\n",
    "> d[\"food\"]\n",
    "       food \n",
    "\"chocolate\" \n",
    "```\n",
    "\n",
    "- (3) `d` is an atomic vector. Does that mean its keys all have to be of the same type - or the values? What attributes does `d` have?\n",
    "- (5) Paste below the same code given above, but modified so it does not use an atomic vector, but an R `list` to fake a dictionary. What would be the advantage of using a list?"
   ]
  },
  {
   "cell_type": "markdown",
   "metadata": {},
   "source": [
    "> **Answer:**\n",
    ">\n",
    "> *Write your answer here!*\n",
    ">\n",
    "```{r}\n",
    "add any R code here\n",
    "```"
   ]
  },
  {
   "cell_type": "markdown",
   "metadata": {},
   "source": [
    "---\n",
    "# Question 2 (10).\n",
    "\n",
    "- Which of the following objects are immutable? Which are sequences? Which are iterable?\n",
    "\n",
    "\n",
    "1. `42`\n",
    "- `[\"good\", \"luck\"]`\n",
    "- `None`\n",
    "- `\"sugar and spice and everything nice\"`\n",
    "- `{ 2,3,5,7,11 }`\n",
    "- `range(20)`\n",
    " "
   ]
  },
  {
   "cell_type": "code",
   "execution_count": null,
   "metadata": {},
   "outputs": [],
   "source": [
    "a = [3, 7, \"boo\"]\n",
    "a[1] = 9\n",
    "print(a)"
   ]
  },
  {
   "cell_type": "markdown",
   "metadata": {},
   "source": [
    "> **Answer:**\n",
    ">\n",
    "> *Write your answer here!*"
   ]
  },
  {
   "cell_type": "markdown",
   "metadata": {},
   "source": [
    "---\n",
    "\n",
    "# Question 3 (20).\n",
    "\n",
    "Look at the following bit of code, implementing the beginnings of a hotel register."
   ]
  },
  {
   "cell_type": "code",
   "execution_count": null,
   "metadata": {},
   "outputs": [],
   "source": [
    "class Register:\n",
    "    \n",
    "    def __init__(self):\n",
    "        self.register = []\n",
    "        \n",
    "    def insert(self, name, room):\n",
    "        self.register.append((name, room))\n",
    "        \n",
    "    def look_up_room(self, name):\n",
    "        for n, r in self.register:\n",
    "            if name == n:\n",
    "                return r\n",
    "        \n",
    "r = Register()\n",
    "r.insert(\"steven\", 10)\n",
    "r.insert(\"frank\", 15)\n",
    "print(\"Steven's room number is\", r.look_up_room(\"steven\"))        "
   ]
  },
  {
   "cell_type": "markdown",
   "metadata": {},
   "source": [
    "- (5) What happens if all occurrences of the word 'self' are replaced by 'me' in the code above?"
   ]
  },
  {
   "cell_type": "markdown",
   "metadata": {},
   "source": [
    "> **Answer:**\n",
    ">\n",
    "> *Write your answer here!*"
   ]
  },
  {
   "cell_type": "markdown",
   "metadata": {},
   "source": [
    "Imagine that one day, there is a very good season and the hotel welcomes about a hundred million guests.\n",
    "\n",
    "- (5) Why does looking up guests become slow?\n",
    "- (10) Fix the code so that looking up guests is fast, regardless of the number of guests (as long as they fit in memory)."
   ]
  },
  {
   "cell_type": "markdown",
   "metadata": {},
   "source": [
    "> **Answer:**\n",
    ">\n",
    "> *Write your answer here!*"
   ]
  },
  {
   "cell_type": "markdown",
   "metadata": {
    "collapsed": true
   },
   "source": [
    "---\n",
    "\n",
    "# Question 4 (25)\n",
    "\n",
    "The function `is_prime` below tests if a number is prime. If `n` is composite (not prime), it must have a divisor `d` that is larger than one and less than `n`. As you see, the function works by checking that `n` has no such divisors."
   ]
  },
  {
   "cell_type": "code",
   "execution_count": null,
   "metadata": {},
   "outputs": [],
   "source": [
    "# in: two integers d and n\n",
    "# out: True if d divides n (which means that d*k==n for\n",
    "#      some integer k), and False otherwise.\n",
    "def divides(d, n):\n",
    "    return n%d==0\n",
    "\n",
    "# in:  an integer n\n",
    "# out: True if n is prime, False otherwise\n",
    "def is_prime(n):\n",
    "    if n<2:\n",
    "        return False\n",
    "    for i in range(2,n):\n",
    "        if divides(i,n):\n",
    "            return False\n",
    "    return True\n",
    "\n",
    "# test\n",
    "for n in range(20):\n",
    "    if is_prime(n):\n",
    "        print(n, \"is prime!\")"
   ]
  },
  {
   "cell_type": "markdown",
   "metadata": {},
   "source": [
    "There are two ways in which the performance of the algorithm above can be improved:\n",
    "\n",
    "- (5) Since even numbers never divide odd numbers, such checks can be skipped altogether. Improve the performance of `is_prime`, by changing the code so it handles even numbers and odd numbers separately, and does not test odd numbers for even divisors.\n",
    "\n",
    "-  (10) Suppose that `n` *does* have a divisor `d`. If `d` is larger than the square root of `n`, then `n/d` must be a divisor of `n` that is *less* than the square root. So all composite numbers must have *some* divisor less than or equal to their square root. Again, improve the performance of `is_prime` by taking this into account."
   ]
  },
  {
   "cell_type": "code",
   "execution_count": null,
   "metadata": {},
   "outputs": [],
   "source": [
    "# ANSWER\n",
    "\n",
    "import math\n",
    "\n",
    "# in:  an integer n\n",
    "# out: True if n is prime, False otherwise\n",
    "def is_prime_improved(n):\n",
    "    # TO DO! This is a copy of the earlier function.\n",
    "    # It still works, but has not been improved yet!\n",
    "    # Modify below!\n",
    "    if n<2:\n",
    "        return False\n",
    "    if divides(2,n):\n",
    "        # n is even\n",
    "        return n==2\n",
    "    else:\n",
    "        # n is odd\n",
    "        for i in range(3,int(math.sqrt(n)),2):\n",
    "            if divides(i,n):\n",
    "                return False\n",
    "        return True\n",
    "\n",
    "\n",
    "# test\n",
    "for n in range(20):\n",
    "    if is_prime_improved(n):\n",
    "        print(n, \"is prime!\")"
   ]
  },
  {
   "cell_type": "markdown",
   "metadata": {},
   "source": [
    "- (10) Now write a function `first_primes(n)` that returns a `generator` object. The generator should produce the first `n` primes."
   ]
  },
  {
   "cell_type": "code",
   "execution_count": null,
   "metadata": {},
   "outputs": [],
   "source": [
    "# ANSWER\n",
    "\n",
    "# in:  a number n\n",
    "# out: a generator that produces the first n prime numbers\n",
    "def first_primes(n):\n",
    "    where_we_are = 2\n",
    "    number_outputted = 0\n",
    "    while number_outputted < n:\n",
    "        if is_prime_improved(where_we_are):\n",
    "            yield where_we_are\n",
    "            number_outputted += 1\n",
    "        where_we_are += 1\n",
    "\n",
    "# Test\n",
    "list(first_primes(10))"
   ]
  },
  {
   "cell_type": "markdown",
   "metadata": {},
   "source": [
    "---\n",
    "\n",
    "# Question 5 (40).\n",
    "\n",
    "For this question we will revisit the data that were used in the lectures to demonstrate regression with `sklearn`.\n",
    "\n",
    "In the lecture we found a model for the the data using polynomial regression. In this question we will also use linear regression, but this time we will present the data to the linear model in a different way, so that the result is not a polynomial, but a stepwise linear function! Stepwise linear functions can be more robust than polynomials, because they do more reasonable interpolations for values of $x$ that have few close-by observations in the training data. The details are explained below.\n",
    "\n",
    "First, let's recreate the data set from the lectures. Run the code below:"
   ]
  },
  {
   "cell_type": "code",
   "execution_count": null,
   "metadata": {},
   "outputs": [],
   "source": [
    "%matplotlib inline\n",
    "import numpy as np\n",
    "import matplotlib.pyplot as plt\n",
    "\n",
    "# the x values: uniform from [0,1].\n",
    "n = 100\n",
    "x = np.random.random(n)\n",
    "\n",
    "# the function that we will attempt to reconstruct:\n",
    "def f(x):\n",
    "    return np.sin(11*x)+np.sin(15*x+2.1)\n",
    "\n",
    "# generate y values\n",
    "y = f(x) + np.random.randn(n)\n",
    "\n",
    "# show the data\n",
    "plt.figure(figsize=(10,8))\n",
    "xs = np.linspace(0,1,300)\n",
    "plt.plot(x, y, 'g.')\n",
    "plt.plot(xs, f(xs), 'r', LineWidth=3)\n",
    "plt.xlim(0,1)\n",
    "plt.show()\n"
   ]
  },
  {
   "cell_type": "markdown",
   "metadata": {},
   "source": [
    "Our piecewise linear model will consist of $k$ line segments that have start/end points at $x$ coordinates $0, d, 2d, 3d, \\ldots, 1$, where $d=1/k$.\n",
    "\n",
    "To write $y$ as a linear combination of coefficients and input variables, we need to introduce a number of dummy input variables in the same way that we did in the polynomial regression. Recall that in that case, we replaced each $x$ value by a row vector $(x^0, x^1, x^2, \\ldots, x^k)$, where $k$ was the degree of polynomial we used. (In the code, the entry $x^0$, called the *intercept*, was omitted because it's supplied by default by sklearn's linear model implementation.)\n",
    "\n",
    "In this case, we do the same except we introduce *different* dummy variables $(x^{[1]}, x^{[2]}, \\ldots, x^{[k]})$, that we define as follows:\n",
    "\n",
    "$$\n",
    "x^{[j]} = \\begin{cases}\n",
    "0&\\text{if $x<d\\cdot (j-1)$},\\\\\n",
    "1&\\text{if $x\\ge d\\cdot j$, and}\\\\\n",
    "\\frac{x-d\\cdot(j-1)}{d}&\\text{otherwise.}\n",
    "\\end{cases}\n",
    "$$\n",
    "\n",
    "So in words, the $j$th dummy variable is 0 if $x$ is to the left of the $j$th bin, it is $1$ if $x$ is to the right of the $j$th bin, and otherwise it measures the position of $x$ in the bin as a number that runs from 0 to 1.\n",
    "\n",
    "The model can now be described as a linear combination of these variables:\n",
    "\n",
    "$$\n",
    "y = \\beta_0+\\beta_1 x^{[1]}+\\beta_2 x^{[2]}+\\ldots+\\beta_k x^{[k]}.\n",
    "$$\n",
    "\n",
    "Like in polynomial regression, we will be able to learn the coefficients $\\beta_0, \\beta_1,\\ldots,\\beta_k$ that minimize the squared prediction error using linear regression.\n",
    "\n",
    "- (10) Write a function `make_dummies(x,k)` that creates a list of the dummy variables $x^{[1]}, x^{[2]}, \\ldots, x^{[k]}$ for a given real number $x$ (with $0\\le x<1$). Test it by checking that `make_dummies(0.23,10)` yields the list `[1,1,0.3,0,0,0,0,0,0,0]`.\n",
    "\n",
    "**Note:** *If you have trouble writing the function, then simply use the incorrect code as provided. It will yield ordinary rather than piecewise linear regression, but that doesn't affect your marks for subsequent questions.*"
   ]
  },
  {
   "cell_type": "code",
   "execution_count": null,
   "metadata": {},
   "outputs": [],
   "source": [
    "# ANSWER\n",
    "\n",
    "# in:  a scalar x and the number of segments k\n",
    "# out: a list of k values for the dummy variables\n",
    "#      x^[1], ..., x^[k]\n",
    "def make_dummies(x, k):\n",
    "    # TODO write\n",
    "    \n",
    "# TEST\n",
    "make_dummies(0.23,10)"
   ]
  },
  {
   "cell_type": "markdown",
   "metadata": {},
   "source": [
    "The next step is to create the *design matrix*, which collects all the rows of dummy variables for the given data.\n",
    "\n",
    "For example, given a vector $x = \\begin{pmatrix}0.23\\\\0.81\\\\0.39\\end{pmatrix}$, if $k=10$, the design matrix $X$ would look like this:\n",
    "\n",
    "$$X=\\begin{pmatrix}\n",
    "  1&1&0.3&0&0&0&0&0&0&0\\\\\n",
    "  1&1&1&1&1&1&1&1&0.1&0\\\\\n",
    "  1&1&1&0.9&0&0&0&0&0&0\\\\\n",
    "  \\end{pmatrix}$$\n",
    "  \n",
    "So the design matrix $X$ is an $n$ by $k$ matrix of which row $i$ contains the dummy variables for $x_i$.\n",
    "\n",
    "- (5) Write a function `make_design(x, k)` that creates a `numpy` ndarray `X` containing the design matrix. Test it on the example vector given above."
   ]
  },
  {
   "cell_type": "code",
   "execution_count": null,
   "metadata": {},
   "outputs": [],
   "source": [
    "# ANSWER\n",
    "\n",
    "import numpy as np\n",
    "\n",
    "# in: a vector x (as a Python list) and the number of segments k\n",
    "# out: a numpy ndarray containing the design matrix\n",
    "def make_design(x, k):\n",
    "    # TODO write\n",
    "\n",
    "# Test\n",
    "make_design([0.23,0.81,0.39], 10)"
   ]
  },
  {
   "cell_type": "markdown",
   "metadata": {},
   "source": [
    "Finally, we will use `sklearn` to fit a model to our data, and `pyplot` to display the results!\n",
    "\n",
    "- (5) Import `linear_model` from `sklearn` and fit it with the design matrix `X` for $k=10$, together with the response variables `y`."
   ]
  },
  {
   "cell_type": "code",
   "execution_count": null,
   "metadata": {},
   "outputs": [],
   "source": [
    "# ANSWER\n",
    "\n",
    "k = 10\n",
    "from sklearn import linear_model\n",
    "\n",
    "# TO DO: write a few lines of code here to fit a model"
   ]
  },
  {
   "cell_type": "markdown",
   "metadata": {},
   "source": [
    "- (5) Now we should plot the shape of the piecewise linear model we just fitted. To do so, we will calculate the model's prediction for *all* $x$-coordinates in the vector `xs` that is defined above. Store the predictions in a variable `ys`. (Hint: supply the model's `predict` function with the design matrix for `xs`.)"
   ]
  },
  {
   "cell_type": "code",
   "execution_count": null,
   "metadata": {},
   "outputs": [],
   "source": [
    "# ANSWER\n",
    "\n",
    "# TO DO: ys = ...?"
   ]
  },
  {
   "cell_type": "markdown",
   "metadata": {},
   "source": [
    "- (5) Finally, modify the code below to include the model's predictions `(xs,ys)`."
   ]
  },
  {
   "cell_type": "code",
   "execution_count": null,
   "metadata": {},
   "outputs": [],
   "source": [
    "# ANSWER\n",
    "\n",
    "plt.figure(figsize=(10,8))\n",
    "plt.plot(x, y, 'g.')\n",
    "plt.plot(xs, f(xs), 'r', LineWidth=2)\n",
    "# plot stepwise linear function\n",
    "plt.xlim(0,1)\n",
    "plt.show()"
   ]
  },
  {
   "cell_type": "markdown",
   "metadata": {},
   "source": [
    "In the lecture we saw that polynomial regression can *overfit*: it may produce models with very small prediction error but very large generalisation error.\n",
    "\n",
    "- (5) What is the lowest prediction error that can be achieved with the piecewise linear model? What can you say about the number of line segments that that would require?\n",
    "- (5) Can the piecewise linear model overfit? Keeping the number of parameters equal, which do you think would overfit worse, a polynomial regression model or a piecewise linear regression? Why?"
   ]
  }
 ],
 "metadata": {
  "kernelspec": {
   "display_name": "Python [default]",
   "language": "python",
   "name": "python3"
  },
  "language_info": {
   "codemirror_mode": {
    "name": "ipython",
    "version": 3
   },
   "file_extension": ".py",
   "mimetype": "text/x-python",
   "name": "python",
   "nbconvert_exporter": "python",
   "pygments_lexer": "ipython3",
   "version": "3.5.3"
  }
 },
 "nbformat": 4,
 "nbformat_minor": 1
}
