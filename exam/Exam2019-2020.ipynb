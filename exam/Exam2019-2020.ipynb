{
 "cells": [
  {
   "cell_type": "markdown",
   "metadata": {},
   "source": [
    "# Exam Introduction to Data Science 2019-2020"
   ]
  },
  {
   "cell_type": "markdown",
   "metadata": {},
   "source": [
    "**NAME:** *Yizhen Dai*\n",
    "\n",
    "**ULCN:** *S2395479*"
   ]
  },
  {
   "cell_type": "markdown",
   "metadata": {},
   "source": [
    "**Before you do anything else, enter your name and ULCN above.** Make sure you downloaded the `ipynb` file for this exam from the Assignments section on blackboard, as well as the data files `declaration_of_independence.txt` and `cryptogram.txt`. Save these to the same folder, and remember where you save them so you have no trouble submitting the right file when you're done. **Most years, some students submit an empty exam rather than their actual work. Make sure you edit and submit the same file, just like you have been doing for the homework.**\n",
    "\n",
    "The exam is open book; you may use every resource available to you including internet resources. However, please display integrity and do not communicate with others online or offline during the exam; any detected fraud will be taken extremely seriously. Please help keep this form of examination possible.\n",
    "\n",
    "Some of the questions require textual answers; other questions require Python code as answers. For this exam we will not deduct points for poor documentation and testing; but if your code does not work, we will grade more generously if you made your intentions clear; also you will likely save time by programming methodically.\n",
    "\n",
    "Each bullet point is a question. The number of points you can earn is displayed with every question. 100 points equals a grade of 10.\n",
    "\n",
    "Answer the questions in this notebook and submit via Blackboard before 17:15 (or 17:45 if you have an extension). Submissions after 17:15 will be marked \"Late\", you can ignore that if you have an extension; if you don't it's possible that your grade may be affected. If there is a problem with blackboard, you can send your solution by email to [steven.de.rooij@gmail.com] - it *will* be marked provided that your email is sent at a reasonable time (say, 17:01 or 17:02 will be okay).\n",
    "\n",
    "The best of luck!"
   ]
  },
  {
   "cell_type": "markdown",
   "metadata": {},
   "source": [
    "# Q1 (31): group project\n",
    "\n",
    "As part of this course, you participated in a group project to design a solution. Please respond below, as comprehensive as possible, the following questions. You are allowed to answer these questions in either English or Dutch."
   ]
  },
  {
   "cell_type": "markdown",
   "metadata": {},
   "source": [
    "- (1) In which group project did you participate and what was the end product of this group project?\n"
   ]
  },
  {
   "cell_type": "markdown",
   "metadata": {},
   "source": [
    "*I was in the group of 'WEEK100 TEMPORARY CASH FOR PERMANENT CHANGES'. With the data we had, we would like to present the contribution of this project to improve the beneficiaries. *\n",
    "\n",
    "*To assess this, we choose to analyse the results from the questionnaires on the happiness scale and the number of meals per day as a living standard index.*\n",
    "\n",
    "*To measure improvement for the beneficiary, we performed a statistical test on whether factors such age, literacy or family size would influence the improvement of the happiness scale or living standard index.\n",
    "*\n",
    "\n",
    "*The end product is the conclusion of whether the project is successful and the recommendations on the selections of beneficiaries.*"
   ]
  },
  {
   "cell_type": "markdown",
   "metadata": {},
   "source": [
    "- (1) What competences did you contribute to the group?"
   ]
  },
  {
   "attachments": {},
   "cell_type": "markdown",
   "metadata": {},
   "source": [
    "*I was in charge of Communication, data analysis using Python language, and presentation. *"
   ]
  },
  {
   "cell_type": "markdown",
   "metadata": {},
   "source": [
    "- (5) Which new skills did you learn through the experience of designing a multi-disciplinary project?\n"
   ]
  },
  {
   "attachments": {},
   "cell_type": "markdown",
   "metadata": {},
   "source": [
    "*I've leanrt the importance of communication and attention to the background of the project:*\n",
    "\n",
    "*1. Our group consisted of students with different background. I found it was beneficial to focus on the project purpose and personal interests in the begining, since you cannot force your teammembers to work but to motivate them. After a while, it is important to form the leadership and create effective feedback loops, since it is hard for everyone to to participate unless there is a leader in the group.*\n",
    "\n",
    "*2. Also, I realized the importance of attention to the project background. During the data analysis, we found many missing values and also some inconsistent values. We are glad that we asked Yvonne van Dalen for details of why there are missing and/or inconsistent values, before we dive into the data wrangling.*"
   ]
  },
  {
   "cell_type": "markdown",
   "metadata": {},
   "source": [
    "- (8) What were the limitations of the design that you completed as part of the group project and how did this affect the end result? Mention three relevant limitations and explain.\n"
   ]
  },
  {
   "cell_type": "markdown",
   "metadata": {},
   "source": [
    "*1. Limited data: Since only a few groups have finished the project, we do not have many beneficiaries that have completed the projects. Therefore, the conclusion we have from our statistical test does not have significant power. There is the possibility that futures studies may show otherwise.*\n",
    "\n",
    "*2. No control groups: The economy has grown rapidly in Rwanda these years. But we cannot analyze how much the economy bloom contributed to the happiness and living standard increases.*\n",
    "\n",
    "*3. Data inconsistency and missing values. For examples, the ages changed significantly between rounds for two beneficiaries. It turns out some women did not know their exact age, and made an estimation. Also there are inconsistencies between school level and literacy. Staff from the field indicated that sometimes women are afraid to answer that they can read even if they can. This is due to the them being afraid that there might be a test on that. There are also missing values for income sources, savings and etc. With more data, we can perform future analysis on these variables.*"
   ]
  },
  {
   "cell_type": "markdown",
   "metadata": {},
   "source": [
    "- (8) Describe to what extent the data used for the group project were FAIR?\n",
    "    "
   ]
  },
  {
   "attachments": {},
   "cell_type": "markdown",
   "metadata": {},
   "source": [
    "*1. Findability is poor*\n",
    "- There is no described with rich metadata \n",
    "- It is not registered in a searchable resource \n",
    "\n",
    "*2. Accessibility is not good, but reasonable*\n",
    "- It can be accessed by email request.\n",
    "\n",
    "*3. Interoperability is good*\n",
    "- It has a databse, using a formal, accessible, shared, and broadly applicable language for knowledge representation \n",
    "- However, it does not use vocabulary that follow FAIR principles\n",
    "\n",
    "*4. Reusability is good, but not perfect*\n",
    "- There is some description with a plurality of accurate and relevant attributes.\n",
    "- However, sometimes you have to request for further explanation."
   ]
  },
  {
   "cell_type": "markdown",
   "metadata": {},
   "source": [
    "- (8) Describe to what extent the data produced for the group project were FAIR?"
   ]
  },
  {
   "cell_type": "markdown",
   "metadata": {},
   "source": [
    "*1. Findability is poor*\n",
    "- Our data does not have described rich metadata \n",
    "- Our data is not registered in a searchable resource \n",
    "\n",
    "*2. Accessibility is not good, but reasonable*\n",
    "- Our data is only accessible if requested.\n",
    "\n",
    "*3. Interoperability is poor*\n",
    "- Our data is saved in xml, not in a formal, accessible, shared, and broadly applicable language for knowledge representation \n",
    "- However, we did use vocabulary that follow FAIR principles\n",
    "\n",
    "*4. Reusability is not good, but reasonable*\n",
    "- Due to the time limit, we did not describe and explain every variable we have in details."
   ]
  },
  {
   "cell_type": "markdown",
   "metadata": {},
   "source": [
    "# The Vigenère cipher\n"
   ]
  },
  {
   "cell_type": "markdown",
   "metadata": {},
   "source": [
    "*Note: it may be tempting to rush reading this introduction but that will lead to confusion later on. Please take the time to read this.*"
   ]
  },
  {
   "cell_type": "markdown",
   "metadata": {},
   "source": [
    "The Vigenère cipher is a method of encrypting alphabetic text, based on the letters of a keyword. First described by Giovan Battista Bellaso in 1553, the cipher is easy to understand and implement, but it resisted all attempts to break it until 1863, three centuries later. This earned it the description *le chiffre indéchiffrable* ('the indecipherable cipher').\n",
    "\n",
    "In the 19th century the scheme was misattributed to Blaise de Vigenère (1523–1596), and so acquired its present name.\n",
    "\n",
    "The Vigenère cipher is simple enough to be a field cipher if it is used in conjunction with cipher disks. The Confederate States of America, for example, used a brass cipher disk to implement the Vigenère cipher during the American Civil War. The Confederacy's messages were far from secret, and the Union regularly cracked its messages. Throughout the war, the Confederate leadership primarily relied upon three key phrases: \"Manchester Bluff\", \"Complete Victory\" and, as the war came to a close, \"Come Retribution\".\n",
    "\n",
    "In this exam, you will write functions to encrypt and decrypt messages using the Vigenère cipher, and ultimately we will break encrypted messages for which you don't have the key.\n",
    "\n",
    "As an example, suppose we wish to encrypt the message `\"It depends on what the meaning of the word 'is' is.\"`, and the key we use to encrypt that message is `\"Monica\"`.\n",
    "\n",
    "First of all, in the Vigenère cipher, only letters can be represented, no spaces or symbols, and no distinction is made between smaller and upper case letters.  So the first thing we do is to convert the message (and the key as well) to lower case, and we remove everything that's not a letter. Then the key is extended by repetition to the same length as the message:\n",
    "\n",
    "```\n",
    "message:      itdependsonwhatthemeaningofthewordisis\n",
    "extended key: monicamonicamonicamonicamonicamonicamo\n",
    "```\n",
    "\n",
    "Next, we identify each letter with its index in the alphabet, so we count `a`=0, `b`=1, and so forth. The Vigenère cryptogram is obtained by adding each letter of the message with each corresponding letter in the extended key. The addition is cyclic: for example, `z+c` would normally be 25+2=27, but since the alphabet is only 26 long, the result cycles back: 26 becomes 0, 27 becomes 1, and so on. So  `z+c=b`. (This is known in mathematics as addition modulo 26.)\n",
    "\n",
    "```\n",
    "message:      itdependsonwhatthemeaningofthewordisis\n",
    "extended key: monicamonicamonicamonicamonicamonicamo\n",
    "              -------------------------------------- +\n",
    "cryptogram:   uhqmrezrfwpwtogbjeysnvknscsbjeicelksug\n",
    "```\n",
    "\n",
    "Knowing the key, the original message can be reconstructed by subtracting the extended key from the cryptogram:\n",
    "\n",
    "```\n",
    "cryptogram:   uhqmrezrfwpwtogbjeysnvknscsbjeicelksug\n",
    "extended key: monicamonicamonicamonicamonicamonicamo\n",
    "              -------------------------------------- -\n",
    "message:      itdependsonwhatthemeaningofthewordisis\n",
    "```\n"
   ]
  },
  {
   "cell_type": "markdown",
   "metadata": {},
   "source": [
    "# Q2 [5]: remove symbols\n",
    "\n",
    "In the example above, the first step in encrypting a message is to put it in lower case, and remove all spaces and symbols.\n",
    "\n",
    "- Write a function `strip` that takes a string as input, and outputs a stripped version of the string.\n",
    "\n",
    "*Example:* `strip(\"It depends on what the meaning of the word 'is' is.\")` should yield: `itdependsonwhatthemeaningofthewordisis`.\n",
    "\n",
    "*Hint:* use the string methods `lower` and `isalpha` to do this. Use `help(\"\".lower)` and `help(\"\".isalpha)` or look it up in the Python tutorial."
   ]
  },
  {
   "cell_type": "code",
   "execution_count": 105,
   "metadata": {},
   "outputs": [
    {
     "data": {
      "text/plain": [
       "True"
      ]
     },
     "execution_count": 105,
     "metadata": {},
     "output_type": "execute_result"
    }
   ],
   "source": [
    "# in : a string 'string'\n",
    "# out: the string with everything except letters removed, and put in lower case\n",
    "def strip(string):\n",
    "    return ''.join(x for x in string.lower() if x.isalpha())\n",
    "    \n",
    "# Below we'll test that the function works at advertised.\n",
    "# For this first question, a test is provided. For further questions,\n",
    "# you will have to supply the tests yourselves.\n",
    "# Note: TESTING IS NOT OPTIONAL. It's an integral part of code quality and as\n",
    "# such it affects your grade! You're not expected to go out of your way. Simply\n",
    "# write one simple expression that returns True if your function works as required,\n",
    "# and False otherwise.\n",
    "#\n",
    "# Even if you can't get a function to work properly, you can still acquire some\n",
    "# points by writing a valid test for it.\n",
    "\n",
    "# TEST\n",
    "strip(\"It depends on what the meaning of the word 'is' is.\") == \"itdependsonwhatthemeaningofthewordisis\""
   ]
  },
  {
   "cell_type": "markdown",
   "metadata": {},
   "source": [
    "# Q3 [10]: convert to and from a list of numbers\n",
    "\n",
    "In order for our program to do operations on cryptograms more easily, it will be convenient to convert 'stripped' messages and keyphrases into a list of the corresponding numbers as explained at the start of the exam. So `a` or becomes 0, `b` becomes 1, and so on. \n",
    "\n",
    "- Write a function `str2lon` that takes as input a stripped string and outputs the corresponding list of numbers, and write a function `lon2str` that does the reverse: it takes a list of numbers as input and outputs a stripped string.\n",
    "\n",
    "*Example:* `str2lon(\"monica\")` should yield `[12, 14, 13, 8, 2, 0]`. `lon2str([12, 14, 13, 8, 2, 0])` should yield `\"monica\"`.\n",
    "\n",
    "*Hint:* The easiest way to do this is by using the functions `ord` and `chr` to convert between letters and numbers, and try out `ord('a')` and `chr(97)` to see how they are used."
   ]
  },
  {
   "cell_type": "code",
   "execution_count": 106,
   "metadata": {},
   "outputs": [
    {
     "data": {
      "text/plain": [
       "(True, True)"
      ]
     },
     "execution_count": 106,
     "metadata": {},
     "output_type": "execute_result"
    }
   ],
   "source": [
    "# in : a string 'string': the string to be converted into numeric format\n",
    "# out: a list of int: the numeric representation of the string as described above.\n",
    "def str2lon(string):\n",
    "    return [ord(x)-97 for x in string]\n",
    "\n",
    "# in : a list of int 'lon': the numeric representation of the string as described above.\n",
    "# out: a string: the string that the numbers represented\n",
    "def lon2str(lon):\n",
    "    return ''.join(chr(d+97) for d in lon)\n",
    "\n",
    "# TEST\n",
    "str2lon(\"monica\") == [12, 14, 13, 8, 2, 0],lon2str([12, 14, 13, 8, 2, 0]) == \"monica\""
   ]
  },
  {
   "cell_type": "code",
   "execution_count": 108,
   "metadata": {},
   "outputs": [
    {
     "data": {
      "text/plain": [
       "True"
      ]
     },
     "execution_count": 108,
     "metadata": {},
     "output_type": "execute_result"
    }
   ],
   "source": [
    "lon2str(range(26)) == 'abcdefghijklmnopqrstuvwxyz'"
   ]
  },
  {
   "cell_type": "markdown",
   "metadata": {},
   "source": [
    "All the functions you will write in the rest of this exam will not work with strings directly: they will all take lists of numbers as inputs. Only at the very end we will want to convert lists of numbers back into strings, so that we can actually read the result of our decryption efforts!"
   ]
  },
  {
   "cell_type": "markdown",
   "metadata": {},
   "source": [
    "# Q4 [10]: encrypt and decrypt\n",
    "\n",
    "The next step is to write functions to encode and decode a message using the Vigenère cipher, using an encryption key.\n",
    "\n",
    "- Write a function `encrypt` that takes as input a message and an encryption key, **both in list of number format**, and outputs the encrypted message, again in list of number format, using the Vigenère cipher explained at the top of the exam.\n",
    "\n",
    "- Write a function `decrypt` that takes as input a cryptogram and an encryption key, **both in list of number format**, and outputs the decrypted message, again in list of number format, and again using the Vigenère cipher.\n",
    "\n",
    "*Example:* rather than giving an example in words, it's provided for you in the code cell below. Make sure how the functions you've written work together to encrypt and decrypt messages."
   ]
  },
  {
   "cell_type": "code",
   "execution_count": 116,
   "metadata": {},
   "outputs": [
    {
     "name": "stdout",
     "output_type": "stream",
     "text": [
      "Encrypted: [20, 7, 16, 12, 17, 4, 25, 17, 5, 22, 15, 22, 19, 14, 6, 1, 9, 4, 24, 18, 13, 21, 10, 13, 18, 2, 18, 1, 9, 4, 8, 2, 4, 11, 10, 18, 20, 6]\n"
     ]
    },
    {
     "data": {
      "text/plain": [
       "True"
      ]
     },
     "execution_count": 116,
     "metadata": {},
     "output_type": "execute_result"
    }
   ],
   "source": [
    "# in : a list of numbers 'msg' and a list of numbers 'key'\n",
    "# out: a list of numbers representing the message encrypted with the given key.\n",
    "def encrypt(msg, key):\n",
    "    import numpy as np\n",
    "    longkey = key * (int(len(msg)/len(key))+1)\n",
    "    longkey = longkey[:len(msg)]\n",
    "    A1 = np.array(msg)\n",
    "    A2 = np.array(longkey)\n",
    "    ans = (A1+A2)% 26\n",
    "    return list(ans)\n",
    "\n",
    "# Example use:\n",
    "tst_msg   = str2lon(strip(\"It depends on what the meaning of the word 'is' is.\"))\n",
    "tst_key   = str2lon(strip(\"Monica\"))\n",
    "tst_encrypt = encrypt(tst_msg, tst_key)\n",
    "print(\"Encrypted:\", tst_encrypt)\n",
    "\n",
    "# TEST\n",
    "lon2str(encrypt(str2lon('itdependsonwhatthemeaningofthewordisis'), str2lon(\"monica\"))) == 'uhqmrezrfwpwtogbjeysnvknscsbjeicelksug'"
   ]
  },
  {
   "cell_type": "code",
   "execution_count": 120,
   "metadata": {},
   "outputs": [
    {
     "data": {
      "text/plain": [
       "True"
      ]
     },
     "execution_count": 120,
     "metadata": {},
     "output_type": "execute_result"
    }
   ],
   "source": [
    "# in : a list of numbers 'crypt' and a list of numbers 'key'\n",
    "# out: a list of numbers representing the decoded message.\n",
    "def decrypt(crypt, key):\n",
    "    import numpy as np\n",
    "    longkey = key * (int(len(crypt)/len(key))+1)\n",
    "    longkey = longkey[:len(crypt)]\n",
    "    A1 = np.array(crypt)\n",
    "    A2 = np.array(longkey)\n",
    "    ans = (A1-A2)% 26\n",
    "    return list(ans)\n",
    "\n",
    "# TEST\n",
    "lon2str(decrypt(str2lon('uhqmrezrfwpwtogbjeysnvknscsbjeicelksug'), str2lon(\"monica\"))) == 'itdependsonwhatthemeaningofthewordisis'"
   ]
  },
  {
   "cell_type": "markdown",
   "metadata": {},
   "source": [
    "# Q5 [14]: count bigrams\n",
    "\n",
    "We now turn to the problem of codebreaking: decrypting a message when you *don't have* the encryption key. We will do that by defining a way to score a candidate decryption key, and then modifying the key to optimise the score.\n",
    "\n",
    "A good way to score a candidate key is by applying it to the cryptogram, and measuring to what extent the result of decoding looks anything like proper English text. To do so we will first count all bigrams in a piece of English text, using a dictionary. A **bigram** is two consecutive letters, so for example the string `\"hello\"` contains the bigrams `he`, `el`, `ll`, `lo`. However instead of the letters, we will work with the numbers that correspond to the letters, so we will represent these bigrams as `(7,4)`, `(4,11)`, `(11,11)` and `(11,14)`.\n",
    "\n",
    "- Write a function `count_bigrams` that takes a list of numbers as input; it then outputs a dictionary that maps each bigram to the number of times it occurred in the input.\n",
    "\n",
    "*Example:* if the input is `str2lon(\"abracadabra\")`, the function should yield a dictionary like this:\n",
    "```\n",
    "{( 0,  1): 2,\n",
    " ( 1, 17): 2, \n",
    " (17,  0): 2, \n",
    " ( 0,  2): 1,\n",
    " ( 2,  0): 1,\n",
    " ( 0,  3): 1,\n",
    " ( 3,  0): 1}\n",
    "```\n",
    "(for example `(17,0)` corresponds to `ra`, so the value is 2 because `ra` occurs twice in `abracadabra`.)"
   ]
  },
  {
   "cell_type": "code",
   "execution_count": 121,
   "metadata": {},
   "outputs": [
    {
     "data": {
      "text/plain": [
       "True"
      ]
     },
     "execution_count": 121,
     "metadata": {},
     "output_type": "execute_result"
    }
   ],
   "source": [
    "# in : a list of numbers 'lon'\n",
    "# out: a dictionary with the bigrams in lon as keys, and their frequencies as corresponding values\n",
    "def count_bigrams(lon):\n",
    "    tuple_list = [(lon[i],lon[i+1]) for i in range(len(lon)-1)]\n",
    "    counts = dict()\n",
    "    for i in tuple_list:\n",
    "        counts[i] = counts.get(i, 0) + 1\n",
    "    return counts\n",
    "\n",
    "# TEST\n",
    "ansq5 = {\n",
    " ( 0,  1): 2,\n",
    " ( 1, 17): 2, \n",
    " (17,  0): 2, \n",
    " ( 0,  2): 1,\n",
    " ( 2,  0): 1,\n",
    " ( 0,  3): 1,\n",
    " ( 3,  0): 1}\n",
    "count_bigrams(str2lon(\"abracadabra\")) == ansq5"
   ]
  },
  {
   "cell_type": "markdown",
   "metadata": {},
   "source": [
    "# Q6 [10]: count bigrams in a text file\n",
    "\n",
    "- Load the text file `declaration_of_independence.txt` that came with this exam; strip it and convert it to a list of numbers, then count the bigrams in this longer text. Assign the resulting dictionary to a global variable `BIGRAMS` that we'll use in subsequent questions.\n",
    "\n",
    "Note: since we will want to load only one file, it's not required to write functions to answer this question."
   ]
  },
  {
   "cell_type": "code",
   "execution_count": 122,
   "metadata": {},
   "outputs": [
    {
     "data": {
      "text/plain": [
       "True"
      ]
     },
     "execution_count": 122,
     "metadata": {},
     "output_type": "execute_result"
    }
   ],
   "source": [
    "# TO DO: load the file into BIGRAMS.\n",
    "with open('declaration_of_independence.txt', \"r\") as f:\n",
    "    text = strip(f.read())\n",
    "    BIGRAMS  = count_bigrams(str2lon(text))\n",
    "\n",
    "# TEST\n",
    "# (TO DO: Test that the bigram \"st\" occurs 90 times in the text.)\n",
    "BIGRAMS[tuple(str2lon(\"st\"))] == 90"
   ]
  },
  {
   "cell_type": "markdown",
   "metadata": {},
   "source": [
    "# Q7 [10]: scoring a decryption key\n",
    "\n",
    "To estimate if a decryption key is a good candidate for a cryptogram, we will score it as follows:\n",
    "\n",
    "- Apply the candidate key to the cryptogram\n",
    "- For all bigrams in the result, look up the frequency in `BIGRAMS`. If the bigram doesn't occur in `BIGRAMS`, then skip it.\n",
    "- Multiply all the nonzero frequencies together. The result is the score of the decryption key.\n",
    "\n",
    "This way of scoring will yield a high score for decryption keys that yield a lot of bigrams that are frequent in actual English text.\n",
    "\n",
    "Write a function `score` that takes a cryptogram and a candidate key as inputs (both in the form of a list of numbers). It calculates the score as described above and returns it."
   ]
  },
  {
   "cell_type": "code",
   "execution_count": 123,
   "metadata": {},
   "outputs": [
    {
     "data": {
      "text/plain": [
       "True"
      ]
     },
     "execution_count": 123,
     "metadata": {},
     "output_type": "execute_result"
    }
   ],
   "source": [
    "# in : a list of numbers 'crypt': the cryptogram\n",
    "#      a list of numbers 'key': the candidate decryption key\n",
    "# out: a list of numbers: the score of the decryption key using the heuristic\n",
    "#      described in the question.\n",
    "def score(crypt, key):\n",
    "    score = 0\n",
    "    decode_list = decrypt(crypt, key)\n",
    "    bigram_list = count_bigrams(decode_list)\n",
    "    for b in bigram_list:\n",
    "        if b in BIGRAMS:\n",
    "            score += BIGRAMS[b] * bigram_list[b]\n",
    "    return score         \n",
    "    \n",
    "# TEST\n",
    "score([8,4], [1,1]) == 3"
   ]
  },
  {
   "cell_type": "markdown",
   "metadata": {},
   "source": [
    "# Given: improving a single letter\n",
    "\n",
    "The next step is to improve a candidate key in a single position, by trying out all possible letters in that position and seeing which letter yields the best score. This function is provided to ensure that this exam remains a reasonable amount of work.\n",
    "\n",
    "The function `improve_position` takes three inputs: a cryptogram, a candidate key (both in list of numbers format), and an index indicating which letter of the decryption key you want to improve (0 means first letter, 1 means second letter, and so on). The function uses a loop to set the given position in the key to each of the 26 possible letters, and calculates the score each time. After the loop is done, the letter in the key is set to the best one that was found. **The function has no outputs: the key that is given to the function is itself changed!**"
   ]
  },
  {
   "cell_type": "code",
   "execution_count": 124,
   "metadata": {},
   "outputs": [
    {
     "name": "stdout",
     "output_type": "stream",
     "text": [
      "monica\n"
     ]
    }
   ],
   "source": [
    "# in : a list of numbers 'crypt': the cryptogram that we want to crack\n",
    "#    : a list of numbers 'key': a candidate key that we want to improve\n",
    "#    : an int 'ix': the position where we want to improve the key\n",
    "# out: none (the function changes its input 'key', but has no output)\n",
    "def improve_position(crypt, key, ix):\n",
    "    (best_score, best_let) = (0,0)\n",
    "    for c in range(26):\n",
    "        key[ix] = c\n",
    "        sc = score(crypt, key)\n",
    "        if sc > best_score:\n",
    "            (best_score, best_let) = (sc, c)\n",
    "    key[ix] = best_let\n",
    "    \n",
    "# Test the function: we start with a key that's wrong in one position,\n",
    "# and attempt to use the function to correct the error.\n",
    "cryptogram = str2lon(\"uhqmrezrfwpwtogbjeysnvknscsbjeicelksug\")\n",
    "bad_key = str2lon(\"mznica\")\n",
    "improve_position(cryptogram, bad_key, 1)\n",
    "\n",
    "# The function improve_position should have changed bad_key, so that\n",
    "# it now has a better letter in the second position. So if all is well,\n",
    "# the following statement should print \"monica\".\n",
    "print(lon2str(bad_key))    "
   ]
  },
  {
   "cell_type": "markdown",
   "metadata": {},
   "source": [
    "# Q8 [10]: cracking the code\n",
    "\n",
    "To break the Vigenère cipher, start with a key that's just a list of zeroes, and call the function `improve_position` on each position in turn. In order to make sure we find the best solution we can, we'll need to do this multiple times: to keep things simple, just let your code cycle through the indices of the key twice, and call `improve_position` each time.\n",
    "\n",
    "- Write a function `crack` that takes as inputs a cryptogram (in list of numbers format) and a key length, and it outputs the best key it can find, also as a list of numbers.\n",
    "\n",
    "*Example:* if `cryptogram` has been encrypted using the `key`, then `crack(cryptogram, len(key))` should recover the key `key`."
   ]
  },
  {
   "cell_type": "code",
   "execution_count": 181,
   "metadata": {},
   "outputs": [
    {
     "data": {
      "text/plain": [
       "True"
      ]
     },
     "execution_count": 181,
     "metadata": {},
     "output_type": "execute_result"
    }
   ],
   "source": [
    "# in: a list of numbers 'crypt': the cryptogram that we want to crack\n",
    "#     an int 'keylen': the length of the key we're going to recover.\n",
    "# out: a list of numbers: our best reconstruction of the key used\n",
    "#      to encrypt the message\n",
    "def crack(crypt, keylen):\n",
    "    ### create a key: a list of zeroes with length of keylen\n",
    "    key = [0]*keylen\n",
    "    ### cycle through the indices of the key twice\n",
    "    for i in range(2):\n",
    "        ###  call improve_position on each position of the key\n",
    "        for ix in range(keylen):\n",
    "            ### update the key\n",
    "            improve_position(crypt, key, ix) \n",
    "    return key\n",
    "    \n",
    "# TEST\n",
    "lon2str(crack(cryptogram, 6)) == 'bynica'"
   ]
  },
  {
   "cell_type": "markdown",
   "metadata": {},
   "source": [
    "# Q9 [BONUS: 10]: decrypt the cryptogram!\n",
    "\n",
    "Now we have everything we need to do some serious code cracking! \n",
    "\n",
    "- Load the file `cryptogram.txt` that came with this exam and decode it: recover both the encryption key and the message.\n",
    "\n",
    "You are given the following information: it is encoded using a Vigenère cipher, and the key is 22 letters long. (It's actually possible to figure out the length of the key by simply trying out all possibilities, but for simplicity you won't be asked to do that.)\n",
    "\n",
    "Note: since we will want to load only one file, it's not required to write any functions to answer this question."
   ]
  },
  {
   "cell_type": "code",
   "execution_count": 142,
   "metadata": {},
   "outputs": [],
   "source": [
    "# TO DO:\n",
    "# crack \"cryptogram.txt\". Print both the key and the decrypted message.\n",
    "\n",
    "with open('cryptogram.txt', \"r\") as f:\n",
    "    text = strip(f.read())\n",
    "    key_ans = crack(str2lon(text), 22)"
   ]
  },
  {
   "cell_type": "code",
   "execution_count": 183,
   "metadata": {},
   "outputs": [
    {
     "name": "stdout",
     "output_type": "stream",
     "text": [
      "Lon of encryption key: [0, 18, 4, 13, 18, 4, 14, 5, 0, 2, 2, 14, 12, 15, 11, 8, 18, 7, 12, 4, 13, 19] \n",
      "\n",
      "Str of encryption key: asenseofaccomplishment \n",
      "\n",
      "The message: howbeautifularethyfeetwithshoesoprincesdaughterthejointsofthythighsarelikejewelstheworkofthehandsofacunningworkmanthynavelislikearoundgobletwhichwantethnotliquorthybellyislikeaheapofwheatsetaboutwithliliesthytwobreastsareliketwoyoungroesthataretwinsthyneckisasatowerofivorythineeyeslikethefishpoolsinheshbonbythegateofbathrabbimthynoseisasthetoweroflebanonwhichlookethtowarddamascusthineheadupontheeislikecarmelandthehairofthineheadlikepurplethekingisheldinthegallerieshowfairandhowpleasantartthouolovefordelightsthisthystatureisliketoapalmtreeandthybreaststoclustersofgrapesisaidiwillgouptothepalmtreeiwilltakeholdoftheboughsthereofnowalsothybreastsshallbeasclustersofthevineandthesmellofthynoselikeapplesandtheroofofthymouthlikethebestwineformybelovedthatgoethdownsweetlycausingthelipsofthosethatareasleeptospeakiammybelovedsandhisdesireistowardmecomemybelovedletusgoforthintothefieldletuslodgeinthevillagesletusgetupearlytothevineyardsletusseeifthevineflourishwhetherthetendergrapeappearandthepomegranatesbudforththerewilligivetheemylovesthemandrakesgiveasmellandatourgatesareallmannerofpleasantfruitsnewandoldwhichihavelaidupfortheeomybeloved\n"
     ]
    }
   ],
   "source": [
    "print('Lon of encryption key:',key_ans,'\\n')\n",
    "print('Str of encryption key:',lon2str(key_ans),'\\n')\n",
    "print('The message:', lon2str(decrypt(str2lon(text),key_ans)))"
   ]
  }
 ],
 "metadata": {
  "kernelspec": {
   "display_name": "Python [default]",
   "language": "python",
   "name": "python3"
  },
  "language_info": {
   "codemirror_mode": {
    "name": "ipython",
    "version": 3
   },
   "file_extension": ".py",
   "mimetype": "text/x-python",
   "name": "python",
   "nbconvert_exporter": "python",
   "pygments_lexer": "ipython3",
   "version": "3.5.3"
  }
 },
 "nbformat": 4,
 "nbformat_minor": 2
}
