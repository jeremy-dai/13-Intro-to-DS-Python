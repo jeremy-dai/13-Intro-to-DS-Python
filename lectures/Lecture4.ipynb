{
 "cells": [
  {
   "cell_type": "markdown",
   "metadata": {},
   "source": [
    "# Lecture 4: comprehensions, scope, custom types, program design\n",
    "\n",
    "The first half of this lecture covers a few assorted topics about the language:\n",
    "\n",
    "- Comprehensions are a cool and useful way to create lists, sets and dictionaries\n",
    "- Scope is about when variables are discarded from memory, and when they are accessible\n",
    "- Custom types is about using the `class` construct to make new types; the building block of \"Object Oriented\" design.\n",
    "\n",
    "In the final half I will give some pointers about how to design and write programs more systematically and reliably.\n",
    "\n",
    "From the next lecture onward, I will introduce a bunch of *modules*: extensions to the language that you can use to easily do all kinds of scientific computing, and statistical and machine learning tasks."
   ]
  },
  {
   "cell_type": "markdown",
   "metadata": {},
   "source": [
    "## Great big overview of types and their properties\n",
    "\n",
    "| type       | iterable | mutable |\n",
    "| ---------- |:--------:|:-------:|\n",
    "| `int`      |          |\n",
    "| `float`    |          |\n",
    "| `bool`     |          |\n",
    "| `NoneType` |          |\n",
    "| `str`      |    +     |         |\n",
    "| `range`    |    +     |         |\n",
    "| `tuple`    |    +     |         |\n",
    "| `list`     |    +     |    +    |\n",
    "| `set`      |    +     |    +    |\n",
    "| `frozenset`|    +     |         |\n",
    "| `dict`     |    +     |    +    |\n",
    "| `generator`|    +     |         |\n",
    "\n",
    "\n",
    "- Iterable types can be used in `for` loops and many type constructors like `tuple`, `list`, `set`.\n",
    "- Mutable types can be changed, which can be tricky but which can also be very handy\n",
    "\n",
    "- Mutable types cannot be stored in sets or frozensets, or as keys in a dictionary.\n"
   ]
  },
  {
   "cell_type": "markdown",
   "metadata": {},
   "source": [
    "## Python awesomeness: Comprehensions and generators\n",
    "\n",
    "Python offers a particularly convenient and powerful way of constructing values of its major data types, which may be the main reason for Python's popularity: *comprehensions*.\n",
    "\n",
    "Comprehensions can be used to create lists, sets and dictionaries, but strangely, *not tuples*. If you try to create a tuple using a comprehension you will end up with something else instead; more about that below.\n",
    "\n",
    "Comprehensions look like this:\n",
    "\n",
    "\n",
    "| comprehension                         | result      |\n",
    "| ------------------------------------- | ----------- |\n",
    "| `[<expr>       <for and if clauses>]` | `list`      |\n",
    "| `{<expr>       <for and if clauses>}` | `set`       |\n",
    "| `{<expr:expr>  <for and if clauses>}` | `dict`      |\n",
    "| `(<expr>       <for and if clauses>)` | `generator` |\n",
    "\n",
    "So it looks very much like the normal way of creating these values, except that a comprehension includes at least one `for` clause and potentially some `if` clauses as well. To see how this works, let's try out list comprehensions first:"
   ]
  },
  {
   "cell_type": "markdown",
   "metadata": {},
   "source": [
    "**List comprehensions:**"
   ]
  },
  {
   "cell_type": "code",
   "execution_count": 1,
   "metadata": {},
   "outputs": [
    {
     "data": {
      "text/plain": [
       "['hello', 'hello', 'hello']"
      ]
     },
     "execution_count": 1,
     "metadata": {},
     "output_type": "execute_result"
    }
   ],
   "source": [
    "[ \"hello\" for i in range(3) ]"
   ]
  },
  {
   "cell_type": "markdown",
   "metadata": {},
   "source": [
    "The expression is evaluated for each value of `i` specified in the `for`-clause. In fact, the expression may also involve the variables of the `for` clause:"
   ]
  },
  {
   "cell_type": "code",
   "execution_count": 2,
   "metadata": {},
   "outputs": [
    {
     "data": {
      "text/plain": [
       "[0, 1, 4, 9, 16, 25, 36, 49]"
      ]
     },
     "execution_count": 2,
     "metadata": {},
     "output_type": "execute_result"
    }
   ],
   "source": [
    "# Exercise: what list is created here?\n",
    "\n",
    "[ i*i for i in range(8) ]"
   ]
  },
  {
   "cell_type": "markdown",
   "metadata": {},
   "source": [
    "And finally, `if` clauses can be used to filter the resulting list, excluding some results. They can involve variables defined in `for` specifiers that are more to the left, so this works:"
   ]
  },
  {
   "cell_type": "code",
   "execution_count": 3,
   "metadata": {},
   "outputs": [
    {
     "data": {
      "text/plain": [
       "[0, 1, 2, 3, 4, 10, 11, 12, 13, 14]"
      ]
     },
     "execution_count": 3,
     "metadata": {},
     "output_type": "execute_result"
    }
   ],
   "source": [
    "# Exercise: what will this do? Why?\n",
    "\n",
    "[ i for i in range(20) if i%10<5 ]"
   ]
  },
  {
   "cell_type": "code",
   "execution_count": 4,
   "metadata": {},
   "outputs": [
    {
     "ename": "SyntaxError",
     "evalue": "invalid syntax (<ipython-input-4-97d713137223>, line 3)",
     "output_type": "error",
     "traceback": [
      "\u001b[0;36m  File \u001b[0;32m\"<ipython-input-4-97d713137223>\"\u001b[0;36m, line \u001b[0;32m3\u001b[0m\n\u001b[0;31m    [ i if i%10<5 for i in range(20) ]\u001b[0m\n\u001b[0m                    ^\u001b[0m\n\u001b[0;31mSyntaxError\u001b[0m\u001b[0;31m:\u001b[0m invalid syntax\n"
     ]
    }
   ],
   "source": [
    "# Exercise: what will this do? Why?\n",
    "\n",
    "[ i if i%10<5 for i in range(20) ]"
   ]
  },
  {
   "cell_type": "markdown",
   "metadata": {},
   "source": [
    "Note: comprehensions are a special syntax. **`for` and `if` used in a comprehension are not the same as `for` and `if` used normally.** For example `break` and `continue` cannot be used here."
   ]
  },
  {
   "cell_type": "markdown",
   "metadata": {},
   "source": [
    "**Comprehensions of sets and dictionaries**\n",
    "\n",
    "These work exactly like list comprehensions, here are some examples:"
   ]
  },
  {
   "cell_type": "code",
   "execution_count": 5,
   "metadata": {},
   "outputs": [
    {
     "data": {
      "text/plain": [
       "{1, 2, 4, 7}"
      ]
     },
     "execution_count": 5,
     "metadata": {},
     "output_type": "execute_result"
    }
   ],
   "source": [
    "# Example: find the set of numbers below 100 that can *not* be\n",
    "#          represented as 3x+5y for positive integers x,y\n",
    "\n",
    "everything = set(range(100))\n",
    "\n",
    "# build using set comprehension\n",
    "canMake = { 3*x+5*y for x in range(100//3) for y in range(100//5) }\n",
    "\n",
    "cannotMake = everything - canMake # set minus!\n",
    "\n",
    "cannotMake"
   ]
  },
  {
   "cell_type": "code",
   "execution_count": 6,
   "metadata": {},
   "outputs": [
    {
     "name": "stdout",
     "output_type": "stream",
     "text": [
      "root of 36 is 6\n"
     ]
    },
    {
     "data": {
      "text/plain": [
       "{1: 1, 4: 2, 9: 3, 16: 4, 25: 5, 36: 6, 49: 7, 64: 8, 81: 9, 100: 10}"
      ]
     },
     "execution_count": 6,
     "metadata": {},
     "output_type": "execute_result"
    }
   ],
   "source": [
    "# Example: make a dictionary with the square roots of the first 10 squares.\n",
    "\n",
    "roots = { i*i : i for i in range(1,11) }\n",
    "\n",
    "print(\"root of 36 is\", roots[36])\n",
    "roots"
   ]
  },
  {
   "cell_type": "code",
   "execution_count": 7,
   "metadata": {},
   "outputs": [
    {
     "data": {
      "text/plain": [
       "'steven'"
      ]
     },
     "execution_count": 7,
     "metadata": {},
     "output_type": "execute_result"
    }
   ],
   "source": [
    "\"steven\""
   ]
  },
  {
   "cell_type": "code",
   "execution_count": 8,
   "metadata": {},
   "outputs": [
    {
     "data": {
      "text/plain": [
       "['steven', 'teven', 'even', 'ven', 'en', 'n']"
      ]
     },
     "execution_count": 8,
     "metadata": {},
     "output_type": "execute_result"
    }
   ],
   "source": [
    "[ \"steven\"[i:] for i in range(6) ]"
   ]
  },
  {
   "cell_type": "markdown",
   "metadata": {},
   "source": [
    "**Comprehension that makes a generator**\n",
    "\n",
    "This is the odd one out: it looks as if it would create a tuple, but instead it makes an iterable value of a type called `generator`. It is similar to a range in that you can use it in a `for` loop and anything else that can work with an iterator.\n",
    "\n",
    "The advantage of a generator is that it does not create the entire sequence of values immediately. Rather they are produced one by one, and so they don't all have to take up memory space simultaneously, which can be handy.\n",
    "\n",
    "The Python designers thought that this would be useful to have and kicked out tuple comprehensions in favour of generators.\n",
    "\n",
    "You can combine it with a tuple type constructor if you want to build the actual tuple."
   ]
  },
  {
   "cell_type": "code",
   "execution_count": 9,
   "metadata": {},
   "outputs": [
    {
     "data": {
      "text/plain": [
       "<generator object <genexpr> at 0x10d783c50>"
      ]
     },
     "execution_count": 9,
     "metadata": {},
     "output_type": "execute_result"
    }
   ],
   "source": [
    "g = ( i*i for i in range(10) ) # make some squares\n",
    "\n",
    "g"
   ]
  },
  {
   "cell_type": "code",
   "execution_count": 10,
   "metadata": {},
   "outputs": [
    {
     "data": {
      "text/plain": [
       "(0, 1, 4, 9, 16, 25, 36, 49, 64, 81)"
      ]
     },
     "execution_count": 10,
     "metadata": {},
     "output_type": "execute_result"
    }
   ],
   "source": [
    "# Create the corresponding tuple\n",
    "tuple(g)"
   ]
  },
  {
   "cell_type": "code",
   "execution_count": 11,
   "metadata": {},
   "outputs": [
    {
     "data": {
      "text/plain": [
       "()"
      ]
     },
     "execution_count": 11,
     "metadata": {},
     "output_type": "execute_result"
    }
   ],
   "source": [
    "# The generator generates all its values only once!\n",
    "tuple(g)"
   ]
  },
  {
   "cell_type": "code",
   "execution_count": 12,
   "metadata": {},
   "outputs": [
    {
     "name": "stdout",
     "output_type": "stream",
     "text": [
      "Here is a square: 45369\n",
      "Here is a square: 144\n",
      "Here is a square: 97969\n",
      "Here is a square: 16\n"
     ]
    }
   ],
   "source": [
    "# You can also use it in a for loop:\n",
    "\n",
    "# make a tuple with a bunch of numbers\n",
    "a = [213,12,313,4]\n",
    "\n",
    "# use a generator comprehension in a for-loop\n",
    "# to iterate over the squares of the numbers in a\n",
    "for sq in ( n*n for n in a ):\n",
    "    print(\"Here is a square:\", sq)"
   ]
  },
  {
   "cell_type": "markdown",
   "metadata": {},
   "source": [
    "In the code above, notice that the list `a` is stored in memory, but even if that list is very long, the generator comprehension does not require a lot of additional memory."
   ]
  },
  {
   "cell_type": "markdown",
   "metadata": {},
   "source": [
    "## Scope and lifetime\n",
    "\n",
    "In all programming languages, all variables have a *scope* and a *lifetime*. These concepts are related but not the same:\n",
    "\n",
    "- The *scope* of a variable is the part of the program from which it can be accessed.\n",
    "- The *lifetime* of a variable is the time interval during which the variable is defined.\n",
    "\n",
    "One might guess that a variable would remain in existence indefinitely, and that it would be accessible from anywhere. That is in fact the case for global variables."
   ]
  },
  {
   "cell_type": "code",
   "execution_count": 13,
   "metadata": {},
   "outputs": [
    {
     "data": {
      "text/plain": [
       "'I exist'"
      ]
     },
     "execution_count": 13,
     "metadata": {},
     "output_type": "execute_result"
    }
   ],
   "source": [
    "test1 = \"I exist\" # global variable.\n",
    "test1"
   ]
  },
  {
   "cell_type": "markdown",
   "metadata": {},
   "source": [
    "The variable `test1` is global: its value will exist until the Python kernel is killed or reset, or until the variable is explicitly reassigned or deleted using `del`. Until that time, its value can be accessed from anywhere in the program.\n",
    "\n",
    "However, variables that are defined *inside a function definition* can only be accessed from inside that function definition, and they are destroyed once the function execution is done:"
   ]
  },
  {
   "cell_type": "code",
   "execution_count": 14,
   "metadata": {},
   "outputs": [
    {
     "name": "stdout",
     "output_type": "stream",
     "text": [
      "hello, world!\n"
     ]
    },
    {
     "ename": "NameError",
     "evalue": "name 'test2' is not defined",
     "output_type": "error",
     "traceback": [
      "\u001b[0;31m---------------------------------------------------------------------------\u001b[0m",
      "\u001b[0;31mNameError\u001b[0m                                 Traceback (most recent call last)",
      "\u001b[0;32m<ipython-input-14-830079524a62>\u001b[0m in \u001b[0;36m<module>\u001b[0;34m()\u001b[0m\n\u001b[1;32m      4\u001b[0m \u001b[0;34m\u001b[0m\u001b[0m\n\u001b[1;32m      5\u001b[0m \u001b[0mf\u001b[0m\u001b[0;34m(\u001b[0m\u001b[0;34m)\u001b[0m\u001b[0;34m\u001b[0m\u001b[0m\n\u001b[0;32m----> 6\u001b[0;31m \u001b[0mtest2\u001b[0m\u001b[0;34m\u001b[0m\u001b[0m\n\u001b[0m",
      "\u001b[0;31mNameError\u001b[0m: name 'test2' is not defined"
     ]
    }
   ],
   "source": [
    "def f():\n",
    "    test2 = \"hello, world!\"\n",
    "    print(test2)\n",
    "\n",
    "f()\n",
    "test2"
   ]
  },
  {
   "cell_type": "markdown",
   "metadata": {},
   "source": [
    "So, the variable `test2` was *local* to the function `f`. Its lifetime and scope are restricted to the time and place where it is defined, to the end of the function.\n",
    "\n",
    "Keeping variables local helps with the readability of your program! The fewer variables you have to keep in your head at the same time, the better.\n",
    "\n",
    "If you have global and local variables of the same name, then the local variable goes first:"
   ]
  },
  {
   "cell_type": "code",
   "execution_count": 15,
   "metadata": {},
   "outputs": [
    {
     "name": "stdout",
     "output_type": "stream",
     "text": [
      "Value inside the function: local\n",
      "Value outside the function: global\n"
     ]
    }
   ],
   "source": [
    "test3 = \"global\"\n",
    "\n",
    "def f():\n",
    "    test3 = \"local\"\n",
    "    print(\"Value inside the function:\", test3)\n",
    "\n",
    "f()\n",
    "print(\"Value outside the function:\", test3)"
   ]
  },
  {
   "cell_type": "markdown",
   "metadata": {},
   "source": [
    "If you want to assign a value to a global variable from within a function, you can do so using the keyword `global`:"
   ]
  },
  {
   "cell_type": "code",
   "execution_count": 16,
   "metadata": {},
   "outputs": [
    {
     "data": {
      "text/plain": [
       "3"
      ]
     },
     "execution_count": 16,
     "metadata": {},
     "output_type": "execute_result"
    }
   ],
   "source": [
    "def f():\n",
    "    global a\n",
    "    a = 3\n",
    "    \n",
    "f()\n",
    "a"
   ]
  },
  {
   "cell_type": "markdown",
   "metadata": {},
   "source": [
    "## Creating your own types with `class`.\n",
    "\n",
    "Python allows you to create your own type. This is a key component in so-called \"Object Oriented\" program design, which is a programming philosophy that has dominated software engineering for the last 25 years or so.\n",
    "\n",
    "Object oriented design can be useful, but it can also be confusing. It is also a very large topic that cannot be done justice in an initial programming course.\n",
    "\n",
    "Most of Python's extension libraries however export new types that have been created using the `class` keyword. So it will be useful to have a brief look how these new types are created, and more importantly, how they are used."
   ]
  },
  {
   "cell_type": "code",
   "execution_count": 19,
   "metadata": {
    "collapsed": true
   },
   "outputs": [],
   "source": [
    "# Define a new custom made type, called \"test\".\n",
    "\n",
    "class test():\n",
    "    None"
   ]
  },
  {
   "cell_type": "markdown",
   "metadata": {},
   "source": [
    "We can now use the name of the class, `Test`, as a function to create values of the new type. (Incidentally, this works for the built in types too, that's why you can construct strings with `str`, tuples with `tuple`, and so on and so forth.)"
   ]
  },
  {
   "cell_type": "code",
   "execution_count": 20,
   "metadata": {},
   "outputs": [
    {
     "name": "stdout",
     "output_type": "stream",
     "text": [
      "Equal according to ==? False\n",
      "Equal according to is? False\n",
      "Type: <class '__main__.test'>\n"
     ]
    }
   ],
   "source": [
    "t1 = test() # create object t1 of type test\n",
    "t2 = test() # create object t2 of type test\n",
    "\n",
    "print(\"Equal according to ==?\", t1 == t2)\n",
    "print(\"Equal according to is?\", t1 is t2)\n",
    "print(\"Type:\", type(t1))"
   ]
  },
  {
   "cell_type": "markdown",
   "metadata": {},
   "source": [
    "You can add data fields to objects using `.` as follows:\n",
    "\n",
    "```<object>.<field_name> = <value>```\n",
    "\n",
    "So an object is a little bit like a dictionary: it can remember names with associated values. The difference is that the `field_name` is always spelled out literally in your program, while a key in a dictionary may come from user input.\n",
    "\n",
    "Examples:"
   ]
  },
  {
   "cell_type": "code",
   "execution_count": 21,
   "metadata": {},
   "outputs": [
    {
     "name": "stdout",
     "output_type": "stream",
     "text": [
      "13\n",
      "boo\n",
      "<__main__.test object at 0x10d897128>\n"
     ]
    }
   ],
   "source": [
    "t1.aardvark = 13\n",
    "t2.aardvark = \"boo\"\n",
    "\n",
    "print(t1.aardvark)\n",
    "print(t2.aardvark)\n",
    "\n",
    "print(t1)"
   ]
  },
  {
   "cell_type": "markdown",
   "metadata": {},
   "source": [
    "So, objects allow you to bundle some information into a nice little package. The power of classes is that you can also define *methods*: those are functions that are supposed to do something with objects of that class.\n",
    "\n",
    "Methods are defined in the class definition. Let's change the class specification to add a method. The first input of a method is always the object for which it's invoked. It's customary to call that input `self`.\n",
    "\n",
    "If you have an object, you can call its methods using the same syntax with `.` that's also used to access data fields."
   ]
  },
  {
   "cell_type": "code",
   "execution_count": 22,
   "metadata": {},
   "outputs": [
    {
     "name": "stdout",
     "output_type": "stream",
     "text": [
      "The method 'message' got called with two inputs:\n",
      "- self (<__main__.test object at 0x10d897470>), the object on which the method was called\n",
      "- arg  (zebra), the second argument\n"
     ]
    }
   ],
   "source": [
    "# redefine the class 'test'; equip it with a method.\n",
    "\n",
    "class test:\n",
    "    \n",
    "    def message(self, arg):\n",
    "        print(\"The method 'message' got called with two inputs:\")\n",
    "        print(\"- self (\", self, \"), the object on which the method was called\", sep=\"\")\n",
    "        print(\"- arg  (\", arg, \"), the second argument\", sep=\"\")\n",
    "        \n",
    "t1 = test()         # create object t1 of type test\n",
    "t1.message(\"zebra\") # call method on t1"
   ]
  },
  {
   "cell_type": "markdown",
   "metadata": {},
   "source": [
    "Often, methods will *do something with the data fields of the object*, which they can do using the `self` input, like so:"
   ]
  },
  {
   "cell_type": "code",
   "execution_count": 23,
   "metadata": {},
   "outputs": [
    {
     "name": "stdout",
     "output_type": "stream",
     "text": [
      "Why hello there, Steven!\n"
     ]
    }
   ],
   "source": [
    "class test:\n",
    "    \n",
    "    def setname(self, name):\n",
    "        self.name = name # copy the name into a data field of the object\n",
    "    \n",
    "    def greet(self):\n",
    "        print(\"Why hello there, \", self.name, \"!\", sep=\"\")\n",
    "\n",
    "        \n",
    "t1 = test()           # create object t1 of type test\n",
    "t1.setname(\"Steven\")  # call the method \"setname\" on t1\n",
    "t1.greet()            # call the method \"greet\" on t1"
   ]
  },
  {
   "cell_type": "markdown",
   "metadata": {},
   "source": [
    "Sometimes, it's convenient to initialise the data fields of the object the moment that the object is created, instead of later. To do so, you can add a special method `__init__` (four underscores), which is known as the *constructor*. The *constructor* always gets called when the object is created, and is given any inputs that you supply when you construct it.\n",
    "\n",
    "The code below does the same as above, but instead of a `setname` method, the name now gets set in a constructor method."
   ]
  },
  {
   "cell_type": "code",
   "execution_count": 24,
   "metadata": {},
   "outputs": [
    {
     "name": "stdout",
     "output_type": "stream",
     "text": [
      "Why hello there, Steven! My, 123? That's ancient!\n"
     ]
    }
   ],
   "source": [
    "class test:\n",
    "    \n",
    "    def __init__(self, name, age):\n",
    "        self.name = name # copy the name into a data field of the object\n",
    "        self.age = age   # as well as the age\n",
    "    \n",
    "    def greet(self):\n",
    "        print(\"Why hello there, \", self.name, \"! My, \", self.age,\"? That's ancient!\", sep=\"\")\n",
    "\n",
    "        \n",
    "t1 = test(\"Steven\", 123) # create object t1, with two extra inputs to the constructor\n",
    "t1.greet()               # call the method \"greet\" on t1."
   ]
  },
  {
   "cell_type": "markdown",
   "metadata": {},
   "source": [
    "## Program design\n",
    "\n",
    "**Before any code is typed in**\n",
    "1. How would you solve the problem by hand? First give a high level description. Type these as comments of your program.\n",
    "- Refine your description. Is every step precise?\n",
    "- What inputs should be allowed? Are there boundary cases?\n",
    "- What kinds of data are you dealing with when you solve it by hand? Write down comments detailing these \"kinds\".\n",
    "- What do you *do* with the data when you solve it by hand? What operations do you perform?\n",
    "- Choose appropriate ways to represent data (low level)\n",
    "- Write the specifications of the functions that you will need (high and low level)\n",
    "  - Documentation\n",
    "  - Naming of functions\n",
    "  - Spaghetti code vs Separation of concerns\n",
    "  - Bottom up approach: for each kind of data, specify what it can do\n",
    "  - Top down approach: start with a description of the complete problem. Break it down in chunks. Write a function for     each chunk.\n",
    "  \n",
    "**Writing the actual program**  \n",
    "1. Write tests to check appropriate behaviour of each function, also for boundary cases\n",
    "- Implement the functions, use assertions\n",
    "\n",
    "**Reality check**\n",
    "\n",
    "Do programmers actually work this way? To a large extent yes, they do. However:\n",
    "\n",
    "1. There are fads: test driven development, extreme programming, object oriented design, agile software development. These contain useful ideas but are often exaggerated and followed religiously.\n",
    "- Programmers develop personal styles and that's okay, as long as it's clear for other people.\n",
    "- Documentation is important but if you do it too early, it can be a lot of wasted effort, so there is an art to how and when you document.\n",
    "- Refactoring (rewriting code to make it better) is important. But again, if you do it too early, it can be a lot of wasted effort. Do it when making changes starts to be hindered by the quirks of code you wrote earlier.\n",
    "- Good idea: write incrementally: keep working towards a program that is fully functional and can be tested.\n"
   ]
  },
  {
   "cell_type": "markdown",
   "metadata": {},
   "source": [
    "# Demo: Conway's Game of Life"
   ]
  },
  {
   "cell_type": "markdown",
   "metadata": {},
   "source": [
    "John Conway invented this game as a model of population dynamics, in 1970. Idea: represent the world as an infinite grid. Every grid cell can be \"alive\" (contain a creature) or \"dead\". Once an initial configuration has been determined, the grid proceeds to evolve according to fixed rules:\n",
    "\n",
    "* Every cell that is currently alive will survive into the next generation if exactly two or three of its neighbours are alive. If it has fewer live neighbours, it dies of underpopulation, if it has more, it dies of overcrowding.\n",
    "\n",
    "* Every cell that is currently dead will come alive if exactly three of its neighbours are alive.\n",
    "\n",
    "The game is interesting because with these simple rules, incredibly complex behaviours can be observed. To practice designing programs, we will implement Conway's game of life in Python."
   ]
  },
  {
   "cell_type": "markdown",
   "metadata": {},
   "source": [
    "First, let's try and work out how the game evolves by hand. Consider this starting configuration.\n",
    "\n",
    "$$\\begin{array}{cccc}\n",
    "-&O&-&-\\\\\n",
    "-&-&O&-\\\\\n",
    "O&O&O&-\\\\\n",
    "-&-&-&-\\\\\n",
    "\\end{array}$$\n",
    "\n",
    "Since the rules depend on the number of neighbouring cells that are alive, let's count those:\n",
    "\n",
    "$$\\begin{array}{cccc}\n",
    "1&1&2&1\\\\\n",
    "3&5&3&2\\\\\n",
    "1&3&2&2\\\\\n",
    "2&3&2&1\\\\\n",
    "\\end{array}$$\n",
    "\n",
    "Cells that were not alive but that have three neighbours will come alive (+); live cells that have fewer than 2 or more than 3 neighbours die out (X).\n",
    "\n",
    "$$\\begin{array}{cccc}\n",
    "-&X&-&-\\\\\n",
    "+&-&O&-\\\\\n",
    "X&O&O&-\\\\\n",
    "-&+&-&-\\\\\n",
    "\\end{array}$$\n",
    "\n",
    "New situation:\n",
    "\n",
    "$$\\begin{array}{cccc}\n",
    "-&-&-&-\\\\\n",
    "O&-&O&-\\\\\n",
    "-&O&O&-\\\\\n",
    "-&O&-&-\\\\\n",
    "\\end{array}$$\n"
   ]
  },
  {
   "cell_type": "markdown",
   "metadata": {},
   "source": [
    "So, some observations:\n",
    "- The most important step was counting the neighbours for all cells that were currently alive.\n",
    "- Once we've counted the neighbours, it's not hard to determine the new configuration.\n",
    "\n",
    "Let's turn this into a tentative algorithm:"
   ]
  },
  {
   "cell_type": "code",
   "execution_count": null,
   "metadata": {
    "collapsed": true
   },
   "outputs": [],
   "source": [
    "# Game of Life\n",
    "\n",
    "# in : a bunch of cells that are alive\n",
    "# out: those cells that will be alive in the next generation.\n",
    "\n",
    "# method:\n",
    "# - for all live cells:\n",
    "#   - count how many live neighbours it has\n",
    "#   - if it has less than two or more than three live neighbours, kill it\n",
    "#   - otherwise, leave it alive\n",
    "# - for cells that are currently not alive:\n",
    "#   - count how many live neighbours it has\n",
    "#   - if it has exactly three live neighbours, then bring it alive"
   ]
  },
  {
   "cell_type": "markdown",
   "metadata": {},
   "source": [
    "First question:\n",
    "- This plan wants us to do something \"for all cells that are not alive\". There are infinitely many of those! How could we get around that?\n",
    "- Are we going to place limitations on the size of the grid? Simply do work only for a limited region of the infinite grid?\n",
    "- Can we get around this?"
   ]
  },
  {
   "cell_type": "code",
   "execution_count": null,
   "metadata": {
    "collapsed": true
   },
   "outputs": [],
   "source": [
    "# Game of Life (mark 2)\n",
    "#\n",
    "# \"cell\" data definition:\n",
    "# (x,y) integer tuple\n",
    "#\n",
    "# \"configuration\" data definition:\n",
    "# a set of cells\n",
    "#\n",
    "# \"step\" function:\n",
    "# in : a configuration\n",
    "# out: the configuration of the next generation\n",
    "# method:\n",
    "# - for all live cells:\n",
    "#   - count how many live neighbours it has\n",
    "#   - if it has less than two or more than three live neighbours, kill it\n",
    "#   - otherwise, leave it alive\n",
    "# - for cells that are currently not alive but that have at least one\n",
    "#     live neighbour:\n",
    "#   - count how many live neighbours it has\n",
    "#   - if it has exactly three live neighbours, then bring it alive"
   ]
  },
  {
   "cell_type": "markdown",
   "metadata": {},
   "source": [
    "Some aspects to the algorithm are still a bit vague: how do we know what the neighbours of the live cells are? How do we count the number of neighbours of a cell?\n",
    "\n",
    "In order to avoid spaghetti code, we will separate those subproblems out into separate functions as much as possible:"
   ]
  },
  {
   "cell_type": "code",
   "execution_count": null,
   "metadata": {
    "collapsed": true
   },
   "outputs": [],
   "source": [
    "# \"count_neighbours\" function:\n",
    "# in:   a cell, and a configuration\n",
    "# out:  the number of neighbours that are in the configuration.\n",
    "# note: the cell itself does NOT count!\n",
    "\n",
    "\n",
    "# \"neighbours\" function:\n",
    "# in:  a configuration\n",
    "# out: a set of cells that are not in the configuration, but that are neighbours\n",
    "\n",
    "\n",
    "# \"step\" function:\n",
    "# in : a configuration\n",
    "# out: the configuration of the next generation\n",
    "# - for cells in the configuration (live cells):\n",
    "#   - count how many live neighbours it has using count_neighbours\n",
    "#   - if it has less than two or more than three, kill it\n",
    "#   - otherwise leave it alive\n",
    "# - for cells in the set of configuration (obtained using neighbours):\n",
    "#   - count how many live neighbours it has using count_neighbours\n",
    "#   - if it has exactly three, then bring it alive\n"
   ]
  },
  {
   "cell_type": "markdown",
   "metadata": {},
   "source": [
    "This is a pretty detailed description of a program. Before we start writing those functions, we will implement a test. In fact, depending on your testing philosophy and patience, we should test all three functions. But we will only test the main function \"step\", by checking if it works correctly on the input grid from the start:"
   ]
  },
  {
   "cell_type": "code",
   "execution_count": 32,
   "metadata": {
    "collapsed": true
   },
   "outputs": [],
   "source": [
    "# \"test_step\" test function:\n",
    "# verify that the next generation of the pattern described above\n",
    "# is computed correctly by the \"step\" function.\n",
    "\n",
    "GLIDER = { (1,0), (2,1), (2,2), (1,2), (0,2) }\n",
    "\n",
    "def test_step():\n",
    "    correct_output = { (0,1), (2,1), (1,2), (2,2), (1,3) }\n",
    "    actual_output = step(GLIDER)\n",
    "    if correct_output == actual_output:\n",
    "        print(\"Test succeeded! Hurray!\")\n",
    "    else:\n",
    "        print(\"Test failed: should be\", correct_output, \"got:\", actual_output)\n"
   ]
  },
  {
   "cell_type": "markdown",
   "metadata": {},
   "source": [
    "We were lazy about testing the other functions. However we will write tests for the other functions if we run into trouble later: that way we will get a more robust program *and* find out more about what goes wrong!\n",
    "\n",
    "Okay. Now it's time to put everything together:"
   ]
  },
  {
   "cell_type": "code",
   "execution_count": 38,
   "metadata": {},
   "outputs": [
    {
     "ename": "TypeError",
     "evalue": "unsupported operand type(s) for *: 'set' and 'set'",
     "output_type": "error",
     "traceback": [
      "\u001b[0;31m---------------------------------------------------------------------------\u001b[0m",
      "\u001b[0;31mTypeError\u001b[0m                                 Traceback (most recent call last)",
      "\u001b[0;32m<ipython-input-38-74a8f0fc7a14>\u001b[0m in \u001b[0;36m<module>\u001b[0;34m()\u001b[0m\n\u001b[1;32m     41\u001b[0m \u001b[0;31m#   - if it has exactly three, then bring it alive\u001b[0m\u001b[0;34m\u001b[0m\u001b[0;34m\u001b[0m\u001b[0m\n\u001b[1;32m     42\u001b[0m \u001b[0;34m\u001b[0m\u001b[0m\n\u001b[0;32m---> 43\u001b[0;31m \u001b[0mtest_step\u001b[0m\u001b[0;34m(\u001b[0m\u001b[0;34m)\u001b[0m\u001b[0;34m\u001b[0m\u001b[0m\n\u001b[0m",
      "\u001b[0;32m<ipython-input-32-4886bc28af1d>\u001b[0m in \u001b[0;36mtest_step\u001b[0;34m()\u001b[0m\n\u001b[1;32m      7\u001b[0m \u001b[0;32mdef\u001b[0m \u001b[0mtest_step\u001b[0m\u001b[0;34m(\u001b[0m\u001b[0;34m)\u001b[0m\u001b[0;34m:\u001b[0m\u001b[0;34m\u001b[0m\u001b[0m\n\u001b[1;32m      8\u001b[0m     \u001b[0mcorrect_output\u001b[0m \u001b[0;34m=\u001b[0m \u001b[0;34m{\u001b[0m \u001b[0;34m(\u001b[0m\u001b[0;36m0\u001b[0m\u001b[0;34m,\u001b[0m\u001b[0;36m1\u001b[0m\u001b[0;34m)\u001b[0m\u001b[0;34m,\u001b[0m \u001b[0;34m(\u001b[0m\u001b[0;36m2\u001b[0m\u001b[0;34m,\u001b[0m\u001b[0;36m1\u001b[0m\u001b[0;34m)\u001b[0m\u001b[0;34m,\u001b[0m \u001b[0;34m(\u001b[0m\u001b[0;36m1\u001b[0m\u001b[0;34m,\u001b[0m\u001b[0;36m2\u001b[0m\u001b[0;34m)\u001b[0m\u001b[0;34m,\u001b[0m \u001b[0;34m(\u001b[0m\u001b[0;36m2\u001b[0m\u001b[0;34m,\u001b[0m\u001b[0;36m2\u001b[0m\u001b[0;34m)\u001b[0m\u001b[0;34m,\u001b[0m \u001b[0;34m(\u001b[0m\u001b[0;36m1\u001b[0m\u001b[0;34m,\u001b[0m\u001b[0;36m3\u001b[0m\u001b[0;34m)\u001b[0m \u001b[0;34m}\u001b[0m\u001b[0;34m\u001b[0m\u001b[0m\n\u001b[0;32m----> 9\u001b[0;31m     \u001b[0mactual_output\u001b[0m \u001b[0;34m=\u001b[0m \u001b[0mstep\u001b[0m\u001b[0;34m(\u001b[0m\u001b[0mGLIDER\u001b[0m\u001b[0;34m)\u001b[0m\u001b[0;34m\u001b[0m\u001b[0m\n\u001b[0m\u001b[1;32m     10\u001b[0m     \u001b[0;32mif\u001b[0m \u001b[0mcorrect_output\u001b[0m \u001b[0;34m==\u001b[0m \u001b[0mactual_output\u001b[0m\u001b[0;34m:\u001b[0m\u001b[0;34m\u001b[0m\u001b[0m\n\u001b[1;32m     11\u001b[0m         \u001b[0mprint\u001b[0m\u001b[0;34m(\u001b[0m\u001b[0;34m\"Test succeeded! Hurray!\"\u001b[0m\u001b[0;34m)\u001b[0m\u001b[0;34m\u001b[0m\u001b[0m\n",
      "\u001b[0;32m<ipython-input-38-74a8f0fc7a14>\u001b[0m in \u001b[0;36mstep\u001b[0;34m(config)\u001b[0m\n\u001b[1;32m     27\u001b[0m     \u001b[0mcome_alive\u001b[0m \u001b[0;34m=\u001b[0m \u001b[0mset\u001b[0m\u001b[0;34m(\u001b[0m\u001b[0;34m)\u001b[0m\u001b[0;34m\u001b[0m\u001b[0m\n\u001b[1;32m     28\u001b[0m     \u001b[0;32mfor\u001b[0m \u001b[0mdead_cell\u001b[0m \u001b[0;32min\u001b[0m \u001b[0mneighbours\u001b[0m\u001b[0;34m(\u001b[0m\u001b[0mconfig\u001b[0m\u001b[0;34m)\u001b[0m\u001b[0;34m:\u001b[0m\u001b[0;34m\u001b[0m\u001b[0m\n\u001b[0;32m---> 29\u001b[0;31m         \u001b[0;32mif\u001b[0m \u001b[0mcount_neighbours\u001b[0m\u001b[0;34m(\u001b[0m\u001b[0mdead_cell\u001b[0m\u001b[0;34m,\u001b[0m \u001b[0mconfig\u001b[0m\u001b[0;34m)\u001b[0m \u001b[0;34m==\u001b[0m \u001b[0;36m3\u001b[0m\u001b[0;34m:\u001b[0m\u001b[0;34m\u001b[0m\u001b[0m\n\u001b[0m\u001b[1;32m     30\u001b[0m             \u001b[0mcome_alive\u001b[0m\u001b[0;34m.\u001b[0m\u001b[0madd\u001b[0m\u001b[0;34m(\u001b[0m\u001b[0mdead_cell\u001b[0m\u001b[0;34m)\u001b[0m\u001b[0;34m\u001b[0m\u001b[0m\n\u001b[1;32m     31\u001b[0m \u001b[0;34m\u001b[0m\u001b[0m\n",
      "\u001b[0;32m<ipython-input-38-74a8f0fc7a14>\u001b[0m in \u001b[0;36mcount_neighbours\u001b[0;34m(cells, config)\u001b[0m\n\u001b[1;32m      5\u001b[0m \u001b[0;32mdef\u001b[0m \u001b[0mcount_neighbours\u001b[0m\u001b[0;34m(\u001b[0m\u001b[0mcells\u001b[0m\u001b[0;34m,\u001b[0m \u001b[0mconfig\u001b[0m\u001b[0;34m)\u001b[0m\u001b[0;34m:\u001b[0m\u001b[0;34m\u001b[0m\u001b[0m\n\u001b[1;32m      6\u001b[0m     \u001b[0mneighbours\u001b[0m \u001b[0;34m=\u001b[0m \u001b[0;34m{\u001b[0m\u001b[0;34m(\u001b[0m\u001b[0mcells\u001b[0m\u001b[0;34m[\u001b[0m\u001b[0;36m0\u001b[0m\u001b[0;34m]\u001b[0m\u001b[0;34m+\u001b[0m\u001b[0mx\u001b[0m\u001b[0;34m,\u001b[0m \u001b[0mcells\u001b[0m\u001b[0;34m[\u001b[0m\u001b[0;36m1\u001b[0m\u001b[0;34m]\u001b[0m\u001b[0;34m+\u001b[0m\u001b[0my\u001b[0m\u001b[0;34m)\u001b[0m \u001b[0;32mfor\u001b[0m \u001b[0mx\u001b[0m \u001b[0;32min\u001b[0m \u001b[0;34m(\u001b[0m\u001b[0;34m-\u001b[0m\u001b[0;36m1\u001b[0m\u001b[0;34m,\u001b[0m\u001b[0;36m0\u001b[0m\u001b[0;34m,\u001b[0m\u001b[0;36m1\u001b[0m\u001b[0;34m)\u001b[0m \u001b[0;32mfor\u001b[0m \u001b[0my\u001b[0m \u001b[0;32min\u001b[0m \u001b[0;34m(\u001b[0m\u001b[0;34m-\u001b[0m\u001b[0;36m1\u001b[0m\u001b[0;34m,\u001b[0m\u001b[0;36m0\u001b[0m\u001b[0;34m,\u001b[0m\u001b[0;36m1\u001b[0m\u001b[0;34m)\u001b[0m \u001b[0;32mif\u001b[0m \u001b[0;32mnot\u001b[0m\u001b[0;34m(\u001b[0m\u001b[0mx\u001b[0m\u001b[0;34m==\u001b[0m\u001b[0;36m0\u001b[0m \u001b[0;32mand\u001b[0m \u001b[0my\u001b[0m\u001b[0;34m==\u001b[0m\u001b[0;36m0\u001b[0m\u001b[0;34m)\u001b[0m\u001b[0;34m}\u001b[0m\u001b[0;34m\u001b[0m\u001b[0m\n\u001b[0;32m----> 7\u001b[0;31m     \u001b[0malive\u001b[0m \u001b[0;34m=\u001b[0m \u001b[0mconfig\u001b[0m \u001b[0;34m*\u001b[0m \u001b[0mneighbours\u001b[0m\u001b[0;34m\u001b[0m\u001b[0m\n\u001b[0m\u001b[1;32m      8\u001b[0m     \u001b[0;32mreturn\u001b[0m \u001b[0mlen\u001b[0m\u001b[0;34m(\u001b[0m\u001b[0malive\u001b[0m\u001b[0;34m)\u001b[0m\u001b[0;34m\u001b[0m\u001b[0m\n\u001b[1;32m      9\u001b[0m \u001b[0;34m\u001b[0m\u001b[0m\n",
      "\u001b[0;31mTypeError\u001b[0m: unsupported operand type(s) for *: 'set' and 'set'"
     ]
    }
   ],
   "source": [
    "# \"count_neighbours\" function:\n",
    "# in:   a cell, and a configuration\n",
    "# out:  the number of neighbours that are in the configuration.\n",
    "# note: the cell itself does NOT count!\n",
    "def count_neighbours(cells, config):\n",
    "    neighbours = {(cells[0]+x, cells[1]+y) for x in (-1,0,1) for y in (-1,0,1) if not(x==0 and y==0)}\n",
    "    alive = config * neighbours\n",
    "    return len(alive)\n",
    "\n",
    "# \"neighbours\" function:\n",
    "# in:  a configuration\n",
    "# out: a set of cells that are not in the configuration, but that are neighbours\n",
    "def neighbours(config):\n",
    "    neighbours = {(cell[0]+x, cell[1]+y) for cell in config for x in (-1,0,1) for y in (-1,0,1)}\n",
    "    dead_neighbours = neighbours - config\n",
    "    return dead_neighbours\n",
    "\n",
    "# \"step\" function:\n",
    "def step(config):\n",
    "    \n",
    "    \n",
    "    stay_alive = set()\n",
    "    for live_cell in stay_alive:\n",
    "        if count_neighbours(live_cell, config) in (2,3):\n",
    "            stay_alive.add(live_cell)\n",
    "    \n",
    "    come_alive = set()       \n",
    "    for dead_cell in neighbours(config):\n",
    "        if count_neighbours(dead_cell, config) == 3:\n",
    "            come_alive.add(dead_cell)\n",
    "    \n",
    "    return stay_alive | come_alive\n",
    "# in : a configuration\n",
    "# out: the configuration of the next generation\n",
    "# - for cells in the configuration (live cells):\n",
    "#   - count how many live neighbours it has using count_neighbours\n",
    "#   - if it has less than two or more than three, kill it\n",
    "#   - otherwise leave it alive\n",
    "# - for cells in the set of configuration (obtained using neighbours):\n",
    "#   - count how many live neighbours it has using count_neighbours\n",
    "#   - if it has exactly three, then bring it alive\n",
    "\n",
    "test_step()"
   ]
  },
  {
   "cell_type": "markdown",
   "metadata": {},
   "source": [
    "Let's visualise the results. Using matplotlib. We're skipping how this works. More about matplotlib next week."
   ]
  },
  {
   "cell_type": "code",
   "execution_count": null,
   "metadata": {
    "collapsed": true,
    "scrolled": true
   },
   "outputs": [],
   "source": [
    "# Visualisation code. Feel free to not look at this.\n",
    "\n",
    "# Import the libraries required for animation\n",
    "import numpy as np\n",
    "import matplotlib.pyplot as plt \n",
    "import matplotlib.animation as animation\n",
    "\n",
    "# Define the size of the viewport and which cells count as neighbours\n",
    "DIM = 100,100\n",
    "ALIVE = None\n",
    "\n",
    "# Render the live cells into a DIM-sized array of colour values\n",
    "# that can be displayed by matshow.\n",
    "def render(alive):\n",
    "    m = np.zeros(DIM)\n",
    "    for x,y in alive:\n",
    "        cell_x = x + DIM[0]//2\n",
    "        cell_y = y + DIM[1]//2\n",
    "        if 0 <= cell_x < DIM[0] and 0 <= cell_y < DIM[1]:\n",
    "            m[cell_y, cell_x] = 255\n",
    "    return m\n",
    "\n",
    "# Every frame, the ALIVE set is updated according to the rules\n",
    "# of Game of Life. It is then rendered in the matrix that is being\n",
    "# displayed.\n",
    "def update(it, mat):\n",
    "    global ALIVE\n",
    "    ALIVE = step(ALIVE)\n",
    "    mat.set_data(render(ALIVE))\n",
    "\n",
    "# Some library calls to set up the animation. Don't worry about it.\n",
    "def start_animation():\n",
    "    fig,ax = plt.subplots()\n",
    "    mat = ax.matshow(render(ALIVE), cmap=plt.cm.gray)\n",
    "    ani = animation.FuncAnimation(fig, update, interval=150,\n",
    "                                  save_count=150, fargs=[mat])\n",
    "    plt.show()\n"
   ]
  },
  {
   "cell_type": "code",
   "execution_count": null,
   "metadata": {
    "collapsed": true
   },
   "outputs": [],
   "source": [
    "ALIVE      = GLIDER\n",
    "start_animation()"
   ]
  },
  {
   "cell_type": "markdown",
   "metadata": {},
   "source": [
    "It works! Now let's plug in one of the more interesting patterns in Game of Life. To define it easily, I use a multi-line string, that I haven't told you about but you can look up how it works. (Even better would be to read such a pattern from a text file.)"
   ]
  },
  {
   "cell_type": "code",
   "execution_count": 34,
   "metadata": {},
   "outputs": [
    {
     "name": "stdout",
     "output_type": "stream",
     "text": [
      "\n",
      "........................*...........\n",
      "......................*.*...........\n",
      "............**......**............**\n",
      "...........*...*....**............**\n",
      "**........*.....*...**..............\n",
      "**........*...*.**....*.*...........\n",
      "..........*.....*.......*...........\n",
      "...........*...*....................\n",
      "............**......................\n",
      "\n"
     ]
    }
   ],
   "source": [
    "GLIDERGUN_PATTERN = \"\"\"\n",
    "........................*...........\n",
    "......................*.*...........\n",
    "............**......**............**\n",
    "...........*...*....**............**\n",
    "**........*.....*...**..............\n",
    "**........*...*.**....*.*...........\n",
    "..........*.....*.......*...........\n",
    "...........*...*....................\n",
    "............**......................\n",
    "\"\"\"\n",
    "\n",
    "print(GLIDERGUN_PATTERN)"
   ]
  },
  {
   "cell_type": "markdown",
   "metadata": {},
   "source": [
    "We need to convert the pattern to a configuration. Let's write the function. Again, we should break it down like before: how do we implement it by hand?"
   ]
  },
  {
   "cell_type": "code",
   "execution_count": null,
   "metadata": {
    "collapsed": true
   },
   "outputs": [],
   "source": [
    "# method:\n",
    "# - Find out the width and height of the pattern\n",
    "# - Iterate over all coordinates in the rectangle\n",
    "# - If at those coordinates, the pattern contains a '*', add it to the set"
   ]
  },
  {
   "cell_type": "markdown",
   "metadata": {},
   "source": [
    "Now, how do we find out the width and height of the pattern?"
   ]
  },
  {
   "cell_type": "code",
   "execution_count": null,
   "metadata": {
    "collapsed": true
   },
   "outputs": [],
   "source": [
    "# \"convert\" function:\n",
    "# in:  a string describing a game of life pattern (each line is a row)\n",
    "# out: the configuration, with (0,0) being the top left of the pattern\n",
    "# method:\n",
    "# - Break the pattern into a list of its constituent lines. Drop empty lines.\n",
    "# - The length of this list is the height of the pattern.\n",
    "# - The length of the string at index 0 is the width of the pattern\n",
    "# - (we could verify that all rows have the same length if we wanted to)\n",
    "# - (let's add this as a requirement to the specification for now)\n",
    "# - Iterate over all coordinates in the rectangle\n",
    "# - If at those coordinates, the pattern contains a '*', add it to the set\n",
    "\n",
    "def convert(grid):\n",
    "    lines = [ line for line in grid.split(\"\\n\") if len(line)>0 ] \n",
    "    (width, height) = (len(lines[0]), len(lines))\n",
    "    return { (x,y) for x in range(width) for y in range(height) if lines[y][x]=='*' }\n",
    "\n",
    "convert(GLIDERGUN_PATTERN)"
   ]
  },
  {
   "cell_type": "markdown",
   "metadata": {},
   "source": [
    "Okay! So how will we check that this function actually works?"
   ]
  },
  {
   "cell_type": "code",
   "execution_count": 30,
   "metadata": {
    "collapsed": true
   },
   "outputs": [],
   "source": [
    "GLIDER_PATTERN = \"\"\"\n",
    ".*.\n",
    "..*\n",
    "***\n",
    "\"\"\"\n",
    "\n",
    "def test_glider():\n",
    "    glider_config = convert(GLIDER_PATTERN)\n",
    "    if glider_config == GLIDER:\n",
    "        print(\"Test succeeded! Yessss!\")\n",
    "    else:\n",
    "        print(\"Test failed :-( I got\", glider_config, \", while it should be\", GLIDER)"
   ]
  },
  {
   "cell_type": "code",
   "execution_count": 31,
   "metadata": {},
   "outputs": [
    {
     "ename": "NameError",
     "evalue": "name 'convert' is not defined",
     "output_type": "error",
     "traceback": [
      "\u001b[0;31m---------------------------------------------------------------------------\u001b[0m",
      "\u001b[0;31mNameError\u001b[0m                                 Traceback (most recent call last)",
      "\u001b[0;32m<ipython-input-31-1599aab2b0c9>\u001b[0m in \u001b[0;36m<module>\u001b[0;34m()\u001b[0m\n\u001b[0;32m----> 1\u001b[0;31m \u001b[0mALIVE\u001b[0m \u001b[0;34m=\u001b[0m \u001b[0mconvert\u001b[0m\u001b[0;34m(\u001b[0m\u001b[0mGLIDERGUN_PATTERN\u001b[0m\u001b[0;34m)\u001b[0m\u001b[0;34m\u001b[0m\u001b[0m\n\u001b[0m\u001b[1;32m      2\u001b[0m \u001b[0mstart_animation\u001b[0m\u001b[0;34m(\u001b[0m\u001b[0;34m)\u001b[0m\u001b[0;34m\u001b[0m\u001b[0m\n",
      "\u001b[0;31mNameError\u001b[0m: name 'convert' is not defined"
     ]
    }
   ],
   "source": [
    "ALIVE = convert(GLIDERGUN_PATTERN)\n",
    "start_animation()"
   ]
  },
  {
   "cell_type": "code",
   "execution_count": 27,
   "metadata": {},
   "outputs": [
    {
     "ename": "NameError",
     "evalue": "name 'convert' is not defined",
     "output_type": "error",
     "traceback": [
      "\u001b[0;31m---------------------------------------------------------------------------\u001b[0m",
      "\u001b[0;31mNameError\u001b[0m                                 Traceback (most recent call last)",
      "\u001b[0;32m<ipython-input-27-c307c839af60>\u001b[0m in \u001b[0;36m<module>\u001b[0;34m()\u001b[0m\n\u001b[1;32m      5\u001b[0m \"\"\"\n\u001b[1;32m      6\u001b[0m \u001b[0;34m\u001b[0m\u001b[0m\n\u001b[0;32m----> 7\u001b[0;31m \u001b[0mALIVE\u001b[0m \u001b[0;34m=\u001b[0m \u001b[0mconvert\u001b[0m\u001b[0;34m(\u001b[0m\u001b[0mOSCILLATOR_PATTERN\u001b[0m\u001b[0;34m)\u001b[0m\u001b[0;34m\u001b[0m\u001b[0m\n\u001b[0m\u001b[1;32m      8\u001b[0m \u001b[0mstart_animation\u001b[0m\u001b[0;34m(\u001b[0m\u001b[0;34m)\u001b[0m\u001b[0;34m\u001b[0m\u001b[0m\n",
      "\u001b[0;31mNameError\u001b[0m: name 'convert' is not defined"
     ]
    }
   ],
   "source": [
    "OSCILLATOR_PATTERN = \"\"\"\n",
    "..*....*..\n",
    "**.****.**\n",
    "..*....*..\n",
    "\"\"\"\n",
    "\n",
    "ALIVE = convert(OSCILLATOR_PATTERN)\n",
    "start_animation()"
   ]
  },
  {
   "cell_type": "code",
   "execution_count": 28,
   "metadata": {},
   "outputs": [
    {
     "ename": "NameError",
     "evalue": "name 'convert' is not defined",
     "output_type": "error",
     "traceback": [
      "\u001b[0;31m---------------------------------------------------------------------------\u001b[0m",
      "\u001b[0;31mNameError\u001b[0m                                 Traceback (most recent call last)",
      "\u001b[0;32m<ipython-input-28-cb8bfc2b0f18>\u001b[0m in \u001b[0;36m<module>\u001b[0;34m()\u001b[0m\n\u001b[1;32m      6\u001b[0m \"\"\"\n\u001b[1;32m      7\u001b[0m \u001b[0;34m\u001b[0m\u001b[0m\n\u001b[0;32m----> 8\u001b[0;31m \u001b[0mALIVE\u001b[0m \u001b[0;34m=\u001b[0m \u001b[0mconvert\u001b[0m\u001b[0;34m(\u001b[0m\u001b[0mSPACESHIP_PATTERN\u001b[0m\u001b[0;34m)\u001b[0m\u001b[0;34m\u001b[0m\u001b[0m\n\u001b[0m\u001b[1;32m      9\u001b[0m \u001b[0mstart_animation\u001b[0m\u001b[0;34m(\u001b[0m\u001b[0;34m)\u001b[0m\u001b[0;34m\u001b[0m\u001b[0m\n",
      "\u001b[0;31mNameError\u001b[0m: name 'convert' is not defined"
     ]
    }
   ],
   "source": [
    "SPACESHIP_PATTERN = \"\"\"\n",
    "...*.\n",
    "....*\n",
    "*...*\n",
    ".****\n",
    "\"\"\"\n",
    "\n",
    "ALIVE = convert(SPACESHIP_PATTERN)\n",
    "start_animation()"
   ]
  },
  {
   "cell_type": "code",
   "execution_count": 29,
   "metadata": {},
   "outputs": [
    {
     "ename": "NameError",
     "evalue": "name 'start_animation' is not defined",
     "output_type": "error",
     "traceback": [
      "\u001b[0;31m---------------------------------------------------------------------------\u001b[0m",
      "\u001b[0;31mNameError\u001b[0m                                 Traceback (most recent call last)",
      "\u001b[0;32m<ipython-input-29-e4e5267b9be6>\u001b[0m in \u001b[0;36m<module>\u001b[0;34m()\u001b[0m\n\u001b[1;32m      4\u001b[0m     \u001b[0mALIVE\u001b[0m\u001b[0;34m.\u001b[0m\u001b[0madd\u001b[0m\u001b[0;34m(\u001b[0m\u001b[0;34m(\u001b[0m\u001b[0mrandom\u001b[0m\u001b[0;34m.\u001b[0m\u001b[0mrandrange\u001b[0m\u001b[0;34m(\u001b[0m\u001b[0;34m-\u001b[0m\u001b[0;36m50\u001b[0m\u001b[0;34m,\u001b[0m\u001b[0;36m50\u001b[0m\u001b[0;34m)\u001b[0m\u001b[0;34m,\u001b[0m \u001b[0mrandom\u001b[0m\u001b[0;34m.\u001b[0m\u001b[0mrandrange\u001b[0m\u001b[0;34m(\u001b[0m\u001b[0;34m-\u001b[0m\u001b[0;36m50\u001b[0m\u001b[0;34m,\u001b[0m\u001b[0;36m50\u001b[0m\u001b[0;34m)\u001b[0m\u001b[0;34m)\u001b[0m\u001b[0;34m)\u001b[0m\u001b[0;34m\u001b[0m\u001b[0m\n\u001b[1;32m      5\u001b[0m \u001b[0;34m\u001b[0m\u001b[0m\n\u001b[0;32m----> 6\u001b[0;31m \u001b[0mstart_animation\u001b[0m\u001b[0;34m(\u001b[0m\u001b[0;34m)\u001b[0m\u001b[0;34m\u001b[0m\u001b[0m\n\u001b[0m",
      "\u001b[0;31mNameError\u001b[0m: name 'start_animation' is not defined"
     ]
    }
   ],
   "source": [
    "import random\n",
    "ALIVE = set()\n",
    "for i in range(1000):\n",
    "    ALIVE.add((random.randrange(-50,50), random.randrange(-50,50)))\n",
    "\n",
    "start_animation()"
   ]
  },
  {
   "cell_type": "code",
   "execution_count": null,
   "metadata": {
    "collapsed": true
   },
   "outputs": [],
   "source": []
  },
  {
   "cell_type": "code",
   "execution_count": null,
   "metadata": {
    "collapsed": true
   },
   "outputs": [],
   "source": []
  },
  {
   "cell_type": "code",
   "execution_count": null,
   "metadata": {
    "collapsed": true
   },
   "outputs": [],
   "source": []
  }
 ],
 "metadata": {
  "kernelspec": {
   "display_name": "Python [default]",
   "language": "python",
   "name": "python3"
  },
  "language_info": {
   "codemirror_mode": {
    "name": "ipython",
    "version": 3
   },
   "file_extension": ".py",
   "mimetype": "text/x-python",
   "name": "python",
   "nbconvert_exporter": "python",
   "pygments_lexer": "ipython3",
   "version": "3.5.3"
  }
 },
 "nbformat": 4,
 "nbformat_minor": 1
}
