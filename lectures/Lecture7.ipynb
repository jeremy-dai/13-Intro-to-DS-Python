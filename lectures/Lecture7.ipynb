{
 "cells": [
  {
   "cell_type": "markdown",
   "metadata": {},
   "source": [
    "# Pandas\n",
    "\n",
    "This last lecture borrows from [Julia Evans's](http://jvns.ca/) [Pandas cookbook](https://github.com/jvns/pandas-cookbook), a tutorial to introduce people to lots of Pandas's features."
   ]
  },
  {
   "cell_type": "markdown",
   "metadata": {},
   "source": [
    "# `DataFrame` and `Series`\n",
    "\n",
    "The key value types offered by Pandas are the `Series` and the `DataFrame`.\n",
    "\n",
    "- A `DataFrame` is a similar to a dataframe in R; it represents a data table with labeled rows and columns, where the data type is the same in each column, but may differ between columns. A `DataFrame` is mutable, and of variable length in the sense that columns can be added and removed efficiently. The columns are formed by `Series` objects, each of the same length.\n",
    "\n",
    "- A `Series` represents a single data column with row labels; it is a mutable value of fixed length, and unlike Python lists but like NumPy objects, it is *homogeneous*.\n",
    "\n",
    "While both objects are mutable, wherever possible without too much loss of efficiency, operations leave the original object untouched. When unsure, you will need to check in the manual exactly which operations create *views* on the data without copying it, and which operations actually copy the data."
   ]
  },
  {
   "cell_type": "code",
   "execution_count": 1,
   "metadata": {},
   "outputs": [],
   "source": [
    "import pandas as pd\n",
    "import matplotlib.pyplot as plt\n",
    "import numpy as np\n",
    "\n",
    "%matplotlib inline"
   ]
  },
  {
   "cell_type": "code",
   "execution_count": 2,
   "metadata": {},
   "outputs": [
    {
     "data": {
      "text/plain": [
       "a        3\n",
       "bunch    6\n",
       "of       2\n",
       "rows     8\n",
       "dtype: int64"
      ]
     },
     "execution_count": 2,
     "metadata": {},
     "output_type": "execute_result"
    }
   ],
   "source": [
    "se = pd.Series([3,6,2,8],index=['a','bunch','of','rows'])\n",
    "se"
   ]
  },
  {
   "cell_type": "code",
   "execution_count": 5,
   "metadata": {},
   "outputs": [
    {
     "data": {
      "text/plain": [
       "<matplotlib.axes._subplots.AxesSubplot at 0x11b8ae950>"
      ]
     },
     "execution_count": 5,
     "metadata": {},
     "output_type": "execute_result"
    },
    {
     "data": {
      "image/png": "[encoded data removed]",
      "text/plain": [
       "<Figure size 432x288 with 1 Axes>"
      ]
     },
     "metadata": {
      "needs_background": "light"
     },
     "output_type": "display_data"
    }
   ],
   "source": [
    "se.plot(xticks=range(4))"
   ]
  },
  {
   "cell_type": "code",
   "execution_count": 6,
   "metadata": {},
   "outputs": [
    {
     "data": {
      "text/html": [
       "<div>\n",
       "<style scoped>\n",
       "    .dataframe tbody tr th:only-of-type {\n",
       "        vertical-align: middle;\n",
       "    }\n",
       "\n",
       "    .dataframe tbody tr th {\n",
       "        vertical-align: top;\n",
       "    }\n",
       "\n",
       "    .dataframe thead th {\n",
       "        text-align: right;\n",
       "    }\n",
       "</style>\n",
       "<table border=\"1\" class=\"dataframe\">\n",
       "  <thead>\n",
       "    <tr style=\"text-align: right;\">\n",
       "      <th></th>\n",
       "      <th>A</th>\n",
       "      <th>B</th>\n",
       "      <th>C</th>\n",
       "    </tr>\n",
       "  </thead>\n",
       "  <tbody>\n",
       "    <tr>\n",
       "      <td>2000-01-01</td>\n",
       "      <td>-1.412829</td>\n",
       "      <td>-2.173763</td>\n",
       "      <td>-0.918745</td>\n",
       "    </tr>\n",
       "    <tr>\n",
       "      <td>2000-01-02</td>\n",
       "      <td>-0.396833</td>\n",
       "      <td>-0.407808</td>\n",
       "      <td>-0.261408</td>\n",
       "    </tr>\n",
       "    <tr>\n",
       "      <td>2000-01-03</td>\n",
       "      <td>0.321106</td>\n",
       "      <td>0.926917</td>\n",
       "      <td>-0.560275</td>\n",
       "    </tr>\n",
       "    <tr>\n",
       "      <td>2000-01-04</td>\n",
       "      <td>-0.516287</td>\n",
       "      <td>0.097268</td>\n",
       "      <td>0.342532</td>\n",
       "    </tr>\n",
       "    <tr>\n",
       "      <td>2000-01-05</td>\n",
       "      <td>0.018481</td>\n",
       "      <td>-0.218418</td>\n",
       "      <td>0.051419</td>\n",
       "    </tr>\n",
       "  </tbody>\n",
       "</table>\n",
       "</div>"
      ],
      "text/plain": [
       "                   A         B         C\n",
       "2000-01-01 -1.412829 -2.173763 -0.918745\n",
       "2000-01-02 -0.396833 -0.407808 -0.261408\n",
       "2000-01-03  0.321106  0.926917 -0.560275\n",
       "2000-01-04 -0.516287  0.097268  0.342532\n",
       "2000-01-05  0.018481 -0.218418  0.051419"
      ]
     },
     "execution_count": 6,
     "metadata": {},
     "output_type": "execute_result"
    }
   ],
   "source": [
    "df = pd.DataFrame(np.random.randn(5, 3),\n",
    "                  index   = pd.date_range('1/1/2000', periods=5), \n",
    "                  columns = list(\"ABC\"))\n",
    "df"
   ]
  },
  {
   "cell_type": "code",
   "execution_count": 7,
   "metadata": {},
   "outputs": [
    {
     "data": {
      "text/plain": [
       "<matplotlib.axes._subplots.AxesSubplot at 0x11b9b7650>"
      ]
     },
     "execution_count": 7,
     "metadata": {},
     "output_type": "execute_result"
    },
    {
     "data": {
      "image/png": "[encoded data removed]",
      "text/plain": [
       "<Figure size 432x288 with 1 Axes>"
      ]
     },
     "metadata": {
      "needs_background": "light"
     },
     "output_type": "display_data"
    }
   ],
   "source": [
    "df.plot()"
   ]
  },
  {
   "cell_type": "code",
   "execution_count": 8,
   "metadata": {},
   "outputs": [
    {
     "data": {
      "text/plain": [
       "0     0\n",
       "1     1\n",
       "2     4\n",
       "3     9\n",
       "4    16\n",
       "5    25\n",
       "Name: squares, dtype: int64"
      ]
     },
     "execution_count": 8,
     "metadata": {},
     "output_type": "execute_result"
    }
   ],
   "source": [
    "s = pd.Series([0,1,4,9,16,25],name='squares')\n",
    "s"
   ]
  },
  {
   "cell_type": "markdown",
   "metadata": {},
   "source": [
    "The row labels are often left at their defaults of 0, 1, ..."
   ]
  },
  {
   "cell_type": "markdown",
   "metadata": {},
   "source": [
    "# Indexing\n",
    "\n",
    "Indexing is pretty complicated in Pandas! Here is a quick indexing cookbook.\n",
    "\n",
    "### Getting the column/row index object from a `DataFrame` \n",
    "\n",
    "Indexing in Pandas is handled by \"index objects\". There is one associated with the rows, which is present for both `Series` and `DataFrame`, and for the latter another index object is associated with the columns."
   ]
  },
  {
   "cell_type": "code",
   "execution_count": 9,
   "metadata": {},
   "outputs": [
    {
     "name": "stdout",
     "output_type": "stream",
     "text": [
      "Column index: Index(['A', 'B', 'C'], dtype='object')\n",
      "Row    index: DatetimeIndex(['2000-01-01', '2000-01-02', '2000-01-03', '2000-01-04',\n",
      "               '2000-01-05'],\n",
      "              dtype='datetime64[ns]', freq='D')\n"
     ]
    }
   ],
   "source": [
    "print(\"Column index:\", df.columns)\n",
    "print(\"Row    index:\", df.index)"
   ]
  },
  {
   "cell_type": "markdown",
   "metadata": {},
   "source": [
    "### Index a `DataFrame` with a column label to extract a series\n"
   ]
  },
  {
   "cell_type": "code",
   "execution_count": 10,
   "metadata": {},
   "outputs": [
    {
     "name": "stdout",
     "output_type": "stream",
     "text": [
      "Column ( A ): [-1.412829346169673, -0.3968325431011455, 0.3211055733224964, -0.5162869613182576, 0.01848091591918413]\n",
      "Column ( B ): [-2.173762539811726, -0.40780787739532737, 0.9269167009286136, 0.09726828754472683, -0.2184182777478859]\n",
      "Column ( C ): [-0.918744585859932, -0.26140848891355634, -0.5602750468801375, 0.34253206001206987, 0.05141944021190152]\n"
     ]
    }
   ],
   "source": [
    "for colname in df.columns:\n",
    "    print(\"Column (\",colname,\"):\", list(df[colname]))"
   ]
  },
  {
   "cell_type": "markdown",
   "metadata": {},
   "source": [
    "**Is it a view or a copy?**"
   ]
  },
  {
   "cell_type": "code",
   "execution_count": 11,
   "metadata": {},
   "outputs": [
    {
     "data": {
      "text/plain": [
       "2000-01-01      -1.412829\n",
       "2000-01-02      -0.396833\n",
       "2000-01-03    1000.000000\n",
       "2000-01-04      -0.516287\n",
       "2000-01-05       0.018481\n",
       "Freq: D, Name: A, dtype: float64"
      ]
     },
     "execution_count": 11,
     "metadata": {},
     "output_type": "execute_result"
    }
   ],
   "source": [
    "se = df['A']\n",
    "se[se.index[2]] = 1000\n",
    "se"
   ]
  },
  {
   "cell_type": "code",
   "execution_count": 12,
   "metadata": {},
   "outputs": [
    {
     "data": {
      "text/html": [
       "<div>\n",
       "<style scoped>\n",
       "    .dataframe tbody tr th:only-of-type {\n",
       "        vertical-align: middle;\n",
       "    }\n",
       "\n",
       "    .dataframe tbody tr th {\n",
       "        vertical-align: top;\n",
       "    }\n",
       "\n",
       "    .dataframe thead th {\n",
       "        text-align: right;\n",
       "    }\n",
       "</style>\n",
       "<table border=\"1\" class=\"dataframe\">\n",
       "  <thead>\n",
       "    <tr style=\"text-align: right;\">\n",
       "      <th></th>\n",
       "      <th>A</th>\n",
       "      <th>B</th>\n",
       "      <th>C</th>\n",
       "    </tr>\n",
       "  </thead>\n",
       "  <tbody>\n",
       "    <tr>\n",
       "      <td>2000-01-01</td>\n",
       "      <td>-1.412829</td>\n",
       "      <td>-2.173763</td>\n",
       "      <td>-0.918745</td>\n",
       "    </tr>\n",
       "    <tr>\n",
       "      <td>2000-01-02</td>\n",
       "      <td>-0.396833</td>\n",
       "      <td>-0.407808</td>\n",
       "      <td>-0.261408</td>\n",
       "    </tr>\n",
       "    <tr>\n",
       "      <td>2000-01-03</td>\n",
       "      <td>1000.000000</td>\n",
       "      <td>0.926917</td>\n",
       "      <td>-0.560275</td>\n",
       "    </tr>\n",
       "    <tr>\n",
       "      <td>2000-01-04</td>\n",
       "      <td>-0.516287</td>\n",
       "      <td>0.097268</td>\n",
       "      <td>0.342532</td>\n",
       "    </tr>\n",
       "    <tr>\n",
       "      <td>2000-01-05</td>\n",
       "      <td>0.018481</td>\n",
       "      <td>-0.218418</td>\n",
       "      <td>0.051419</td>\n",
       "    </tr>\n",
       "  </tbody>\n",
       "</table>\n",
       "</div>"
      ],
      "text/plain": [
       "                      A         B         C\n",
       "2000-01-01    -1.412829 -2.173763 -0.918745\n",
       "2000-01-02    -0.396833 -0.407808 -0.261408\n",
       "2000-01-03  1000.000000  0.926917 -0.560275\n",
       "2000-01-04    -0.516287  0.097268  0.342532\n",
       "2000-01-05     0.018481 -0.218418  0.051419"
      ]
     },
     "execution_count": 12,
     "metadata": {},
     "output_type": "execute_result"
    }
   ],
   "source": [
    "df"
   ]
  },
  {
   "cell_type": "markdown",
   "metadata": {},
   "source": [
    "Clearly, if we select a single column that means we obtain a *view* of the series contained in the original dataframe."
   ]
  },
  {
   "cell_type": "markdown",
   "metadata": {},
   "source": [
    "### Index a `DataFrame` with a list of column labels to extract another `DataFrame` with those columns\n"
   ]
  },
  {
   "cell_type": "code",
   "execution_count": 13,
   "metadata": {},
   "outputs": [
    {
     "data": {
      "text/html": [
       "<div>\n",
       "<style scoped>\n",
       "    .dataframe tbody tr th:only-of-type {\n",
       "        vertical-align: middle;\n",
       "    }\n",
       "\n",
       "    .dataframe tbody tr th {\n",
       "        vertical-align: top;\n",
       "    }\n",
       "\n",
       "    .dataframe thead th {\n",
       "        text-align: right;\n",
       "    }\n",
       "</style>\n",
       "<table border=\"1\" class=\"dataframe\">\n",
       "  <thead>\n",
       "    <tr style=\"text-align: right;\">\n",
       "      <th></th>\n",
       "      <th>A</th>\n",
       "      <th>C</th>\n",
       "    </tr>\n",
       "  </thead>\n",
       "  <tbody>\n",
       "    <tr>\n",
       "      <td>2000-01-01</td>\n",
       "      <td>-1.412829</td>\n",
       "      <td>-0.918745</td>\n",
       "    </tr>\n",
       "    <tr>\n",
       "      <td>2000-01-02</td>\n",
       "      <td>-0.396833</td>\n",
       "      <td>-0.261408</td>\n",
       "    </tr>\n",
       "    <tr>\n",
       "      <td>2000-01-03</td>\n",
       "      <td>1000.000000</td>\n",
       "      <td>-0.560275</td>\n",
       "    </tr>\n",
       "    <tr>\n",
       "      <td>2000-01-04</td>\n",
       "      <td>-0.516287</td>\n",
       "      <td>0.342532</td>\n",
       "    </tr>\n",
       "    <tr>\n",
       "      <td>2000-01-05</td>\n",
       "      <td>0.018481</td>\n",
       "      <td>0.051419</td>\n",
       "    </tr>\n",
       "  </tbody>\n",
       "</table>\n",
       "</div>"
      ],
      "text/plain": [
       "                      A         C\n",
       "2000-01-01    -1.412829 -0.918745\n",
       "2000-01-02    -0.396833 -0.261408\n",
       "2000-01-03  1000.000000 -0.560275\n",
       "2000-01-04    -0.516287  0.342532\n",
       "2000-01-05     0.018481  0.051419"
      ]
     },
     "execution_count": 13,
     "metadata": {},
     "output_type": "execute_result"
    }
   ],
   "source": [
    "df[['A','C']]"
   ]
  },
  {
   "cell_type": "markdown",
   "metadata": {},
   "source": [
    "**Is it a view or a copy?**"
   ]
  },
  {
   "cell_type": "markdown",
   "metadata": {},
   "source": [
    "If you select multiple columns, the result is a copy! It is pretty hard to keep track of when Pandas will make views or copies for you. You'll have to read the documentation and perform experiments to make sure, in cases where it matters."
   ]
  },
  {
   "cell_type": "markdown",
   "metadata": {},
   "source": [
    "### Index a `Series` with with an integer *or* a row label to get a scalar entry"
   ]
  },
  {
   "cell_type": "code",
   "execution_count": 14,
   "metadata": {},
   "outputs": [
    {
     "data": {
      "text/plain": [
       "2000-01-01      -1.412829\n",
       "2000-01-02      -0.396833\n",
       "2000-01-03    1000.000000\n",
       "2000-01-04      -0.516287\n",
       "2000-01-05       0.018481\n",
       "Freq: D, Name: A, dtype: float64"
      ]
     },
     "execution_count": 14,
     "metadata": {},
     "output_type": "execute_result"
    }
   ],
   "source": [
    "se"
   ]
  },
  {
   "cell_type": "code",
   "execution_count": 15,
   "metadata": {},
   "outputs": [
    {
     "data": {
      "text/plain": [
       "(-0.3968325431011455,\n",
       " Timestamp('2000-01-02 00:00:00', freq='D'),\n",
       " -0.3968325431011455)"
      ]
     },
     "execution_count": 15,
     "metadata": {},
     "output_type": "execute_result"
    }
   ],
   "source": [
    "dates = se.index\n",
    "se[1], dates[1], se[dates[1]]"
   ]
  },
  {
   "cell_type": "markdown",
   "metadata": {},
   "source": [
    "### Index a `Series` with a *list* of integers or row labels to get another `Series`"
   ]
  },
  {
   "cell_type": "code",
   "execution_count": 16,
   "metadata": {},
   "outputs": [
    {
     "data": {
      "text/plain": [
       "2000-01-02   -0.396833\n",
       "2000-01-04   -0.516287\n",
       "Name: A, dtype: float64"
      ]
     },
     "execution_count": 16,
     "metadata": {},
     "output_type": "execute_result"
    }
   ],
   "source": [
    "se[[1,3]]"
   ]
  },
  {
   "cell_type": "markdown",
   "metadata": {},
   "source": [
    "**Is it a view or a copy?**\n",
    "\n",
    "As for `DataFrame`, this yields not a view, but a new series whose elements are copied from the old one."
   ]
  },
  {
   "cell_type": "markdown",
   "metadata": {},
   "source": [
    "### More sophisticated indexing\n",
    "\n",
    "Pandas supports two constructions for indexing either rows, or subsets of rows and columns:\n",
    "\n",
    "```\n",
    "df.loc[<row label>]                : select the row with the given label\n",
    "df.loc[<row label>,<column label>] : select the given entry\n",
    "df.iloc[<row index>]               : select a row by numeric index\n",
    "df.iloc[<row index>,<column index>]: select the indexed entry\n",
    "```\n",
    "\n",
    "The names can be replaced by lists of names, or by slices (using `:`). Here are examples:"
   ]
  },
  {
   "cell_type": "code",
   "execution_count": null,
   "metadata": {},
   "outputs": [],
   "source": [
    "# get the second row by label\n",
    "df.loc[dates[1]]"
   ]
  },
  {
   "cell_type": "code",
   "execution_count": null,
   "metadata": {},
   "outputs": [],
   "source": [
    "# get the second row by index\n",
    "df.iloc[1]"
   ]
  },
  {
   "cell_type": "code",
   "execution_count": null,
   "metadata": {},
   "outputs": [],
   "source": [
    "# get the entry in row 2, column 2\n",
    "df.loc[dates[1], 'B']"
   ]
  },
  {
   "cell_type": "code",
   "execution_count": null,
   "metadata": {},
   "outputs": [],
   "source": [
    "# get the same entry by index\n",
    "df.iloc[1,1]"
   ]
  },
  {
   "cell_type": "markdown",
   "metadata": {},
   "source": [
    "As before, instead of single indices, you can use lists of indices or slices:"
   ]
  },
  {
   "cell_type": "code",
   "execution_count": null,
   "metadata": {},
   "outputs": [],
   "source": [
    "# get the second column via loc, by using a row slice:\n",
    "df.loc[:,'B']"
   ]
  },
  {
   "cell_type": "code",
   "execution_count": null,
   "metadata": {},
   "outputs": [],
   "source": [
    "# reorder columns\n",
    "df.loc[:,list(\"BAC\")]\n",
    "# same as: df[list(\"BAC\")]"
   ]
  },
  {
   "cell_type": "markdown",
   "metadata": {},
   "source": [
    "# Loading data files and `DataFrame`"
   ]
  },
  {
   "cell_type": "markdown",
   "metadata": {},
   "source": [
    "First, we'll import Pandas and make a convenient variable indicating where our data is saved."
   ]
  },
  {
   "cell_type": "markdown",
   "metadata": {},
   "source": [
    "Our data is in `csv` format, which is easily readable by Pandas. Let's try to read in the bike data now. It counts how many people made use of certain bike paths in Montreal."
   ]
  },
  {
   "cell_type": "code",
   "execution_count": null,
   "metadata": {},
   "outputs": [],
   "source": [
    "import os\n",
    "os.getcwd()"
   ]
  },
  {
   "cell_type": "code",
   "execution_count": null,
   "metadata": {},
   "outputs": [],
   "source": [
    "data=\"../../pandas-cookbook-master/data/\"\n",
    "\n",
    "bikes = pd.read_csv(data+\"bikes.csv\", encoding=\"latin1\")\n",
    "type(bikes)"
   ]
  },
  {
   "cell_type": "code",
   "execution_count": null,
   "metadata": {},
   "outputs": [],
   "source": [
    "bikes[:5]"
   ]
  },
  {
   "cell_type": "markdown",
   "metadata": {},
   "source": [
    "Note that all data has been read into a single column; this is because pandas uses commas as a separator by default, and this file uses semicolons. This can be fixed with one of the optional arguments."
   ]
  },
  {
   "cell_type": "code",
   "execution_count": null,
   "metadata": {},
   "outputs": [],
   "source": [
    "bikes = pd.read_csv(data+\"bikes.csv\", encoding=\"latin1\", sep=\";\")\n",
    "bikes[:5]"
   ]
  },
  {
   "cell_type": "markdown",
   "metadata": {},
   "source": [
    "### Dates\n",
    "\n",
    "Let's have a look at the column of dates in the bike data. What type are these dates?"
   ]
  },
  {
   "cell_type": "code",
   "execution_count": null,
   "metadata": {},
   "outputs": [],
   "source": [
    "bikes.loc[0, \"Date\"], type(bikes.loc[0, \"Date\"])"
   ]
  },
  {
   "cell_type": "markdown",
   "metadata": {},
   "source": [
    "Since dates have been interpreted as string values, Pandas cannot chart or plot them appropriately, and also they will be sorted lexicographically, which orders dates in `MM/DD/YYYY` format incorrectly. `read_csv` allows control over this too:\n",
    "\n",
    "- `parse_dates=[<date column names>]`: parse these columns as dates\n",
    "- `dayfirst=True`: interpret date as day before month\n",
    "\n",
    "Finally, for this data set it makes sense to use the dates as the row labels:\n",
    "\n",
    "- `index_col=<column name>`: use that column to specify row names"
   ]
  },
  {
   "cell_type": "code",
   "execution_count": null,
   "metadata": {},
   "outputs": [],
   "source": [
    "bikes = pd.read_csv(data+\"bikes.csv\", encoding=\"latin1\", sep=\";\",\n",
    "                    parse_dates=['Date'], dayfirst=True, index_col='Date')\n",
    "bikes[:5]"
   ]
  },
  {
   "cell_type": "code",
   "execution_count": 17,
   "metadata": {},
   "outputs": [
    {
     "data": {
      "text/plain": [
       "Timestamp('2012-03-01 00:00:00')"
      ]
     },
     "execution_count": 17,
     "metadata": {},
     "output_type": "execute_result"
    }
   ],
   "source": [
    "date_to_look_up = pd.to_datetime(\"01/03/2012\", dayfirst=True)\n",
    "date_to_look_up"
   ]
  },
  {
   "cell_type": "code",
   "execution_count": null,
   "metadata": {},
   "outputs": [],
   "source": [
    "bikes.loc[date_to_look_up]"
   ]
  },
  {
   "cell_type": "markdown",
   "metadata": {},
   "source": [
    "Finally, we note that two columns have missing values; we will drop these columns with the `drop` method:"
   ]
  },
  {
   "cell_type": "code",
   "execution_count": null,
   "metadata": {},
   "outputs": [],
   "source": [
    "bikes = bikes.drop([\"Brébeuf (données non disponibles)\",\n",
    "                    \"St-Urbain (données non disponibles)\"], axis=1)\n",
    "bikes[:5]"
   ]
  },
  {
   "cell_type": "markdown",
   "metadata": {},
   "source": [
    "### Plotting with Matplotlib integration"
   ]
  },
  {
   "cell_type": "markdown",
   "metadata": {},
   "source": [
    "The `DataFrame` and `Series` objects have a method `plot` that uses Matplotlib to generate graphs."
   ]
  },
  {
   "cell_type": "code",
   "execution_count": null,
   "metadata": {},
   "outputs": [],
   "source": [
    "bikes[\"Berri 1\"].plot(figsize=(12,5))"
   ]
  },
  {
   "cell_type": "markdown",
   "metadata": {},
   "source": [
    "Note that the dates are interpreted correctly when making the plot.\n",
    "\n",
    "When plotting a `DataFrame`, labels and line colours get added automatically."
   ]
  },
  {
   "cell_type": "code",
   "execution_count": null,
   "metadata": {},
   "outputs": [],
   "source": [
    "bikes.plot(figsize=(12,10))"
   ]
  },
  {
   "cell_type": "markdown",
   "metadata": {},
   "source": [
    "# Example 1: on what weekday do people bike the most\n",
    "\n",
    "Pandas dataframes support a multitude of methods and tools. We will show how to use them to answer the question of the bike path usage varied per weekday.\n",
    "\n",
    "Since we have converted the \"Date\" column to actual Pandas date objects, it should not be a surprise that we can easily ask for the weekdays associated with those dates. We will first add a column to the dataframe with those weekdays.\n",
    "\n",
    "Recall that the object that supports indexing rows can be accessed through `bikes.index`."
   ]
  },
  {
   "cell_type": "code",
   "execution_count": null,
   "metadata": {},
   "outputs": [],
   "source": [
    "bikes.index[:5]"
   ]
  },
  {
   "cell_type": "markdown",
   "metadata": {},
   "source": [
    "Every individual date object can tell us which day of the week it is referring to."
   ]
  },
  {
   "cell_type": "code",
   "execution_count": null,
   "metadata": {},
   "outputs": [],
   "source": [
    "bikes.index[0].weekday()"
   ]
  },
  {
   "cell_type": "markdown",
   "metadata": {},
   "source": [
    "The documentation informs us that 0=Monday. Now we see above that the index for `bikes` is in fact a `DatetimeIndex`, and conveniently it allows an easy way to work out the weekday for every element of the index at once:"
   ]
  },
  {
   "cell_type": "code",
   "execution_count": null,
   "metadata": {},
   "outputs": [],
   "source": [
    "bikes.index.weekday[:5]"
   ]
  },
  {
   "cell_type": "markdown",
   "metadata": {},
   "source": [
    "We will add this as a column to the data frame."
   ]
  },
  {
   "cell_type": "code",
   "execution_count": null,
   "metadata": {},
   "outputs": [],
   "source": [
    "bikes[\"weekday\"] = bikes.index.weekday\n",
    "bikes[:5]"
   ]
  },
  {
   "cell_type": "markdown",
   "metadata": {},
   "source": [
    "Now we wish to accumulate the number of bike trips on each bike path, per weekday. A convenient way to do so is to use the split-apply-combine model, also used in databases:\n",
    "\n",
    "- **split:** split the data into groups based on some criterion, in this case the weekday. This can be done with `groupby`.\n",
    "- **apply:** apply a function to each group to bring out the information of interest. In this case, we want to accumulate the total number of bike trips in each column.\n",
    "- **combine:** combine the results into a new dataframe for visualisation or further analysis.\n",
    "\n",
    "There are several ways to do each of these steps. In this case, we need to split into groups based on the value in the weekday column, which can be done with the `groupby` method."
   ]
  },
  {
   "cell_type": "code",
   "execution_count": null,
   "metadata": {},
   "outputs": [],
   "source": [
    "bikes_split = bikes.groupby(\"weekday\")\n",
    "bikes_split"
   ]
  },
  {
   "cell_type": "markdown",
   "metadata": {},
   "source": [
    "So the call to `groupby` results in an abstract object that contains the information about which row of the data frame belongs to which group. Now we need to accumulate the rows within each group. That can be done with the `aggregate` method. `aggregate` will apply a function to each column of a `DataFrame`."
   ]
  },
  {
   "cell_type": "code",
   "execution_count": null,
   "metadata": {},
   "outputs": [],
   "source": [
    "bikes_agg = bikes_split.aggregate(sum)\n",
    "bikes_agg"
   ]
  },
  {
   "cell_type": "markdown",
   "metadata": {},
   "source": [
    "You can see that the *group label* has now become the row index of the aggregated data. We wish to have more descriptive labels, so we replace the index:"
   ]
  },
  {
   "cell_type": "code",
   "execution_count": null,
   "metadata": {},
   "outputs": [],
   "source": [
    "bikes_agg.index = [\"Mon\", \"Tue\", \"Wed\", \"Thu\", \"Fri\", \"Sat\", \"Sun\"]\n",
    "bikes_agg"
   ]
  },
  {
   "cell_type": "code",
   "execution_count": null,
   "metadata": {},
   "outputs": [],
   "source": [
    "bikes_agg.plot(kind=\"bar\",figsize=(12,8),xticks=range(7))"
   ]
  },
  {
   "cell_type": "markdown",
   "metadata": {},
   "source": [
    "# Example 2: Canadian weather data\n",
    "\n",
    "We can download weather data for Montreal via the web form over here: [http://climate.weather.gc.ca/historical_data/search_historic_data_e.html](http://climate.weather.gc.ca/historical_data/search_historic_data_e.html).\n",
    "\n",
    "We first figure out how the parameters of the request are encoded in the URL. The template turns out to be:"
   ]
  },
  {
   "cell_type": "code",
   "execution_count": null,
   "metadata": {},
   "outputs": [],
   "source": [
    "url_template = \"http://climate.weather.gc.ca/climate_data/bulk_data_e.html?format=csv&stationID=51157&Year={year}&Month={month}&timeframe=1&submit=Download+Data\""
   ]
  },
  {
   "cell_type": "markdown",
   "metadata": {},
   "source": [
    "We can now use Pandas' `read_csv` method to grab data directly from this URL. We turn it into a function that correctly processes the headers and extracts the columns we are interested in."
   ]
  },
  {
   "cell_type": "code",
   "execution_count": null,
   "metadata": {},
   "outputs": [],
   "source": [
    "def download_weather_month(year, month):\n",
    "    url = url_template.format(year=year, month=month)\n",
    "    weather_data = pd.read_csv(url, skiprows=0, index_col='Date/Time', parse_dates=True)\n",
    "    selected_columns = weather_data.iloc[:,[4,5,6,7,8,12,20,26]]\n",
    "    return selected_columns\n",
    "\n",
    "# test:\n",
    "download_weather_month(2019, 4)[:5]"
   ]
  },
  {
   "cell_type": "markdown",
   "metadata": {},
   "source": [
    "We can now use this to easily download the weather data for the entire year. We make a list of `DataFrame` objects, one for each month, and then have Pandas concatenate them into a single `DataFrame`."
   ]
  },
  {
   "cell_type": "code",
   "execution_count": null,
   "metadata": {},
   "outputs": [],
   "source": [
    "weather_by_month = [download_weather_month(2018, i) for i in range(1, 13)]\n",
    "weather2 = pd.concat(weather_by_month)"
   ]
  },
  {
   "cell_type": "code",
   "execution_count": null,
   "metadata": {},
   "outputs": [],
   "source": [
    "weather = weather2"
   ]
  },
  {
   "cell_type": "markdown",
   "metadata": {},
   "source": [
    "Now that we have collected the data we are interested in, we can save it as a `csv` file so that we won't need to do the scraping later on."
   ]
  },
  {
   "cell_type": "code",
   "execution_count": null,
   "metadata": {},
   "outputs": [],
   "source": [
    "weather.to_csv(data+\"/weather_2018.csv\")"
   ]
  },
  {
   "cell_type": "markdown",
   "metadata": {},
   "source": [
    "Let's have a look at the temperature across the year:"
   ]
  },
  {
   "cell_type": "code",
   "execution_count": null,
   "metadata": {},
   "outputs": [],
   "source": [
    "weather.iloc[:,4].plot(figsize=(15,6))"
   ]
  },
  {
   "cell_type": "markdown",
   "metadata": {},
   "source": [
    "The last column of the data indicates the weather type. To determine which days it snowed, we will use Pandas string operations, like so:"
   ]
  },
  {
   "cell_type": "code",
   "execution_count": null,
   "metadata": {},
   "outputs": [],
   "source": [
    "is_snowing = weather['Weather'].dropna().str.contains(\"Snow\")\n",
    "is_snowing[:5]"
   ]
  },
  {
   "cell_type": "markdown",
   "metadata": {},
   "source": [
    "`is_snowing` will be a `Series` object with boolean values. We cannot plot it directly, but we can convert the booleans into floating point numbers and then plot that, to get an impression of when the snow fell."
   ]
  },
  {
   "cell_type": "code",
   "execution_count": null,
   "metadata": {},
   "outputs": [],
   "source": [
    "is_snowing.astype(float).plot(figsize=(15,6))"
   ]
  },
  {
   "cell_type": "markdown",
   "metadata": {},
   "source": [
    "The results seem plausible, but a bit noisy. Let's aggregate snowfall per month. This can be done using the `resample` method: we downsample the data into month sized bins, and then calculate the average of each bin, to arrive at a new series."
   ]
  },
  {
   "cell_type": "code",
   "execution_count": null,
   "metadata": {},
   "outputs": [],
   "source": [
    "snow_by_month = is_snowing.astype(float).resample('M').apply(np.mean)\n",
    "snow_by_month"
   ]
  },
  {
   "cell_type": "markdown",
   "metadata": {},
   "source": [
    "Let's plot the results in a bar chart displaying frequency of snowy days by month."
   ]
  },
  {
   "cell_type": "code",
   "execution_count": null,
   "metadata": {},
   "outputs": [],
   "source": [
    "snow_by_month.plot(kind='bar', figsize=(15,6))"
   ]
  },
  {
   "cell_type": "code",
   "execution_count": null,
   "metadata": {},
   "outputs": [],
   "source": []
  }
 ],
 "metadata": {
  "kernelspec": {
   "display_name": "Python 3",
   "language": "python",
   "name": "python3"
  },
  "language_info": {
   "codemirror_mode": {
    "name": "ipython",
    "version": 3
   },
   "file_extension": ".py",
   "mimetype": "text/x-python",
   "name": "python",
   "nbconvert_exporter": "python",
   "pygments_lexer": "ipython3",
   "version": "3.7.4"
  }
 },
 "nbformat": 4,
 "nbformat_minor": 1
}
