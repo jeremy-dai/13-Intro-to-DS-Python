{
 "cells": [
  {
   "cell_type": "markdown",
   "metadata": {},
   "source": [
    "# I/O, modules, NumPy, Matplotlib\n",
    "\n",
    "Today we'll first look at file I/O and the `with` keyword, which you've seen in passing but which I haven't talked about yet.\n",
    "\n",
    "And then, we will finally have a look at some of the powerful modules that extend Python and make it such a powerful tool for data science, namely NumPy and Matplotlib."
   ]
  },
  {
   "cell_type": "markdown",
   "metadata": {},
   "source": [
    "## File I/O and `with`\n",
    "\n",
    "Python offers built-in functions `open` and `close` that allow low level access to files, allowing you to read and write strings or binary data. The structure is as follows:\n",
    "\n",
    "- The call to `open` yields an object that is called a \"file handle\", that serves as an access point to file operations.\n",
    "- You can open a file in several different modes; see the table below.\n",
    "- Your program does what it wants to do with the file using its handle.\n",
    "- When you're done, you have to `close` the file handle to free up system resources and let the system know that the file is not in use.\n",
    "\n",
    "\n",
    "```\n",
    "handle = open(<filename>, <mode>)\n",
    "```\n",
    "\n",
    "Modes:\n",
    "\n",
    "| mode        | meaning                                |\n",
    "| ----------- | -------------------------------------- |\n",
    "| `r`/`w`/`+` | read/write/update (`r` can be omitted) |\n",
    "| `t`/`b`     | text/binary (`t` can be omitted)       |\n",
    "| `a`         | append                                 |\n",
    "| `x`         | check that file did not exist before   |\n",
    "\n",
    "Here is a demo:"
   ]
  },
  {
   "cell_type": "code",
   "execution_count": null,
   "metadata": {
    "collapsed": true
   },
   "outputs": [],
   "source": [
    "handle = open('dorian_gray.txt', 'r')\n",
    "data = handle.read() # get all data from the file as a string\n",
    "handle.close() # done with the file - why not close it immediately\n",
    "\n",
    "# do stuff with the data we read:\n",
    "words = data.split() # split the string into words\n",
    "len(words)"
   ]
  },
  {
   "cell_type": "markdown",
   "metadata": {},
   "source": [
    "We used the method `read` on the filehandle to read all the data in the file.\n",
    "\n",
    "It's also often convenient to read the file line by line. This can be done with the `readline` function. Readline returns one line of text from the file, *including* the newline character `'\\n'` at the end. If there are no more lines in the file, `readline` returns the empty string, so it can be used in a `while` loop."
   ]
  },
  {
   "cell_type": "markdown",
   "metadata": {},
   "source": [
    "The code above works fine, but there is one drawback: if an error should occur in your program *while the file is open*, then it might never get closed again. The `with` keyword is intended to make sure that you don't have to remember to close the file, and you also don't need to worry about errors. It looks like this:\n",
    "\n",
    "```\n",
    "with <contentmanager> as <variablename>:\n",
    "    # do stuff with variablename.\n",
    "```\n",
    "\n",
    "Remember classes and custom types from last week? A *content manager* is an object that supports a method `__enter__` that performs initialisation of the content, and provides it to the user, and a method `__exit__` that wraps up the content if necessary.\n",
    "\n",
    "- You will never have to worry about writing content managers.\n",
    "\n",
    "- But conveniently, **a file handle is a content manager**, and it's `__exit__` method will close the file for you.\n",
    "\n",
    "So, let's rewrite the code above using `with`:"
   ]
  },
  {
   "cell_type": "code",
   "execution_count": null,
   "metadata": {
    "collapsed": true
   },
   "outputs": [],
   "source": [
    "import os\n",
    "os.getcwd()"
   ]
  },
  {
   "cell_type": "code",
   "execution_count": null,
   "metadata": {
    "collapsed": true
   },
   "outputs": [],
   "source": [
    "# in : a file name referring to a text file\n",
    "# out: a list containing all the words in that file\n",
    "def readwords(filename):\n",
    "    with open(filename, 'r') as handle:\n",
    "        data = handle.read() # get all data from the file as a string\n",
    "    return data.split()\n",
    "\n",
    "# do stuff with the data we read:\n",
    "words = readwords('dorian_gray.txt')\n",
    "\n",
    "len(words)    "
   ]
  },
  {
   "cell_type": "markdown",
   "metadata": {
    "collapsed": true
   },
   "source": [
    "## Important topics not covered in this course:\n",
    "\n",
    "- Recursion: functions calling themselves\n",
    "- Lambda expressions with `lambda`\n",
    "- Rolling your own generators with `yield`\n",
    "- In-depth object oriented programming\n",
    "- More details about the Python type hierarchy\n",
    "- Error handling with `try`, `except`, `finally` and `raise`\n",
    "\n",
    "See the [Python tutorial](https://docs.python.org/3/tutorial/index.html) if you want to learn more about topics we are skipping in this class!"
   ]
  },
  {
   "cell_type": "markdown",
   "metadata": {},
   "source": [
    "## Modules and `import`\n",
    "\n",
    "A module is a Python program that is intended to be used to write other Python programs. There are many Python modules that we will talk about from this lecture onwards. A lot of those modules are part of the Python standard library:\n",
    "\n",
    "- **Math**: supports numerical constants and operations like `sin`, `log`, etc.\n",
    "- **Random**: a module for random number generation\n",
    "- **Pickle**: a module for saving Python objects to a file or transmitting them over the network.\n",
    "\n",
    "But there are also modules distributed by other parties, and some of these are very sophisticated:\n",
    "\n",
    "- **NumPy**: a module that supports efficient linear algebra and other numerical methods\n",
    "- **Matplotlib**: a module for making graphs and charts.\n",
    "- **Pandas**: a module for working with R-style data frames\n",
    "- **ScikitLearn**: a module that contains many machine learning algorithms\n",
    "\n",
    "Modules work a lot like class objects: you load a module by using\n",
    "\n",
    "```\n",
    "import <modulename>\n",
    "```\n",
    "\n",
    "and this makes available any number of functions and variables that can be accessed through the module name, with a dot, just like accessing variables within objects of a class.\n",
    "\n",
    "If `<modulename>` is very long and you don't want to have to type it in all the time, you can rename it using:\n",
    "\n",
    "```\n",
    "import <modulename> as <alias>\n",
    "```\n",
    "If this is still too much typing, you can use a slightly different syntax that allows you to import those variables or functions into the global namespace directly:\n",
    "\n",
    "```\n",
    "from <modulename> import <name>, <name>, ...\n",
    "```"
   ]
  },
  {
   "cell_type": "markdown",
   "metadata": {},
   "source": [
    "## `math` module"
   ]
  },
  {
   "cell_type": "code",
   "execution_count": 1,
   "metadata": {},
   "outputs": [
    {
     "data": {
      "text/plain": [
       "(3.141592653589793, 1.4142135623730951, 2.718281828459045, 3.141592653589793)"
      ]
     },
     "execution_count": 1,
     "metadata": {},
     "output_type": "execute_result"
    }
   ],
   "source": [
    "import math\n",
    "\n",
    "math.pi, math.sqrt(2), math.exp(1), math.atan2(0,-1)"
   ]
  },
  {
   "cell_type": "code",
   "execution_count": 2,
   "metadata": {},
   "outputs": [
    {
     "data": {
      "text/plain": [
       "(3.141592653589793, 1.4142135623730951, 2.718281828459045, 3.141592653589793)"
      ]
     },
     "execution_count": 2,
     "metadata": {},
     "output_type": "execute_result"
    }
   ],
   "source": [
    "from math import pi, sqrt, exp, atan2\n",
    "\n",
    "pi, sqrt(2), exp(1), atan2(0,-1)"
   ]
  },
  {
   "cell_type": "code",
   "execution_count": 3,
   "metadata": {},
   "outputs": [
    {
     "data": {
      "text/plain": [
       "-0.8390715290764524"
      ]
     },
     "execution_count": 3,
     "metadata": {},
     "output_type": "execute_result"
    }
   ],
   "source": [
    "# Better not to use this:\n",
    "from math import *\n",
    "\n",
    "cos(10)"
   ]
  },
  {
   "cell_type": "markdown",
   "metadata": {},
   "source": [
    "For more information about mathematical operations supported by the math module, look [over here](https://docs.python.org/3/library/math.html).\n",
    "\n"
   ]
  },
  {
   "cell_type": "markdown",
   "metadata": {},
   "source": [
    "## `random` module\n",
    "\n",
    "You've seen that there's also a module called `random`, [documented here](https://docs.python.org/3/library/random.html), that allows you to generate random numbers; more sophisticated random number generation and mathematical functions are included in NumPy though so we will skip them this time."
   ]
  },
  {
   "cell_type": "markdown",
   "metadata": {},
   "source": [
    "## `pickle` module\n",
    "\n",
    "With the `pickle` module you can load and save Python objects, or transmit them over the network to another computer. To use pickle, import the module and acquire a file handle with `with` as before. (Add the \"b\" specifier to open as a binary file rather than a text file.) Then call the appropriate pickle function, `dump` or `load`."
   ]
  },
  {
   "cell_type": "code",
   "execution_count": null,
   "metadata": {
    "collapsed": true
   },
   "outputs": [],
   "source": [
    "import pickle\n",
    "\n",
    "# first create a Python object that we will then try to save with pickle.\n",
    "\n",
    "def f(arg):\n",
    "    return(\"Hello world! My argument is\", arg)\n",
    "    \n",
    "with open(\"demo.pickle\", \"wb\") as fh:\n",
    "    print(\"Saving the function 'f'\")\n",
    "    pickle.dump(f, fh)\n",
    "    \n",
    "    print(\"Saving a string\")\n",
    "    pickle.dump(\"Rick!\", fh)\n",
    "    \n",
    "# now let's load these objects back into memory, and check that we did recover them.\n",
    "\n",
    "with open(\"demo.pickle\", \"rb\") as fh:\n",
    "    print(\"Loading first object.\")\n",
    "    f2 = pickle.load(fh)\n",
    "    print(\"Calling function:\", f2(\"here is an argument\"))\n",
    "    print(\"Loading string:\", pickle.load(fh))\n",
    "    "
   ]
  },
  {
   "cell_type": "markdown",
   "metadata": {},
   "source": [
    "You can also use pickle to send Python objects over the network."
   ]
  },
  {
   "cell_type": "markdown",
   "metadata": {},
   "source": [
    "# NumPy\n",
    "\n",
    "There is a module in the Python standard library called `array`, which allows construction of \"homogeneous\" arrays that have an efficient representation in memory. A homogeneous array contains values of only a single type. (Atomic vectors in R are also homogeneous.)\n",
    "\n",
    "The functionality of Python arrays is rather limited though if you want to do data analysis.\n",
    "\n",
    "Thanks to the good people in the open source community, we can switch to `NumPy`, which provides a more full featured alternative that supports many methods from linear algebra, with really fast implementations."
   ]
  },
  {
   "cell_type": "code",
   "execution_count": 4,
   "metadata": {
    "collapsed": true
   },
   "outputs": [],
   "source": [
    "import numpy as np"
   ]
  },
  {
   "cell_type": "markdown",
   "metadata": {},
   "source": [
    "### ndarray: construction\n",
    "The basic `NumPy` type is the `ndarray`. One way to construct it is from a Python list or tuple, or a list/tuple of list/tuples."
   ]
  },
  {
   "cell_type": "code",
   "execution_count": 5,
   "metadata": {},
   "outputs": [
    {
     "data": {
      "text/plain": [
       "array(['hello', '3'], dtype='<U5')"
      ]
     },
     "execution_count": 5,
     "metadata": {},
     "output_type": "execute_result"
    }
   ],
   "source": [
    "# Create a single dimensional array from a list or tuple.\n",
    "np.array([\"hello\", 3])"
   ]
  },
  {
   "cell_type": "markdown",
   "metadata": {},
   "source": [
    "Note that all arguments are converted to a single type, in this case <U5.\n",
    "Every `numpy` object has a `dtype`. It is usually inferred automatically, but you can also specify it explicitly."
   ]
  },
  {
   "cell_type": "code",
   "execution_count": 6,
   "metadata": {},
   "outputs": [
    {
     "data": {
      "text/plain": [
       "array([[1.+0.j, 2.+0.j],\n",
       "       [3.+0.j, 4.+0.j]])"
      ]
     },
     "execution_count": 6,
     "metadata": {},
     "output_type": "execute_result"
    }
   ],
   "source": [
    "np.array( [ [1,2], [3,4] ], dtype=complex )"
   ]
  },
  {
   "cell_type": "code",
   "execution_count": 7,
   "metadata": {},
   "outputs": [
    {
     "data": {
      "text/plain": [
       "array([[[ 1,  2],\n",
       "        [ 3,  4]],\n",
       "\n",
       "       [[ 5,  6],\n",
       "        [ 7,  8]],\n",
       "\n",
       "       [[ 9, 10],\n",
       "        [11, 12]]])"
      ]
     },
     "execution_count": 7,
     "metadata": {},
     "output_type": "execute_result"
    }
   ],
   "source": [
    "# Here is a three dimensional array:\n",
    "np.array( [[[1,2],[3,4]], [[5,6],[7,8]], [[9,10],[11,12]]] )"
   ]
  },
  {
   "cell_type": "markdown",
   "metadata": {},
   "source": [
    "You can also create arrays of a given size without immediately filling it with data from regular Python objects. The fastest way to construct an array is using `empty`, which does not initialise the entries at all: the values are defined what happens to be present in the computer memory at the time. So make sure to initialise it properly later before you use any of these values!"
   ]
  },
  {
   "cell_type": "code",
   "execution_count": 8,
   "metadata": {},
   "outputs": [
    {
     "data": {
      "text/plain": [
       "array([[ 1.28822975e-231,  2.00389758e+000,  2.17202149e-314],\n",
       "       [ 2.47032823e-323,  0.00000000e+000,  0.00000000e+000],\n",
       "       [ 0.00000000e+000,  3.03096139e-205,  0.00000000e+000],\n",
       "       [ 0.00000000e+000, -1.33567300e-233,  0.00000000e+000],\n",
       "       [ 0.00000000e+000, -6.58549466e+001,  0.00000000e+000],\n",
       "       [ 0.00000000e+000,  3.69412294e-205,  0.00000000e+000],\n",
       "       [ 0.00000000e+000, -1.36791218e+097,  0.00000000e+000],\n",
       "       [ 0.00000000e+000,  7.35379166e+142,  0.00000000e+000],\n",
       "       [ 0.00000000e+000, -5.74644095e-256,  0.00000000e+000],\n",
       "       [ 1.94693963e-308,  0.00000000e+000,  3.95252517e-323],\n",
       "       [ 2.17205299e-314,  2.47032823e-323,  0.00000000e+000],\n",
       "       [ 0.00000000e+000,  0.00000000e+000,  1.07958837e-249],\n",
       "       [ 0.00000000e+000,  0.00000000e+000,  1.27812179e+254],\n",
       "       [ 0.00000000e+000,  0.00000000e+000,  3.55251543e-276],\n",
       "       [ 0.00000000e+000,  0.00000000e+000, -2.81366582e+084]])"
      ]
     },
     "execution_count": 8,
     "metadata": {},
     "output_type": "execute_result"
    }
   ],
   "source": [
    "# warning! This may yield random junk!\n",
    "np.empty([15, 3])"
   ]
  },
  {
   "cell_type": "markdown",
   "metadata": {},
   "source": [
    "It is also often convenient to initialise `ndarray`s with zeros or ones."
   ]
  },
  {
   "cell_type": "code",
   "execution_count": 9,
   "metadata": {},
   "outputs": [
    {
     "data": {
      "text/plain": [
       "array([[0., 0., 0.],\n",
       "       [0., 0., 0.]])"
      ]
     },
     "execution_count": 9,
     "metadata": {},
     "output_type": "execute_result"
    }
   ],
   "source": [
    "np.zeros([2,3])"
   ]
  },
  {
   "cell_type": "markdown",
   "metadata": {},
   "source": [
    "Note that they are initialised by default to some floating point type: let's find out which it is:"
   ]
  },
  {
   "cell_type": "code",
   "execution_count": 10,
   "metadata": {},
   "outputs": [
    {
     "data": {
      "text/plain": [
       "dtype('float64')"
      ]
     },
     "execution_count": 10,
     "metadata": {},
     "output_type": "execute_result"
    }
   ],
   "source": [
    "np.zeros([2,3]).dtype"
   ]
  },
  {
   "cell_type": "markdown",
   "metadata": {},
   "source": [
    "But, as before you can explicitly specify a different data type:"
   ]
  },
  {
   "cell_type": "code",
   "execution_count": 11,
   "metadata": {},
   "outputs": [
    {
     "data": {
      "text/plain": [
       "array([[1, 1],\n",
       "       [1, 1],\n",
       "       [1, 1]], dtype=int32)"
      ]
     },
     "execution_count": 11,
     "metadata": {},
     "output_type": "execute_result"
    }
   ],
   "source": [
    "np.ones([3,2], dtype=np.int32)"
   ]
  },
  {
   "cell_type": "markdown",
   "metadata": {},
   "source": [
    "Finally, there is an analogue of the `range` function, called `arange`, that constructs single dimensional arrays, and a related method called `linspace` in which you provide the number of steps rather than the stepsize."
   ]
  },
  {
   "cell_type": "code",
   "execution_count": 12,
   "metadata": {},
   "outputs": [
    {
     "data": {
      "text/plain": [
       "array([0, 3, 6, 9])"
      ]
     },
     "execution_count": 12,
     "metadata": {},
     "output_type": "execute_result"
    }
   ],
   "source": [
    "# go from 0 to 10 (excluding 10 itself) in steps of 3\n",
    "np.arange(0,10,3)"
   ]
  },
  {
   "cell_type": "code",
   "execution_count": 13,
   "metadata": {},
   "outputs": [
    {
     "data": {
      "text/plain": [
       "array([ 0.,  5., 10.])"
      ]
     },
     "execution_count": 13,
     "metadata": {},
     "output_type": "execute_result"
    }
   ],
   "source": [
    "# go from 0 to 10 in 3 steps\n",
    "np.linspace(0,10,3)"
   ]
  },
  {
   "cell_type": "markdown",
   "metadata": {},
   "source": [
    "### Properties of ndarrays\n",
    "\n",
    "We've seen that ndarrays have a specific data type. In fact, they have several other properties as well:"
   ]
  },
  {
   "cell_type": "code",
   "execution_count": 14,
   "metadata": {},
   "outputs": [
    {
     "name": "stdout",
     "output_type": "stream",
     "text": [
      "[[1 7 3]\n",
      " [4 4 2]]\n",
      "ndim    : 2\n",
      "shape   : (2, 3)\n",
      "size    : 6\n",
      "dtype   : int64\n",
      "itemsize: 8\n",
      "data    : <memory at 0x10efe4dc8>\n"
     ]
    }
   ],
   "source": [
    "a = np.array([(1,7,3),(4,4,2)])\n",
    "print(a)\n",
    "print(\"ndim    :\", a.ndim)     # number of dimensions\n",
    "print(\"shape   :\", a.shape)    # the size in each dimension, like \"dim\" in R\n",
    "print(\"size    :\", a.size)     # the total number of entries\n",
    "print(\"dtype   :\", a.dtype)    # the data type of the entry\n",
    "print(\"itemsize:\", a.itemsize) # number of bytes used per entry\n",
    "print(\"data    :\", a.data)     # the raw data (don't use directly)"
   ]
  },
  {
   "cell_type": "markdown",
   "metadata": {},
   "source": [
    "### Reshaping, joining and splitting arrays"
   ]
  },
  {
   "cell_type": "markdown",
   "metadata": {},
   "source": [
    "Like in R, changing the `shape` field changes the interpretation of the data in the matrix:"
   ]
  },
  {
   "cell_type": "code",
   "execution_count": 15,
   "metadata": {},
   "outputs": [
    {
     "name": "stdout",
     "output_type": "stream",
     "text": [
      "Normal a:\n",
      " [[1 7 3]\n",
      " [4 4 2]]\n",
      "Shape changed:\n",
      " [[1 7]\n",
      " [3 4]\n",
      " [4 2]]\n"
     ]
    }
   ],
   "source": [
    "print(\"Normal a:\\n\",a)\n",
    "a.shape = (3,2)\n",
    "print(\"Shape changed:\\n\", a)\n",
    "a.shape = (2,3)"
   ]
  },
  {
   "cell_type": "markdown",
   "metadata": {},
   "source": [
    "This triggers my curiosity. Recall that `ndarray` objects have an `ndim` property. What happens to `ndim` if I set the shape to reflect a different number of dimensions?"
   ]
  },
  {
   "cell_type": "code",
   "execution_count": 16,
   "metadata": {},
   "outputs": [
    {
     "name": "stdout",
     "output_type": "stream",
     "text": [
      "Normal ndim: 2\n",
      "Shape changed. Array is now [1 7 3 4 4 2] ; ndim is now 1\n"
     ]
    }
   ],
   "source": [
    "oldshape = a.shape\n",
    "print(\"Normal ndim:\", a.ndim)\n",
    "a.shape = 6\n",
    "print(\"Shape changed. Array is now\", a, \"; ndim is now\", a.ndim)\n",
    "a.shape=oldshape"
   ]
  },
  {
   "cell_type": "code",
   "execution_count": 17,
   "metadata": {},
   "outputs": [
    {
     "data": {
      "text/plain": [
       "array([[1, 7, 3],\n",
       "       [4, 4, 2]])"
      ]
     },
     "execution_count": 17,
     "metadata": {},
     "output_type": "execute_result"
    }
   ],
   "source": [
    "a"
   ]
  },
  {
   "cell_type": "markdown",
   "metadata": {},
   "source": [
    "So changing the shape may have other consequences to the object as well! Apparently it's not just assignment to a field in the object: the default behaviour of the assignment operator has been changed by the library. That's good to know, because it means that we cannot inadvertently put the object in an inconsistent state.\n",
    "\n",
    "It's often more convenient to change the shape using the `reshape` method, because it does less confusing magic under the hood, and it leaves the original object `a` intact:"
   ]
  },
  {
   "cell_type": "code",
   "execution_count": 18,
   "metadata": {},
   "outputs": [
    {
     "name": "stdout",
     "output_type": "stream",
     "text": [
      "[[1 7]\n",
      " [3 4]\n",
      " [4 2]]\n",
      "Shape of b is (3, 2)\n",
      "Shape of a should not have changed: (2, 3)\n"
     ]
    }
   ],
   "source": [
    "b = a.reshape(3,2)\n",
    "print(b)\n",
    "print(\"Shape of b is\", b.shape)\n",
    "print(\"Shape of a should not have changed:\", a.shape)"
   ]
  },
  {
   "cell_type": "markdown",
   "metadata": {},
   "source": [
    "Note that `reshape` only creates a new \"view\" of *the same* underlying data. So the `data` field of `b` and `a` is the same! More about views later."
   ]
  },
  {
   "cell_type": "code",
   "execution_count": 19,
   "metadata": {},
   "outputs": [
    {
     "name": "stdout",
     "output_type": "stream",
     "text": [
      "1\n",
      "1\n",
      "[[123   7   3]\n",
      " [  4   4   2]]\n"
     ]
    }
   ],
   "source": [
    "print(a[0,0])\n",
    "print(b[0,0])\n",
    "b[0,0] = 123\n",
    "print(a)"
   ]
  },
  {
   "cell_type": "markdown",
   "metadata": {},
   "source": [
    "In R, one can concatenate matrices using `rbind` and `cbind`; in Python the same can be achieved using `vstack` and `hstack`:"
   ]
  },
  {
   "cell_type": "code",
   "execution_count": 20,
   "metadata": {},
   "outputs": [
    {
     "name": "stdout",
     "output_type": "stream",
     "text": [
      "[[123   7   3]\n",
      " [  4   4   2]\n",
      " [123   7   3]\n",
      " [  4   4   2]\n",
      " [123   7   3]\n",
      " [  4   4   2]]\n"
     ]
    }
   ],
   "source": [
    "qw = np.vstack((a,a,a))\n",
    "a[0,0]=-23058234\n",
    "print(qw)"
   ]
  },
  {
   "cell_type": "markdown",
   "metadata": {},
   "source": [
    "To split an array, there are `hsplit` and `vsplit`:"
   ]
  },
  {
   "cell_type": "code",
   "execution_count": 21,
   "metadata": {},
   "outputs": [
    {
     "name": "stdout",
     "output_type": "stream",
     "text": [
      "[[-23058234         7         3]\n",
      " [        4         4         2]]\n"
     ]
    },
    {
     "data": {
      "text/plain": [
       "[array([[-23058234],\n",
       "        [        4]]), array([[7],\n",
       "        [4]]), array([[3],\n",
       "        [2]])]"
      ]
     },
     "execution_count": 21,
     "metadata": {},
     "output_type": "execute_result"
    }
   ],
   "source": [
    "print(a)\n",
    "np.hsplit(a,3) # split into 3 chunks"
   ]
  },
  {
   "cell_type": "markdown",
   "metadata": {},
   "source": [
    "### Indexing and iterating\n",
    "\n",
    "You can index an ndarray the same way you can index a list; if the ndarray is multidimensional you specify the ranges for each dimension in turn, separated by commas:"
   ]
  },
  {
   "cell_type": "code",
   "execution_count": 22,
   "metadata": {},
   "outputs": [
    {
     "data": {
      "text/plain": [
       "array([[7, 3],\n",
       "       [4, 2]])"
      ]
     },
     "execution_count": 22,
     "metadata": {},
     "output_type": "execute_result"
    }
   ],
   "source": [
    "a[:,1:]"
   ]
  },
  {
   "cell_type": "markdown",
   "metadata": {},
   "source": [
    "An `ndarray` is `Iterable`, so can be used in a `for`-loop; it will iterate over the first dimension (the rows):"
   ]
  },
  {
   "cell_type": "code",
   "execution_count": 24,
   "metadata": {},
   "outputs": [
    {
     "data": {
      "text/plain": [
       "array([[-23058234,         7,         3],\n",
       "       [        4,         4,         2]])"
      ]
     },
     "execution_count": 24,
     "metadata": {},
     "output_type": "execute_result"
    }
   ],
   "source": [
    "a"
   ]
  },
  {
   "cell_type": "code",
   "execution_count": 23,
   "metadata": {},
   "outputs": [
    {
     "name": "stdout",
     "output_type": "stream",
     "text": [
      "Here is a row: [-23058234         7         3]\n",
      "Here is a row: [4 4 2]\n"
     ]
    }
   ],
   "source": [
    "for row in a:\n",
    "    print(\"Here is a row:\", row)"
   ]
  },
  {
   "cell_type": "markdown",
   "metadata": {},
   "source": [
    "If you want to iterate over all items in the array, the `flat` field contains an iterator over all entries:"
   ]
  },
  {
   "cell_type": "code",
   "execution_count": 25,
   "metadata": {},
   "outputs": [
    {
     "name": "stdout",
     "output_type": "stream",
     "text": [
      "Entry:  -23058234\n",
      "Entry:  7\n",
      "Entry:  3\n",
      "Entry:  4\n",
      "Entry:  4\n",
      "Entry:  2\n"
     ]
    }
   ],
   "source": [
    "for entry in a.flat:\n",
    "    print(\"Entry: \", entry)"
   ]
  },
  {
   "cell_type": "markdown",
   "metadata": {},
   "source": [
    "To loop over the columns of the matrix, use the transpose of the matrix, which is available as the `T` field:"
   ]
  },
  {
   "cell_type": "code",
   "execution_count": 26,
   "metadata": {},
   "outputs": [
    {
     "name": "stdout",
     "output_type": "stream",
     "text": [
      "Here is a column:  [-23058234         4]\n",
      "Here is a column:  [7 4]\n",
      "Here is a column:  [3 2]\n"
     ]
    }
   ],
   "source": [
    "for col in a.T:\n",
    "    print(\"Here is a column: \", col)"
   ]
  },
  {
   "cell_type": "markdown",
   "metadata": {},
   "source": [
    "### Functions and operators that operate on each array entry\n",
    "\n",
    "Like in R, regular mathematical operators are applied to each entry individually:"
   ]
  },
  {
   "cell_type": "code",
   "execution_count": 27,
   "metadata": {},
   "outputs": [
    {
     "name": "stdout",
     "output_type": "stream",
     "text": [
      "a:\n",
      " [[1 7 3]\n",
      " [4 4 2]] \n",
      "b:\n",
      " [[0 1 2]\n",
      " [3 4 5]]\n",
      "a+b:\n",
      " [[1 8 5]\n",
      " [7 8 7]]\n",
      "a+1:\n",
      " [[2 8 4]\n",
      " [5 5 3]]\n",
      "a*b:\n",
      " [[ 0  7  6]\n",
      " [12 16 10]]\n",
      "a*3:\n",
      " [[ 3 21  9]\n",
      " [12 12  6]]\n"
     ]
    }
   ],
   "source": [
    "a[0,0]=1\n",
    "b = np.arange(a.size).reshape(a.shape)\n",
    "print(\"a:\\n\", a, \"\\nb:\\n\", b)\n",
    "print(\"a+b:\\n\", a+b)\n",
    "print(\"a+1:\\n\", a+1)\n",
    "print(\"a*b:\\n\", a*b)\n",
    "print(\"a*3:\\n\", a*3)"
   ]
  },
  {
   "cell_type": "markdown",
   "metadata": {},
   "source": [
    "There are also lots of useful functions that work on each entry individually. (These are called \"universal functions\") Here are a bunch of examples:"
   ]
  },
  {
   "cell_type": "code",
   "execution_count": 30,
   "metadata": {
    "scrolled": true
   },
   "outputs": [
    {
     "name": "stdout",
     "output_type": "stream",
     "text": [
      "b = [7 5 3 1]\n",
      "np.exp(b)=  [1096.63315843  148.4131591    20.08553692    2.71828183]\n",
      "np.exp2(b)= [128.  32.   8.   2.]\n",
      "np.log(b)=  [1.94591015 1.60943791 1.09861229 0.        ]\n",
      "np.log2(b)= [2.80735492 2.32192809 1.5849625  0.        ]\n",
      "np.sin(b)=  [ 0.6569866  -0.95892427  0.14112001  0.84147098]\n",
      "np.sqrt(b)= [2.64575131 2.23606798 1.73205081 1.        ]\n"
     ]
    }
   ],
   "source": [
    "b = np.arange(7,0,-2) # like range(), but for arrays\n",
    "print(\"b =\", b)\n",
    "\n",
    "print(\"np.exp(b)= \", np.exp(b))\n",
    "print(\"np.exp2(b)=\", np.exp2(b))\n",
    "print(\"np.log(b)= \", np.log(b))\n",
    "print(\"np.log2(b)=\", np.log2(b))\n",
    "print(\"np.sin(b)= \", np.sin(b))\n",
    "print(\"np.sqrt(b)=\", np.sqrt(b))"
   ]
  },
  {
   "cell_type": "markdown",
   "metadata": {},
   "source": [
    "### Functions that operate on matrices or vectors as a whole"
   ]
  },
  {
   "cell_type": "code",
   "execution_count": 31,
   "metadata": {},
   "outputs": [
    {
     "name": "stdout",
     "output_type": "stream",
     "text": [
      "b = [7 5 3 1]\n",
      "sum(b)=    16\n",
      "min(b)=    1\n",
      "max(b)=    7\n",
      "median(b)= 4.0\n",
      "mean(b)=   4.0\n",
      "var(b)=    5.0\n",
      "sort(b)=   [1 3 5 7]\n"
     ]
    }
   ],
   "source": [
    "print(\"b =\",b)\n",
    "print(\"sum(b)=   \", np.sum(b))\n",
    "print(\"min(b)=   \", np.min(b))\n",
    "print(\"max(b)=   \", np.max(b))\n",
    "print(\"median(b)=\", np.median(b))\n",
    "print(\"mean(b)=  \", np.mean(b))\n",
    "print(\"var(b)=   \", np.var(b))\n",
    "print(\"sort(b)=  \", np.sort(b))"
   ]
  },
  {
   "cell_type": "markdown",
   "metadata": {},
   "source": [
    "### Linear algebra\n",
    "\n",
    "`NumPy` contains many common linear algebra operations and algorithms. For a complete reference, see [the NumPy documentation](https://docs.scipy.org/doc/numpy/reference/routines.linalg.html), but here are some examples:"
   ]
  },
  {
   "cell_type": "code",
   "execution_count": 32,
   "metadata": {},
   "outputs": [
    {
     "data": {
      "text/plain": [
       "array([[59, 38],\n",
       "       [38, 36]])"
      ]
     },
     "execution_count": 32,
     "metadata": {},
     "output_type": "execute_result"
    }
   ],
   "source": [
    "# matrix product\n",
    "np.dot(a,a.T)"
   ]
  },
  {
   "cell_type": "code",
   "execution_count": null,
   "metadata": {
    "collapsed": true
   },
   "outputs": [],
   "source": [
    "# invert the matrix\n",
    "b = np.array([[1,3],[2,5]])\n",
    "np.linalg.inv(b)"
   ]
  },
  {
   "cell_type": "code",
   "execution_count": null,
   "metadata": {
    "collapsed": true
   },
   "outputs": [],
   "source": [
    "# compute the determinant\n",
    "np.linalg.det(b)"
   ]
  },
  {
   "cell_type": "code",
   "execution_count": null,
   "metadata": {
    "collapsed": true
   },
   "outputs": [],
   "source": [
    "# transpose\n",
    "a.T"
   ]
  },
  {
   "cell_type": "markdown",
   "metadata": {},
   "source": [
    "### Views\n",
    "\n",
    "In some object oriented designs, and certainly in `NumPy`, it is possible that you are offered access to some data not through one object, but through a whole bunch of objects. Multiple objects providing access to the same underlying data are called *views* on the data. Many of the methods and functions that we've considered (such as `reshape` and `transpose`, as well as extracting rows or columns through indexing) actually yield a different view of the same underlying data.\n",
    "\n",
    "It is important to realise that `ndarray`s are **mutable**, and that views rely on **references**, as I talked about in lecture 3. So if you change the data through one view, you will see the change in the other view!\n",
    "\n",
    "The advantage of views is that they are lightweight: if you have a huge matrix, producing a different view of the matrix does not require copying all the data. It only involves creating a new matrix object, with the `data` field referencing the same huge matrix in memory. In the new data object, the `shape` can be set differently, and the axes can be reordered.\n",
    "\n",
    "The following experiment shows that the matrix `a` and its transpose use the same underlying data: the transpose is a *view* of the same data, not a transposed copy. The same logic applies to the `reshape` and `ravel` methods."
   ]
  },
  {
   "cell_type": "code",
   "execution_count": 33,
   "metadata": {},
   "outputs": [
    {
     "name": "stdout",
     "output_type": "stream",
     "text": [
      "a:\n",
      " [[1 7 3]\n",
      " [4 4 2]]\n",
      "a after change:\n",
      " [[1 7 3]\n",
      " [5 4 2]]\n"
     ]
    }
   ],
   "source": [
    "print(\"a:\\n\", a)\n",
    "a.T[0,1] = 5\n",
    "print(\"a after change:\\n\", a)\n",
    "a[1,0] = 4"
   ]
  },
  {
   "cell_type": "markdown",
   "metadata": {},
   "source": [
    "# Matplotlib\n",
    "\n",
    "Matplotlib is an extensive plotting library for Python. It consists of a number of components:\n",
    "- Matplotlib API: the \"front end\" of the package, providing numerous primitives to create plots.\n",
    "- Renderers: modules that know how to draw to different devices or file types, such as postscript, svg, png, etcetera\n",
    "- PyPlot: a Matlab-like plotting interface.\n",
    "\n",
    "You will mostly use matplotlib via PyPlot. (There is also a thing called PyLab, which is the same as PyPlot but includes NumPy in the same namespace. It is cleaner to use these two modules in their own namespace, so we will not use PyLab.)\n",
    "\n",
    "To gain access to PyPlot, it is customary to import it like this:"
   ]
  },
  {
   "cell_type": "code",
   "execution_count": 34,
   "metadata": {
    "collapsed": true
   },
   "outputs": [],
   "source": [
    "import matplotlib.pyplot as plt"
   ]
  },
  {
   "cell_type": "markdown",
   "metadata": {},
   "source": [
    "One of the most common use cases is to graph a bunch of $(x,y)$ coordinate pairs:"
   ]
  },
  {
   "cell_type": "code",
   "execution_count": 35,
   "metadata": {},
   "outputs": [
    {
     "data": {
      "image/png": "[encoded data removed]",
      "text/plain": [
       "<Figure size 432x288 with 1 Axes>"
      ]
     },
     "metadata": {},
     "output_type": "display_data"
    },
    {
     "name": "stdout",
     "output_type": "stream",
     "text": [
      "Resumed\n"
     ]
    }
   ],
   "source": [
    "plt.plot(range(4),[3,5,2,8])\n",
    "plt.show()\n",
    "print(\"Resumed\")"
   ]
  },
  {
   "cell_type": "markdown",
   "metadata": {},
   "source": [
    "The `plot` function will generate the plot, and `show` will display it on the default output device, and block (suspend execution) until the output device is done. In my Python installation, a separate window containing the plot turns up, and execution resumes once the window is closed.\n",
    "\n",
    "Most of the time, it's nicer to embed the plot output in the Jupyter notebook. That can be arranged by entering the following line. (This is not part of Python, but interpreted by Jupyter as a special command.)"
   ]
  },
  {
   "cell_type": "code",
   "execution_count": 36,
   "metadata": {
    "collapsed": true
   },
   "outputs": [],
   "source": [
    "%matplotlib inline"
   ]
  },
  {
   "cell_type": "markdown",
   "metadata": {},
   "source": [
    "After that, the default output device becomes the notebook itself. It does not block: output is immediately rendered and Python proceeds to execute code. Still, it's important to call `show` to signal that the plot is complete and that no more embellishments need to be drawn."
   ]
  },
  {
   "cell_type": "code",
   "execution_count": 37,
   "metadata": {},
   "outputs": [
    {
     "data": {
      "image/png": "[encoded data removed]",
      "text/plain": [
       "<Figure size 432x288 with 1 Axes>"
      ]
     },
     "metadata": {},
     "output_type": "display_data"
    },
    {
     "name": "stdout",
     "output_type": "stream",
     "text": [
      "Resumed\n"
     ]
    }
   ],
   "source": [
    "plt.plot(range(4),[3,5,2,8])\n",
    "plt.show()\n",
    "print(\"Resumed\")"
   ]
  },
  {
   "cell_type": "markdown",
   "metadata": {},
   "source": [
    "Note that in this case, the $x$-coordinates of the points are not particularly exciting. If it's simply `range(len(y))`, it can be omitted. Also, instead of a line plot, we can select the point and line styles with an additional string argument. Here is an example, see online for more details: there are a *lot* of available marker and line properties."
   ]
  },
  {
   "cell_type": "code",
   "execution_count": 38,
   "metadata": {},
   "outputs": [
    {
     "data": {
      "image/png": "[encoded data removed]",
      "text/plain": [
       "<Figure size 432x288 with 1 Axes>"
      ]
     },
     "metadata": {},
     "output_type": "display_data"
    }
   ],
   "source": [
    "plt.plot([3,5,2,8], marker='*', linestyle='--', linewidth=2, color='g')\n",
    "plt.show()"
   ]
  },
  {
   "cell_type": "markdown",
   "metadata": {},
   "source": [
    "The supplied coordinates can describe any two dimensional path; sometimes it's better to suppress lines lines altogether and use only markers to get a scatterplot. We can also specify the ranges of the axes and add labels and a legend."
   ]
  },
  {
   "cell_type": "code",
   "execution_count": 39,
   "metadata": {},
   "outputs": [
    {
     "data": {
      "text/plain": [
       "array([ 0.49120973, -1.42591276, -0.48525139, -1.10022146,  0.21487226,\n",
       "        0.27186567, -0.25418508,  0.46782747,  0.36224096,  0.66458896])"
      ]
     },
     "execution_count": 39,
     "metadata": {},
     "output_type": "execute_result"
    }
   ],
   "source": [
    "import numpy as np\n",
    "np.random.randn(10)"
   ]
  },
  {
   "cell_type": "code",
   "execution_count": 40,
   "metadata": {},
   "outputs": [
    {
     "data": {
      "image/png": "[encoded data removed]",
      "text/plain": [
       "<Figure size 432x288 with 1 Axes>"
      ]
     },
     "metadata": {},
     "output_type": "display_data"
    }
   ],
   "source": [
    "xs  = np.random.randn(100)*2-5\n",
    "ys  = np.random.randn(100)*2-3\n",
    "xs2 = np.random.randn(100)\n",
    "ys2 = np.random.randn(100)\n",
    "\n",
    "# add labels to the datasets\n",
    "plt.plot(xs, ys,           color='r', marker='o', \n",
    "         linestyle='None', label='bunchapoints')\n",
    "plt.plot(xs2, ys2,          color='g', marker='o',\n",
    "         linestyle='None', label='very different points')\n",
    "\n",
    "# change the axis limits using axis() \n",
    "# - axis('off') disables the axes altogether\n",
    "# - can also use xlim, ylim to set the axes individually\n",
    "plt.axis([-10,4,-8,4])\n",
    "\n",
    "# change the vertical axis tick marks to only include even numbers\n",
    "plt.yticks(np.arange(-8,6,2))\n",
    "\n",
    "# add grid lines\n",
    "plt.grid(True)\n",
    "\n",
    "# add labels to the axes\n",
    "plt.xlabel(\"The x coordinates of the points, yo!\")\n",
    "plt.ylabel(\"Large values of y over there! -->\")\n",
    "\n",
    "# add a legend listing the labels of the data sets\n",
    "plt.legend()\n",
    "\n",
    "plt.show()"
   ]
  },
  {
   "cell_type": "markdown",
   "metadata": {},
   "source": [
    "If you want to plot data on a log scale, you can use `plt.yscale('log')` and the same for the xscale. A shorthand is to replace the `plot` function by `semilogx`, `semilogy` or `loglog`.\n",
    "\n",
    "Logarithmic scales are especially handy if you expect that the data will come out as roughly a straight line. You can determine which kind of plot is most appropriate by considering which kind of relationship $x$ and $y$ will have:\n",
    "\n",
    "| axes                    | straight line means that:     | so: $\\qquad\\qquad$ | which is    |\n",
    "| ----------------------- | ----------------------------- | ------------------ | ----------- |\n",
    "| $x$ logarithmic         | $y=\\alpha\\log(x)+\\beta$       | (same)             | logarithmic |\n",
    "| $y$ logarithmic         | $\\log(y)=\\alpha x+\\beta$      | $y=\\phi\\,\\theta^x$ | exponential |\n",
    "| $x$ and $y$ logarithmic | $\\log(y)=\\alpha\\log(x)+\\beta$ | $y=\\phi\\,x^\\gamma$ | polynomial  |\n",
    "\n",
    "As a demo, consider a random walk, which starts at position 0 and where each step adds a standard normal random number to the position. The standard deviation of the position after $n$ steps is $\\sqrt{n}$, which will look like a straight line on a double logarithmic scale.\n",
    "So we can nicely visualise the size of *actual* deviations of the walk compared to the expectation."
   ]
  },
  {
   "cell_type": "code",
   "execution_count": 41,
   "metadata": {},
   "outputs": [
    {
     "data": {
      "image/png": "[encoded data removed]",
      "text/plain": [
       "<Figure size 432x288 with 1 Axes>"
      ]
     },
     "metadata": {},
     "output_type": "display_data"
    },
    {
     "data": {
      "image/png": "[encoded data removed]",
      "text/plain": [
       "<Figure size 432x288 with 1 Axes>"
      ]
     },
     "metadata": {},
     "output_type": "display_data"
    }
   ],
   "source": [
    "# First generate a random walk and show it\n",
    "n = 10000\n",
    "walk = np.cumsum(np.random.randn(n))\n",
    "plt.plot(walk)\n",
    "plt.show()\n",
    "\n",
    "# Now plot the walk on a loglog scale \n",
    "plt.loglog(np.abs(walk))\n",
    "plt.loglog([1,n],[1,np.sqrt(n)], \"g-\")\n",
    "plt.show()"
   ]
  },
  {
   "cell_type": "markdown",
   "metadata": {},
   "source": [
    "We've now made two related plots; it's often useful to make a bunch of plots and group them together in a single figure. This is done with the `figure` and `subplot` functions. The `subplot` is given a numeric argument that defined the number of rows and columns of subplots and the index of the subplot we will proceed to define. It returns a handle to the subplot, that we can use to identify which subplot we want to modify."
   ]
  },
  {
   "cell_type": "code",
   "execution_count": 42,
   "metadata": {},
   "outputs": [
    {
     "data": {
      "image/png": "[encoded data removed]",
      "text/plain": [
       "<Figure size 1008x360 with 2 Axes>"
      ]
     },
     "metadata": {},
     "output_type": "display_data"
    }
   ],
   "source": [
    "# First generate a random walk and show it\n",
    "\n",
    "# Create the figure and make it a bit wider\n",
    "fig = plt.figure(figsize = (14,5))\n",
    "\n",
    "# Create two subplots\n",
    "p1a = plt.subplot(121)\n",
    "p2a = plt.subplot(122)\n",
    "\n",
    "# Plot the desired graphs in the right subplots\n",
    "p1a.plot(walk)\n",
    "p2a.loglog(np.abs(walk))\n",
    "p2a.loglog([1,n],[1,np.sqrt(n)], \"g-\")\n",
    "\n",
    "plt.show()"
   ]
  },
  {
   "cell_type": "markdown",
   "metadata": {},
   "source": [
    "It's also possible to create a figure with a bunch of subplots all at once, using the `subplots` function."
   ]
  },
  {
   "cell_type": "markdown",
   "metadata": {},
   "source": [
    "# Different kinds of plots\n",
    "\n",
    "PyPlot supports many different kinds of graphs. We've covered line plots and scatter plots, but here is a brief demonstration of some of the most important kinds of graphs:"
   ]
  },
  {
   "cell_type": "code",
   "execution_count": 43,
   "metadata": {},
   "outputs": [
    {
     "name": "stderr",
     "output_type": "stream",
     "text": [
      "/Users/jeremydai/anaconda/lib/python3.5/site-packages/matplotlib/__init__.py:1855: MatplotlibDeprecationWarning: The *left* kwarg to `bar` is deprecated use *x* instead. Support for *left* will be removed in Matplotlib 3.0\n",
      "  return func(ax, *args, **kwargs)\n"
     ]
    },
    {
     "data": {
      "image/png": "[encoded data removed]",
      "text/plain": [
       "<Figure size 720x720 with 4 Axes>"
      ]
     },
     "metadata": {},
     "output_type": "display_data"
    }
   ],
   "source": [
    "# create a figure and a 2x2 grid of subplots all at once\n",
    "fig, ax = plt.subplots(2,2,figsize=(10,10))\n",
    "\n",
    "# make a histogram in top-left position\n",
    "ax[0][0].hist(np.random.randn(1000), bins=20)\n",
    "ax[0][0].axis('off')\n",
    "ax[0][0].set_title(\"hist\")\n",
    "\n",
    "\n",
    "# make a bar chart in top-right position\n",
    "ax[0][1].bar(left=[0,1,3], width=[1,2,1], height=[1,3,2], color=['r', '#00b000', 'b'])\n",
    "ax[0][1].set_title(\"bar\")\n",
    "ax[0][1].axis('off')\n",
    "\n",
    "# generate a two dimensional array zs, to demonstrate contour and heatmap plots\n",
    "def dist(dx, dy):\n",
    "    return np.sqrt(dx*dx+dy*dy)\n",
    "\n",
    "ps = 200\n",
    "zs = np.empty([ps,ps])\n",
    "for x in range(ps):\n",
    "    for y in range(ps):\n",
    "        zs[x,y] = dist(x-.1*ps, y-.3*ps) - dist(x-.7*ps, y-.6*ps)\n",
    "\n",
    "# generate contour plot\n",
    "lvl = np.linspace(zs.min(), zs.max(), 10) # 30 levels\n",
    "ax[1][0].contour(zs, levels=lvl)\n",
    "ax[1][0].axis('off')\n",
    "ax[1][0].set_title('contour')\n",
    "\n",
    "# generate heat map plot\n",
    "ax[1][1].pcolor(zs)\n",
    "ax[1][1].axis('off')\n",
    "ax[1][1].set_title('pcolor')\n",
    "        \n",
    "plt.show()\n"
   ]
  },
  {
   "cell_type": "markdown",
   "metadata": {
    "collapsed": true
   },
   "source": [
    "For more information, refer to the documentation:\n",
    "\n",
    "- [PyPlot tutorial](https://matplotlib.org/tutorials/introductory/pyplot.html)\n",
    "- [PyPlot API documentation](https://matplotlib.org/api/pyplot_summary.html)\n"
   ]
  },
  {
   "cell_type": "code",
   "execution_count": 48,
   "metadata": {},
   "outputs": [
    {
     "data": {
      "text/plain": [
       "(200, 200)"
      ]
     },
     "execution_count": 48,
     "metadata": {},
     "output_type": "execute_result"
    }
   ],
   "source": [
    "zs.shape"
   ]
  },
  {
   "cell_type": "code",
   "execution_count": null,
   "metadata": {
    "collapsed": true
   },
   "outputs": [],
   "source": []
  }
 ],
 "metadata": {
  "kernelspec": {
   "display_name": "Python [default]",
   "language": "python",
   "name": "python3"
  },
  "language_info": {
   "codemirror_mode": {
    "name": "ipython",
    "version": 3
   },
   "file_extension": ".py",
   "mimetype": "text/x-python",
   "name": "python",
   "nbconvert_exporter": "python",
   "pygments_lexer": "ipython3",
   "version": "3.5.3"
  }
 },
 "nbformat": 4,
 "nbformat_minor": 1
}
