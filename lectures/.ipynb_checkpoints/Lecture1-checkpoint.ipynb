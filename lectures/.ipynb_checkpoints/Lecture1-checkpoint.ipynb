{
 "cells": [
  {
   "cell_type": "markdown",
   "metadata": {},
   "source": [
    "# Lecture 1: basic types, tuples, and variables"
   ]
  },
  {
   "cell_type": "markdown",
   "metadata": {},
   "source": [
    "### Jupyter notebooks\n",
    "\n",
    "Both the lecture and the homework will be in the form of Jupyter notebooks, like this one. A notebook consists of text cells and code cells; the text cells contain text with formatting using Markdown, and can also display things like mathematical formulas and tables. The code cells contain Python code that we will execute as we go through the lecture.\n",
    "\n",
    "In order for you to get a feel for the language as soon as possible, it's helpful to open the lecture on your own laptop. To this end, make sure you have Jupyter installed, download this lecture from blackboard and open it.\n",
    "\n",
    "Note that the notebooks are edited in your browser, which cannot itself execute Python code; in Jupyter, your browser connects with a Python interpreter, called the \"Kernel\" that runs as a separate process on your computer, sending it code to evaluate and displaying the results. This is what the \"Kernel\" menu refers to.\n",
    "\n",
    "As you're using a Jupyter notebook, you'll notice that there's always one active cell, that's highlighted in either blue or green. If it's green, you're *editing* the cell, if it's blue, you've simply *selected* it. While outside of edit mode (your cell is highlighted in blue), there are a couple of keystrokes you need to master to manage your notebook conveniently:\n",
    "\n",
    "| key | action\n",
    "|:---:|----------\n",
    "| A   | insert a code cell before the selected one.\n",
    "| B   | insert a code cell after the selected one\n",
    "| M   | turn cell into a text cell\n",
    "| Y   | turn cell into a code cell\n",
    "| C   | copy cell\n",
    "| X   | cut cell\n",
    "| V   | paste cell\n",
    "| Enter | edit this cell\n",
    "| Shift+Enter | evaluate or typeset this cell\n",
    "\n",
    "**Exercise:**\n",
    "- Below this text cell, create another text cell, enter the text \"Getting there\", and typeset it.\n",
    "- Also create a code cell, enter the Python expression `\"Hello world\"`, and evaluate it.\n",
    "- Create another code cell, enter \"`# this is a comment`\", and evaluate it.\n",
    "- Create another code cell, enter some random nonsense, and evaluate it.\n",
    "\n",
    "In the remainder of this first lecture, we'll talk about the most basic building blocks of Python: its built in basic types and values, variables, and tuples."
   ]
  },
  {
   "cell_type": "markdown",
   "metadata": {},
   "source": [
    "## Basic types and values\n",
    "\n",
    "- Chunks of data that your program works with are called *values*, or *objects*.\n",
    "\n",
    "- Every value has a *type*.\n",
    "\n",
    "All programming languages make available a number of built in data types, such as integers and floating point numbers, strings for textual data, and booleans for logical operations. Additionally, many languages, including Python, allow the programmer to introduce additional types that are built from values of the built in types.\n",
    "\n",
    "For every type, there have to be one or more ways to *create* (or *construct*) values of that type, and operations supported by values of those types.\n",
    "\n",
    "\n",
    "In the first half of the lecture we will look at such basic types, and what you can do with them. In the second half, we will look at types that allow you to combine such basic values into larger objects. In each case, we'll look at:\n",
    "\n",
    "- How to construct values of those types\n",
    "- What operations these types permit\n",
    "- Assorted important rules and properties"
   ]
  },
  {
   "cell_type": "markdown",
   "metadata": {},
   "source": [
    "### Numbers: `int` and `float`\n",
    "\n",
    "There are two built-in numeric types in Python: `int` and `float`.\n",
    "\n",
    "An `int` is an integer number. It can be positive or negative. A specific integer can be constructed with a literal expression, which consists of a sequence of digits:"
   ]
  },
  {
   "cell_type": "code",
   "execution_count": null,
   "metadata": {
    "collapsed": true
   },
   "outputs": [],
   "source": [
    "42"
   ]
  },
  {
   "cell_type": "markdown",
   "metadata": {},
   "source": [
    "(Note that when we evaluate a cell in a Jupyter notebook, the last value produced is reported as output.) In Python3, there are no limits on its size, which can be very convenient:"
   ]
  },
  {
   "cell_type": "code",
   "execution_count": null,
   "metadata": {
    "collapsed": true
   },
   "outputs": [],
   "source": [
    "-3298234293472398572937423984205320751098750293753498067906"
   ]
  },
  {
   "cell_type": "markdown",
   "metadata": {},
   "source": [
    "A `float` is a \"floating point number\", that is, a rough approximation of a real number. Like integers, they can be constructed simply by typing them in; Python will recognise them by the appearance of a decimal point:"
   ]
  },
  {
   "cell_type": "code",
   "execution_count": null,
   "metadata": {
    "collapsed": true
   },
   "outputs": [],
   "source": [
    "3.354353"
   ]
  },
  {
   "cell_type": "code",
   "execution_count": null,
   "metadata": {
    "collapsed": true
   },
   "outputs": [],
   "source": [
    "4.0"
   ]
  },
  {
   "cell_type": "markdown",
   "metadata": {},
   "source": [
    "You can also construct floating point numbers using \"scientific notation\", which consists of a number, the letter `e`, and an integer exponent. `12.4e5` means `12.4` times `10` to the power `5`."
   ]
  },
  {
   "cell_type": "code",
   "execution_count": null,
   "metadata": {
    "collapsed": true
   },
   "outputs": [],
   "source": [
    "12.4e5"
   ]
  },
  {
   "cell_type": "markdown",
   "metadata": {},
   "source": [
    "Floating point numbers are represented in the computer as a fixed precision binary number between 1 and 2, with a separate exponent. Numbers have a precision of about 15 decimals, and the exponent can range from about -300 to +300.\n",
    "\n",
    "So it's possible to store a very tiny, or a very large number by using a small or a large exponent, but if you add a very tiny number to a very large number, the result will need to use the large exponent, so precision will be lost."
   ]
  },
  {
   "cell_type": "code",
   "execution_count": 1,
   "metadata": {},
   "outputs": [
    {
     "data": {
      "text/plain": [
       "0.012345678901234568"
      ]
     },
     "execution_count": 1,
     "metadata": {},
     "output_type": "execute_result"
    }
   ],
   "source": [
    "# how many digits will be retained?\n",
    "0.012345678901234567890123456789"
   ]
  },
  {
   "cell_type": "code",
   "execution_count": 2,
   "metadata": {},
   "outputs": [
    {
     "data": {
      "text/plain": [
       "1e-09"
      ]
     },
     "execution_count": 2,
     "metadata": {},
     "output_type": "execute_result"
    }
   ],
   "source": [
    "# so a billionth should fit easily, let's check:\n",
    "1e-9"
   ]
  },
  {
   "cell_type": "code",
   "execution_count": 3,
   "metadata": {},
   "outputs": [
    {
     "data": {
      "text/plain": [
       "0.0"
      ]
     },
     "execution_count": 3,
     "metadata": {},
     "output_type": "execute_result"
    }
   ],
   "source": [
    "1e-500"
   ]
  },
  {
   "cell_type": "code",
   "execution_count": 4,
   "metadata": {},
   "outputs": [
    {
     "data": {
      "text/plain": [
       "0.0"
      ]
     },
     "execution_count": 4,
     "metadata": {},
     "output_type": "execute_result"
    }
   ],
   "source": [
    "# precision loss:\n",
    "# the sum of the large and the small value cannot be\n",
    "# represented well. The small bit just ends up getting lost.\n",
    "(1e9+1e-9)-1e9"
   ]
  },
  {
   "cell_type": "markdown",
   "metadata": {},
   "source": [
    "To explicity construct a value of a specific type, you can use one of Python's builtin *type constructors*, which are functions with the same name as the type. This is often convenient to convert between one type and another."
   ]
  },
  {
   "cell_type": "code",
   "execution_count": null,
   "metadata": {
    "collapsed": true
   },
   "outputs": [],
   "source": [
    "# construct an integer and initialise with value 3 (same as just typing 3)\n",
    "int(3.0)"
   ]
  },
  {
   "cell_type": "code",
   "execution_count": null,
   "metadata": {
    "collapsed": true
   },
   "outputs": [],
   "source": [
    "# construct a floating point value -1.9 and convert to integer\n",
    "# note: converting to int always rounds towards 0.\n",
    "int(-1.9)"
   ]
  },
  {
   "cell_type": "code",
   "execution_count": null,
   "metadata": {
    "collapsed": true
   },
   "outputs": [],
   "source": [
    "int(1.6+0.5)"
   ]
  },
  {
   "cell_type": "code",
   "execution_count": null,
   "metadata": {
    "collapsed": true
   },
   "outputs": [],
   "source": [
    "# construct an int value (using an int literal) and convert it to float\n",
    "float(2)"
   ]
  },
  {
   "cell_type": "markdown",
   "metadata": {},
   "source": [
    "### Arithmetic operators\n",
    "\n",
    "We've already seen that floating point numbers can be added and subtracted. Python supports a bunch of arithmetic operators. Usually these can be used with both `int` and `float` numbers, and even with combinations of the two. The rules for whether the result is `int` or `float` are a bit complicated. A rule of thumb is that if an operation with values of that type *might* not yield an integer, then the result will be `float`. Here are some examples:"
   ]
  },
  {
   "cell_type": "markdown",
   "metadata": {},
   "source": [
    "- Addition (`+`), subtraction (`-`) and multiplication (`*`) of two integers always yields an `int`."
   ]
  },
  {
   "cell_type": "code",
   "execution_count": null,
   "metadata": {
    "collapsed": true
   },
   "outputs": [],
   "source": [
    "3+5"
   ]
  },
  {
   "cell_type": "markdown",
   "metadata": {},
   "source": [
    "- Addition (+), subtraction (-) and multiplicaton of an `int` and a `float`, or of two `float`s, yields a `float`, *even if the floats represent an integer value*."
   ]
  },
  {
   "cell_type": "code",
   "execution_count": null,
   "metadata": {
    "collapsed": true
   },
   "outputs": [],
   "source": [
    "3+1.0"
   ]
  },
  {
   "cell_type": "markdown",
   "metadata": {},
   "source": [
    "- When you divide two integers, the result may not be integer. So in Python3, the result of division is *always* float! (If it is not, you are accidentally using Python2.)"
   ]
  },
  {
   "cell_type": "code",
   "execution_count": null,
   "metadata": {
    "collapsed": true
   },
   "outputs": [],
   "source": [
    "8/4"
   ]
  },
  {
   "cell_type": "markdown",
   "metadata": {},
   "source": [
    "- There is a separate operator `//` specifically for division when you want an integer result. It always rounds the result down."
   ]
  },
  {
   "cell_type": "code",
   "execution_count": null,
   "metadata": {
    "collapsed": true
   },
   "outputs": [],
   "source": [
    "-13//3"
   ]
  },
  {
   "cell_type": "code",
   "execution_count": null,
   "metadata": {
    "collapsed": true
   },
   "outputs": [],
   "source": [
    "# Huh! The rounding is different from the rounding we saw with the int type constructor?!\n",
    "int(-13/3)"
   ]
  },
  {
   "cell_type": "markdown",
   "metadata": {},
   "source": [
    "- Use `%` to get the remainder after integer division."
   ]
  },
  {
   "cell_type": "code",
   "execution_count": null,
   "metadata": {
    "collapsed": true
   },
   "outputs": [],
   "source": [
    "-13%3"
   ]
  },
  {
   "cell_type": "markdown",
   "metadata": {},
   "source": [
    "- Exponentiate using `**`. The result of `a**b` is `int` if `a` and `b` are both `int` and `b >= 0`."
   ]
  },
  {
   "cell_type": "code",
   "execution_count": null,
   "metadata": {
    "collapsed": true
   },
   "outputs": [],
   "source": [
    "2**4"
   ]
  },
  {
   "cell_type": "code",
   "execution_count": null,
   "metadata": {
    "collapsed": true
   },
   "outputs": [],
   "source": [
    "2**-4"
   ]
  },
  {
   "cell_type": "markdown",
   "metadata": {},
   "source": [
    "- You can also use `+` and `-` with only a single number:"
   ]
  },
  {
   "cell_type": "code",
   "execution_count": null,
   "metadata": {
    "collapsed": true
   },
   "outputs": [],
   "source": [
    "-(2+2)"
   ]
  },
  {
   "cell_type": "markdown",
   "metadata": {},
   "source": [
    "**Precedence**\n",
    "\n",
    "Operators are executed in order of *precedence*. Operators with a higher precedence are evaluated first."
   ]
  },
  {
   "cell_type": "markdown",
   "metadata": {},
   "source": [
    "- *Example:* multiplication before addition:"
   ]
  },
  {
   "cell_type": "code",
   "execution_count": null,
   "metadata": {
    "collapsed": true
   },
   "outputs": [],
   "source": [
    "3+4*5"
   ]
  },
  {
   "cell_type": "markdown",
   "metadata": {},
   "source": [
    "- *Example:* negation operation `-x` is applied *after* exponentiation:"
   ]
  },
  {
   "cell_type": "code",
   "execution_count": null,
   "metadata": {
    "collapsed": true
   },
   "outputs": [],
   "source": [
    "-2**4"
   ]
  },
  {
   "cell_type": "markdown",
   "metadata": {},
   "source": [
    "- *Rule:* as in mathematics, most operations with the same precedence are executed from left to right..."
   ]
  },
  {
   "cell_type": "code",
   "execution_count": null,
   "metadata": {
    "collapsed": true
   },
   "outputs": [],
   "source": [
    "3-3-3"
   ]
  },
  {
   "cell_type": "markdown",
   "metadata": {},
   "source": [
    "- Except for exponentiation, which is right-to-left:"
   ]
  },
  {
   "cell_type": "code",
   "execution_count": null,
   "metadata": {
    "collapsed": true
   },
   "outputs": [],
   "source": [
    "2**2**3"
   ]
  },
  {
   "cell_type": "code",
   "execution_count": null,
   "metadata": {
    "collapsed": true
   },
   "outputs": [],
   "source": [
    "(2**2)**3"
   ]
  },
  {
   "cell_type": "code",
   "execution_count": null,
   "metadata": {
    "collapsed": true
   },
   "outputs": [],
   "source": [
    "2^3"
   ]
  },
  {
   "cell_type": "markdown",
   "metadata": {},
   "source": [
    "- The last example shows that we can change the order of evaluation of an expression by using parentheses."
   ]
  },
  {
   "cell_type": "code",
   "execution_count": null,
   "metadata": {
    "collapsed": true
   },
   "outputs": [],
   "source": [
    "1-(2-3)"
   ]
  },
  {
   "cell_type": "markdown",
   "metadata": {},
   "source": [
    "**Exercise:**\n",
    "\n",
    "- The number of kerwoddles is 23957 one moment, 32173 the next. By what percentage did the number increase?\n",
    "- How can we round the percentage down to a whole number? How could we round it to the nearest whole number?"
   ]
  },
  {
   "cell_type": "markdown",
   "metadata": {},
   "source": [
    "### Logical values: `bool`\n",
    "\n",
    "A boolean is a value that can be only two things: `True` or `False`. These are also the literal expressions used to create booleans:"
   ]
  },
  {
   "cell_type": "code",
   "execution_count": null,
   "metadata": {
    "collapsed": true
   },
   "outputs": [],
   "source": [
    "True"
   ]
  },
  {
   "cell_type": "markdown",
   "metadata": {},
   "source": [
    "Booleans are values that pop up in a lot of tests and comparisons:"
   ]
  },
  {
   "cell_type": "code",
   "execution_count": null,
   "metadata": {
    "collapsed": true
   },
   "outputs": [],
   "source": [
    "1+2 == 3 # Important: use two equals signs!"
   ]
  },
  {
   "cell_type": "code",
   "execution_count": null,
   "metadata": {
    "collapsed": true
   },
   "outputs": [],
   "source": [
    "3 >= 4"
   ]
  },
  {
   "cell_type": "code",
   "execution_count": null,
   "metadata": {
    "collapsed": true
   },
   "outputs": [],
   "source": [
    "3 == 3.0 # Careful: it is generally dangerous to test floats for equality"
   ]
  },
  {
   "cell_type": "markdown",
   "metadata": {},
   "source": [
    "In fact, you can chain equalities and inequalities:"
   ]
  },
  {
   "cell_type": "code",
   "execution_count": null,
   "metadata": {
    "collapsed": true
   },
   "outputs": [],
   "source": [
    "2<3<=3<4==4>3<5"
   ]
  },
  {
   "cell_type": "markdown",
   "metadata": {},
   "source": [
    "(Generally it's best practice to not use `>` and `>=` in chained inequalities.)\n",
    "\n",
    "There are also operations `and` to check if both of two boolean values are true, and `or` to check if at least one is true."
   ]
  },
  {
   "cell_type": "code",
   "execution_count": null,
   "metadata": {
    "collapsed": true
   },
   "outputs": [],
   "source": [
    "2>3 or 2<3"
   ]
  },
  {
   "cell_type": "code",
   "execution_count": null,
   "metadata": {
    "collapsed": true
   },
   "outputs": [],
   "source": [
    "2>3 and 2<3"
   ]
  },
  {
   "cell_type": "markdown",
   "metadata": {},
   "source": [
    "Finally, you can invert the truth value of a boolean using `not`:"
   ]
  },
  {
   "cell_type": "code",
   "execution_count": null,
   "metadata": {
    "collapsed": true
   },
   "outputs": [],
   "source": [
    "not True"
   ]
  },
  {
   "cell_type": "markdown",
   "metadata": {},
   "source": [
    "Sometimes, it's convenient to, say, count the number of true values in a list. For this reason, **Python allows the values `True` and `False` in arithmetic operations, where they will be interpreted as the integers `1` and `0`, respectively.**"
   ]
  },
  {
   "cell_type": "code",
   "execution_count": null,
   "metadata": {
    "collapsed": true
   },
   "outputs": [],
   "source": [
    "True + 3 "
   ]
  },
  {
   "cell_type": "code",
   "execution_count": null,
   "metadata": {
    "collapsed": true
   },
   "outputs": [],
   "source": [
    "False * True"
   ]
  },
  {
   "cell_type": "code",
   "execution_count": null,
   "metadata": {
    "collapsed": true
   },
   "outputs": [],
   "source": [
    "True / False"
   ]
  },
  {
   "cell_type": "markdown",
   "metadata": {},
   "source": [
    "### Strings: `str`\n",
    "\n",
    "A string is a sequence of characters: all letters, numbers, and symbols that can occur in text. Like numbers, strings can be constructed in Python using literal expressions, by enclosing the literal character string by either single quotes or double quotes. It doesn't matter which you use, but using the one allows you to use the other conveniently within the character string.\n",
    "\n",
    "(In the examples below, the print function is used because it shows the value of the string most faithfully. If you omit it, the literal expression is shown including the opening and closing quote symbols.)"
   ]
  },
  {
   "cell_type": "code",
   "execution_count": null,
   "metadata": {
    "collapsed": true
   },
   "outputs": [],
   "source": [
    "\"boo\""
   ]
  },
  {
   "cell_type": "code",
   "execution_count": null,
   "metadata": {
    "collapsed": true
   },
   "outputs": [],
   "source": [
    "print(\"It's convenient to use double quotes here, because the string contains a single quote.\")"
   ]
  },
  {
   "cell_type": "code",
   "execution_count": null,
   "metadata": {
    "collapsed": true
   },
   "outputs": [],
   "source": [
    "print('\"On the other hand,\" the lecturer said, \"sometimes the other thing is more convenient.\"')"
   ]
  },
  {
   "cell_type": "markdown",
   "metadata": {},
   "source": [
    "If your string uses both single and double quotes, you can mark a symbol as part of the string rather than as a closing quote, by using the escape symbol `\\`. Backslashes themselves also require a backslash to use in a string literal."
   ]
  },
  {
   "cell_type": "code",
   "execution_count": null,
   "metadata": {
    "collapsed": true
   },
   "outputs": [],
   "source": [
    "\"hello\\\""
   ]
  },
  {
   "cell_type": "code",
   "execution_count": null,
   "metadata": {
    "collapsed": true
   },
   "outputs": [],
   "source": [
    "print(\"It's good! Say, \\\"Yay!\\\" \\\\_O_/\")"
   ]
  },
  {
   "cell_type": "markdown",
   "metadata": {},
   "source": [
    "As with numbers, you can use the string constructor function to explicitly construct a string, potentially converting from other types like numbers:"
   ]
  },
  {
   "cell_type": "code",
   "execution_count": null,
   "metadata": {
    "collapsed": true
   },
   "outputs": [],
   "source": [
    "str(3.14159265)"
   ]
  },
  {
   "cell_type": "markdown",
   "metadata": {},
   "source": [
    "Strings support many useful functions and operations. The ones you'll need most commonly are:"
   ]
  },
  {
   "cell_type": "markdown",
   "metadata": {},
   "source": [
    "- Find their length using `len`:"
   ]
  },
  {
   "cell_type": "code",
   "execution_count": null,
   "metadata": {
    "collapsed": true
   },
   "outputs": [],
   "source": [
    "len(\"Life, the universe, and bloody everything!\")"
   ]
  },
  {
   "cell_type": "markdown",
   "metadata": {},
   "source": [
    "- Concatenate using `+`:"
   ]
  },
  {
   "cell_type": "code",
   "execution_count": null,
   "metadata": {
    "collapsed": true
   },
   "outputs": [],
   "source": [
    "\"bla\"+\"bla\""
   ]
  },
  {
   "cell_type": "markdown",
   "metadata": {},
   "source": [
    "- Extracting a specific letter, by giving the index of the letter in brackets. The index of the first letter is 0:\n"
   ]
  },
  {
   "cell_type": "code",
   "execution_count": null,
   "metadata": {
    "collapsed": true
   },
   "outputs": [],
   "source": [
    "\"blabla\"[0]"
   ]
  },
  {
   "cell_type": "markdown",
   "metadata": {},
   "source": [
    "- Extracting a substring, by giving the index of the first letter, and the index *just beyond* the last one. (Python is always right-exclusive: the right index is not included in the range.)"
   ]
  },
  {
   "cell_type": "code",
   "execution_count": null,
   "metadata": {
    "collapsed": true
   },
   "outputs": [],
   "source": [
    "\"blabla\"[3:6]"
   ]
  },
  {
   "cell_type": "markdown",
   "metadata": {},
   "source": [
    "- You can also go through the string in steps that are not equal to one:"
   ]
  },
  {
   "cell_type": "code",
   "execution_count": null,
   "metadata": {
    "collapsed": true
   },
   "outputs": [],
   "source": [
    "\"0123456789\"[9::-1]"
   ]
  },
  {
   "cell_type": "markdown",
   "metadata": {},
   "source": [
    "- Testing whether a substring is in a string using `in`:"
   ]
  },
  {
   "cell_type": "code",
   "execution_count": null,
   "metadata": {
    "collapsed": true
   },
   "outputs": [],
   "source": [
    "\"lab\" in \"blabla\""
   ]
  },
  {
   "cell_type": "code",
   "execution_count": null,
   "metadata": {
    "collapsed": true
   },
   "outputs": [],
   "source": [
    "\"boo\" in \"blabla\""
   ]
  },
  {
   "cell_type": "markdown",
   "metadata": {},
   "source": [
    "- Counting how often a substring occurs, with `count`. (Note the weird syntax; this is another way to call functions on an object in Python, we will discuss it later.)"
   ]
  },
  {
   "cell_type": "code",
   "execution_count": null,
   "metadata": {
    "collapsed": true
   },
   "outputs": [],
   "source": [
    "\"blabla\".count(\"la\")"
   ]
  },
  {
   "cell_type": "markdown",
   "metadata": {},
   "source": [
    "- Finding the index of a substring:"
   ]
  },
  {
   "cell_type": "code",
   "execution_count": null,
   "metadata": {
    "collapsed": true
   },
   "outputs": [],
   "source": [
    "\"blabla\".index(\"la\",2)"
   ]
  },
  {
   "cell_type": "code",
   "execution_count": null,
   "metadata": {
    "collapsed": true
   },
   "outputs": [],
   "source": [
    "\"blabla\".index(\"boo\")"
   ]
  },
  {
   "cell_type": "code",
   "execution_count": null,
   "metadata": {
    "collapsed": true
   },
   "outputs": [],
   "source": [
    "\"boo\" in \"blabla\""
   ]
  },
  {
   "cell_type": "markdown",
   "metadata": {},
   "source": [
    "## Variables\n",
    "\n",
    "Variables allow us to keep references to values, so that they can be accessed later on. A variable has a *name* and a reference to a *value*, and as we've seen before, those values have a *type*.\n",
    "\n",
    "The name can contain letters, digits, and underscores, but it cannot *start* with a digit. So `Hello_31` is a valid variable name, but `31_Hello` is not. It is customary to start variable names with a lower case letter.\n",
    "\n",
    "In some programming languages, the type is associated with the variable itself: a variable of type `int` can only hold values that are `int`. In Python however, the variable has no particular type; the type is only associated with the value. So **any variable can hold a reference to a value of one type at first, and then later it can be changed to refer to a different value, potentially of another type**.\n",
    "\n",
    "You can assign a value to a variable using the assignment operator `=` like so:"
   ]
  },
  {
   "cell_type": "code",
   "execution_count": null,
   "metadata": {
    "collapsed": true
   },
   "outputs": [],
   "source": [
    "a = True # Let the variable with name \"a\" refer to the value True\n",
    "type(a)"
   ]
  },
  {
   "cell_type": "code",
   "execution_count": null,
   "metadata": {
    "collapsed": true
   },
   "outputs": [],
   "source": [
    "a = \"hello\"\n",
    "type(a)"
   ]
  },
  {
   "cell_type": "markdown",
   "metadata": {},
   "source": [
    "**Make sure that you don't confuse the assignment operator `=` with the test for equality `==`. In particular, make sure you test for equality using a double equals sign.**"
   ]
  },
  {
   "cell_type": "markdown",
   "metadata": {},
   "source": [
    "After assignment, you can use the name of the variable to refer to its value."
   ]
  },
  {
   "cell_type": "code",
   "execution_count": null,
   "metadata": {
    "collapsed": true
   },
   "outputs": [],
   "source": [
    "len(a)"
   ]
  },
  {
   "cell_type": "code",
   "execution_count": null,
   "metadata": {
    "collapsed": true
   },
   "outputs": [],
   "source": [
    "a + \" world\""
   ]
  },
  {
   "cell_type": "code",
   "execution_count": null,
   "metadata": {
    "collapsed": true
   },
   "outputs": [],
   "source": [
    "a[3:5]"
   ]
  },
  {
   "cell_type": "markdown",
   "metadata": {},
   "source": [
    "There are rules about the *scope* and *lifetime* of variables: rules about which parts of your program can access their value, and rules about when their value gets discarded. We will discuss such rules in a later lecture: for now all variables we define will persist indefinitely, and be accessible from anywhere. Such variables are called \"global variables\"."
   ]
  },
  {
   "cell_type": "markdown",
   "metadata": {},
   "source": [
    "**Exercise:**\n",
    "\n",
    "- Suppose a variable `x` is a string consisting of two words. Write a Python program that involves `x`, and produces a new string where those words are swapped."
   ]
  },
  {
   "cell_type": "code",
   "execution_count": null,
   "metadata": {
    "collapsed": true
   },
   "outputs": [],
   "source": [
    "# Exercise: x is a string consisting of two words.\n",
    "# Write Python code that involves x, and produces a new string where those words are swapped."
   ]
  },
  {
   "cell_type": "code",
   "execution_count": null,
   "metadata": {
    "collapsed": true
   },
   "outputs": [],
   "source": [
    "x = \"hello world\"\n",
    "ix_space = x.index(\" \")\n",
    "b = x[ix_space+1:]\n",
    "a = x[0:ix_space]\n",
    "b + \" \" + a"
   ]
  },
  {
   "cell_type": "markdown",
   "metadata": {},
   "source": [
    "## Tuples\n",
    "\n",
    "Tuples are a fixed sequence of values that are bound together as a unit into a single new value. You make a tuple simply by listing the values you want, separated by commas. Tuples are often written in parentheses; while these are optional, it's good practice to include them to avoid confusion."
   ]
  },
  {
   "cell_type": "code",
   "execution_count": null,
   "metadata": {
    "collapsed": true
   },
   "outputs": [],
   "source": [
    "a = (\"Steven\", \"Haarlem\", 3247934)\n",
    "a"
   ]
  },
  {
   "cell_type": "markdown",
   "metadata": {},
   "source": [
    "To be recognisable as a tuple, the expression needs to be `()` for the empty tuple, or it needs to contain at least one comma. This is tricky if you want to create a tuple of only one element!"
   ]
  },
  {
   "cell_type": "code",
   "execution_count": null,
   "metadata": {
    "collapsed": true
   },
   "outputs": [],
   "source": [
    "type(()) # The empty tuple"
   ]
  },
  {
   "cell_type": "code",
   "execution_count": null,
   "metadata": {
    "collapsed": true
   },
   "outputs": [],
   "source": [
    "type((8)) # The parentheses around the 8 don't look tuple-y enough for Python"
   ]
  },
  {
   "cell_type": "code",
   "execution_count": null,
   "metadata": {
    "collapsed": true
   },
   "outputs": [],
   "source": [
    "type((8,)) # So a tuple with one value is written like this"
   ]
  },
  {
   "cell_type": "markdown",
   "metadata": {},
   "source": [
    "You can index tuples in the same way you can index strings, using brackets. Remember that Python starts counting at zero!"
   ]
  },
  {
   "cell_type": "code",
   "execution_count": null,
   "metadata": {
    "collapsed": true
   },
   "outputs": [],
   "source": [
    "a[1]"
   ]
  },
  {
   "cell_type": "markdown",
   "metadata": {},
   "source": [
    "Since tuples are Python values like any other, you can stick tuples inside other tuples:"
   ]
  },
  {
   "cell_type": "code",
   "execution_count": 3,
   "metadata": {},
   "outputs": [
    {
     "data": {
      "text/plain": [
       "(('Steven', 'Haarlem', 3247934), ('Maarten', 'Leiden', 129831))"
      ]
     },
     "execution_count": 3,
     "metadata": {},
     "output_type": "execute_result"
    }
   ],
   "source": [
    "b = ((\"Steven\",  \"Haarlem\", 3247934),\n",
    "     (\"Maarten\", \"Leiden\",   129831))\n",
    "b"
   ]
  },
  {
   "cell_type": "code",
   "execution_count": null,
   "metadata": {
    "collapsed": true
   },
   "outputs": [],
   "source": [
    "# Exercise: Write a Python expression to access the *city* of the *first* person in `b`."
   ]
  },
  {
   "cell_type": "code",
   "execution_count": null,
   "metadata": {
    "collapsed": true
   },
   "outputs": [],
   "source": [
    "b[0][1]"
   ]
  },
  {
   "cell_type": "code",
   "execution_count": null,
   "metadata": {
    "collapsed": true
   },
   "outputs": [],
   "source": [
    "# Exercise: Write a Python expression to access the *name* of the *second* person in `b`."
   ]
  },
  {
   "cell_type": "markdown",
   "metadata": {},
   "source": [
    "To unpack a tuple into its component values, we can use bracket indexing as we've seen above, but another option is to write a tuple of variable names as the *target* of an assignment operation. In such expressions, underscores can be used to indicate that you're not interested in that value."
   ]
  },
  {
   "cell_type": "code",
   "execution_count": null,
   "metadata": {
    "collapsed": true
   },
   "outputs": [],
   "source": [
    "(person1, (_, city2, _)) = b # complicated tuple assignment\n",
    "\n",
    "print(\"Person 1 is\", person1, \"; the city of person 2 is\", city2)"
   ]
  },
  {
   "cell_type": "markdown",
   "metadata": {},
   "source": [
    "This is often very useful, because it allows you to conveniently give names to all the elements of a tuple. In fact, it also allows you to swap the values of two variables!"
   ]
  },
  {
   "cell_type": "code",
   "execution_count": null,
   "metadata": {
    "collapsed": true
   },
   "outputs": [],
   "source": [
    "a = 2\n",
    "b = 3\n",
    "(a,b) = (b,a) # swap!\n",
    "print(\"a =\",a,\"; b =\",b)"
   ]
  }
 ],
 "metadata": {
  "kernelspec": {
   "display_name": "Python [default]",
   "language": "python",
   "name": "python3"
  },
  "language_info": {
   "codemirror_mode": {
    "name": "ipython",
    "version": 3
   },
   "file_extension": ".py",
   "mimetype": "text/x-python",
   "name": "python",
   "nbconvert_exporter": "python",
   "pygments_lexer": "ipython3",
   "version": "3.5.3"
  }
 },
 "nbformat": 4,
 "nbformat_minor": 1
}
