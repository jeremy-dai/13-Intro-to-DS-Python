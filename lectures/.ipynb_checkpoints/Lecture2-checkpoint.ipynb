{
 "cells": [
  {
   "cell_type": "markdown",
   "metadata": {},
   "source": [
    "# Lecture 2: control structures and functions\n",
    "\n",
    "In the first lecture we learned about the differences between variables, types and values, and we saw a bunch of Python's built in types: basic types (`int`, `float`, `bool`, `str`) and one compound type (`tuple`).\n",
    "\n",
    "Today we will have a look at *control structures*. There really are only four:\n",
    "\n",
    "- `if` (with `elif` and `else`)\n",
    "- `while` (with `break` and `continue`)\n",
    "- `for` (with iterable objects)\n",
    "- functions (with `def` and `return`).\n",
    "\n",
    "After this lecture, we will have covered the basic building blocks that allow you to write all kinds of real programs, although we still miss a lot of tools that will make this much more convenient later on."
   ]
  },
  {
   "cell_type": "markdown",
   "metadata": {},
   "source": [
    "## Conditional execution: `if`, `elif` and `else`"
   ]
  },
  {
   "cell_type": "markdown",
   "metadata": {},
   "source": [
    "The first mechanism for controlling the flow of a program is `if`. It looks as follows:\n",
    "\n",
    "```\n",
    "if <boolean expression>:\n",
    "    # stuff that needs to happen if the expression is True\n",
    "elif <boolean expression>:\n",
    "    # stuff that needs to happen if the second expression is True\n",
    "elif ...\n",
    "else:\n",
    "    # stuff that needs to happen if no cases apply\n",
    "```\n",
    "\n",
    "(The `elif` and `else` parts can be omitted.)\n",
    "\n",
    "Note the colons: they are a required part of the syntax.\n",
    "Also note that (unlike in other languages) the part of the program controlled by these statements is marked by indentation.\n",
    "\n",
    "Here is an example:"
   ]
  },
  {
   "cell_type": "code",
   "execution_count": 1,
   "metadata": {},
   "outputs": [
    {
     "name": "stdout",
     "output_type": "stream",
     "text": [
      "It's definitely less than 10.\n"
     ]
    }
   ],
   "source": [
    "a = 7\n",
    "if a<10:\n",
    "    # It's fine for this block to contain\n",
    "    # multiple lines, like this one.\n",
    "    print(\"It's definitely less than 10.\")\n",
    "elif a>20:\n",
    "    print(\"It's definitely more than 20.\")\n",
    "else:\n",
    "    print(\"It's somewhere between 10 and 20.\")"
   ]
  },
  {
   "cell_type": "markdown",
   "metadata": {},
   "source": [
    "Much of the time, you will not need any `elif` or `else` parts and you just have a part of your program that only gets executed if a certain thing is the case."
   ]
  },
  {
   "cell_type": "markdown",
   "metadata": {},
   "source": [
    "**If with non-boolean expressions**\n",
    "\n",
    "Most of the time, you will stick an expression with a boolean value into an `if`. However, it is not forbidden to stick other kinds of expression into an `if`. If you do this, you will find that most values count as `True`, but some do not:"
   ]
  },
  {
   "cell_type": "code",
   "execution_count": 2,
   "metadata": {},
   "outputs": [
    {
     "name": "stdout",
     "output_type": "stream",
     "text": [
      "hello is true\n",
      " is false\n",
      "3.141592 is true\n",
      "0.0 is false\n",
      "0 is false\n",
      "(5, 'hello') is true\n",
      "() is false\n"
     ]
    }
   ],
   "source": [
    "val = \"hello\" # string\n",
    "if val:\n",
    "    print(val, \"is true\")\n",
    "else:\n",
    "    print(val, \"is false\")\n",
    "\n",
    "val = \"\" # empty string\n",
    "if val:\n",
    "    print(val, \"is true\")\n",
    "else:\n",
    "    print(val, \"is false\")\n",
    "    \n",
    "val = 3.141592 # pi (float)\n",
    "if val:\n",
    "    print(val, \"is true\")\n",
    "else:\n",
    "    print(val, \"is false\")\n",
    "\n",
    "val = 0.0 # zero (float)\n",
    "if val:\n",
    "    print(val, \"is true\")\n",
    "else:\n",
    "    print(val, \"is false\")\n",
    "    \n",
    "val = 0 # zero (int)\n",
    "if val:\n",
    "    print(val, \"is true\")\n",
    "else:\n",
    "    print(val, \"is false\")\n",
    "\n",
    "val = (5, \"hello\") # tuple\n",
    "if val:\n",
    "    print(val, \"is true\")\n",
    "else:\n",
    "    print(val, \"is false\")\n",
    "    \n",
    "val = () # empty tuple\n",
    "if val:\n",
    "    print(val, \"is true\")\n",
    "else:\n",
    "    print(val, \"is false\")"
   ]
  },
  {
   "cell_type": "markdown",
   "metadata": {},
   "source": [
    "## Repeated execution (loops): `while`, `break` and `continue`\n",
    "\n",
    "A `while` statement introduces a block of code that will be executed in a *loop*: it will be executed 0 or more times, while a certain condition is true. It looks as follows:\n",
    "\n",
    "```\n",
    "while <boolean expression>:\n",
    "    # stuff that needs to happen while the expression is True\n",
    "    # possibly includes break and continue statements\n",
    "```\n",
    "\n",
    "\n",
    "\n",
    "Here is an example:"
   ]
  },
  {
   "cell_type": "code",
   "execution_count": 3,
   "metadata": {},
   "outputs": [
    {
     "name": "stdout",
     "output_type": "stream",
     "text": [
      "The value of a is now 1\n",
      "The value of a is now 2\n",
      "The value of a is now 3\n",
      "The value of a is now 4\n",
      "The value of a is now 5\n",
      "The value of a is now 6\n",
      "The value of a is now 7\n",
      "The value of a is now 8\n",
      "The value of a is now 9\n",
      "The value of a is now 10\n"
     ]
    }
   ],
   "source": [
    "a = 1\n",
    "while a <= 10:\n",
    "    print(\"The value of a is now\", a)\n",
    "    a = a+1"
   ]
  },
  {
   "cell_type": "markdown",
   "metadata": {},
   "source": [
    "Using a combination of `while` and `if` constructs, it's already possible to make the computer do whatever we want it\n",
    "to. Note that we can actually use `while` *inside* an `if`-block or vice versa."
   ]
  },
  {
   "cell_type": "code",
   "execution_count": 4,
   "metadata": {
    "collapsed": true
   },
   "outputs": [],
   "source": [
    "# Exercise:\n",
    "# Design a program to print the first 10 Fibonacci numbers: 0,1,1,2,3,5,...\n",
    "for i"
   ]
  },
  {
   "cell_type": "markdown",
   "metadata": {},
   "source": [
    "There are two special statements that you can use in the body of a loop.\n",
    "\n",
    "- `continue` skips the rest of the indented block and immediately starts the next iteration of the loop (provided the condition in the `while` is still `True`).\n",
    "- `break` exits the loop altogether, regardless of whether the condition in the `while` statement is `True` or not."
   ]
  },
  {
   "cell_type": "code",
   "execution_count": null,
   "metadata": {
    "collapsed": true
   },
   "outputs": [],
   "source": [
    "# Exercise:\n",
    "# Write a program to find a divisor of a given number.\n",
    "# Any divisor > 1 and < n is okay.\n",
    "\n",
    "number = 987527\n",
    "\n",
    "# Exercise:\n",
    "# - How could this program be sped up?\n",
    "# - Would that change which divisor it finds?"
   ]
  },
  {
   "cell_type": "markdown",
   "metadata": {},
   "source": [
    "## Iterable types\n",
    "\n",
    "Many types in Python are iterable, which is a fancy way of saying they support producing a sequence of values. This allows them to be used with the last loop construct called `for`.\n",
    "\n",
    "So far, we know of two iterable types:\n",
    "\n",
    "- Tuples\n",
    "- Strings\n",
    "\n",
    "But later we will introduce a number of additional built in types:\n",
    "\n",
    "- Ranges (below)\n",
    "- Lists (next lecture)\n",
    "- Sets (next lecture)\n",
    "- Dictionaries (next lecture)\n",
    "- Generators (not discussed)\n",
    "\n",
    "**Iterable types can also be used in many functions, including the `tuple` type constructor to make a tuple out of the sequence.**"
   ]
  },
  {
   "cell_type": "code",
   "execution_count": null,
   "metadata": {
    "collapsed": true
   },
   "outputs": [],
   "source": [
    "# Exercise: create a tuple with the letters of the word \"abracadabra\".\n"
   ]
  },
  {
   "cell_type": "markdown",
   "metadata": {},
   "source": [
    "## Loops over iterable data types: `for`\n",
    "\n",
    "We often need to do something with every item in some container object. For example, each character in a string, or each item in a tuple. We can often do this with `while`. For example, here is a program to print out each individual letter from a string:"
   ]
  },
  {
   "cell_type": "code",
   "execution_count": null,
   "metadata": {
    "collapsed": true
   },
   "outputs": [],
   "source": [
    "s = \"hello\"\n",
    "i = 0\n",
    "while i<len(s):\n",
    "    print(\"The letter at index\", i, \"is\", s[i], \".\")\n",
    "    i = i+1"
   ]
  },
  {
   "cell_type": "markdown",
   "metadata": {},
   "source": [
    "Now, you have to do this kind of thing *so often* in programming that there is a special mechanism to do it, using the keyword `for`. A `for`-loop looks like this:\n",
    "\n",
    "```\n",
    "for <variable> in <iterable object>:\n",
    "    # do stuff with <variable>\n",
    "```\n",
    "\n",
    "Used with a string, `for` allows us to do something with every letter very easily (although we no longer have access to the index of each element, which is sometimes inconvenient; but we'll see later how we can get around that issue)."
   ]
  },
  {
   "cell_type": "code",
   "execution_count": null,
   "metadata": {
    "collapsed": true
   },
   "outputs": [],
   "source": [
    "for c in \"hello\":\n",
    "    print(\"Here is a letter from the string:\", c)"
   ]
  },
  {
   "cell_type": "code",
   "execution_count": null,
   "metadata": {
    "collapsed": true
   },
   "outputs": [],
   "source": [
    "# Exercise:\n",
    "# Write a for loop to calculate the sum of the numbers in this tuple:\n",
    "\n",
    "t = (0,1,1,2,3,5,8)\n"
   ]
  },
  {
   "cell_type": "markdown",
   "metadata": {},
   "source": [
    "## Regular number sequences: `range`\n",
    "\n",
    "It is often very useful to loop over a sequence of increasing or decreasing numbers. To this end, Python has an additional iterable type, called a `range`. It represents a sequence of numbers with regular increments.\n",
    "\n",
    "```\n",
    "range(<first number to include>, <first number to exclude>, <increment>)\n",
    "```\n",
    "\n",
    "You can omit the increment, which is 1 by default, and you can also omit the first number to include, which is 0 by default. (Really, it works the same way we saw before, with indexing a string or tuple.) So let's try it out:"
   ]
  },
  {
   "cell_type": "code",
   "execution_count": null,
   "metadata": {
    "collapsed": true
   },
   "outputs": [],
   "source": [
    "a = range(2,10,2) # start at 2, end BEFORE 10, go in steps of 2\n",
    "a"
   ]
  },
  {
   "cell_type": "code",
   "execution_count": null,
   "metadata": {
    "collapsed": true
   },
   "outputs": [],
   "source": [
    "for n in a:\n",
    "    print(\"number:\", n)"
   ]
  },
  {
   "cell_type": "code",
   "execution_count": null,
   "metadata": {
    "collapsed": true
   },
   "outputs": [],
   "source": [
    "tuple(a)"
   ]
  },
  {
   "cell_type": "code",
   "execution_count": null,
   "metadata": {
    "collapsed": true
   },
   "outputs": [],
   "source": [
    "for i in range(10):\n",
    "    print(\"i=\",i)"
   ]
  },
  {
   "cell_type": "markdown",
   "metadata": {},
   "source": [
    "If we need a loop that does something with the *indices*, it's very handy to **use `for` in combination with `range`**. This allows us to rewrite our first iteration over a string more elegantly:"
   ]
  },
  {
   "cell_type": "code",
   "execution_count": null,
   "metadata": {
    "collapsed": true
   },
   "outputs": [],
   "source": [
    "s = \"hello\"\n",
    "for i in range(len(s)):\n",
    "    print(\"The letter at index\", i, \"is\", s[i], \".\")"
   ]
  },
  {
   "cell_type": "code",
   "execution_count": null,
   "metadata": {
    "collapsed": true
   },
   "outputs": [],
   "source": [
    "# Exercise: construct a tuple (1,2,3,4,5,6,7,8,9,10) using range."
   ]
  },
  {
   "cell_type": "markdown",
   "metadata": {},
   "source": [
    "## Functions\n",
    "\n",
    "Functions are the main tool for organising your program in multiple self contained parts, so that it does not become one big bowl of spaghetti.\n",
    "\n",
    "A function takes a bunch of values as input, does some operations on them, and it may or may not yield another value as output. A function usually looks like this:\n",
    "\n",
    "```\n",
    "def <function name>(<argument1>, <argument2>, ...):\n",
    "    # do stuff with the arguments...\n",
    "    return <some value>\n",
    "```\n",
    "\n",
    "Here is an example:"
   ]
  },
  {
   "cell_type": "code",
   "execution_count": null,
   "metadata": {
    "collapsed": true
   },
   "outputs": [],
   "source": [
    "# in:  an iterable object containing numbers (e.g., a tuple or range)\n",
    "# out: the sum of squares of the numbers\n",
    "\n",
    "def sum_of_squares(numbers):\n",
    "    ssq = 0\n",
    "    for n in numbers:\n",
    "        ssq += n*n\n",
    "    return ssq"
   ]
  },
  {
   "cell_type": "code",
   "execution_count": null,
   "metadata": {
    "collapsed": true
   },
   "outputs": [],
   "source": [
    "sum_of_squares((3,4,5))"
   ]
  },
  {
   "cell_type": "markdown",
   "metadata": {},
   "source": [
    "This defines the function. The first line specifies the *name* of the function (`sum_of_squares`), and zero or more *arguments*: names of values that are to be supplied to the function when it is invoked. Under the definition, marked by indentation, is the function *body*: some Python code that defines the behaviour of the function.\n",
    "\n",
    "The function stops when the indented code ends, or when a `return` statement is encountered; the return statement is used to specify which value is output by the function. While `return` often appears at the end of the function body, this is not necessary: it may not appear at all, or there may be multiple `return` statements in the function body.\n",
    "\n",
    "Since the definition lists only one argument, called `numbers`, this function needs to be invoked with just one value. However since the `numbers` are used in a for-loop, clearly that value is intended to be an iterable object. Since the items in `numbers` are also used in a multiplication, we can deduce that `numbers` should contain a bunch of numbers. This is also documented in the comment preceding the function.\n",
    "\n",
    "The function then calculates the sum of squares, and the `return` statement stops the function with that value as a result. Here is an example of how the function can be used:"
   ]
  },
  {
   "cell_type": "code",
   "execution_count": null,
   "metadata": {
    "collapsed": true
   },
   "outputs": [],
   "source": [
    "sum_of_squares(range(6))"
   ]
  },
  {
   "cell_type": "code",
   "execution_count": null,
   "metadata": {
    "collapsed": true
   },
   "outputs": [],
   "source": [
    "# Exercise: why doesn't this work? How should we fix it?\n",
    "\n",
    "sum_of_squares(3,7,2)"
   ]
  },
  {
   "cell_type": "markdown",
   "metadata": {},
   "source": [
    "Functions allow you to split up a problem into manageable chunks, and these chunks can later be reused in other parts of your program, so you don't have to solve the same problem twice. "
   ]
  },
  {
   "cell_type": "code",
   "execution_count": null,
   "metadata": {
    "collapsed": true
   },
   "outputs": [],
   "source": [
    "# Exercise: copy the code for finding a divisor from above.\n",
    "#           Modify it to create a function with the following input\n",
    "#           and output:\n",
    "\n",
    "# in : an int n greater than zero\n",
    "# out: a divisor of n, greater than one (if n is prime, this is n itself)\n",
    "\n",
    "# Write the function here, and then list all primes below 100 using a for loop\n"
   ]
  },
  {
   "cell_type": "markdown",
   "metadata": {},
   "source": [
    "Some functions do not contain a return statement. If you call these functions, can you still use the value that comes out? Let's test this:"
   ]
  },
  {
   "cell_type": "code",
   "execution_count": null,
   "metadata": {
    "collapsed": true
   },
   "outputs": [],
   "source": [
    "# in: -\n",
    "# out: -\n",
    "# side effect: displays some text.\n",
    "\n",
    "def pointOfNoReturn():\n",
    "    print(\"I'm in the function. Not going to return anything.\")\n",
    "\n",
    "a = pointOfNoReturn()\n",
    "print(\"The value of a is\",a)"
   ]
  },
  {
   "cell_type": "markdown",
   "metadata": {},
   "source": [
    "Functions are so useful that there are a lot of clever extensions to how you can pass arguments to a function.\n",
    "\n",
    "**Trick #1. It is possible to give arguments default values.**"
   ]
  },
  {
   "cell_type": "code",
   "execution_count": null,
   "metadata": {
    "collapsed": true
   },
   "outputs": [],
   "source": [
    "def f(arg1=3, arg2=\"hello\"):\n",
    "    print(\"arg1 =\", arg1)\n",
    "    print(\"arg2 =\", arg2)\n",
    "    \n",
    "f()"
   ]
  },
  {
   "cell_type": "code",
   "execution_count": null,
   "metadata": {
    "collapsed": true
   },
   "outputs": [],
   "source": [
    "f(\"boo\")"
   ]
  },
  {
   "cell_type": "markdown",
   "metadata": {},
   "source": [
    "(Note that `f` has no return value at all: they are optional.)"
   ]
  },
  {
   "cell_type": "markdown",
   "metadata": {},
   "source": [
    "**Trick #2. You can pass arguments by name instead of in order.**"
   ]
  },
  {
   "cell_type": "code",
   "execution_count": null,
   "metadata": {
    "collapsed": true
   },
   "outputs": [],
   "source": [
    "f(arg2=1)"
   ]
  },
  {
   "cell_type": "markdown",
   "metadata": {},
   "source": [
    "**Trick #3. You can unpack arguments from a tuple by using `*` *in the function call*.**"
   ]
  },
  {
   "cell_type": "code",
   "execution_count": null,
   "metadata": {
    "collapsed": true
   },
   "outputs": [],
   "source": [
    "tup = (\"first\", \"second\")\n",
    "f(*tup)"
   ]
  },
  {
   "cell_type": "markdown",
   "metadata": {},
   "source": [
    "**Trick #4. A function can accept all leftover arguments as a tuple by using `*` *in the function definition*.**"
   ]
  },
  {
   "cell_type": "code",
   "execution_count": null,
   "metadata": {
    "collapsed": true
   },
   "outputs": [],
   "source": [
    "def f(x, y, *zs):\n",
    "    print(\"x  =\", x)\n",
    "    print(\"y  =\", y)\n",
    "    print(\"zs =\", zs)\n",
    "    \n",
    "f(1,2,3,4,5,6,7,8,9,10)"
   ]
  },
  {
   "cell_type": "code",
   "execution_count": null,
   "metadata": {
    "collapsed": true
   },
   "outputs": [],
   "source": [
    "# Exercise: write a function \"mymax\" that returns the maximum of its arguments.\n",
    "\n",
    "# in: a bunch of numbers (at least one)\n",
    "# out: the maximum of the numbers\n",
    "def mymax(*xs):\n",
    "    if not xs:\n",
    "        print(\"I do need at least one number, grmbl\")\n",
    "        return\n",
    "    the_max = None\n",
    "    for x in xs:\n",
    "        if the_max==None or x>the_max:\n",
    "            the_max = x\n",
    "    return the_max\n",
    "\n",
    "    \n",
    "print(\"the max of 3, 7, 42 and -2 is \", mymax(3,7,42,-2))"
   ]
  },
  {
   "cell_type": "markdown",
   "metadata": {},
   "source": [
    "*Next week, we will cover the remaining important built-in types in Python, and take some time to understand some of the trickier rules of the language. After that we will have covered the basics and we can proceed to more data sciency stuff.*"
   ]
  },
  {
   "cell_type": "code",
   "execution_count": null,
   "metadata": {
    "collapsed": true
   },
   "outputs": [],
   "source": [
    "def f():\n",
    "    return (\"hello\", 3)\n",
    "\n",
    "(val1, val2) = f()\n",
    "\n"
   ]
  },
  {
   "cell_type": "code",
   "execution_count": null,
   "metadata": {
    "collapsed": true
   },
   "outputs": [],
   "source": []
  }
 ],
 "metadata": {
  "kernelspec": {
   "display_name": "Python [default]",
   "language": "python",
   "name": "python3"
  },
  "language_info": {
   "codemirror_mode": {
    "name": "ipython",
    "version": 3
   },
   "file_extension": ".py",
   "mimetype": "text/x-python",
   "name": "python",
   "nbconvert_exporter": "python",
   "pygments_lexer": "ipython3",
   "version": "3.5.3"
  }
 },
 "nbformat": 4,
 "nbformat_minor": 1
}
