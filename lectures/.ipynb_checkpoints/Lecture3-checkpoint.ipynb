{
 "cells": [
  {
   "cell_type": "markdown",
   "metadata": {},
   "source": [
    "# Lecture 3: mutable types: lists, sets, dictionaries\n",
    "\n",
    "In this lecture we'll cover the last of Python's important built in data types. Unlike the types that we've seen before, some of these are *mutable*, meaning they can be changed.\n",
    "\n",
    "Mutable objects can be very handy, but they also introduce some subtle issues that we'll have a look at."
   ]
  },
  {
   "cell_type": "markdown",
   "metadata": {},
   "source": [
    "## Mutable types\n",
    "\n",
    "All types we have considered so far are **immutable**. That means that once a value of the type is constructed, it can never change. To make sure this sinks in properly, consider the following code:"
   ]
  },
  {
   "cell_type": "code",
   "execution_count": null,
   "metadata": {
    "collapsed": true
   },
   "outputs": [],
   "source": [
    "a = 3 # assign 3 to a\n",
    "a = 5 # assign 5 to a\n",
    "a"
   ]
  },
  {
   "cell_type": "markdown",
   "metadata": {},
   "source": [
    "This works fine, and it looks like we're changing a value from 3 to 5. However, what actually happens is the following sequence:\n",
    "\n",
    "1. Construct an `int` with value 3.\n",
    "2. Let the variable `a` refer to that value.\n",
    "3. Construct a *second* `int`, this time with value 5.\n",
    "4. Redirect the variable `a` to refer to that second value. The first value is now unused and is automatically discarded (\"garbage collection\").\n",
    "\n",
    "So the first value is simply discarded, it is *not* modified.\n",
    "\n",
    "Similarly, strings and tuples are immutable."
   ]
  },
  {
   "cell_type": "code",
   "execution_count": null,
   "metadata": {
    "collapsed": true
   },
   "outputs": [],
   "source": [
    "# Exercise: assign a string to a variable s and try to change\n",
    "#           the second letter to be equal to the first.\n",
    "\n",
    "s = \"string\"\n",
    "s[1] = s[0]"
   ]
  },
  {
   "cell_type": "markdown",
   "metadata": {},
   "source": [
    "In practice, it would sometimes be very handy to be able to change the entry of a tuple; for that reason there is a second built in type in Python that looks a lot like tuples, except that they can actually be modified: `list`."
   ]
  },
  {
   "cell_type": "markdown",
   "metadata": {},
   "source": [
    "### Mutable tuples: `list`\n",
    "\n",
    "Lists behave exactly like tuples, except that they can be modified.\n",
    "\n",
    "A list is constructed with square brackets instead of round brackets, or as usual, one can use the type constructor `list`."
   ]
  },
  {
   "cell_type": "code",
   "execution_count": null,
   "metadata": {
    "collapsed": true
   },
   "outputs": [],
   "source": [
    "a = (1,2,3) # a tuple\n",
    "a[2] = 4    # not allowed"
   ]
  },
  {
   "cell_type": "code",
   "execution_count": null,
   "metadata": {
    "collapsed": true
   },
   "outputs": [],
   "source": [
    "b = [1,2,3] # a list\n",
    "b[2] = 4    # this should be allowed since b is a list\n",
    "b"
   ]
  },
  {
   "cell_type": "code",
   "execution_count": null,
   "metadata": {
    "collapsed": true
   },
   "outputs": [],
   "source": [
    "list(range(5)) # a list made using the type constructor"
   ]
  },
  {
   "cell_type": "markdown",
   "metadata": {},
   "source": [
    "You can assign to lists just like you can assign to tuples, which unpacks the list into variables."
   ]
  },
  {
   "cell_type": "code",
   "execution_count": null,
   "metadata": {
    "collapsed": true
   },
   "outputs": [],
   "source": [
    "[a,b] = [3,\"boo\"]\n",
    "print(\"a is now\", a,\"and b is\", b)"
   ]
  },
  {
   "cell_type": "markdown",
   "metadata": {},
   "source": [
    "It doesn't actually matter if you use round or square brackets on either side: the unpacking works anyway."
   ]
  },
  {
   "cell_type": "code",
   "execution_count": null,
   "metadata": {
    "collapsed": true
   },
   "outputs": [],
   "source": [
    "(a,b) = [3, \"boo\"]\n",
    "print(\"a is now\", a,\"and b is\", b)"
   ]
  },
  {
   "cell_type": "markdown",
   "metadata": {},
   "source": [
    "Since lists are so much like tuples, but more powerful, the question becomes, why are tuples useful in the first place and when should I use which? \n",
    "\n",
    "The most important difference is that tuples can be stored in sets and dictionaries, which are introduced below.\n",
    "\n",
    "Also, tuples are sometimes a bit faster, and may require less memory than lists. They are more readable, since you don't have to worry that they might get modified somewhere down the line. So the rule of thumb is:\n",
    "\n",
    "**Use a tuple when you know don't need to modify, or in sets and dictionaries.**\n",
    "\n",
    "Often, it really doesn't matter all that much so don't get hung up about it."
   ]
  },
  {
   "cell_type": "code",
   "execution_count": null,
   "metadata": {
    "collapsed": true
   },
   "outputs": [],
   "source": [
    "# Exercise: is the following a tuple or a list?\n",
    "# Check your answer using the function 'type'.\n",
    "# Make sure you understand what's going on here!\n",
    "\n",
    "a = ([4,5],6)\n",
    "type(a)"
   ]
  },
  {
   "cell_type": "markdown",
   "metadata": {},
   "source": [
    "You can append a new item onto an existing list using `append`:"
   ]
  },
  {
   "cell_type": "code",
   "execution_count": null,
   "metadata": {
    "collapsed": true
   },
   "outputs": [],
   "source": [
    "b = [\"elephant\"]\n",
    "b.append(\"trunk\") # extends the existing list\n",
    "print(b)"
   ]
  },
  {
   "cell_type": "markdown",
   "metadata": {},
   "source": [
    "`append` actually changes the list; this is different from concatenation with `+`, which makes a new list:"
   ]
  },
  {
   "cell_type": "code",
   "execution_count": null,
   "metadata": {
    "collapsed": true
   },
   "outputs": [],
   "source": [
    "a = [\"a\", \"list\"]\n",
    "b = [\"another\", \"one\"]\n",
    "together = a+b\n",
    "a"
   ]
  },
  {
   "cell_type": "markdown",
   "metadata": {},
   "source": [
    "## The bitter pill: references to mutable values\n",
    "\n",
    "Now that we've added a mutable type to our arsenal, there are some rules of Python that we need to know about that are not immediately obvious, namely the difference between *copies* of a value (meaning that it appears multiple times in the computer memory), and *references* to a value (all references refer to the same value in computer memory).\n",
    "\n",
    "I have to warn you that this is a confusing subject and that *many* data scientists who use Python do not know how this works very well. I still want you to learn about this, because it is crucial for a good understanding of Python. It is the most in-depth aspect of the language I will ask you to understand.\n",
    "\n",
    "In the first lecture, I was careful to write that a variable \"refers to\" a value. It's not itself that value. Recall the following example:"
   ]
  },
  {
   "cell_type": "code",
   "execution_count": null,
   "metadata": {
    "collapsed": true
   },
   "outputs": [],
   "source": [
    "a = 3 # assign 3 to a\n",
    "a = 5 # assign 5 to a\n",
    "a"
   ]
  },
  {
   "cell_type": "markdown",
   "metadata": {},
   "source": [
    "It looks like an integer value is \"modified\" from 3 into 5, right?\n",
    "\n",
    "What actually happens is that *two distinct* integer values get constructed, and `a` refers to first one, then the other.\n",
    "\n",
    "The distinction does not matter all that much as long as you deal with immutable types. But once you have mutable objects, it's important to realise that, for efficiency reasons, **assignment just creates a *reference*, it does not copy the value**. The following experiment shows how this works:"
   ]
  },
  {
   "cell_type": "code",
   "execution_count": null,
   "metadata": {
    "collapsed": true
   },
   "outputs": [],
   "source": [
    "# construct a list and then let a refer to it\n",
    "a = [\"hello\", \"innocent\", \"world\", \"of\", \"immutable\", \"values\"] \n",
    "\n",
    "# copy the reference: b now refers to *the same* list\n",
    "b = a\n",
    "\n",
    "# change b to see what happens to a\n",
    "b[0] = \"goodbye\"\n",
    "\n",
    "a"
   ]
  },
  {
   "cell_type": "markdown",
   "metadata": {},
   "source": [
    "So, an assignment makes a variable, or an entry in a list, refer to a value *that already exists*. It does not create or copy that value. The same happens when we call a function with a list: the function argument is a *reference* to the list, **not a copy**:"
   ]
  },
  {
   "cell_type": "code",
   "execution_count": null,
   "metadata": {
    "collapsed": true
   },
   "outputs": [],
   "source": [
    "def f(someList):\n",
    "    someList[0] = \"changed\"\n",
    "\n",
    "a = [\"unchanged\", \"list\"]\n",
    "f(a)\n",
    "a"
   ]
  },
  {
   "cell_type": "markdown",
   "metadata": {},
   "source": [
    "These rules are subtle and can lead to confusion!"
   ]
  },
  {
   "cell_type": "code",
   "execution_count": null,
   "metadata": {
    "collapsed": true
   },
   "outputs": [],
   "source": [
    "# Exercise:\n",
    "# Before you run this code: think: what will happen? Why?\n",
    "\n",
    "def f(someList):\n",
    "    someList = [\"I\", \"don't\", \"know\"]\n",
    "\n",
    "def g(someList):\n",
    "    someList[:] = [\"I\", \"don't\", \"know\"]\n",
    "\n",
    "    \n",
    "a = [\"unchanged\", \"list\"]\n",
    "\n",
    "f(a)\n",
    "print(a)\n",
    "\n",
    "g(a)\n",
    "print(a)\n"
   ]
  },
  {
   "cell_type": "markdown",
   "metadata": {},
   "source": [
    "### Tl;dr\n",
    "\n",
    "The moral of the story is: once you work with mutable types, you have to start to distinguish between *constructing* values (possibly by copying a value that already existed), and *referring* to values that already existed.\n",
    "\n",
    "How can you tell the difference?\n",
    "\n",
    "Here are some common ways to *construct* new values:\n",
    "- By using literal expressions: `'bla'` for strings, `3` for integers, `3.5e-4` for floats, `None` for NoneType, `True` for booleans, `(\"hello\",)` for tuples, and `[\"hello\"]` for lists.\n",
    "- Many functions construct values, in particular the type constructor functions `tuple`, `list` and `range`, but also `str`, `int`, and so on, but also things like the list concatenation operator `+`.\n",
    "\n",
    "Here are ways to get *references* to values:\n",
    "- By assignment `=`\n",
    "- By calling a function. The function arguments are references.\n",
    "\n",
    "**Python rule: values disappear from memory when there are no more references to them.**"
   ]
  },
  {
   "cell_type": "markdown",
   "metadata": {},
   "source": [
    "### Testing whether two references are the same\n",
    "\n",
    "You can check if two expressions refer to the same value using the `is` operator. While `==` checks that one value is the same as another, `is` checks that the two expressions refer to **the same data in memory**."
   ]
  },
  {
   "cell_type": "code",
   "execution_count": null,
   "metadata": {
    "collapsed": true
   },
   "outputs": [],
   "source": [
    "a=\"the quick brown fox jumps over the lazy dog\"\n",
    "b=\"the quick brown fox jumps over the lazy dog\"\n",
    "(a == b, a is b)"
   ]
  },
  {
   "cell_type": "code",
   "execution_count": null,
   "metadata": {
    "collapsed": true
   },
   "outputs": [],
   "source": [
    "b = a\n",
    "(a == b, a is b)"
   ]
  },
  {
   "cell_type": "code",
   "execution_count": null,
   "metadata": {
    "collapsed": true
   },
   "outputs": [],
   "source": [
    "a = 3\n",
    "b = 3.0\n",
    "(a==b, a is b)"
   ]
  },
  {
   "cell_type": "markdown",
   "metadata": {},
   "source": [
    "Not crucially important but potentially confusing: for small, immutable objects, Python sometimes makes sure that only one instance is ever created. So don't be surprised if your code *looks* like you create two values, but only one actually gets made. This is only detectable if you test for identity with `is`:"
   ]
  },
  {
   "cell_type": "code",
   "execution_count": null,
   "metadata": {
    "collapsed": true
   },
   "outputs": [],
   "source": [
    "a = False\n",
    "b = False\n",
    "a is b"
   ]
  },
  {
   "cell_type": "code",
   "execution_count": null,
   "metadata": {
    "collapsed": true
   },
   "outputs": [],
   "source": [
    "a = \"hello\"\n",
    "b = str(\"hello\")\n",
    "a is b"
   ]
  },
  {
   "cell_type": "code",
   "execution_count": null,
   "metadata": {
    "collapsed": true
   },
   "outputs": [],
   "source": [
    "a = 42\n",
    "b = 42\n",
    "a is b"
   ]
  },
  {
   "cell_type": "markdown",
   "metadata": {},
   "source": [
    "**If two expressions refer to the same value according to `is`, they are also the same according to `==`, but not always the other way around.**"
   ]
  },
  {
   "cell_type": "markdown",
   "metadata": {},
   "source": [
    "**Exercise:** Suppose the variable `a` contains a very long string that takes up 2 gigabytes of the computer's memory. We now do\n",
    "\n",
    "```\n",
    "b=a\n",
    "```\n",
    "\n",
    "- How much additional memory is consumed after executing this statement? Why?\n",
    "\n",
    "Now we decide that `b` needs to be the string in reverse, so we use:\n",
    "\n",
    "```\n",
    "b=a[::-1]\n",
    "```\n",
    "\n",
    "- How much memory does this consume, you think?"
   ]
  },
  {
   "cell_type": "markdown",
   "metadata": {},
   "source": [
    "## Sets"
   ]
  },
  {
   "cell_type": "markdown",
   "metadata": {},
   "source": [
    "There are two more kinds of compound values in Python: sets and dictionaries. Both are iterable. \n",
    "\n",
    "Lets look at sets first. A set is an **unordered** collection of distinct values. It allows for very quick insertion, deletion and lookup of new values. In contrast, lists allow quick insertion and deletion at the end, and quick lookup by index, but have slow insertion, deletion and lookup by value.\n",
    "\n",
    "One example of how sets might be used is to determine the number of distinct words in a text; or a set might contain numbers or strings with a particular property, so that you can quickly check whether some number has that property or not, by checking if it's in the set.\n",
    "\n",
    "Sets can be constructed using curly brackets:"
   ]
  },
  {
   "cell_type": "code",
   "execution_count": null,
   "metadata": {
    "collapsed": true
   },
   "outputs": [],
   "source": [
    "a = {(3,4), \"hello\", (3,4), True}\n",
    "a"
   ]
  },
  {
   "cell_type": "markdown",
   "metadata": {},
   "source": [
    "Sets can also be constructed from iterable values using the type constructor:"
   ]
  },
  {
   "cell_type": "code",
   "execution_count": null,
   "metadata": {
    "collapsed": true
   },
   "outputs": [],
   "source": [
    "set([(3,4),\"hello\",(3,4),True])"
   ]
  },
  {
   "cell_type": "markdown",
   "metadata": {},
   "source": [
    "Note that the ordering of the items is lost and that only one among equal entries is retained (equal according to `==`, not `is`).\n",
    "\n",
    "You can see if an item is in the set using `in`:"
   ]
  },
  {
   "cell_type": "code",
   "execution_count": null,
   "metadata": {
    "collapsed": true
   },
   "outputs": [],
   "source": [
    "(\"True\" in a, (3,4) in a)"
   ]
  },
  {
   "cell_type": "code",
   "execution_count": null,
   "metadata": {
    "collapsed": true
   },
   "outputs": [],
   "source": [
    "3 in a"
   ]
  },
  {
   "cell_type": "markdown",
   "metadata": {},
   "source": [
    "Note that we saw before that `in` also worked for tuples and strings. However, testing set membership using `in` is *especially* fast, so consider using sets if you have to use `in` a lot!"
   ]
  },
  {
   "cell_type": "markdown",
   "metadata": {},
   "source": [
    "Sets are iterable, so you can use them in a `for` directly:"
   ]
  },
  {
   "cell_type": "code",
   "execution_count": null,
   "metadata": {
    "collapsed": true
   },
   "outputs": [],
   "source": [
    "for item in a:\n",
    "    print(\"Set item:\", item)"
   ]
  },
  {
   "cell_type": "markdown",
   "metadata": {},
   "source": [
    "Note that you are given no guarantees about the order in which they appear. It may be different after Python is updated to a new version, for example. Never rely on the order :)\n",
    "\n",
    "Sets are also *mutable*. You can add items to sets and remove items using `add` and `remove`, as follows:"
   ]
  },
  {
   "cell_type": "code",
   "execution_count": null,
   "metadata": {
    "collapsed": true
   },
   "outputs": [],
   "source": [
    "a.add(\"world\")\n",
    "a"
   ]
  },
  {
   "cell_type": "code",
   "execution_count": null,
   "metadata": {
    "collapsed": true
   },
   "outputs": [],
   "source": [
    "a.remove(\"world\")\n",
    "a"
   ]
  },
  {
   "cell_type": "markdown",
   "metadata": {},
   "source": [
    "The size of the set can be obtained with `len`:"
   ]
  },
  {
   "cell_type": "code",
   "execution_count": null,
   "metadata": {
    "collapsed": true
   },
   "outputs": [],
   "source": [
    "len(a)"
   ]
  },
  {
   "cell_type": "markdown",
   "metadata": {},
   "source": [
    "You can also use the following common set operations:"
   ]
  },
  {
   "cell_type": "code",
   "execution_count": null,
   "metadata": {
    "collapsed": true
   },
   "outputs": [],
   "source": [
    "a = { 1, 3, 5 }\n",
    "b = { 2, 3, 7 }\n",
    "\n",
    "# set union\n",
    "a | b"
   ]
  },
  {
   "cell_type": "code",
   "execution_count": null,
   "metadata": {
    "collapsed": true
   },
   "outputs": [],
   "source": [
    "# set intersection\n",
    "a & b"
   ]
  },
  {
   "cell_type": "code",
   "execution_count": null,
   "metadata": {
    "collapsed": true
   },
   "outputs": [],
   "source": [
    "# set difference\n",
    "a - b"
   ]
  },
  {
   "cell_type": "markdown",
   "metadata": {},
   "source": [
    "**Only immutable items can be stored in a set. So in particular, you cannot put a list or another set inside a set.**"
   ]
  },
  {
   "cell_type": "code",
   "execution_count": null,
   "metadata": {
    "collapsed": true
   },
   "outputs": [],
   "source": [
    "a.add(b)"
   ]
  },
  {
   "cell_type": "code",
   "execution_count": null,
   "metadata": {
    "collapsed": true
   },
   "outputs": [],
   "source": [
    "# Exercise: create a set that contains only the string \"abracadabra\""
   ]
  },
  {
   "cell_type": "code",
   "execution_count": null,
   "metadata": {
    "collapsed": true
   },
   "outputs": [],
   "source": [
    "# Exercise: use a set to count the number of distinct characters in \"abracadabra\".\n"
   ]
  },
  {
   "cell_type": "markdown",
   "metadata": {},
   "source": [
    "## Immutable sets: `frozenset`\n",
    "\n",
    "Python offers an immutable set type, called `frozenset`. Roughly, `set` is to `frozenset` as `list` is to `tuple`.\n",
    "\n",
    "While a list and a tuple of the same values do not count as \"equal\", a frozenset and a set of the same values do:"
   ]
  },
  {
   "cell_type": "code",
   "execution_count": null,
   "metadata": {
    "collapsed": true
   },
   "outputs": [],
   "source": [
    "print(\"list equals tuple    :\", [3,\"boo\"] == (3, \"boo\"))\n",
    "print(\"set  equals frozenset:\", {3,\"boo\"} == frozenset({\"boo\", 3}))"
   ]
  },
  {
   "cell_type": "markdown",
   "metadata": {},
   "source": [
    "But you cannot add new values to it:"
   ]
  },
  {
   "cell_type": "code",
   "execution_count": null,
   "metadata": {
    "collapsed": true
   },
   "outputs": [],
   "source": [
    "frozenset({3,\"boo\"}).add(\"hello\")"
   ]
  },
  {
   "cell_type": "markdown",
   "metadata": {},
   "source": [
    "Frozensets are useful because, being immutable, they can be stored in a set. Sometimes, it's useful to have a set of sets."
   ]
  },
  {
   "cell_type": "code",
   "execution_count": null,
   "metadata": {
    "collapsed": true
   },
   "outputs": [],
   "source": [
    "a = {\"hello\", 0}\n",
    "b = {\"world\", 1}\n",
    "a.add(frozenset(b))\n",
    "a"
   ]
  },
  {
   "cell_type": "markdown",
   "metadata": {},
   "source": [
    "Now, `a` contains a frozen version of the set `b`, which we can verify by looking it up:"
   ]
  },
  {
   "cell_type": "code",
   "execution_count": null,
   "metadata": {
    "collapsed": true
   },
   "outputs": [],
   "source": [
    "b in a"
   ]
  },
  {
   "cell_type": "markdown",
   "metadata": {},
   "source": [
    "Note that we looked up the *unfrozen* version - which worked because `b==frozenset(b)`. The same does not work with tuples and lists:"
   ]
  },
  {
   "cell_type": "code",
   "execution_count": null,
   "metadata": {
    "collapsed": true
   },
   "outputs": [],
   "source": [
    "a = [\"hello\", 0]\n",
    "b = [\"world\", 1]\n",
    "a.append(tuple(b))\n",
    "a\n"
   ]
  },
  {
   "cell_type": "code",
   "execution_count": null,
   "metadata": {
    "collapsed": true
   },
   "outputs": [],
   "source": [
    "b in a"
   ]
  },
  {
   "cell_type": "markdown",
   "metadata": {},
   "source": [
    "## Dictionaries\n",
    "\n",
    "Dictionaries are like sets, but every element of the set, now called a *key*, is now associated with a second item, called the *value*. So a dictionary is a *mapping* from keys to values. It is constructed like a set, where colons identify `key:value` pairs:"
   ]
  },
  {
   "cell_type": "code",
   "execution_count": null,
   "metadata": {
    "collapsed": true
   },
   "outputs": [],
   "source": [
    "a = { \"hello\": 1, \"world\": 2 }\n",
    "a"
   ]
  },
  {
   "cell_type": "code",
   "execution_count": null,
   "metadata": {
    "collapsed": true
   },
   "outputs": [],
   "source": [
    "type(a)"
   ]
  },
  {
   "cell_type": "markdown",
   "metadata": {},
   "source": [
    "You can view a dictionary as a generalisation of a list: in a list, the values are always indexed by an integer, but in a dictionary, the values can be indexed by *any* kind of key.\n",
    "\n",
    "Dictionaries can be used as an easy way to implement discrete functions, such as probability mass functions (keys: the outcomes, values: their probability mass), or to count the frequencies of the elements of a list (keys: the list elements, values: their frequencies).\n",
    "\n",
    "In practice, dictionaries are used more often than sets."
   ]
  },
  {
   "cell_type": "markdown",
   "metadata": {},
   "source": [
    "If you use the dictionary as an iterator, it will iterate over the keys."
   ]
  },
  {
   "cell_type": "code",
   "execution_count": null,
   "metadata": {
    "collapsed": true
   },
   "outputs": [],
   "source": [
    "tuple(a) # works because a is iterable"
   ]
  },
  {
   "cell_type": "markdown",
   "metadata": {},
   "source": [
    "You can also request iterators for either the keys or the values explicitly:"
   ]
  },
  {
   "cell_type": "code",
   "execution_count": null,
   "metadata": {
    "collapsed": true
   },
   "outputs": [],
   "source": [
    "print(\"keys  :\", tuple(a.keys()))\n",
    "print(\"values:\", tuple(a.values()))"
   ]
  },
  {
   "cell_type": "markdown",
   "metadata": {},
   "source": [
    "As with sets, you can still check if a key is in the dictionary:"
   ]
  },
  {
   "cell_type": "code",
   "execution_count": null,
   "metadata": {
    "collapsed": true
   },
   "outputs": [],
   "source": [
    "(\"hello\" in a, True in a)"
   ]
  },
  {
   "cell_type": "markdown",
   "metadata": {},
   "source": [
    "But now you can also look up the value associated with a specific key."
   ]
  },
  {
   "cell_type": "code",
   "execution_count": null,
   "metadata": {
    "collapsed": true
   },
   "outputs": [],
   "source": [
    "a[\"world\"]"
   ]
  },
  {
   "cell_type": "markdown",
   "metadata": {},
   "source": [
    "Like sets, dictionaries are mutable, so you can change the value associated with a key, and add new keys:"
   ]
  },
  {
   "cell_type": "code",
   "execution_count": null,
   "metadata": {
    "collapsed": true
   },
   "outputs": [],
   "source": [
    "a[\"new key\"] = 5\n",
    "del a[\"world\"]\n",
    "a"
   ]
  },
  {
   "cell_type": "markdown",
   "metadata": {},
   "source": [
    "For some reason, there is no immutable dictionary in Python."
   ]
  },
  {
   "cell_type": "markdown",
   "metadata": {
    "collapsed": true
   },
   "source": [
    "*Next lecture, we'll wrap up the basic language and start looking into actually using Python for real problems :)*"
   ]
  }
 ],
 "metadata": {
  "kernelspec": {
   "display_name": "Python [default]",
   "language": "python",
   "name": "python3"
  },
  "language_info": {
   "codemirror_mode": {
    "name": "ipython",
    "version": 3
   },
   "file_extension": ".py",
   "mimetype": "text/x-python",
   "name": "python",
   "nbconvert_exporter": "python",
   "pygments_lexer": "ipython3",
   "version": "3.5.3"
  }
 },
 "nbformat": 4,
 "nbformat_minor": 1
}
