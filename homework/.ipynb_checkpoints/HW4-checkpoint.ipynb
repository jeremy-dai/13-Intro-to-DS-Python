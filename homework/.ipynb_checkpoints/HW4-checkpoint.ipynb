{
 "cells": [
  {
   "cell_type": "markdown",
   "metadata": {},
   "source": [
    "# ItDS Assignment 4"
   ]
  },
  {
   "cell_type": "markdown",
   "metadata": {},
   "source": [
    "This homework assignment is about lecture 4."
   ]
  },
  {
   "cell_type": "markdown",
   "metadata": {},
   "source": [
    "The homework is automatically checked. There are some strict guidelines, which are explained below, including some other information.\n",
    "\n",
    "- The first code cell contains a function - `student()` - in which you have to fill in your name, student number and e-mail. Please do so __correctly__, since these will be used to store and mail your results.\n",
    "\n",
    "- All exercises are defined as a function (`def`), of which we will check whether your output of the function corresponds with ours. This means that __we will only check the answer__ (output). So, always check whether your function _returns_ (careful: this is not the same as print) an answer as specified in the exercise!\n",
    "\t- __Do not change the names__ of the given functions, these are specifically named this way for checking the homework. (e.g. if you are to answer exercise 1 which is a function coded: `def exercise1():`, then do not change the name of the function `exercise1()`)\n",
    "\t- __Do not define another new function with the same name__. Even if it is in other cells. We will not be able to find the right version.\n",
    "\t- Do not write additional code in the cell where the function is defined, so only include code within the function that is necessary for the answer. \n",
    "    - After the cell with the function (`def`) a code cell is added where an example of an answer is given to show the format of your output. It also contains a test of your function. You can adjust this to whatever you want (even delete it if you want).\n",
    "\t\n",
    "- Feel free to __add new cells to test snippets of code or for other purposes__.\n",
    "\n",
    "- There are no hard deadlines, but 15/100 points are awarded for submitting your work before the due date, which you can find on blackboard. It will need to pass at least one test at that time in order to earn those 15 points. __You will be able to resubmit your work at any time after that (until 1 January) and earn the remaining 85/100 points__.\n",
    "\n",
    "About your homework results: An _exercise_ is considered to be correct if all its subquestions are answered correctly, however an _exercise_ sometimes undergoes multiple tests (based on different inputs). The e-mail with results specifies per _exercise_ which tests you have passed and which you have failed. You will get a score proportional to the number of tested passed.\n",
    "\n",
    "\n",
    "For any questions about abovementioned guidelines and information or other homework related problems, please e-mail us or ask directly during the workgroup!\n",
    "\n",
    "- Nicolas Carmona: nicolascarmonao@gmail.com\n",
    "- Laura Zwep: l.b.zwep@lacdr.leidenuniv.nl"
   ]
  },
  {
   "cell_type": "code",
   "execution_count": 1,
   "metadata": {
    "collapsed": true
   },
   "outputs": [],
   "source": [
    "def student():\n",
    "    sname = 'Yizhen Dai' # enter your name\n",
    "    snum = '2395479' # enter you student number\n",
    "    semail = 'jeremydai1992@gmail.com' # enter the e-mail on which you would like the results for this homework assignment\n",
    "    return((sname, snum, semail))"
   ]
  },
  {
   "cell_type": "code",
   "execution_count": 2,
   "metadata": {},
   "outputs": [
    {
     "name": "stdout",
     "output_type": "stream",
     "text": [
      "('John Doe', '1234567', 'john@doe.com')\n"
     ]
    },
    {
     "data": {
      "text/plain": [
       "('Yizhen Dai', '2395479', 'jeremydai1992@gmail.com')"
      ]
     },
     "execution_count": 2,
     "metadata": {},
     "output_type": "execute_result"
    }
   ],
   "source": [
    "# The function should look the similar to this:\n",
    "print(('John Doe', '1234567', 'john@doe.com'))\n",
    "# Test your output with the function below (run this cell)\n",
    "student()"
   ]
  },
  {
   "cell_type": "markdown",
   "metadata": {},
   "source": [
    "## Nearest Neighbours document classification\n",
    "\n",
    "In this homework, you will write a program that can classify documents into categories, based on provided training data.\n",
    "\n",
    "Here you will write a spam filter for email, which can define whether an email is in the category of spam or the category of ham (not spam).\n",
    "\n",
    "__The data:__\n",
    "Two datasets are provided: a training set and a test set. The training data will be used to make the classification algorithm, while the test set is used to evaluate your classifier.\n",
    "\n",
    "Both sets contain emails, with each a name, content and category variable ham or spam (which is provided by the folder name). These can be found in the data.zip file from Blackboard. \n",
    "\n",
    "The data is saved in the following structure: \n",
    "- data/\n",
    "    - ham/\n",
    "        - training/\n",
    "        - test/\n",
    "    - spam/\n",
    "        - training/\n",
    "        - test/\n",
    "\n",
    "\n",
    "__The algorithm:__\n",
    "We will look at one of the simplest classification algorithms: the *nearest neighbour classifier*. It works by assigning the category of the 'closest' document in the training data, which assumes that similar documents often fall within the same category.\n",
    "1. The distance between a new (or test) email and all training emails is calculated. The more similar the emails are, the smaller the distance between them.\n",
    "2. The training email with the smallest distance is the *nearest neighbour*. The category of this email is used as predicted category for the new (or test) email.\n",
    "\n",
    "The distance function needs to be decided on. We will make a distance function based only on distinct words in the email, not taking order and frequency of words into account. The distance is then determined by the proportions of overlapping words in the emails (this will become more clear later on in the assignment).\n",
    "\n",
    "__Lastly:__ The problems have been prepared to help you build a classfier step by step. It is possible and strongly advised to reuse functions that you previously created in this assignment. You don't have to copy the code, but can inmediately use that function. "
   ]
  },
  {
   "cell_type": "markdown",
   "metadata": {},
   "source": [
    "### Reading the data\n",
    "\n",
    "We provided some code that will help you read in all the email documents. You will need to use these functions in your exercises. You can try out the `filelist` function below to read and print the file names of all files in one of the email directories. The names of the files are pretty weird, don't worry about this. Make sure that you change the paths to where you stored the unzip version of the data folder.\n"
   ]
  },
  {
   "cell_type": "code",
   "execution_count": 191,
   "metadata": {},
   "outputs": [],
   "source": [
    "#starting with importing functions from modules (you will learn this later on)\n",
    "from os import listdir           # used to see what files are in a directory\n",
    "from os.path import isfile, join # to check if a thing is a file or a directory\n",
    "\n",
    "#filelist\n",
    "# in:  the pathname of a directory\n",
    "# out: a list of files in that directory\n",
    "def filelist(path):\n",
    "    return [f for f in listdir(path) if isfile(join(path, f))]"
   ]
  },
  {
   "cell_type": "code",
   "execution_count": 192,
   "metadata": {},
   "outputs": [
    {
     "data": {
      "text/plain": [
       "['0125.44381546181fc6c5d7ea59e917f232c5',\n",
       " '0108.4506c2ef846b80b9a7beb90315b22701',\n",
       " '0146.6656452972931e859e640f6ac57d2962',\n",
       " '0392.9e194dfff92f7d9957171b04a8d4b957',\n",
       " '0440.16a3caff5b5788f2ae378850041252d7',\n",
       " '0230.035bbcbe1235cb6fdd0a5d6d626dc5c4',\n",
       " '0153.eddc658b08a04641a2494ba6b6eb0a3c',\n",
       " '0344.8bbe5c7c8269a039761968a1b10a936a',\n",
       " '0403.5aa6261d36d1362bcd181ed7738de7f7',\n",
       " '0239.43b3279a300a122610f91725bb92a538',\n",
       " '0334.3e4946e69031f3860ac6de3d3f27aadd',\n",
       " '0474.81ea7ec9e00168efe6bb824d08825ef3',\n",
       " '0266.99e95dc7251843f7a2015cb602775694',\n",
       " '0369.2530542de47d461ccb925fcafc6f0ad5',\n",
       " '0482.d2338d94e40e6028a89c0a197ed7c470',\n",
       " '0388.23ff533336b63fb45d267b8cbe59b7b4',\n",
       " '0213.5f17fdf863726d4704840f86f698d10b',\n",
       " '0275.0404a07cd99e27d569958716f392082b',\n",
       " '0054.839a9c0a07f13718570da944986a898a',\n",
       " '0460.532703440c6f7df067d1ba5054da7f11',\n",
       " '0018.259154a52bc55dcae491cfded60a5cd2',\n",
       " '0099.c4ff6dba0a5177d3c7d8ef54c8920496',\n",
       " '0446.d971f234fa00ed94e18f5ce8f5c0f852',\n",
       " '0299.9d0b292172cb787eb2ed9e8855222edd',\n",
       " '0494.a0865131f55d26362a8efad99c37de01',\n",
       " '0443.c5581d58a801553fee57b2bfe904ea93',\n",
       " '0083.a042c7512d5db5f9fc1857fdc6bbdcc3',\n",
       " '0375.ad5939ae436ed745d5222893d5ffe191',\n",
       " '0454.943161603b1eb6da5187194b5a75186a',\n",
       " '0456.578afb400f87833c03c4dc2be6fd85bd',\n",
       " '0376.d87b4313e6c43a986060d57a0b8515a6',\n",
       " '0477.c825fdd16a32d2d29f4f3613e412dfb3',\n",
       " '0479.558d7491db4238443bc549ec06021bae',\n",
       " '0217.2a937e0b9912e1e40dbf17bad6026372',\n",
       " '0010.7f5fb525755c45eb78efc18d7c9ea5aa',\n",
       " '0386.27345c618f7ca368d7a12b0dd09a9da3',\n",
       " '0284.cfe6e278b87c3e9b6abf6cf6a16bf708',\n",
       " '0200.a56926c058fa84b0ea031b5774e5dcfa',\n",
       " '0423.3b9b432fa25a7ac8c494db8d2e42cc73',\n",
       " '0136.7e7d6adf293fa0a3dc56b3f796cf00d1',\n",
       " '0188.6590e73ef71e79c5b6adedbacf91ac8c',\n",
       " '0442.03f023d080136fd537ff369de5dcae10',\n",
       " '0061.c148ebba16540e48c7aae2e3f733a8a3',\n",
       " '0129.78a705ff6b3bde3395d067459e6e46e2',\n",
       " '0236.ca8e7524e271aec0324e707cb7d420a1',\n",
       " '0187.e2178f6d01a70dfbdf9c84c4dcaf58dc',\n",
       " '0159.8a5c778f65ecc30e14507369b9eb8292',\n",
       " '0424.b283405aeac6a8ff4c4a4e4e85310268',\n",
       " '0459.5d8701dbedee666b885d456475f0301d',\n",
       " '0216.feb2a8df9887bc2d84e80c9d2a8faf56',\n",
       " '0221.ee1d208001fd30265827fb309441d662',\n",
       " '0175.bf85f34d953215bca7d0004aca087812',\n",
       " '0222.6ad799703d958681d6e427762f86f179',\n",
       " '0071.4c3840b98dc207623d0c0e66a6d40af2',\n",
       " '0323.badf0273f656afd0dfebaa63af1c81f6',\n",
       " '0419.a42a284750591b454968a76dfab38370',\n",
       " '0103.8c39bfed2079f865e9dfb75f4416a468',\n",
       " '0435.2078783521379b81a45f1a5c48ca131f',\n",
       " '0261.93d7dab5dc0c469b58aa9b0e5e25bb25',\n",
       " '0102.2e3969075728dde7a328e05d19b35976',\n",
       " '0106.fa6df8609cebb6f0f37aec3f70aa5b9a',\n",
       " '0245.39c15852204971c72e8d89f9f3f9bb38',\n",
       " '0096.b2cb600e893f7a663ea5f9bff3a6276e',\n",
       " '0280.2507969221ea95a019506366f6c361d8',\n",
       " '0167.1665f2336b63debb3463fcf4d37e8485',\n",
       " '0241.abb2882a304357a47681f887244c2f76',\n",
       " '0391.a52ab775baefe8b277a285560cac7d78',\n",
       " '0049.625bab436c7fc6299cfceeaa24e198ae',\n",
       " '0331.1de50a02d91a4e0c6daf5e2cc28a60c6',\n",
       " '0385.8db8e827e6fec2fae5f7e407fe0e0ca3',\n",
       " '0406.4b29229820cc5e9675ad369a3a000f43',\n",
       " '0199.955edee89f34960c033c4d1072841356',\n",
       " '0059.a633106e3ce62fa7b46c2e4dc8c666d3',\n",
       " '0131.0b7281078874ca88f95d6fdf5d905d50',\n",
       " '0202.f1c9a17fe805c50677c104743e4f8be2',\n",
       " '0426.2002be3b0195b54596a5e7fd7d7561d5',\n",
       " '0409.09cb28cd8753bff06fc8a547c3ed8fe2',\n",
       " '0364.8e5f3385c2deb2c0c32794b403851ec4',\n",
       " '0001.bfc8d64d12b325ff385cca8d07b84288',\n",
       " '0051.374f4d4300a5d39544b2f052e7a9429d',\n",
       " '0499.4a17fbd7fe71705e09b4dd2e24d802dd',\n",
       " '0487.b57549dc531f50c1ff1e3356bc38b390',\n",
       " '0152.c0ea23686b9ad63dfba6040c1539da71',\n",
       " '0249.c429ab5c1413c4386bf64b228a68e768',\n",
       " '0091.113ec7122d4046a2754bcf70b9fb5299',\n",
       " '0356.86a795300367f707a8b648e0c50253ad',\n",
       " '0151.6f8f0ec4d897a5285d662ef4ec31d924',\n",
       " '0432.a2fa136962969f603b363e7509668b49',\n",
       " '0219.0f66069db1b4e25ba851233ce4a107c4',\n",
       " '0342.babb5045c49b585808041391599bc05d',\n",
       " '0243.458c8e32e405b69f561fd77bc16f440c',\n",
       " '0362.d605ea00a259c1245d6e21ecf38264cf',\n",
       " '0043.8d93819b95ff90bf2e2b141c2909bfc9',\n",
       " '0141.516a4fe92f63469bd4a21d46dd6bb3be',\n",
       " '0462.2cfe24a32d1b480eab70b099b4a8a919',\n",
       " '0128.4da9b2cfacbe9bfd128aacbb526d68d4',\n",
       " '0028.83a43dd97923463030349506a56226c1',\n",
       " '0404.a2c9ac35a89a129ce473c5d977409131',\n",
       " '0177.d62ac309d8030ef816f7831c3d5d3f7d',\n",
       " '0256.ad88c1a165392a509a8b0b8df6d56cbd',\n",
       " '0046.0b4fff9cd7cffe94cc4f04bbf3928c28',\n",
       " '0174.3874b6ff3c86a5ebefb558138a6bfb28',\n",
       " '0372.216f90ef52558ed24402e192586a40e8',\n",
       " '0111.a163d41592b3a52747d7521341a961af',\n",
       " '0192.2d3e74aaf18c1c4193067f025e757507',\n",
       " '0005.1f42bb885de0ef7fc5cd09d34dc2ba54',\n",
       " '0002.24b47bb3ce90708ae29d0aec1da08610',\n",
       " '0150.30c44c205041fd95f00ef524ea54e356',\n",
       " '0346.8c8e3c5107bf6bf30b940f79d598c1b9',\n",
       " '0378.36f7856d38f84ffea7f1fd98044f756e',\n",
       " '0145.ec89d85ec20f9aeda6fe37c0b6e8bbed',\n",
       " '0004.1874ab60c71f0b31b580f313a3f6e777',\n",
       " '0298.804507b6d4d03a86e53c63249fe70772',\n",
       " '0026.4f10fab6e6776379c17ee9c9ac7da4a8',\n",
       " '0260.737eefb83e7eedbd531117c273c56241',\n",
       " '0325.78b93ee9713b6594d03c86993286e6c5',\n",
       " '0052.f12ac251d1fbdc679daadc6b97229e63',\n",
       " '0338.033c0109da096486c7d797cccd2c3198',\n",
       " '0310.23036f6ae05720b052b73117b6ecb957',\n",
       " '0045.75baa6797e2a65053a8373d5aa96f594',\n",
       " '0053.92bcea73123d0ea0fb26c285d5e045a9',\n",
       " '0161.00e60d1a3478f1ae99ff49fbd4b30605',\n",
       " '0095.e1db2d3556c2863ef7355faf49160219',\n",
       " '0290.13035c75be0d5b447a10e2263f8c1361',\n",
       " '0321.89f41bbace08275ee298ed419e22bc9a',\n",
       " '0206.806263422d55d38a151fe3b89d56192f',\n",
       " '0368.3a53888c2f7fbe52a7293f223375c245',\n",
       " '0143.260a940290dcb61f9327b224a368d4af',\n",
       " '0034.d5a5e526aa6b249ed6ca184548a44b1a',\n",
       " '0330.a4df526233e524104c3b3554dd8ab5a8',\n",
       " '0156.279e5f92cf12922fbbf0cbda112b7fcb',\n",
       " '0483.488a059db4a731caae8143bf298d6ac4',\n",
       " '0394.9c882c72ddfd810b56776fdaa1c727a6',\n",
       " '0073.d57c16429fa19fbebfb9aec34f391aa2',\n",
       " '0422.cce79e048419b788816e8a2c28525afb',\n",
       " '0431.cc38713737ea22e2e329205efd78840a',\n",
       " '0082.705cdc08c2ee77821391a847d9c1a4e3',\n",
       " '0181.e3259c0ef889b5c76054abe2fafddeda',\n",
       " '0226.409b6577c79d85773d50cb37fde4ba79',\n",
       " '0231.30ae582570716a95e79c87a2de31cb30',\n",
       " '0366.539843bed9a06ae77966ccbc9dc2e103',\n",
       " '0497.9307bd1fb5347f9fbf1f54ebe95b1d20',\n",
       " '0163.e4abb3f86aa9fd5bfa85886055fd923d',\n",
       " '0185.9f02f77f7f5a2724c109f598b2245675',\n",
       " '0374.ed17ed71f8d321cf8505672678c56e71',\n",
       " '0303.c18c1a0222b07f2b2250fbda5a961b7e',\n",
       " '0383.5b89d5a9c0152070a77e133734f7cd83',\n",
       " '0267.0bf79a17115bffdf00bb0997f773dfc5',\n",
       " '0306.521d917ac6509c499c406647fd0d336b',\n",
       " '0075.4568998f41d50bccf8f7c3d4aeb7a425',\n",
       " '0415.e241b6184464107168656739bf96c6b9',\n",
       " '0358.8a6a162daac1368fcfe83a5db1084ee1',\n",
       " '0084.df5ac85de3405b6d07c9fa7ba3eecf6a',\n",
       " '0320.e34c9c6f982b8ce353c10aa362d6da17',\n",
       " '0473.ab22ff7eb6975783dff18f279a1a8357',\n",
       " '0195.8b276e08dd05b0131faa8fb24764f205',\n",
       " '0433.8977506bae8028f48290ea0fb2f54ddd',\n",
       " '0447.badf14ca8ec589b0b2d25369573ffe84',\n",
       " '0258.1d61b380a23168881253ed86bb4f79ac',\n",
       " '0420.6112350c5fb3dcf5a67a4fafac80702e',\n",
       " '0373.2171ee7f8e73e1092279077df2910ff6',\n",
       " '0134.83a63d7a1589ba4cd6aefe20c8e6385f',\n",
       " '0233.e9834d55f8185a84ce8a047b2eba2139',\n",
       " '0193.4ceae11e1dae2059c9a526eebda8b259',\n",
       " '0087.1cbd88a0c1564cb5d6c9b12c8c4175d8',\n",
       " '0100.c60d1c697136b07c947fa180ba3e0441',\n",
       " '0464.c1345cc18f1944b61a219dcdfe54088a',\n",
       " '0178.bf2ab7492e5080b07d7397b0662821a7',\n",
       " '0114.c104ada3a249e1e1846c0cd156a303e9',\n",
       " '0405.18a5c3d971e1def2c3b4a2df122f3583',\n",
       " '0057.92fdae44bdd1d9e5461eef3c852dfd23',\n",
       " '0041.21cc985cc36d931916863aed24de8c27',\n",
       " '0257.554324ab4a8f7093f5222303a4c59a8b',\n",
       " '0434.e86d28a69c9228080a3f0ecbde5ea5fa',\n",
       " '0445.2cd5092859b75fdccf3724ab2a4ccafe',\n",
       " '0262.c996a3709ca616fce1bfc6d50cf5bda3',\n",
       " '0119.07aedc59172c0c25ef617188ada9b80f',\n",
       " '0183.4aaadeb40e3362e71e3e4aba15624e3a',\n",
       " '0078.8ff64b5c77f9c9618bd7b119ae14c8b2',\n",
       " '0255.42a6feb4435a0a68929075c0926f085d',\n",
       " '0197.6968d98720065059247cefe4e5bcd192',\n",
       " '0453.622475ac240e9e2cdcdbb1a095cc8d28',\n",
       " '0140.a2bb669eaf743ed123fca884a40cfbd4',\n",
       " '0252.c90694cf3f09ef0111b761eefd95cc3f',\n",
       " '0463.47a4c19eea5230ff19a42e62a5f59484',\n",
       " '0093.2bb8a2a7e4d2841a14f27f32076dd77e',\n",
       " '0411.e6e37cbb02ad33b4e0ba5fb6caf2bbcf',\n",
       " '0240.96467ad3d42ebd44b042599f5aa9c9d9',\n",
       " '0350.0f2ef01282cb99a4eeb9a19923597b3f',\n",
       " '0421.a5e7e7b43acb5501368b8c61221477f1',\n",
       " '0400.a152ca3d2735f5dfe48601331471c591',\n",
       " '0198.43bac6df7ea16e4c4b0026779341f14b',\n",
       " '0475.f3c5fb57463eb715fa93e9ce483c49fe',\n",
       " '0251.d542591a25f8fe8c4accd692113a0554',\n",
       " '0270.d50e186af7a00114ad967b8f77b70338',\n",
       " '0008.9562918b57e044abfbce260cc875acde',\n",
       " '0098.01d2958ccb7c2e4c02d0920593962436',\n",
       " '0040.256602e2cb5a5b373bdd1fb631d9f452',\n",
       " '0092.bf7453c6b7917ca30074a3030d84e36d',\n",
       " '0428.8fc153d0c9cbc406fbd9bdf1c4ed9b13',\n",
       " '0327.5df76bb4359800b5408821285677b5cf',\n",
       " '0347.e74f831074ea17d0721bd06a5fa7857c',\n",
       " '0296.c9b10ba5ae2e480e37a6e2e1455671eb',\n",
       " '0079.4a5fbaf2e531918c44642b3cfae40089',\n",
       " '0495.a13bce4369913c929a48b073f2b320c9',\n",
       " '0042.21cc985cc36d931916863aed24de8c27',\n",
       " '0154.e39fc51ffdb9c2ecd480ce972078aeaa',\n",
       " '0014.ed99ffe0f452b91be11684cbfe8d349c',\n",
       " '0209.59817ef0dc8d05d4b49bd5914fa88afa',\n",
       " '0393.d3a4d296a35c6a7f39429247c007eeae',\n",
       " '0003.4b3d943b8df71af248d12f8b2e7a224a',\n",
       " '0135.73d44c9405f00110ae76a3addcb4eed6',\n",
       " '0472.40695f88feb07754e40b1008aeb47bd1',\n",
       " '0011.2a1247254a535bac29c476b86c708901',\n",
       " '0492.f2d030fd71d7c3075626195b5c0b56f7',\n",
       " '0264.2281c4eb36accd65d9c2cab379de2789',\n",
       " '0170.fe4f77fa9456b48dffa9288074b2bb2a',\n",
       " '0124.37afd066a74d18b7f14bea0b1fb43d4d',\n",
       " '0281.7e8c08897b61b9b008238efec9ca8d15',\n",
       " '0172.e524e85cab354337018e1d0d2fc21ffd',\n",
       " '0214.b5ba0ff48cee07a36c6f312de7f77207',\n",
       " '0285.b44ae825681c0f28db2e742ab790b191',\n",
       " '0449.066d44ef3e1ff26103ea1b35b0a2e6d5',\n",
       " '0387.c2b993b46377256bdcb2314c2553b6f0',\n",
       " '0000.7b1b73cf36cf9dbc3d64e3f2ee2b91f1',\n",
       " '0380.c4d530b5816543f4f1a23b8ce0d281f5',\n",
       " '0480.fc9323682825f7d93ed78a82970ceaea',\n",
       " '0319.e4a20802d12937998f3b3bf805362a3f',\n",
       " '0471.f3cd3e181577b34e474bea8c480d1b44',\n",
       " '0238.7d0de37650a0c0e2d99e52eef4042602',\n",
       " '0389.ed4ca8aceef91808c783909351c7bdb4',\n",
       " '0064.d700742b9815d990b2e5a7921e8d854c',\n",
       " '0133.95454d70cc62190c0e167d4c3cb591af',\n",
       " '0148.7641581f551a1bf533b995087a8a91db',\n",
       " '0013.9034ac0917f6fdb82c5ee6a7509029ed',\n",
       " '0097.dce08392ba6bc552d13394fa73974b62',\n",
       " '0205.d3c294d833fd7c79edd96dac71039821',\n",
       " '0032.081c3615bc9b91d09b6cbb9239ba8c99',\n",
       " '0359.2794a4ec8f226ea59a009e972d012f64',\n",
       " '0090.9a7e76d58065e29e709161dbe569fe54',\n",
       " '0176.70022adaab1a9dfe64ae7588ffa5add9',\n",
       " '0384.e25b766bea2f1efe35eccb7eb6f54e37',\n",
       " '0337.4e2d92485e5b880d494821c1fcee790a',\n",
       " '0142.1fd05cffaba260b9ecd3e75b6dddaf73',\n",
       " '0427.8136588f1befaccc01f0405513be6186',\n",
       " '0287.37dd6b1a54993de94495643ead4fd2cf',\n",
       " '0123.68e87f8b736959b1ab5c4b5f2ce7484a',\n",
       " '0312.a0e7f2633bd0ceaddf16fba58be54778',\n",
       " '0116.8e13644b995f98dbab198b71e26f67ec',\n",
       " '0020.4120dc06a0124a8688e96f8cff029113']"
      ]
     },
     "execution_count": 192,
     "metadata": {},
     "output_type": "execute_result"
    }
   ],
   "source": [
    "# Try the filelist function here (you can change path below)\n",
    "path_to_directory = \"data/spam/train/\"\n",
    "filelist(path_to_directory)"
   ]
  },
  {
   "cell_type": "markdown",
   "metadata": {},
   "source": [
    "You'll also need to be able to read all the contents of an email into a Python string. This can be done using the following function (`read_file`), which returns a single string which contains all the text of file. You can also try this out below."
   ]
  },
  {
   "cell_type": "code",
   "execution_count": 193,
   "metadata": {
    "collapsed": true
   },
   "outputs": [],
   "source": [
    "#read_file\n",
    "# in:  the pathname of a directory, and the name of a file in that directory\n",
    "# out: a string containing the contents of the file\n",
    "def read_file(filename):\n",
    "    with open(filename, \"rb\") as handle:\n",
    "        return handle.read().decode(errors=\"ignore\") # ignore errors"
   ]
  },
  {
   "cell_type": "code",
   "execution_count": 194,
   "metadata": {},
   "outputs": [
    {
     "data": {
      "text/plain": [
       "'From jjj@mymail.dk  Fri Aug 23 11:03:31 2002\\nReturn-Path: <jjj@mymail.dk>\\nDelivered-To: zzzz@localhost.example.com\\nReceived: from localhost (localhost [127.0.0.1])\\n\\tby phobos.labs.example.com (Postfix) with ESMTP id 478B54415C\\n\\tfor <zzzz@localhost>; Fri, 23 Aug 2002 06:02:57 -0400 (EDT)\\nReceived: from mail.webnote.net [193.120.211.219]\\n\\tby localhost with POP3 (fetchmail-5.9.0)\\n\\tfor zzzz@localhost (single-drop); Fri, 23 Aug 2002 11:02:57 +0100 (IST)\\nReceived: from smtp.easydns.com (smtp.easydns.com [205.210.42.30])\\n\\tby webnote.net (8.9.3/8.9.3) with ESMTP id IAA08912;\\n\\tFri, 23 Aug 2002 08:13:36 +0100\\nFrom: jjj@mymail.dk\\nReceived: from mymail.dk (unknown [61.97.34.233])\\n\\tby smtp.easydns.com (Postfix) with SMTP\\n\\tid 7484A2F85C; Fri, 23 Aug 2002 03:13:31 -0400 (EDT)\\nReply-To: <jjj@mymail.dk>\\nMessage-ID: <008c61d64eed$6184e5d5$4bc22de3@udnugg>\\nTo: bbr_hooten@yahoo.com\\nSubject: HELP WANTED.  WORK FROM HOME REPS.\\nMiME-Version: 1.0\\nContent-Type: text/plain;\\n\\tcharset=\"iso-8859-1\"\\nX-Priority: 3 (Normal)\\nX-MSMail-Priority: Normal\\nX-Mailer: Microsoft Outlook, Build 10.0.2616\\nImportance: Normal\\nDate: Fri, 23 Aug 2002 03:13:31 -0400 (EDT)\\nContent-Transfer-Encoding: 8bit\\n\\nHelp wanted.  We are a 14 year old fortune 500 company, that is\\ngrowing at a tremendous rate.  We are looking for individuals who\\nwant to work from home.\\n\\nThis is an opportunity to make an excellent income.  No experience\\nis required.  We will train you.\\n\\nSo if you are looking to be employed from home with a career that has\\nvast opportunities, then go:\\n\\nhttp://www.basetel.com/wealthnow\\n\\nWe are looking for energetic and self motivated people.  If that is you\\nthan click on the link and fill out the form, and one of our\\nemployement specialist will contact you.\\n\\nTo be removed from our link simple go to:\\n\\nhttp://www.basetel.com/remove.html\\n\\n\\n1349lmrd5-948HyhJ3622xXiM0-290VZdq6044fFvN0-799hUsU07l50\\n\\n'"
      ]
     },
     "execution_count": 194,
     "metadata": {},
     "output_type": "execute_result"
    }
   ],
   "source": [
    "# Try the read_file function here (you can change path below)\n",
    "path_to_file = \"data/spam/train/0018.259154a52bc55dcae491cfded60a5cd2\"\n",
    "read_file(path_to_file)"
   ]
  },
  {
   "cell_type": "markdown",
   "metadata": {},
   "source": [
    "### Exercise 1: Extract separate words\n",
    "\n",
    "By using the function above we can obtain a single string with the contents of an email. Now we want to extract all unique words from this string. To do so, finish the function below so it converts each email string into a *set* of (unique) words. __Important:__ include only words that consist solely of alphabetic characters and convert all words to lower case. This means for example that words with punctuations attached are removed (such as 'not.' and 'maybe;' in the example).\n",
    "\n",
    "Hint: look up the string method `split`.\n",
    "\n",
    "For extra practice: by using Python comprehensions (check lecture) you can write this function in just one line."
   ]
  },
  {
   "cell_type": "code",
   "execution_count": 195,
   "metadata": {},
   "outputs": [],
   "source": [
    "#extract_words\n",
    "# in:  a long string containing a document as a string: docstr\n",
    "# out: a set containing all words in the document.\n",
    "def extract_words(docstr):\n",
    "    import string\n",
    "    words = docstr.split()\n",
    "    clean_words = set()\n",
    "    for w in words:\n",
    "        if all([(j not in string.punctuation and not j.isdigit())for j in w]):\n",
    "               clean_words.add(w.lower())\n",
    "    return clean_words"
   ]
  },
  {
   "cell_type": "code",
   "execution_count": 196,
   "metadata": {},
   "outputs": [
    {
     "name": "stdout",
     "output_type": "stream",
     "text": [
      "{'foo', 'spam', 'eggs', 'bar'}\n",
      "{'foo', 'spam', 'eggs', 'bar'}\n"
     ]
    }
   ],
   "source": [
    "#Example of a correctly formatted function output:\n",
    "print({\"eggs\", \"spam\", \"foo\", \"bar\"})\n",
    "\n",
    "#Your output:\n",
    "testdocstr = \"eggs spam not. maybe; Foo Bar\" \n",
    "\n",
    "print(extract_words(testdocstr))"
   ]
  },
  {
   "cell_type": "markdown",
   "metadata": {},
   "source": [
    "### Exercise 2: Create email class\n",
    "\n",
    "Since we are going to work with emails throughout this whole assignment, it is nice to formalize the way we handle emails by creating the class `email`. This class should be able to hold 3 attributes: `filename`, `content` and `category` (with those names!). You will write a function in the class that will extract these from the file path and a provided category. An instance of this class will then contain the name of the file, the contents as a set of unique words and the category name.\n",
    "\n",
    "The use of classes might be complicated at first, but becomes more clear when you are working with it. Study the example of output and try out part very closely to understand what is expected of you! You can also check out the `test` class and `setnumber` method (a function inside a class) in the lecture.\n",
    "\n",
    "Hint: use the functions from earlier cells."
   ]
  },
  {
   "cell_type": "code",
   "execution_count": 197,
   "metadata": {
    "collapsed": true
   },
   "outputs": [],
   "source": [
    "#email\n",
    "# class with method fill_email_attributes\n",
    "\n",
    "class email:\n",
    "    #email.fill_email_attributes\n",
    "    # in: path to email file: path\n",
    "    #     the category of this email: category\n",
    "    # out: email class includes 3 attributes:\n",
    "    #         name of email file: name\n",
    "    #         set of words with content of email: content\n",
    "    #         category of email: category\n",
    "    \n",
    "    def fill_email_attributes(self, path, category):\n",
    "        #include the code for your method here\n",
    "        self.filename = path.split('/')[-1]\n",
    "        self.content = extract_words(read_file(path))\n",
    "        self.category = category\n",
    "        "
   ]
  },
  {
   "cell_type": "code",
   "execution_count": 198,
   "metadata": {},
   "outputs": [],
   "source": [
    "a = {'no', 'from', 'id', 'smtp', 'looking', 'localhost', 'individuals', 'if', 'career', 'on', 'link', 'that', 'vast', 'self',\n",
    "       'tremendous', 'be', 'motivated', 'work', 'click', 'by', 'old', 'specialist', 'so', 'excellent', 'home', 'build', 'who', \n",
    "       'make', 'esmtp', 'than', 'microsoft', 'want', 'you', 'an', 'and', 'fri', 'employement', 'year', 'removed', 'contact', \n",
    "       'fortune', 'out', 'to', 'we', 'train', 'employed', 'this', 'normal', 'will', 'is', 'has', 'fill', 'growing', 'a', 'with', \n",
    "       'one', 'our', 'are', 'the', 'at', 'for', 'experience', 'then', 'of', 'simple', 'energetic', 'help', 'aug', 'go', \n",
    "       'opportunity'}"
   ]
  },
  {
   "cell_type": "code",
   "execution_count": 199,
   "metadata": {},
   "outputs": [
    {
     "data": {
      "text/plain": [
       "True"
      ]
     },
     "execution_count": 199,
     "metadata": {},
     "output_type": "execute_result"
    }
   ],
   "source": [
    "a == {'from', 'specialist', 'simple', 'individuals', 'one', 'localhost', 'employement', 'no', 'self', 'link', 'vast', 'and', 'want', 'to', 'career', 'fortune', 'if', 'this', 'who', 'on', 'help', 'experience', 'tremendous', 'at', 'excellent', 'energetic', 'motivated', 'by', 'a', 'year', 'make', 'train', 'you', 'with', 'click', 'home', 'old', 'that', 'build', 'our', 'for', 'id', 'is', 'be', 'employed', 'than', 'go', 'smtp', 'removed', 'microsoft', 'are', 'has', 'an', 'fri', 'the', 'fill', 'so', 'then', 'work', 'contact', 'growing', 'aug',\n",
    "      'out', 'will', 'of', 'looking', 'esmtp', 'normal', 'we', 'opportunity'}\n"
   ]
  },
  {
   "cell_type": "code",
   "execution_count": 200,
   "metadata": {},
   "outputs": [
    {
     "name": "stdout",
     "output_type": "stream",
     "text": [
      "0018.259154a52bc55dcae491cfded60a5cd2\n",
      "spam\n",
      "{'from', 'specialist', 'simple', 'individuals', 'one', 'localhost', 'employement', 'no', 'self', 'link', 'vast', 'and', 'want', 'to', 'career', 'fortune', 'if', 'this', 'who', 'on', 'help', 'experience', 'tremendous', 'at', 'excellent', 'energetic', 'motivated', 'by', 'a', 'year', 'make', 'train', 'you', 'with', 'click', 'home', 'old', 'that', 'build', 'our', 'for', 'id', 'is', 'be', 'employed', 'than', 'go', 'smtp', 'removed', 'microsoft', 'are', 'has', 'an', 'fri', 'the', 'fill', 'so', 'then', 'work', 'contact', 'growing', 'aug', 'out', 'will', 'of', 'looking', 'esmtp', 'normal', 'we', 'opportunity'}\n"
     ]
    }
   ],
   "source": [
    "#Example of correct output (with example file):\n",
    "#print('0018.259154a52bc55dcae491cfded60a5cd2')\n",
    "#print('spam')\n",
    "'''\n",
    "print({'no', 'from', 'id', 'smtp', 'looking', 'localhost', 'individuals', 'if', 'career', 'on', 'link', 'that', 'vast', 'self',\n",
    "       'tremendous', 'be', 'motivated', 'work', 'click', 'by', 'old', 'specialist', 'so', 'excellent', 'home', 'build', 'who', \n",
    "       'make', 'esmtp', 'than', 'microsoft', 'want', 'you', 'an', 'and', 'fri', 'employement', 'year', 'removed', 'contact', \n",
    "       'fortune', 'out', 'to', 'we', 'train', 'employed', 'this', 'normal', 'will', 'is', 'has', 'fill', 'growing', 'a', 'with', \n",
    "       'one', 'our', 'are', 'the', 'at', 'for', 'experience', 'then', 'of', 'simple', 'energetic', 'help', 'aug', 'go', \n",
    "       'opportunity'})\n",
    "'''\n",
    "#Try your own class and function (study closely how this works!):\n",
    "path_to_examplefile = \"data/spam/train/0018.259154a52bc55dcae491cfded60a5cd2\"\n",
    "cat = \"spam\"\n",
    "\n",
    "em1 = email()                                # creating an object (em1) with the class 'email'\n",
    "em1.fill_email_attributes(path_to_file, cat) # use the function that is in the class to fill up your object em1\n",
    "\n",
    "#Your object em1 now includes 3 attributes that can be printed this way:\n",
    "print(em1.filename)\n",
    "print(em1.category)\n",
    "print(em1.content)"
   ]
  },
  {
   "cell_type": "markdown",
   "metadata": {},
   "source": [
    "### Exercise 3: Load emails from folder\n",
    "\n",
    "We can now read an email file and put it into an instance of the email class. For our classification algorithm we need all the files from all the folders. Here you are going to make a function to read all files from one folder. Each folder is associated with a category. The input includes the folder path (with a '/' at the end!) and the category associated with this folder. It should return a list of email instances from all files. The instance is of the class `email` from exercise 2, with name, category and content.\n",
    "\n",
    "Note that if you print the resulting list, you will not see the contents of each email, instead, you will see the email instance and their locations in memory (you should not be concerned, nor scared by this). For example, a list would look like this:\n",
    "\n",
    "`[<__main__.email object at 0x000001A56AC99CC0>, <__main__.email object at 0x000001A56AC99550>, <__main__.email object at 0x000001A56AC99358>, <__main__.email object at 0x000001A56AC99080>]`\n",
    "\n",
    "If you want to look inside the actual contents of one of these email classes, just access them by their index in the list (e.g. `example_email.filename`). An example of what this looks like is shown in the output cell (two cells below).\n",
    "\n",
    "Hint: use the functions and class from earlier cells."
   ]
  },
  {
   "cell_type": "code",
   "execution_count": 203,
   "metadata": {
    "collapsed": true
   },
   "outputs": [],
   "source": [
    "#category_data_list\n",
    "# in:  the pathname of a directory containing email files: path\n",
    "#      the category of all emails in specified path: category \n",
    "# out: list with instances of all emails from the specified path.\n",
    "def load_category(path, category):\n",
    "    email_list = []\n",
    "    for f in filelist(path):\n",
    "        em = email()                                # creating an object (em1) with the class 'email'\n",
    "        em.fill_email_attributes(join(path, f), category)\n",
    "        email_list.append(em)    \n",
    "    return email_list "
   ]
  },
  {
   "cell_type": "code",
   "execution_count": 205,
   "metadata": {},
   "outputs": [
    {
     "name": "stdout",
     "output_type": "stream",
     "text": [
      "\n",
      "EXAMPLE\n",
      "\n",
      "[<__main__.email object at 0x000001A56AC99CC0>, <__main__.email object at 0x000001A56AC99550>, <__main__.email object at 0x000001A56AC99358>, <__main__.email object at 0x000001A56AC99080>]\n",
      "<__main__.email object at 0x000001A56AA760F0>\n",
      "0001.f0cf04027e74802f09f723cb8916b48e\n",
      "ham\n",
      "{'thin', 'stock', 'logo', 'identification', 'october', 'excess', 'time', 'moving', 'strike', 'pm', 'has', 'section', 'against', 'read', 'one', 'broadband'}\n",
      "\n",
      "YOUR OUTPUT\n",
      "\n",
      "[<__main__.email object at 0x10bab2390>, <__main__.email object at 0x10bb32860>, <__main__.email object at 0x10bac8588>, <__main__.email object at 0x10bba66d8>]\n",
      "<__main__.email object at 0x10bab2390>\n",
      "0035.4fe7648654fa3fa1ae5379894f00474f\n",
      "ham\n",
      "{'broader', 'thursday', 'cutting', 'your', 'paypal', 'into', 'software', 'squibb', 'helped', 'or', 'sans', 'indulge', 'chancery', 'seeing', 'regain', 'emc', 'on', 'court', 'filings', 'titan', 'ad', 'net', 'cto', 'yahoo', 'free', 'hp', 'have', 'lift', 'concerns', 'accucast', 'probed', 'with', 'filed', 'that', 'hired', 'billion', 'vice', 'is', 'retiring', 'euros', 'initiatives', 'had', 'jim', 'rebate', 'promotional', 'million', 'shocked', 'shopping', 'justin', 'ceo', 'surge', 'although', 'subscription', 'paying', 'then', 'became', 'fell', 'will', 'downgrades', 'stake', 'becoming', 'headed', 'become', 'brick', 'jones', 'gained', 'vision', 'each', 'hitting', 'snapshot', 'close', 'company', 'rights', 'powershot', 'added', 'composite', 'taking', 'reached', 'news', 'deal', 'duty', 'look', 'index', 'wholesale', 'lures', 'to', 'retail', 'solid', 'this', 'sales', 'jul', 'represents', 'help', 'seeking', 'behalf', 'losers', 'at', 'shares', 'despite', 'demand', 'reports', 'wealth', 'notrack', 'driven', 'investments', 'tacked', 'gernitis', 'lynch', 'head', 'marketing', 'earlier', 'storage', 'fiduciary', 'include', 'winners', 'entirely', 'series', 'results', 'several', 'sue', 'cnet', 'brokerage', 'been', 'ebay', 'lookup', 'mixed', 'being', 'industrial', 'giant', 'away', 'management', 'amid', 'the', 'an', 'commerce', 'tim', 'digilux', 'mark', 'ground', 'buyers', 'officer', 'most', 'say', 'it', 'analysts', 'week', 'designed', 'its', 'promo', 'stocks', 'esmtp', 'impairments', 'angles', 'rating', 'compaq', 'publishing', 'broker', 'technology', 'seems', 'these', 'specialist', 'rose', 'their', 'just', 'price', 'separate', 'minority', 'coolpix', 'footer', 'said', 'lower', 'too', 'rtsq', 'and', 'they', 'nowrap', 'my', 'drug', 'early', 'were', 'report', 'biggest', 'some', 'offer', 'much', 'missing', 'outlook', 'lawsuits', 'heat', 'shareholder', 'stock', 'by', 'growth', 'summer', 'argue', 'leads', 'vertical', 'cuts', 'loss', 'aktiengesellschaft', 'any', 'post', 'corp', 'our', 'unfair', 'for', 'id', 'beat', 'new', 'shareholders', 'led', 'hit', 'shows', 'please', 'habit', 'result', 'ads', 'posting', 'all', 'has', 'portal', 'professional', 'forecast', 'newsletters', 'worldwide', 'exclusive', 'cut', 'he', 'merrill', 'top', 'quotes', 'dow', 'firm', 'completely', 'in', 'also', 'slightly', 'co', 'exchange', 'from', 'tech', 'internet', 'offering', 'baldauf', 'module', 'one', 'end', 'percent', 'cover', 'sap', 'prices', 'open', 'unexpectedly', 'who', 'charge', 'block', 'chief', 'more', 'those', 'second', 'nav', 'breach', 'a', 'low', 'including', 'downgrade', 'others', 'up', 'pc', 'replaces', 'battered', 'click', 'merger', 'regulatory', 'accounting', 'investor', 'lewis', 'street', 'delayed', 'send', 'would', 'was', 'copyright', 'interviews', 'market', 'united', 'inc', 'stimulate', 'exec', 'markets', 'against', 'instant', 'delaware', 'improved', 'popular', 'address', 'meter', 'while', 'overture', 'two', 'chip', 'president', 'going', 'companies', 'of', 'securities', 'trying', 'deals', 'average', 'supported', 'nasdaq', 'after'}\n"
     ]
    }
   ],
   "source": [
    "#Example of a correctly formatted function output (not the actual output)\n",
    "print(\"\\nEXAMPLE\\n\")\n",
    "\n",
    "print(\"[<__main__.email object at 0x000001A56AC99CC0>, <__main__.email object at 0x000001A56AC99550>, <__main__.email object at 0x000001A56AC99358>, <__main__.email object at 0x000001A56AC99080>]\")\n",
    "\n",
    "#Example of accessing a single email\n",
    "print(\"<__main__.email object at 0x000001A56AA760F0>\")\n",
    "\n",
    "#Example of accessing filename, category and contents of a single email (not all content is shown)\n",
    "print(\"0001.f0cf04027e74802f09f723cb8916b48e\")\n",
    "print(\"ham\")\n",
    "print(\"{'thin', 'stock', 'logo', 'identification', 'october', 'excess', 'time', 'moving', 'strike', 'pm', 'has', 'section', 'against', 'read', 'one', 'broadband'}\")\n",
    "\n",
    "\n",
    "\n",
    "#Your function output:\n",
    "example_path_ham = \"data/ham/train/\"\n",
    "example_category  = \"ham\"\n",
    "\n",
    "print(\"\\nYOUR OUTPUT\\n\")\n",
    "\n",
    "list_of_training_ham = load_category(example_path_ham, example_category)\n",
    "print(list_of_training_ham[0:4]) #the index truncates the output to not overwhelm you too much\n",
    "\n",
    "#a single email\n",
    "ath = list_of_training_ham\n",
    "print(ath[0])\n",
    "\n",
    "#accessing contents of email\n",
    "print(list_of_training_ham[0].filename)\n",
    "print(list_of_training_ham[0].category)\n",
    "print(list_of_training_ham[0].content)"
   ]
  },
  {
   "cell_type": "markdown",
   "metadata": {},
   "source": [
    "### Exercise 4: Read training data\n",
    "\n",
    "You now have a function to read the email files into a list of email instances. These lists only contain the data for one folder, but for our classification algorithm we want to put all training data in one list. You are going to write a function to import both ham and spam from the training data into a single list of emails. The input is a dictionary with the category and the associated path (e.g. `{'spam': 'data/spam/train/', 'ham': 'data/ham/train/'}`). Note: here we use this function for reading training data, but we can also use it to read test data.\n",
    "\n",
    "Hint: use the function from exercise 3."
   ]
  },
  {
   "cell_type": "code",
   "execution_count": 206,
   "metadata": {
    "collapsed": true
   },
   "outputs": [],
   "source": [
    "#read_data\n",
    "# in: dictionary with category as keys and filepath as values: category_and_paths_dict\n",
    "# out: list with instances of all emails from the specified paths.\n",
    "\n",
    "def read_data(category_and_paths_dict):\n",
    "    all_list = []\n",
    "    for k in category_and_paths_dict:\n",
    "        temp = load_category(category_and_paths_dict[k],k)\n",
    "        all_list = all_list + temp\n",
    "    return all_list"
   ]
  },
  {
   "cell_type": "code",
   "execution_count": 207,
   "metadata": {},
   "outputs": [
    {
     "name": "stdout",
     "output_type": "stream",
     "text": [
      "[<__main__.email object at 0x000001A56AC99CC0>, <__main__.email object at 0x000001A56AC99550>, <__main__.email object at 0x000001A56AC99358>, <__main__.email object at 0x000001A56AC99080>]\n",
      "[<__main__.email object at 0x10baa2ba8>, <__main__.email object at 0x10bb63438>, <__main__.email object at 0x10bb630f0>, <__main__.email object at 0x10bb63a58>]\n"
     ]
    }
   ],
   "source": [
    "#Example of output (similar to exercise 3)\n",
    "print(\"[<__main__.email object at 0x000001A56AC99CC0>, <__main__.email object at 0x000001A56AC99550>, <__main__.email object at 0x000001A56AC99358>, <__main__.email object at 0x000001A56AC99080>]\")\n",
    "\n",
    "#Try out your own function\n",
    "train_dict = {\"spam\":\"data/spam/train/\",\n",
    "              \"ham\":\"data/ham/train/\"}\n",
    "\n",
    "print(read_data(train_dict)[0:4])"
   ]
  },
  {
   "cell_type": "markdown",
   "metadata": {},
   "source": [
    "### Exercise 5: Distance\n",
    "\n",
    "Now that we have sorted out our data, we can finally start with the actual algorithm! It is time to decide on an appropriate distance function. As a first idea, we might consider the symmetric difference between the two sets. The *symmetric difference* between two sets $A$ and $B$, denoted $A\\triangle B$, is the nummber of elements that are found in $A$ or $B$, but not in both.\n",
    "\n",
    "A problem with this distance is that it is sensitive to the *size* of the emails: longer emails contain more words, and so will seem to be more distant from one another than shorter ones. To correct for this, we will normalise the difference by dividing by the sum of the sizes of $A$ and $B$. E.g. `{'a', 'b', 'c'}` and `{'c', 'd', 'e'}` should have a distance of $4 / 6\\approx 0.66$.\n",
    "\n",
    "Your function should be able to calculate the distance between two sets of words. It should return a float. For mathematicians it would be:\n",
    "\n",
    "$$\\textrm{distance}(A, B) = \\frac{|A\\triangle B|}{|A|+|B|} $$\n",
    "\n",
    "Hint: Test whether the function correctly yields a distance of 0 on equal wordsets and something greater than 0 on unequal wordsets.\n"
   ]
  },
  {
   "cell_type": "code",
   "execution_count": 184,
   "metadata": {},
   "outputs": [
    {
     "data": {
      "text/plain": [
       "{'c'}"
      ]
     },
     "execution_count": 184,
     "metadata": {},
     "output_type": "execute_result"
    }
   ],
   "source": [
    "a = {'a', 'b', 'c'} \n",
    "b={'c', 'd', 'e'}\n",
    "a & b"
   ]
  },
  {
   "cell_type": "code",
   "execution_count": 185,
   "metadata": {
    "collapsed": true
   },
   "outputs": [],
   "source": [
    "#distance\n",
    "# in:  two word sets: wordset1, wordset2\n",
    "# out: float with their distance (0 if the sets are equal, > 0 otherwise)\n",
    "def distance(wordset1, wordset2):\n",
    "    both = len(wordset1) + len(wordset2) \n",
    "    uni = len(wordset1 | wordset2) - len(wordset1 & wordset2)\n",
    "    return uni/both"
   ]
  },
  {
   "cell_type": "code",
   "execution_count": 186,
   "metadata": {},
   "outputs": [
    {
     "name": "stdout",
     "output_type": "stream",
     "text": [
      "0.14285714285714285\n",
      "0.3333333333333333\n"
     ]
    }
   ],
   "source": [
    "#Example of a correctly formatted function output:\n",
    "print(1/7)\n",
    "\n",
    "example_set1 = {\"a\", \"b\", \"c\"}\n",
    "example_set2 = {\"a\", \"d\", \"c\"}\n",
    "\n",
    "#Your function output:\n",
    "print(distance(example_set1, example_set2))"
   ]
  },
  {
   "cell_type": "markdown",
   "metadata": {},
   "source": [
    "### Exercise 6: Nearest neighbor classifier\n",
    "\n",
    "With the distance function in place and functions to import the data it is time to implement the nearest neighbour algorithm. The function has as inputs an email instance (from exercise 2) and the list with training data (from exercise 4). Use the distance function from exercise 5. The function should output a tuple with the distance and the category of the nearest neighbor."
   ]
  },
  {
   "cell_type": "code",
   "execution_count": 213,
   "metadata": {},
   "outputs": [],
   "source": [
    "#nearest_neighbour\n",
    "# in:  an email instance: email_instance\n",
    "#      a list of email instances: training_data\n",
    "# out: a tuple containing the filename of the closest match, the name of its class, and the distance\n",
    "def nearest_neighbour(email_instance, training_data):\n",
    "    distances = []\n",
    "    for t in training_data:\n",
    "        if t.filename != email_instance.filename:\n",
    "            d = distance(email_instance.content, t.content)\n",
    "            #print(t.filename, email_instance.filename)\n",
    "            #print(email_instance.content, t.content,d)\n",
    "            #break\n",
    "            distances.append((d, t.category))\n",
    "    return min(distances,key=lambda item:item[0])"
   ]
  },
  {
   "cell_type": "code",
   "execution_count": 214,
   "metadata": {},
   "outputs": [
    {
     "name": "stdout",
     "output_type": "stream",
     "text": [
      "(0.763, 'spam')\n",
      "(0.4585152838427948, 'spam')\n"
     ]
    }
   ],
   "source": [
    "#Example of a correctly formatted function output (not the actual output):\n",
    "print((0.763, \"spam\"))\n",
    "\n",
    "#Your function output:\n",
    "example_email = email()\n",
    "example_email.fill_email_attributes(\"data/spam/test/0210.285d263b1a18e67c68ec9fe005253dd0\", \"spam\")\n",
    "\n",
    "train_dict = {\"spam\":\"data/spam/train/\",\n",
    "              \"ham\":\"data/ham/train/\"}\n",
    "training_data = read_data(train_dict)\n",
    "\n",
    "print(nearest_neighbour(example_email, training_data))"
   ]
  },
  {
   "cell_type": "markdown",
   "metadata": {},
   "source": [
    "### Exercise 7: Nearest neighbor on batch of emails\n",
    "\n",
    "We can already apply nearest neighbor to one email, but we want to predict the categories of all emails in the test data. That is why you are going to make a function that predicts the category of every email from a list of test emails. It should have the test data and training data as inputs and return a list of tuples with the prediction and the true category of the test email.\n"
   ]
  },
  {
   "cell_type": "code",
   "execution_count": 220,
   "metadata": {
    "collapsed": true
   },
   "outputs": [],
   "source": [
    "#batch_nn\n",
    "# in: a list of email instances: test_data\n",
    "#     a list of email instances: training_data\n",
    "# out: a list of tuples with predicted and true category respectively\n",
    "def batch_nn(test_data, training_data):\n",
    "    results = []\n",
    "    for t in test_data:\n",
    "        pred = nearest_neighbour(t, training_data)[1]\n",
    "        results.append((pred,t.category))\n",
    "        \n",
    "    return results"
   ]
  },
  {
   "cell_type": "code",
   "execution_count": 221,
   "metadata": {},
   "outputs": [
    {
     "name": "stdout",
     "output_type": "stream",
     "text": [
      "[('spam', 'spam'), ('spam', 'spam'), ('ham', 'ham'), ('ham', 'spam'), ('ham', 'ham'), ('spam', 'ham'), ('spam', 'spam'), ('spam', 'spam'), ('ham', 'ham'), ('ham', 'ham')]\n",
      "[('spam', 'spam'), ('spam', 'spam'), ('spam', 'spam'), ('spam', 'spam'), ('spam', 'spam'), ('spam', 'spam'), ('spam', 'spam'), ('spam', 'spam'), ('spam', 'spam'), ('spam', 'spam'), ('spam', 'spam'), ('spam', 'spam'), ('spam', 'spam'), ('spam', 'spam'), ('spam', 'spam'), ('spam', 'spam'), ('spam', 'spam'), ('spam', 'spam'), ('spam', 'spam'), ('spam', 'spam'), ('spam', 'spam'), ('spam', 'spam'), ('spam', 'spam'), ('spam', 'spam'), ('spam', 'spam'), ('spam', 'spam'), ('spam', 'spam'), ('spam', 'spam'), ('spam', 'spam'), ('spam', 'spam'), ('spam', 'spam'), ('spam', 'spam'), ('spam', 'spam'), ('spam', 'spam'), ('spam', 'spam'), ('spam', 'spam'), ('spam', 'spam'), ('spam', 'spam'), ('spam', 'spam'), ('spam', 'spam'), ('spam', 'spam'), ('spam', 'spam'), ('spam', 'spam'), ('spam', 'spam'), ('spam', 'spam'), ('ham', 'spam'), ('spam', 'spam'), ('spam', 'spam'), ('spam', 'spam'), ('spam', 'spam'), ('spam', 'spam'), ('spam', 'spam'), ('spam', 'spam'), ('spam', 'spam'), ('spam', 'spam'), ('spam', 'spam'), ('spam', 'spam'), ('spam', 'spam'), ('spam', 'spam'), ('spam', 'spam'), ('spam', 'spam'), ('spam', 'spam'), ('spam', 'spam'), ('spam', 'spam'), ('spam', 'spam'), ('spam', 'spam'), ('spam', 'spam'), ('spam', 'spam'), ('spam', 'spam'), ('spam', 'spam'), ('spam', 'spam'), ('spam', 'spam'), ('spam', 'spam'), ('spam', 'spam'), ('spam', 'spam'), ('spam', 'spam'), ('spam', 'spam'), ('spam', 'spam'), ('spam', 'spam'), ('spam', 'spam'), ('spam', 'spam'), ('spam', 'spam'), ('spam', 'spam'), ('spam', 'spam'), ('spam', 'spam'), ('spam', 'spam'), ('spam', 'spam'), ('spam', 'spam'), ('spam', 'spam'), ('spam', 'spam'), ('spam', 'spam'), ('spam', 'spam'), ('spam', 'spam'), ('spam', 'spam'), ('spam', 'spam'), ('spam', 'spam'), ('spam', 'spam'), ('spam', 'spam'), ('spam', 'spam'), ('spam', 'spam'), ('spam', 'spam'), ('spam', 'spam'), ('spam', 'spam'), ('spam', 'spam'), ('spam', 'spam'), ('spam', 'spam'), ('spam', 'spam'), ('spam', 'spam'), ('spam', 'spam'), ('spam', 'spam'), ('spam', 'spam'), ('spam', 'spam'), ('spam', 'spam'), ('spam', 'spam'), ('spam', 'spam'), ('spam', 'spam'), ('spam', 'spam'), ('spam', 'spam'), ('spam', 'spam'), ('spam', 'spam'), ('spam', 'spam'), ('spam', 'spam'), ('spam', 'spam'), ('spam', 'spam'), ('spam', 'spam'), ('spam', 'spam'), ('spam', 'spam'), ('spam', 'spam'), ('spam', 'spam'), ('spam', 'spam'), ('spam', 'spam'), ('spam', 'spam'), ('spam', 'spam'), ('spam', 'spam'), ('spam', 'spam'), ('spam', 'spam'), ('spam', 'spam'), ('spam', 'spam'), ('spam', 'spam'), ('spam', 'spam'), ('spam', 'spam'), ('spam', 'spam'), ('spam', 'spam'), ('spam', 'spam'), ('spam', 'spam'), ('spam', 'spam'), ('spam', 'spam'), ('spam', 'spam'), ('spam', 'spam'), ('spam', 'spam'), ('spam', 'spam'), ('spam', 'spam'), ('spam', 'spam'), ('spam', 'spam'), ('spam', 'spam'), ('spam', 'spam'), ('spam', 'spam'), ('spam', 'spam'), ('spam', 'spam'), ('spam', 'spam'), ('spam', 'spam'), ('spam', 'spam'), ('spam', 'spam'), ('spam', 'spam'), ('spam', 'spam'), ('spam', 'spam'), ('spam', 'spam'), ('spam', 'spam'), ('spam', 'spam'), ('spam', 'spam'), ('spam', 'spam'), ('spam', 'spam'), ('spam', 'spam'), ('spam', 'spam'), ('spam', 'spam'), ('spam', 'spam'), ('spam', 'spam'), ('spam', 'spam'), ('spam', 'spam'), ('spam', 'spam'), ('spam', 'spam'), ('spam', 'spam'), ('spam', 'spam'), ('spam', 'spam'), ('spam', 'spam'), ('spam', 'spam'), ('spam', 'spam'), ('spam', 'spam'), ('spam', 'spam'), ('spam', 'spam'), ('spam', 'spam'), ('spam', 'spam'), ('spam', 'spam'), ('spam', 'spam'), ('spam', 'spam'), ('spam', 'spam'), ('spam', 'spam'), ('spam', 'spam'), ('spam', 'spam'), ('spam', 'spam'), ('spam', 'spam'), ('spam', 'spam'), ('spam', 'spam'), ('spam', 'spam'), ('spam', 'spam'), ('spam', 'spam'), ('spam', 'spam'), ('spam', 'spam'), ('spam', 'spam'), ('spam', 'spam'), ('spam', 'spam'), ('spam', 'spam'), ('spam', 'spam'), ('spam', 'spam'), ('spam', 'spam'), ('spam', 'spam'), ('spam', 'spam'), ('spam', 'spam'), ('spam', 'spam'), ('spam', 'spam'), ('spam', 'spam'), ('spam', 'spam'), ('spam', 'spam'), ('spam', 'spam'), ('spam', 'spam'), ('spam', 'spam'), ('spam', 'spam'), ('spam', 'spam'), ('spam', 'spam'), ('spam', 'spam'), ('spam', 'spam'), ('spam', 'spam'), ('spam', 'spam'), ('spam', 'spam'), ('spam', 'spam'), ('spam', 'spam'), ('spam', 'spam'), ('spam', 'spam'), ('spam', 'spam'), ('spam', 'spam'), ('spam', 'spam'), ('spam', 'spam'), ('spam', 'spam'), ('spam', 'spam'), ('spam', 'spam'), ('spam', 'spam'), ('spam', 'spam'), ('spam', 'spam'), ('spam', 'spam'), ('spam', 'spam'), ('spam', 'spam'), ('ham', 'ham'), ('spam', 'ham'), ('ham', 'ham'), ('spam', 'ham'), ('ham', 'ham'), ('ham', 'ham'), ('ham', 'ham'), ('ham', 'ham'), ('spam', 'ham'), ('ham', 'ham'), ('ham', 'ham'), ('ham', 'ham'), ('spam', 'ham'), ('spam', 'ham'), ('ham', 'ham'), ('ham', 'ham'), ('ham', 'ham'), ('ham', 'ham'), ('ham', 'ham'), ('ham', 'ham'), ('ham', 'ham'), ('ham', 'ham'), ('ham', 'ham'), ('ham', 'ham'), ('ham', 'ham'), ('ham', 'ham'), ('spam', 'ham'), ('ham', 'ham'), ('ham', 'ham'), ('spam', 'ham'), ('ham', 'ham'), ('ham', 'ham'), ('ham', 'ham'), ('ham', 'ham'), ('ham', 'ham'), ('ham', 'ham'), ('spam', 'ham'), ('ham', 'ham'), ('ham', 'ham'), ('ham', 'ham'), ('ham', 'ham'), ('ham', 'ham'), ('ham', 'ham'), ('ham', 'ham'), ('ham', 'ham'), ('ham', 'ham'), ('ham', 'ham'), ('ham', 'ham'), ('ham', 'ham'), ('ham', 'ham'), ('ham', 'ham'), ('ham', 'ham'), ('ham', 'ham'), ('ham', 'ham'), ('ham', 'ham'), ('ham', 'ham'), ('ham', 'ham'), ('ham', 'ham'), ('ham', 'ham'), ('ham', 'ham'), ('ham', 'ham'), ('ham', 'ham'), ('ham', 'ham'), ('ham', 'ham'), ('ham', 'ham'), ('ham', 'ham'), ('ham', 'ham'), ('ham', 'ham'), ('ham', 'ham'), ('ham', 'ham'), ('ham', 'ham'), ('spam', 'ham'), ('ham', 'ham'), ('ham', 'ham'), ('spam', 'ham'), ('ham', 'ham'), ('spam', 'ham'), ('ham', 'ham'), ('ham', 'ham'), ('spam', 'ham'), ('ham', 'ham'), ('ham', 'ham'), ('ham', 'ham'), ('ham', 'ham'), ('ham', 'ham'), ('ham', 'ham'), ('ham', 'ham'), ('spam', 'ham'), ('ham', 'ham'), ('ham', 'ham'), ('ham', 'ham'), ('spam', 'ham'), ('ham', 'ham'), ('ham', 'ham'), ('ham', 'ham'), ('spam', 'ham'), ('ham', 'ham'), ('spam', 'ham'), ('ham', 'ham'), ('ham', 'ham'), ('ham', 'ham'), ('ham', 'ham'), ('ham', 'ham'), ('ham', 'ham'), ('ham', 'ham'), ('spam', 'ham'), ('spam', 'ham'), ('ham', 'ham'), ('ham', 'ham'), ('ham', 'ham'), ('ham', 'ham'), ('ham', 'ham'), ('ham', 'ham'), ('ham', 'ham'), ('ham', 'ham'), ('ham', 'ham'), ('ham', 'ham'), ('ham', 'ham'), ('ham', 'ham'), ('ham', 'ham'), ('ham', 'ham'), ('ham', 'ham'), ('ham', 'ham'), ('ham', 'ham'), ('spam', 'ham'), ('ham', 'ham')]\n"
     ]
    }
   ],
   "source": [
    "#tuple should contain first prediction, then truth -> ('predicted category', 'true category')\n",
    "#Example of a correctly formatted function output:\n",
    "print([('spam', 'spam'), ('spam', 'spam'), ('ham', 'ham'), ('ham', 'spam'), ('ham', 'ham'), ('spam', 'ham'), ('spam', 'spam'), ('spam', 'spam'), ('ham', 'ham'), ('ham', 'ham')])\n",
    "\n",
    "#Your function output:\n",
    "#read training data\n",
    "train_dict = {\"spam\":\"data/spam/train/\",\n",
    "               \"ham\":\"data/ham/train/\"}\n",
    "training_data = read_data(train_dict)\n",
    "\n",
    "#read test data\n",
    "test_dict = {\"spam\":\"data/spam/test/\",\n",
    "             \"ham\":\"data/ham/test/\"}\n",
    "test_data = read_data(test_dict)\n",
    "\n",
    "#execute function (this can take a some time)\n",
    "print(batch_nn(test_data, training_data))"
   ]
  },
  {
   "cell_type": "code",
   "execution_count": 222,
   "metadata": {},
   "outputs": [
    {
     "data": {
      "text/plain": [
       "377"
      ]
     },
     "execution_count": 222,
     "metadata": {},
     "output_type": "execute_result"
    }
   ],
   "source": [
    "len(batch_nn(test_data, training_data))"
   ]
  },
  {
   "cell_type": "markdown",
   "metadata": {},
   "source": [
    "### Exercise 8: accuracy\n",
    "\n",
    "Lastly we want you to test the accuracy of your brand new algorithm. The accuracy is defined as the proportion of correct predictions over all test mails.\n",
    "\n",
    "$$\\textrm{Accuracy} = \\frac{\\textrm{number of correct predictions}}{\\textrm{total number of predictions}}$$\n",
    "\n",
    "Make a function that takes the list of predictions from exercise 7 and returns a float with the accuracy."
   ]
  },
  {
   "cell_type": "code",
   "execution_count": 228,
   "metadata": {},
   "outputs": [],
   "source": [
    "#accuracy\n",
    "# in: a list of tuples with predicted and true category respectively: list_of_predictions\n",
    "# out: a float with the accuracy\n",
    "def accuracy(list_of_predictions):\n",
    "    correct = sum([i[0] == i[1] for i in list_of_predictions])\n",
    "    acc = correct/len(list_of_predictions)\n",
    "    return acc\n",
    "    "
   ]
  },
  {
   "cell_type": "code",
   "execution_count": 229,
   "metadata": {},
   "outputs": [
    {
     "name": "stdout",
     "output_type": "stream",
     "text": [
      "0.8\n",
      "0.8\n"
     ]
    }
   ],
   "source": [
    "#Example of output\n",
    "print(0.8)\n",
    "\n",
    "#Your function on example data\n",
    "example_predictions = [('spam', 'spam'), ('spam', 'spam'), ('ham', 'ham'), ('ham', 'spam'), ('ham', 'ham'), ('spam', 'ham'), ('spam', 'spam'), ('spam', 'spam'), ('ham', 'ham'), ('ham', 'ham')]\n",
    "print(accuracy(example_predictions))\n"
   ]
  },
  {
   "cell_type": "code",
   "execution_count": 230,
   "metadata": {},
   "outputs": [
    {
     "name": "stdout",
     "output_type": "stream",
     "text": [
      "0.946949602122016\n"
     ]
    }
   ],
   "source": [
    "#You can now calculate the accuracy of your classifier:\n",
    "train_dict = {\"spam\":\"data/spam/train/\",\n",
    "               \"ham\":\"data/ham/train/\"}\n",
    "training_data = read_data(train_dict)\n",
    "\n",
    "test_dict = {\"spam\":\"data/spam/test/\",\n",
    "             \"ham\":\"data/ham/test/\"}\n",
    "test_data = read_data(test_dict)\n",
    "\n",
    "predictions = batch_nn(test_data, training_data)\n",
    "\n",
    "#This will take a while\n",
    "print(accuracy(predictions))\n"
   ]
  },
  {
   "cell_type": "code",
   "execution_count": null,
   "metadata": {
    "collapsed": true
   },
   "outputs": [],
   "source": []
  }
 ],
 "metadata": {
  "kernelspec": {
   "display_name": "Python [default]",
   "language": "python",
   "name": "python3"
  },
  "language_info": {
   "codemirror_mode": {
    "name": "ipython",
    "version": 3
   },
   "file_extension": ".py",
   "mimetype": "text/x-python",
   "name": "python",
   "nbconvert_exporter": "python",
   "pygments_lexer": "ipython3",
   "version": "3.5.3"
  }
 },
 "nbformat": 4,
 "nbformat_minor": 1
}
