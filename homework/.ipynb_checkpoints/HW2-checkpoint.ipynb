{
 "cells": [
  {
   "cell_type": "markdown",
   "metadata": {},
   "source": [
    "# ItDS Assignment 2"
   ]
  },
  {
   "cell_type": "markdown",
   "metadata": {},
   "source": [
    "This homework assignment is about lecture 2."
   ]
  },
  {
   "cell_type": "markdown",
   "metadata": {},
   "source": [
    "The homework is automatically checked. There are some strict guidelines, which are explained below, including some other information.\n",
    "\n",
    "- The first code cell contains a function - `student()` - in which you have to fill in your name, student number and e-mail. Please do so __correctly__, since these will be used to store and mail your results.\n",
    "\n",
    "- All exercises are defined as a function (`def`), of which we will check whether your output of the function corresponds with ours. This means that __we will only check the answer__ (output). So, always check whether your function _returns_ (careful: this is not the same as print) an answer as specified in the exercise!\n",
    "\t- __Do not change the names__ of the given functions, these are specifically named this way for checking the homework. (e.g. if you are to answer exercise 1 which is a function coded: `def exercise1():`, then do not change the name of the function `exercise1()`)\n",
    "\t- __Do not define another new function with the same name__. Even if it is in other cells. We will not be able to find the right version.\n",
    "\t- Do not write additional code in the cell where the function is defined, so only include code within the function that is necessary for the answer. \n",
    "    - After the cell with the function (`def`) a code cell is added where an example of an answer is given to show the format of your output. It also contains a test of your function. You can adjust this to whatever you want (even delete it if you want).\n",
    "\t\n",
    "- Feel free to __add new cells to test snippets of code or for other purposes__.\n",
    "\n",
    "- There are no hard deadlines, but 15/100 points are awarded for submitting your work before the due date, which you can find on blackboard. It will need to pass at least one test at that time in order to earn those 15 points. __You will be able to resubmit your work at any time after that (until 1 January) and earn the remaining 85/100 points__.\n",
    "\n",
    "About your homework results: An _exercise_ is considered to be correct if all its subquestions are answered correctly, however an _exercise_ sometimes undergoes multiple tests (based on different inputs). The e-mail with results specifies per _exercise_ which tests you have passed and which you have failed. You will get a score proportional to the number of tested passed.\n",
    "\n",
    "\n",
    "For any questions about abovementioned guidelines and information or other homework related problems, please e-mail us or ask directly during the workgroup!\n",
    "\n",
    "- Nicolas Carmona: nicolascarmonao@gmail.com\n",
    "- Laura Zwep: l.b.zwep@lacdr.leidenuniv.nl\n"
   ]
  },
  {
   "cell_type": "code",
   "execution_count": 1,
   "metadata": {
    "collapsed": true,
    "scrolled": true
   },
   "outputs": [],
   "source": [
    "def student():\n",
    "    sname = 'Yizhen Dai' # enter your name\n",
    "    snum = '2395479' # enter you student number\n",
    "    semail = 'jeremydai1992@gmail.com' # enter the e-mail on which you would like the results for this homework assignment\n",
    "    return((sname, snum, semail))"
   ]
  },
  {
   "cell_type": "code",
   "execution_count": 2,
   "metadata": {
    "scrolled": true
   },
   "outputs": [
    {
     "name": "stdout",
     "output_type": "stream",
     "text": [
      "('John Doe', '1234567', 'john@doe.com')\n"
     ]
    },
    {
     "data": {
      "text/plain": [
       "('Yizhen Dai', '2395479', 'jeremydai1992@gmail.com')"
      ]
     },
     "execution_count": 2,
     "metadata": {},
     "output_type": "execute_result"
    }
   ],
   "source": [
    "# The function should look the similar to this:\n",
    "print(('John Doe', '1234567', 'john@doe.com'))\n",
    "# Test your output with the function below (run this cell)\n",
    "student()"
   ]
  },
  {
   "cell_type": "markdown",
   "metadata": {},
   "source": [
    "# Exercises"
   ]
  },
  {
   "cell_type": "markdown",
   "metadata": {},
   "source": [
    "### Exercise 1: Lift off\n",
    "\n",
    "Using `range`, `+` and `tuple`, construct a tuple counting down from the given input integer `n` to 'lift off'. So, if the input is 4, the result should be: `(4,3,2,1,'lift off')`\n",
    "\n",
    "_note_: Use a `return` statement to give your answers as an output of the function. Pay close attention to the way the values should be output!"
   ]
  },
  {
   "cell_type": "code",
   "execution_count": 26,
   "metadata": {
    "collapsed": true
   },
   "outputs": [],
   "source": [
    "# exercise1\n",
    "#     in:  a positive integer n\n",
    "#     out: a tuple containing (n, n-1, ..., 1, 'lift off')\n",
    "def exercise1(n):\n",
    "    result = [n-i for i in range(n)]\n",
    "    result.append('lift off')\n",
    "    return(tuple(result))\n",
    "    # use 'return' to output the correct tuple\n",
    "    "
   ]
  },
  {
   "cell_type": "code",
   "execution_count": 27,
   "metadata": {},
   "outputs": [
    {
     "name": "stdout",
     "output_type": "stream",
     "text": [
      "(6, 5, 4, 3, 2, 1, 'lift off')\n"
     ]
    },
    {
     "data": {
      "text/plain": [
       "(6, 5, 4, 3, 2, 1, 'lift off')"
      ]
     },
     "execution_count": 27,
     "metadata": {},
     "output_type": "execute_result"
    }
   ],
   "source": [
    "# Example of correctly formatted function output given n=6:\n",
    "print((6,5,4,3,2,1,'lift off'))\n",
    "\n",
    "# Test your own output on some inputvariables:\n",
    "exercise1(6)"
   ]
  },
  {
   "cell_type": "markdown",
   "metadata": {},
   "source": [
    "### Exercise 2: Grab the integers\n",
    "\n",
    "- Given a positive integer `n` and a tuple `tup`, use a `for`-loop to test which integer values in `1,2,...,n` are contained in `tup`. As your answer, return a tuple containing the values which were found to be on that domain and contained in the tuple, __in ascending order__. I.e. for `n = 6` and a tuple `(2,7,6,4)`, the answer should be `(2,4,6)`.\n",
    "\n",
    "_note_: Use a `return` statement to give your answers as an output of the function. Pay close attention to the way the values should be outputted!\n"
   ]
  },
  {
   "cell_type": "code",
   "execution_count": 44,
   "metadata": {
    "collapsed": true
   },
   "outputs": [],
   "source": [
    "# exercise2\n",
    "#     in:  a positive integer n and a tuple tup\n",
    "#     out: a tuple containing those integers from 1 to n that are\n",
    "#          also in the tuple tup, in ascending order\n",
    "def exercise2(n, tup):\n",
    "    return(tuple([i for i in range(1,n+1) if i in tup]))\n",
    "    # use 'return' to output the correct tuple"
   ]
  },
  {
   "cell_type": "code",
   "execution_count": 45,
   "metadata": {},
   "outputs": [
    {
     "name": "stdout",
     "output_type": "stream",
     "text": [
      "(2, 4, 6)\n"
     ]
    },
    {
     "data": {
      "text/plain": [
       "(2, 4, 6)"
      ]
     },
     "execution_count": 45,
     "metadata": {},
     "output_type": "execute_result"
    }
   ],
   "source": [
    "# Example of correctly formatted function output given n=6:\n",
    "print((2,4,6))\n",
    "\n",
    "# Test your own output on some input variables:\n",
    "exercise2(6, (2,7,6,4))"
   ]
  },
  {
   "cell_type": "markdown",
   "metadata": {},
   "source": [
    "### Exercise 3: Digits function\n",
    "\n",
    "Write a function that, given as input integers `n` and `d`, returns the value `True` if `n` contains the digit `d`, and `False` otherwise.  E.g. integer 97 contains the digits 9 and 7, so for `n = 97` your function should return `True` if `d = 9` or `d = 7`, but `False` for all other digits.\n",
    "\n",
    "_Hint:_ You can use the type constructor function `str()` and check if `d` occurs in the string, either using a `while` or a `for` loop, or in another way. Use the `if` statement to check if the integer contains the digit."
   ]
  },
  {
   "cell_type": "code",
   "execution_count": 48,
   "metadata": {
    "collapsed": true
   },
   "outputs": [],
   "source": [
    "# is_digit_in_number\n",
    "#     in:  an integer digit d (where 0<=d<=9)\n",
    "#          an integer number n\n",
    "#     out: True if n contains d, False otherwise\n",
    "\n",
    "def is_digit_in_number(d,n):\n",
    "    # Complete the function here\n",
    "    return(str(d) in tuple(str(n)))\n",
    "    # Don't forget, use the return statement to output the result    "
   ]
  },
  {
   "cell_type": "code",
   "execution_count": 49,
   "metadata": {},
   "outputs": [
    {
     "data": {
      "text/plain": [
       "True"
      ]
     },
     "execution_count": 49,
     "metadata": {},
     "output_type": "execute_result"
    }
   ],
   "source": [
    "# Example of correctly formatted answer output:\n",
    "True\n",
    "\n",
    "# Test your own output on some inputvariables:\n",
    "n = 25\n",
    "d = 5\n",
    "is_digit_in_number(d, n)"
   ]
  },
  {
   "cell_type": "markdown",
   "metadata": {},
   "source": [
    "### Exercise 4: Fibonacci sequence\n",
    "For this exercise, you are going to build a function for the Fibonacci sequence. As explained on Wikipedia: \n",
    "\n",
    "\"In mathematics, the Fibonacci numbers, commonly denoted $F_n$ form a sequence, called the Fibonacci sequence, such that each number is the sum of the two preceding ones, starting from 0 and 1. That is,\n",
    "\n",
    "$$F_{0}=0,\\quad F_{1}=1,$$\n",
    "and\n",
    "\n",
    "$$F_{n}=F_{n-1}+F_{n-2},$$\n",
    "for $n > 1$. \"\n",
    "\n",
    "Now for your function: given input `n`, return a tuple containing the first `n` values of the Fibonacci sequence. To prevent long computation times, the function should return a maximum of 20 values in the tuple, even if `n` is larger than that!\n",
    "\n",
    "_Hint:_ define the first two values in the tuple `(0,1)` before starting iterations."
   ]
  },
  {
   "cell_type": "code",
   "execution_count": 1,
   "metadata": {
    "collapsed": true
   },
   "outputs": [],
   "source": [
    "# fibonacci\n",
    "#   in: an integer n\n",
    "#   out: a tuple with the first min(n, 20) terms of Fibonacci series \n",
    "\n",
    "def fibonacci(n):\n",
    "    if n == 1:\n",
    "        return((0))\n",
    "    elif n == 2:\n",
    "        return((0,1))\n",
    "    else:\n",
    "        k = min(n,20)\n",
    "        f = [0,1]\n",
    "        for i in range(2,k):\n",
    "            f.append(f[i-2]+f[i-1])\n",
    "        return(tuple(f))\n",
    "    # Complete the function here\n",
    "    "
   ]
  },
  {
   "cell_type": "code",
   "execution_count": 2,
   "metadata": {},
   "outputs": [
    {
     "name": "stdout",
     "output_type": "stream",
     "text": [
      "(0, 1, 1, 2, 3, 5)\n"
     ]
    },
    {
     "data": {
      "text/plain": [
       "(0, 1, 1, 2, 3, 5)"
      ]
     },
     "execution_count": 2,
     "metadata": {},
     "output_type": "execute_result"
    }
   ],
   "source": [
    "print((0, 1, 1, 2, 3, 5))\n",
    "\n",
    "test_k = 6\n",
    "fibonacci(test_k)"
   ]
  },
  {
   "cell_type": "markdown",
   "metadata": {},
   "source": [
    "### Exercise 5: Collatz conjecture\n",
    "\n",
    "Start with any natural number number greater than zero. If it is even, divide it by two; otherwise, multiply by three and add one.\n",
    "\n",
    "$S(k) = \\begin{cases}\n",
    "k/2&\\text{if $k$ is even}\\\\\n",
    "3k+1&\\text{otherwise.}\n",
    "\\end{cases}$\n",
    "\n",
    "Starting with a number $n$, repeating this process yields a sequence $n$, $S(n)$, $S(S(n))$, $\\ldots$\n",
    "\n",
    "The Collatz conjecture states that this sequence eventually reaches $1$, regardless of which number $k$ you start with. Interestingly, no-one has been able to prove that this is indeed the case!\n",
    "\n",
    "- Test this conjecture by hand for the number 7 on a piece of paper or in a text cell in this notebook.\n",
    "\n",
    "- Write a function that starts at a given number, and calculates all values of the sequence until 1 has been reached. For example, if the number is 7, then it should find 7, then 22, then 11, ... and finally 1.\n",
    "- The function should then output a tuple containing three values (in this order):\n",
    "    - the largest value it encountered in this sequence\n",
    "    - the length of the sequence (including the initial value)\n",
    "    - `True` if `76` is encountered in this sequence, and `False` otherwise"
   ]
  },
  {
   "cell_type": "code",
   "execution_count": 65,
   "metadata": {
    "collapsed": true
   },
   "outputs": [],
   "source": [
    "# collatz\n",
    "#     in:  an integer number n\n",
    "#     out: a tuple containing the maximum and lenght of the sequence and whether 76 is encountered\n",
    "\n",
    "def collatz(n):\n",
    "    # Complete the function here\n",
    "    l = []\n",
    "    while n != 1:\n",
    "        l.append(n)\n",
    "        if n%2 == 0:\n",
    "            n = int(n/2)\n",
    "        else:\n",
    "            n = int(3*n + 1)\n",
    "    l.append(1)\n",
    "    return((max(l),len(l),76 in l))\n",
    "    "
   ]
  },
  {
   "cell_type": "code",
   "execution_count": 66,
   "metadata": {},
   "outputs": [
    {
     "name": "stdout",
     "output_type": "stream",
     "text": [
      "(52, 17, False)\n",
      "(52, 17, False)\n"
     ]
    }
   ],
   "source": [
    "# Example of correctly formatted answer output given n = 7:\n",
    "print((52, 17, False))\n",
    "\n",
    "# Test your own output on some inputvariables:\n",
    "n = 7\n",
    "print(collatz(n))"
   ]
  },
  {
   "cell_type": "markdown",
   "metadata": {},
   "source": [
    "### Exercise 6: Wide to long format\n",
    "\n",
    "Data can be structured in a 'wide format', i.e. many columns and few rows, or in 'long format', i.e. many rows and few columns. Below are two examples, both tables describe two students and their grades for the courses they followed.\n",
    "\n",
    "Example of a wide format:\n",
    "\n",
    "| Student | Course A | Course B | Course C | Course D |\n",
    "| --- | --- | --- | --- | --- |\n",
    "| 1 | 6.5 | NA | 7.0 | 7.5 |\n",
    "| 2 | 8.5 | 5.5 | NA | 6.0 |\n",
    "\n",
    "Example of a long format:\n",
    "\n",
    "| Student | Course | Grade |\n",
    "| --- | --- | --- |\n",
    "| 1 | A | 6.5 |\n",
    "| 1 | C | 7.0 |\n",
    "| 1 | D | 7.5 |\n",
    "| 2 | A | 8.5 |\n",
    "| 2 | B | 5.5 |\n",
    "| 2 | D | 6.0 |\n",
    "\n",
    "\n",
    "As you can see, both tables contain the same data, but the format is different. __Note that we assume the NA values not to be of value here and leave them out of the long format__. Both formats have their advantages and disadvantages, which is why it can be helpful to switch from one format to the other.\n",
    "\n",
    "So, for this problem you will write a function to change data in wide format to long format. The column names will be given as a tuple and the data will be given as one big tuple with smaller tuples for each row, with missing values denoted as `None`. You will also get the column names which you should use for the long format. In this students example, the three inputs would thus be:\n",
    "\n",
    "`('Student','A','B','C','D')`\n",
    "\n",
    "`((1,6.5,None,7.0,7.5),(2,8.5,5.5,None,6.0))`\n",
    "\n",
    "`('Student', 'Course', 'Grade')`\n",
    "\n",
    "To avoid any problems with checking this assignment, we will use data similar to the example to check your result. Keep in mind that the column names, number of students and number of courses might change! The output should always consist of three rows, however, firstly the 'identifier' ('Student'), secondly the combined column indicating the Course, and lastly one column containing the grade.\n",
    "\n",
    "Final note: The data should be ordered in such a way that the student is in the first column and the courses in the others. So, first all grades for the first student, which should be ordered by course A first, course D last, then the grades for the second student and so on."
   ]
  },
  {
   "cell_type": "code",
   "execution_count": 82,
   "metadata": {
    "collapsed": true
   },
   "outputs": [],
   "source": [
    "# wide_to_long\n",
    "#     in:  a tuple containing column/variable names: varnames\n",
    "#          a tuple containing data on those variables in wide format: data\n",
    "#          a tuple containing the new variable/column names for long format: newvar\n",
    "#     out: a single tuple containing column/variable names and all data in long format\n",
    "\n",
    "def wide_to_long(varnames, data, newvar):\n",
    "    # Complete the function here\n",
    "    l=[newvar]\n",
    "    for d in data:\n",
    "        s = d[0]\n",
    "        for i in range(1,len(d)):\n",
    "            if d[i]:\n",
    "                l.append((s,varnames[i],d[i]))\n",
    "    return(tuple(l))\n",
    "    "
   ]
  },
  {
   "cell_type": "code",
   "execution_count": 83,
   "metadata": {},
   "outputs": [
    {
     "name": "stdout",
     "output_type": "stream",
     "text": [
      "(('Student', 'Course', 'Grade'), (1, 'A', 6.5), (1, 'C', 7.0), (1, 'D', 7.5), (2, 'A', 8.5), (2, 'B', 5.5), (2, 'D', 6.0))\n",
      "(('Student', 'Course', 'Grade'), (1, 'A', 6.5), (1, 'C', 7.0), (1, 'D', 7.5), (2, 'A', 8.5), (2, 'B', 5.5), (2, 'D', 6.0))\n"
     ]
    }
   ],
   "source": [
    "# Example of correctly formatted answer output given the students data:\n",
    "print((('Student', 'Course', 'Grade'),\n",
    " (1, 'A', 6.5),\n",
    " (1, 'C', 7.0),\n",
    " (1, 'D', 7.5),\n",
    " (2, 'A', 8.5),\n",
    " (2, 'B', 5.5),\n",
    " (2, 'D', 6.0)))\n",
    "\n",
    "# Test your own output on some inputvariables:\n",
    "varnames = ('Student', 'A', 'B', 'C', 'D')\n",
    "data = ((1,6.5,None,7.0,7.5),(2,8.5,5.5,None,6.0))\n",
    "newvar = ('Student', 'Course', 'Grade')\n",
    "\n",
    "print(wide_to_long(varnames, data, newvar))\n"
   ]
  },
  {
   "cell_type": "markdown",
   "metadata": {},
   "source": [
    "### Exercise 7: Long to wide format\n",
    "In some situations you will need to manipulate the data the other way around. It might be convenient to switch from long to wide format. \n",
    "\n",
    "In this exercise, you won't have to do the full conversion, but we want to know what the header of the wide table should look like, given a specified order of columns. The new header should only contain courses that are in the long data. So if the desired order is `D, A, B, C, E, F, G` and the data look as follows:\n",
    "\n",
    "| Student | Course | Grade |\n",
    "| --- | --- | --- |\n",
    "| 1 | A | 6.5 |\n",
    "| 1 | C | 7.0 |\n",
    "| 1 | D | 7.5 |\n",
    "| 2 | A | 8.5 |\n",
    "| 2 | B | 5.5 |\n",
    "| 2 | D | 6.0 |\n",
    "\n",
    "then the correctly ordered wide header should look like this:\n",
    "\n",
    "| Student | Course D | Course A | Course B | Course C |\n",
    "| --- | --- | --- | --- | --- |\n",
    "\n",
    "Your function should return a tuple with this header.\n",
    "\n",
    "Note: To simplify the problem, you only have to be concerned with the _Course_ (which is always the second) column as the column to be widened. Also, the first column name should always be _Student_."
   ]
  },
  {
   "cell_type": "code",
   "execution_count": 92,
   "metadata": {
    "collapsed": true
   },
   "outputs": [],
   "source": [
    "# wide_to_long\n",
    "#     in:  a single tuple containing column/variable names and all data in long format: data\n",
    "#          a tuple containing the possible course names in the desired order: desired_order\n",
    "#     out: a single tuple containing the header with the course names present in the data, ordered by 'desired_order'\n",
    "def long_to_wide_header(data, desired_order):\n",
    "    l=['Student']\n",
    "    courses = set([x[1] for x in data[1:]])\n",
    "    for x in desired_order:\n",
    "        if x in courses:\n",
    "            l.append('Course '+x)\n",
    "    return(tuple(l))\n",
    "    # Complete the function here\n",
    "    "
   ]
  },
  {
   "cell_type": "code",
   "execution_count": 93,
   "metadata": {},
   "outputs": [
    {
     "name": "stdout",
     "output_type": "stream",
     "text": [
      "('Student', 'Course D', 'Course A', 'Course B', 'Course C')\n"
     ]
    },
    {
     "data": {
      "text/plain": [
       "('Student', 'Course D', 'Course A', 'Course B', 'Course C')"
      ]
     },
     "execution_count": 93,
     "metadata": {},
     "output_type": "execute_result"
    }
   ],
   "source": [
    "# Example of correctly formatted answer output given the students data and the ordered courses as in example:\n",
    "print(('Student', 'Course D', 'Course A', 'Course B', 'Course C'))\n",
    "\n",
    "# Test your own output:\n",
    "test_long_data = (('Student', 'Course', 'Grade'),\n",
    "                 (1, 'A', 6.5),\n",
    "                 (1, 'C', 7.0),\n",
    "                 (1, 'D', 7.5),\n",
    "                 (2, 'A', 8.5),\n",
    "                 (2, 'B', 5.5),\n",
    "                 (2, 'D', 6.0))\n",
    "\n",
    "test_order_courses = ('D','A','B','C','E','F','G')\n",
    "long_to_wide_header(test_long_data, test_order_courses)\n"
   ]
  },
  {
   "cell_type": "code",
   "execution_count": null,
   "metadata": {
    "collapsed": true
   },
   "outputs": [],
   "source": []
  }
 ],
 "metadata": {
  "kernelspec": {
   "display_name": "Python [default]",
   "language": "python",
   "name": "python3"
  },
  "language_info": {
   "codemirror_mode": {
    "name": "ipython",
    "version": 3
   },
   "file_extension": ".py",
   "mimetype": "text/x-python",
   "name": "python",
   "nbconvert_exporter": "python",
   "pygments_lexer": "ipython3",
   "version": "3.5.3"
  }
 },
 "nbformat": 4,
 "nbformat_minor": 2
}
