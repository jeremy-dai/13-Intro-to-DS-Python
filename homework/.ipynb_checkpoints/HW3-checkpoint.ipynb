{
 "cells": [
  {
   "cell_type": "markdown",
   "metadata": {},
   "source": [
    "# ItDS Assignment 3"
   ]
  },
  {
   "cell_type": "markdown",
   "metadata": {},
   "source": [
    "This homework assignment is about lecture 3."
   ]
  },
  {
   "cell_type": "markdown",
   "metadata": {},
   "source": [
    "The homework is automatically checked. There are some strict guidelines, which are explained below, including some other information.\n",
    "\n",
    "- The first code cell contains a function - `student()` - in which you have to fill in your name, student number and e-mail. Please do so __correctly__, since these will be used to store and mail your results.\n",
    "\n",
    "- All exercises are defined as a function (`def`), of which we will check whether your output of the function corresponds with ours. This means that __we will only check the answer__ (output). So, always check whether your function _returns_ (careful: this is not the same as print) an answer as specified in the exercise!\n",
    "\t- __Do not change the names__ of the given functions, these are specifically named this way for checking the homework. (e.g. if you are to answer exercise 1 which is a function coded: `def exercise1():`, then do not change the name of the function `exercise1()`)\n",
    "\t- __Do not define another new function with the same name__. Even if it is in other cells. We will not be able to find the right version.\n",
    "\t- Do not write additional code in the cell where the function is defined, so only include code within the function that is necessary for the answer. \n",
    "    - After the cell with the function (`def`) a code cell is added where an example of an answer is given to show the format of your output. It also contains a test of your function. You can adjust this to whatever you want (even delete it if you want).\n",
    "\t\n",
    "- Feel free to __add new cells to test snippets of code or for other purposes__.\n",
    "\n",
    "- There are no hard deadlines, but 15/100 points are awarded for submitting your work before the due date, which you can find on blackboard. It will need to pass at least one test at that time in order to earn those 15 points. __You will be able to resubmit your work at any time after that (until 1 January) and earn the remaining 85/100 points__.\n",
    "\n",
    "About your homework results: An _exercise_ is considered to be correct if all its subquestions are answered correctly. An _exercise_ sometimes undergoes multiple tests (based on different inputs). The e-mail with results specifies per _exercise_ which tests you have passed and which you have failed. You will have to pass all tests to get points for the exercise.\n",
    "\n",
    "\n",
    "For any questions about abovementioned guidelines and information or other homework related problems, please e-mail us or ask directly during the workgroup!\n",
    "\n",
    "- Nicolas Carmona: nicolascarmonao@gmail.com\n",
    "- Laura Zwep: l.b.zwep@lacdr.leidenuniv.nl\n"
   ]
  },
  {
   "cell_type": "code",
   "execution_count": 1,
   "metadata": {
    "collapsed": true
   },
   "outputs": [],
   "source": [
    "def student():\n",
    "    sname = 'Yizhen Dai' # enter your name\n",
    "    snum = '2395479' # enter you student number\n",
    "    semail = 'jeremydai1992@gmail.com' # enter the e-mail on which you would like the results for this homework assignment\n",
    "    return((sname, snum, semail))"
   ]
  },
  {
   "cell_type": "code",
   "execution_count": 2,
   "metadata": {},
   "outputs": [
    {
     "name": "stdout",
     "output_type": "stream",
     "text": [
      "('John Doe', '1234567', 'john@doe.com')\n"
     ]
    },
    {
     "data": {
      "text/plain": [
       "('Yizhen Dai', '2395479', 'jeremydai1992@gmail.com')"
      ]
     },
     "execution_count": 2,
     "metadata": {},
     "output_type": "execute_result"
    }
   ],
   "source": [
    "# The function should look the similar to this:\n",
    "print(('John Doe', '1234567', 'john@doe.com'))\n",
    "# Test your output with the function below (run this cell)\n",
    "student()"
   ]
  },
  {
   "cell_type": "markdown",
   "metadata": {},
   "source": [
    "# Exercises\n",
    "\n"
   ]
  },
  {
   "cell_type": "markdown",
   "metadata": {},
   "source": [
    "### Exercise 1: Equality\n",
    "\n",
    "According to the `==` operator, are the values for `a` and `b` below equal? Answer the questions below, with `yes` or `no`. Return your answers in a tuple.\n",
    "\n",
    "1. `a` a tuple and `b` a list, both containing the same values\n",
    "- `a` an integer and `b` a float, both representing the same value (1 and 1.0 for example)\n",
    "- `a` an integer and `b` an integer saved as a string, both representing the same value (1 and '1' for example)\n",
    "- `a` a set and `b` a frozenset, both containing the same values\n"
   ]
  },
  {
   "cell_type": "code",
   "execution_count": 4,
   "metadata": {},
   "outputs": [
    {
     "data": {
      "text/plain": [
       "False"
      ]
     },
     "execution_count": 4,
     "metadata": {},
     "output_type": "execute_result"
    }
   ],
   "source": [
    "(1,2)==[1,2]"
   ]
  },
  {
   "cell_type": "code",
   "execution_count": 7,
   "metadata": {},
   "outputs": [
    {
     "data": {
      "text/plain": [
       "True"
      ]
     },
     "execution_count": 7,
     "metadata": {},
     "output_type": "execute_result"
    }
   ],
   "source": [
    "a=1;b=1.0\n",
    "a==b"
   ]
  },
  {
   "cell_type": "code",
   "execution_count": 10,
   "metadata": {},
   "outputs": [
    {
     "data": {
      "text/plain": [
       "False"
      ]
     },
     "execution_count": 10,
     "metadata": {},
     "output_type": "execute_result"
    }
   ],
   "source": [
    "a=1;b='1'\n",
    "a==b"
   ]
  },
  {
   "cell_type": "code",
   "execution_count": 11,
   "metadata": {},
   "outputs": [
    {
     "data": {
      "text/plain": [
       "True"
      ]
     },
     "execution_count": 11,
     "metadata": {},
     "output_type": "execute_result"
    }
   ],
   "source": [
    "{3,\"boo\"} == frozenset({\"boo\", 3})"
   ]
  },
  {
   "cell_type": "code",
   "execution_count": 12,
   "metadata": {
    "collapsed": true
   },
   "outputs": [],
   "source": [
    "# equality\n",
    "#      in:  nothing\n",
    "#      out: tuple containing your answers to the first exercise\n",
    "\n",
    "def equality():\n",
    "    a1 = 'no'\n",
    "    a2 = 'yes'\n",
    "    a3 = 'no'\n",
    "    a4 = 'yes'\n",
    "        \n",
    "    answer = (a1, a2, a3, a4)\n",
    "    \n",
    "    return(answer)"
   ]
  },
  {
   "cell_type": "code",
   "execution_count": 13,
   "metadata": {},
   "outputs": [
    {
     "name": "stdout",
     "output_type": "stream",
     "text": [
      "('yes', 'yes', 'yes', 'yes')\n",
      "('no', 'yes', 'no', 'yes')\n"
     ]
    }
   ],
   "source": [
    "# Example of correctly formatted function output (not perse the actual answer):\n",
    "print(('yes', 'yes', 'yes', 'yes'))\n",
    "\n",
    "# Your output:\n",
    "print(equality())"
   ]
  },
  {
   "cell_type": "markdown",
   "metadata": {},
   "source": [
    "### Exercise 2: References\n",
    "\n",
    "Answer the questions below, with `yes` or `no`, or in some cases a number, as stated in the table below.\n",
    "\n",
    "1. After the statement `a = b = 123`, both `a` and `b` will hold the same value. Do `a` and `b` reference to the same object in computer memory? (How can you check this?)\n",
    "\n",
    "- If we now say `a = 11`, what value will be outputted when evaluating `b`? \n",
    "\n",
    "- Using the expression `a = b = [1,4,7,10]`, both `a` and `b` will output `[1,4,7,10]` when evaluated. If we now say `a[3] = 11`, what value will be output when calling `b[3]`?\n",
    "\n",
    "- First set `b = 5`, and then create the tuple `a = (1,3,b)`. Will `a` be affected (i.e. will its output change) if we now change `b` to any other value, say `b = \"Hello!\"`?\n",
    "\n",
    "- First set `b = [5,7,9]`, and again set `a = (1,3,b)`. Will `a` be affected if we now set `b = [\"a\", \"new\", \"list!\"]`?\n",
    "\n",
    "- First set `b = [5,7,9]`, and again set `a = (1,3,b)`. Will `a` be affected if we now set `b[:] = [\"a\", \"new\", \"list!\"]`?\n",
    "    \n",
    "| Question number | Possible answers |\n",
    "|:---:| ---:| \n",
    "| 1  | `'yes'`, `'no'` |\n",
    "| 2  | `123`, `11` |\n",
    "| 3  | `10`, `11` |\n",
    "| 4  | `'yes'` , `'no'` |\n",
    "| 5  | `'yes'` , `'no'` |\n",
    "| 6  | `'yes'` , `'no'` |"
   ]
  },
  {
   "cell_type": "code",
   "execution_count": 13,
   "metadata": {},
   "outputs": [
    {
     "data": {
      "text/plain": [
       "True"
      ]
     },
     "execution_count": 13,
     "metadata": {},
     "output_type": "execute_result"
    }
   ],
   "source": [
    "a = b = 123\n",
    "a is b"
   ]
  },
  {
   "cell_type": "code",
   "execution_count": 14,
   "metadata": {},
   "outputs": [
    {
     "data": {
      "text/plain": [
       "123"
      ]
     },
     "execution_count": 14,
     "metadata": {},
     "output_type": "execute_result"
    }
   ],
   "source": [
    "a = 11\n",
    "b"
   ]
  },
  {
   "cell_type": "code",
   "execution_count": 16,
   "metadata": {},
   "outputs": [
    {
     "name": "stdout",
     "output_type": "stream",
     "text": [
      "11\n"
     ]
    }
   ],
   "source": [
    "a = b = [1,4,7,10]\n",
    "a[3] = 11\n",
    "print(b[3])"
   ]
  },
  {
   "cell_type": "code",
   "execution_count": 19,
   "metadata": {},
   "outputs": [
    {
     "data": {
      "text/plain": [
       "(1, 3, 5)"
      ]
     },
     "execution_count": 19,
     "metadata": {},
     "output_type": "execute_result"
    }
   ],
   "source": [
    "b = 5\n",
    "a = (1,3,b)\n",
    "b = \"Hello!\"\n",
    "a"
   ]
  },
  {
   "cell_type": "code",
   "execution_count": 23,
   "metadata": {},
   "outputs": [
    {
     "data": {
      "text/plain": [
       "(1, 3, [5, 7, 9])"
      ]
     },
     "execution_count": 23,
     "metadata": {},
     "output_type": "execute_result"
    }
   ],
   "source": [
    "b = [5,7,9]\n",
    "a = (1,3,b)\n",
    "b = [\"a\", \"new\", \"list!\"]\n",
    "a"
   ]
  },
  {
   "cell_type": "code",
   "execution_count": 24,
   "metadata": {},
   "outputs": [
    {
     "data": {
      "text/plain": [
       "(1, 3, ['a', 'new', 'list!'])"
      ]
     },
     "execution_count": 24,
     "metadata": {},
     "output_type": "execute_result"
    }
   ],
   "source": [
    "b = [5,7,9]\n",
    "a = (1,3,b)\n",
    "b[:] = [\"a\", \"new\", \"list!\"]\n",
    "a"
   ]
  },
  {
   "cell_type": "code",
   "execution_count": 17,
   "metadata": {
    "collapsed": true
   },
   "outputs": [],
   "source": [
    "# references\n",
    "#      in:  nothing\n",
    "#      out: tuple containing your answers to the first exercise\n",
    "\n",
    "def references():\n",
    "    a1 = 'yes'\n",
    "    a2 = 123\n",
    "    a3 = 11\n",
    "    a4 = 'no'\n",
    "    a5 = 'no'\n",
    "    a6 = 'yes'\n",
    "\n",
    "    answer = (a1, a2, a3, a4, a5, a6)\n",
    "    \n",
    "    return(answer)"
   ]
  },
  {
   "cell_type": "code",
   "execution_count": 18,
   "metadata": {},
   "outputs": [
    {
     "name": "stdout",
     "output_type": "stream",
     "text": [
      "('yes', 123, 10, 'yes', 'yes', 'yes')\n",
      "('yes', 123, 11, 'no', 'no', 'yes')\n"
     ]
    }
   ],
   "source": [
    "# Example of correctly formatted function output (not necessarily the actual answer):\n",
    "print(('yes', 123, 10, 'yes', 'yes', 'yes'))\n",
    "\n",
    "# Your output:\n",
    "print(references())"
   ]
  },
  {
   "cell_type": "markdown",
   "metadata": {},
   "source": [
    "### Exercise 3: Sets and dictionaries\n",
    "\n",
    "1. Can `(1,2,[3,4])` be used as a key in a dictionary?\n",
    "\n",
    "- For some arbitrary sets `c` and `d`, is it possible to add set `d` to set `c` using `c.add(d)`?\n",
    "\n",
    "- Consider the following situation: You are looking through some random discrete data and are keeping track of all different values you have encountered in the data. You store these values both in a list and in a set. \n",
    "   - a) If you want to check how many unique values you've encountered, would it be more efficient (faster and easier) to check this using the list or the set?\n",
    "   - b) If you want to check which value you encountered first in this data, would this be possible using the list, the set, or both?\n",
    "    \n",
    "| Question number | Possible answers |\n",
    "| --- |:--- |\n",
    "| 1-2 | `'yes'` `'no'` |\n",
    "| 3a  | `'list'` `'set'` | \n",
    "| 3b  | `'list'` `'set'` `'both'`|\n"
   ]
  },
  {
   "cell_type": "code",
   "execution_count": 26,
   "metadata": {},
   "outputs": [
    {
     "ename": "TypeError",
     "evalue": "unhashable type: 'list'",
     "output_type": "error",
     "traceback": [
      "\u001b[0;31m---------------------------------------------------------------------------\u001b[0m",
      "\u001b[0;31mTypeError\u001b[0m                                 Traceback (most recent call last)",
      "\u001b[0;32m<ipython-input-26-cff677b2aeba>\u001b[0m in \u001b[0;36m<module>\u001b[0;34m()\u001b[0m\n\u001b[1;32m      1\u001b[0m \u001b[0mb\u001b[0m\u001b[0;34m=\u001b[0m\u001b[0;34m{\u001b[0m\u001b[0;34m}\u001b[0m\u001b[0;34m\u001b[0m\u001b[0m\n\u001b[0;32m----> 2\u001b[0;31m \u001b[0mb\u001b[0m\u001b[0;34m[\u001b[0m\u001b[0;34m(\u001b[0m\u001b[0;36m1\u001b[0m\u001b[0;34m,\u001b[0m\u001b[0;36m2\u001b[0m\u001b[0;34m,\u001b[0m\u001b[0;34m[\u001b[0m\u001b[0;36m3\u001b[0m\u001b[0;34m,\u001b[0m\u001b[0;36m4\u001b[0m\u001b[0;34m]\u001b[0m\u001b[0;34m)\u001b[0m\u001b[0;34m]\u001b[0m \u001b[0;34m=\u001b[0m\u001b[0;36m5\u001b[0m\u001b[0;34m\u001b[0m\u001b[0m\n\u001b[0m",
      "\u001b[0;31mTypeError\u001b[0m: unhashable type: 'list'"
     ]
    }
   ],
   "source": [
    "b={}\n",
    "b[(1,2,[3,4])] =5"
   ]
  },
  {
   "cell_type": "code",
   "execution_count": 27,
   "metadata": {},
   "outputs": [
    {
     "ename": "TypeError",
     "evalue": "unhashable type: 'set'",
     "output_type": "error",
     "traceback": [
      "\u001b[0;31m---------------------------------------------------------------------------\u001b[0m",
      "\u001b[0;31mTypeError\u001b[0m                                 Traceback (most recent call last)",
      "\u001b[0;32m<ipython-input-27-721995e00447>\u001b[0m in \u001b[0;36m<module>\u001b[0;34m()\u001b[0m\n\u001b[0;32m----> 1\u001b[0;31m \u001b[0;34m{\u001b[0m\u001b[0;36m3\u001b[0m\u001b[0;34m,\u001b[0m\u001b[0;36m1\u001b[0m\u001b[0;34m,\u001b[0m\u001b[0;36m2\u001b[0m\u001b[0;34m,\u001b[0m\u001b[0;36m3\u001b[0m\u001b[0;34m,\u001b[0m\u001b[0;36m1\u001b[0m\u001b[0;34m}\u001b[0m\u001b[0;34m.\u001b[0m\u001b[0madd\u001b[0m\u001b[0;34m(\u001b[0m\u001b[0;34m{\u001b[0m\u001b[0;36m3\u001b[0m\u001b[0;34m,\u001b[0m\u001b[0;36m1\u001b[0m\u001b[0;34m,\u001b[0m\u001b[0;36m2\u001b[0m\u001b[0;34m,\u001b[0m\u001b[0;36m3\u001b[0m\u001b[0;34m,\u001b[0m\u001b[0;36m1\u001b[0m\u001b[0;34m}\u001b[0m\u001b[0;34m)\u001b[0m\u001b[0;34m\u001b[0m\u001b[0m\n\u001b[0m",
      "\u001b[0;31mTypeError\u001b[0m: unhashable type: 'set'"
     ]
    }
   ],
   "source": [
    "{3,1,2,3,1}.add({3,1,2,3,1})"
   ]
  },
  {
   "cell_type": "code",
   "execution_count": 32,
   "metadata": {},
   "outputs": [
    {
     "data": {
      "text/plain": [
       "{1, 2, 3}"
      ]
     },
     "execution_count": 32,
     "metadata": {},
     "output_type": "execute_result"
    }
   ],
   "source": [
    "a = {3,1,2,3,1}\n",
    "a"
   ]
  },
  {
   "cell_type": "code",
   "execution_count": 39,
   "metadata": {},
   "outputs": [
    {
     "data": {
      "text/plain": [
       "{1, 2, 3}"
      ]
     },
     "execution_count": 39,
     "metadata": {},
     "output_type": "execute_result"
    }
   ],
   "source": [
    "b =set([1,2,3])\n",
    "b"
   ]
  },
  {
   "cell_type": "code",
   "execution_count": 40,
   "metadata": {},
   "outputs": [
    {
     "ename": "TypeError",
     "evalue": "unhashable type: 'set'",
     "output_type": "error",
     "traceback": [
      "\u001b[0;31m---------------------------------------------------------------------------\u001b[0m",
      "\u001b[0;31mTypeError\u001b[0m                                 Traceback (most recent call last)",
      "\u001b[0;32m<ipython-input-40-595dc40b531c>\u001b[0m in \u001b[0;36m<module>\u001b[0;34m()\u001b[0m\n\u001b[0;32m----> 1\u001b[0;31m \u001b[0ma\u001b[0m\u001b[0;34m.\u001b[0m\u001b[0madd\u001b[0m\u001b[0;34m(\u001b[0m\u001b[0mb\u001b[0m\u001b[0;34m)\u001b[0m\u001b[0;34m\u001b[0m\u001b[0m\n\u001b[0m\u001b[1;32m      2\u001b[0m \u001b[0ma\u001b[0m\u001b[0;34m\u001b[0m\u001b[0m\n",
      "\u001b[0;31mTypeError\u001b[0m: unhashable type: 'set'"
     ]
    }
   ],
   "source": [
    "a.add(b)\n",
    "a"
   ]
  },
  {
   "cell_type": "code",
   "execution_count": 31,
   "metadata": {},
   "outputs": [
    {
     "data": {
      "text/plain": [
       "{1: 1, 2: 1}"
      ]
     },
     "execution_count": 31,
     "metadata": {},
     "output_type": "execute_result"
    }
   ],
   "source": [
    "b={}\n",
    "for i in (1,2):\n",
    "    b[i] = 1\n",
    "b"
   ]
  },
  {
   "cell_type": "code",
   "execution_count": 37,
   "metadata": {},
   "outputs": [
    {
     "data": {
      "text/plain": [
       "{1, 2, 3}"
      ]
     },
     "execution_count": 37,
     "metadata": {},
     "output_type": "execute_result"
    }
   ],
   "source": [
    "{3,1,2,3,1}"
   ]
  },
  {
   "cell_type": "code",
   "execution_count": 40,
   "metadata": {
    "collapsed": true
   },
   "outputs": [],
   "source": [
    "# sets_and_dictionaries\n",
    "#      in:  nothing\n",
    "#      out: tuple containing your answers to the second exercise\n",
    "\n",
    "def sets_and_dictionaries():\n",
    "    a1 = 'no'\n",
    "    a2 = 'no'\n",
    "    a3 = ('set','list')\n",
    "    #a4 = ('answer4a','answer4b')\n",
    "    \n",
    "    answer = (a1,a2,a3)\n",
    "    \n",
    "    return(answer)"
   ]
  },
  {
   "cell_type": "code",
   "execution_count": 41,
   "metadata": {},
   "outputs": [
    {
     "name": "stdout",
     "output_type": "stream",
     "text": [
      "('yes', 'yes', ('list', 'list'))\n",
      "('no', 'no', ('set', 'list'))\n"
     ]
    }
   ],
   "source": [
    "# Example of correctly formatted function output (not perse the actual answer):\n",
    "print(('yes', 'yes', ('list', 'list')))\n",
    "\n",
    "# Your output:\n",
    "print(sets_and_dictionaries())\n"
   ]
  },
  {
   "cell_type": "markdown",
   "metadata": {},
   "source": [
    "### Exercise 4: Groceries (1)\n",
    "\n",
    "For this problem you will receive a dictionary (`prices`) containing products (as keys) and their prices (as values). Products are represented as strings and prices as floats.\n",
    "\n",
    "Find the total price for the shopping list provided as input for the function (`totalprice`). This input (`shoplist`) is shaped as a tuple containing tuples indicating product and amount of that product that you need to buy. E.g. `(('Onion', 2),('Pasta',1),('Tomato',8))`.\n",
    "\n",
    "You should return a float containing the sum of the prices. This float **must be rounded** to 2 decimals."
   ]
  },
  {
   "cell_type": "code",
   "execution_count": 50,
   "metadata": {
    "collapsed": true
   },
   "outputs": [],
   "source": [
    "# totalprice\n",
    "#      in:  a dictionary: prices\n",
    "#           a tuple consisting of multiple tuples containing product name and quantity: shoplist\n",
    "#      out: a float\n",
    "def totalprice(prices, shoplist):\n",
    "\n",
    "    # Complete the function here\n",
    "    p = sum([i[1] * prices[i[0]] for i in shoplist]) \n",
    "    return round(p,2)\n",
    "    "
   ]
  },
  {
   "cell_type": "code",
   "execution_count": 51,
   "metadata": {},
   "outputs": [
    {
     "name": "stdout",
     "output_type": "stream",
     "text": [
      "6.86\n",
      "6.86\n"
     ]
    }
   ],
   "source": [
    "# Example of correctly formatted function output (and the actual answer for this example):\n",
    "print(6.86)\n",
    "\n",
    "# Your output:\n",
    "testprices = {'Onion':0.35, 'Tomato':0.62, 'Zucchini':0.69, 'Chips':1.15, 'Wine':6.30, 'Pasta':1.20}\n",
    "testshoplist = (('Onion', 2), ('Pasta', 1), ('Tomato', 8))\n",
    "print(totalprice(testprices, testshoplist))"
   ]
  },
  {
   "cell_type": "markdown",
   "metadata": {},
   "source": [
    "### Exercise 5: Groceries (2)\n",
    "\n",
    "Using the same input dictionary (`prices`) as the previous question (Groceries 1):\n",
    "\n",
    "Since we are very cheap students, given an input (`price_limit`) containing some price, find all products with a price lower than the given input and store those as a set. The input can be any float.\n",
    "\n",
    "You should return a set of the products you found with a price lower than the `price_limit` input."
   ]
  },
  {
   "cell_type": "code",
   "execution_count": 60,
   "metadata": {
    "collapsed": true
   },
   "outputs": [],
   "source": [
    "# cheap_products\n",
    "#      in:  a dictionary: prices\n",
    "#           a float containing the price limit: price_limit\n",
    "#      out: a set\n",
    "def cheap_products(prices, price_limit):\n",
    "    g = [i for i in prices if  prices[i] < price_limit] \n",
    "    return set(g)\n",
    "    #return {'Onion'} # fix this"
   ]
  },
  {
   "cell_type": "code",
   "execution_count": 61,
   "metadata": {},
   "outputs": [
    {
     "name": "stdout",
     "output_type": "stream",
     "text": [
      "{'Zucchini', 'Tomato', 'Onion'}\n",
      "{'Zucchini', 'Tomato', 'Onion'}\n"
     ]
    }
   ],
   "source": [
    "# Example of correctly formatted function output (and the actual answer for this example):\n",
    "print({'Zucchini', 'Onion', 'Tomato'})\n",
    "\n",
    "# Your output:\n",
    "testprices = {'Onion':0.35, 'Tomato':0.62, 'Zucchini':0.69, 'Chips':1.15, 'Wine':6.30, 'Pasta':1.20}\n",
    "testpriceval = 1.00\n",
    "print(cheap_products(testprices,testpriceval))"
   ]
  },
  {
   "cell_type": "markdown",
   "metadata": {},
   "source": [
    "### Exercise 6: Word frequencies (1)\n",
    "\n",
    "We will develop a bunch of functions that take a list of words as input. The following word list will be convenient to test your functions."
   ]
  },
  {
   "cell_type": "code",
   "execution_count": 1,
   "metadata": {
    "collapsed": true
   },
   "outputs": [],
   "source": [
    "TESTLIST = [\"as\", \"soon\", \"as\", \"one\", \"sits\", \"down\", \"to\", \"think\", \"one\", \"becomes\", \"all\", \"nose\",\n",
    "            \"or\", \"all\", \"forehead\", \"or\", \"something\", \"horrid\"]"
   ]
  },
  {
   "cell_type": "code",
   "execution_count": 3,
   "metadata": {},
   "outputs": [
    {
     "data": {
      "text/plain": [
       "['all',\n",
       " 'all',\n",
       " 'as',\n",
       " 'as',\n",
       " 'becomes',\n",
       " 'down',\n",
       " 'forehead',\n",
       " 'horrid',\n",
       " 'nose',\n",
       " 'one',\n",
       " 'one',\n",
       " 'or',\n",
       " 'or',\n",
       " 'sits',\n",
       " 'something',\n",
       " 'soon',\n",
       " 'think',\n",
       " 'to']"
      ]
     },
     "execution_count": 3,
     "metadata": {},
     "output_type": "execute_result"
    }
   ],
   "source": [
    "sorted(TESTLIST)\n"
   ]
  },
  {
   "cell_type": "raw",
   "metadata": {},
   "source": [
    "Write a function that takes a word list as input, and outputs the number of *distinct* words in the list."
   ]
  },
  {
   "cell_type": "code",
   "execution_count": 66,
   "metadata": {
    "collapsed": true
   },
   "outputs": [],
   "source": [
    "# count_unique_words\n",
    "#      in:  a list of words\n",
    "#      out: an integer: the number of distinct words\n",
    "def count_unique_words(wordlist):\n",
    "    # Complete the function here  \n",
    "    return len(set(wordlist))"
   ]
  },
  {
   "cell_type": "code",
   "execution_count": 67,
   "metadata": {},
   "outputs": [
    {
     "name": "stdout",
     "output_type": "stream",
     "text": [
      "14\n",
      "14\n"
     ]
    }
   ],
   "source": [
    "# Example of correctly formatted function output (correct answer for TESTLIST):\n",
    "print(14)\n",
    "\n",
    "# Your output:\n",
    "print(count_unique_words(TESTLIST))"
   ]
  },
  {
   "cell_type": "markdown",
   "metadata": {},
   "source": [
    "### Exercise 7: Word frequencies (2)\n",
    "\n",
    "Given any input list of words, create a new list that contains the same words as the input list except that all words that end with the letter *d* are removed.\n",
    "\n",
    "_Hint:_ You can use .endswith() for this exercise! E.g. for some string `a = \"abcd\"`, `a.endswith('d')` will evaluate to `True`.) Also, make sure that you do not modify the input list: return a *new* list."
   ]
  },
  {
   "cell_type": "code",
   "execution_count": 69,
   "metadata": {
    "collapsed": true
   },
   "outputs": [],
   "source": [
    "# remove_words_that_end_with_d\n",
    "#      in:  a list of words: wordlist\n",
    "#      out: a list of words: the list with all words that end in \"d\" removed.\n",
    "def remove_words_that_end_with_d(wordlist):\n",
    "    return [i for i in wordlist if i.endswith('d') is False ]\n",
    "    # Complete the function here"
   ]
  },
  {
   "cell_type": "code",
   "execution_count": 70,
   "metadata": {},
   "outputs": [
    {
     "name": "stdout",
     "output_type": "stream",
     "text": [
      "['as', 'soon', 'as', 'one', 'sits', 'down', 'to', 'think', 'one', 'becomes', 'all', 'nose', 'or', 'all', 'or', 'something']\n",
      "['as', 'soon', 'as', 'one', 'sits', 'down', 'to', 'think', 'one', 'becomes', 'all', 'nose', 'or', 'all', 'or', 'something']\n"
     ]
    }
   ],
   "source": [
    "# Example of correctly formatted function output (correct answer for TESTLIST):\n",
    "print([\"as\", \"soon\", \"as\", \"one\", \"sits\", \"down\", \"to\", \"think\", \"one\", \"becomes\", \"all\", \"nose\",\n",
    "            \"or\", \"all\", \"or\", \"something\"])\n",
    "\n",
    "# Your output:\n",
    "print(remove_words_that_end_with_d(TESTLIST))\n"
   ]
  },
  {
   "cell_type": "markdown",
   "metadata": {},
   "source": [
    "### Exercise 8: Word frequencies (3)\n",
    "\n",
    "This function takes as input a wordlist and a separate word. Its output should be the index of the first occurrence given word, if we would (1) add it to the list and (2) then sort the list alphabetically. \n",
    "\n",
    "_Hint:_ There is a very useful function to sort the elements in a list, check out `sorted()`.\n"
   ]
  },
  {
   "cell_type": "code",
   "execution_count": 6,
   "metadata": {},
   "outputs": [
    {
     "data": {
      "text/plain": [
       "[1, 2, 3]"
      ]
     },
     "execution_count": 6,
     "metadata": {},
     "output_type": "execute_result"
    }
   ],
   "source": [
    "s  = [3,1,2]\n",
    "s = sorted(s)\n",
    "s"
   ]
  },
  {
   "cell_type": "code",
   "execution_count": 11,
   "metadata": {
    "collapsed": true
   },
   "outputs": [],
   "source": [
    "# word_index_alphabetical_order\n",
    "#      in:  a list of words: wordlist\n",
    "#           a string: word\n",
    "#      out: an integer: the index of the word in the sorted list\n",
    "def word_index_alphabetical_order(wordlist, word):\n",
    "    new_list = wordlist.copy()\n",
    "    new_list.append(word)\n",
    "    new_list = sorted(new_list)\n",
    "    return new_list.index(word)\n",
    "    "
   ]
  },
  {
   "cell_type": "code",
   "execution_count": 12,
   "metadata": {},
   "outputs": [
    {
     "name": "stdout",
     "output_type": "stream",
     "text": [
      "5\n",
      "5\n"
     ]
    }
   ],
   "source": [
    "# Example of correctly formatted function output (correct answer for TESTLIST):\n",
    "print(5)\n",
    "\n",
    "# First copy the wordlist so you can make changes and keep the original\n",
    "\n",
    "# Your output:\n",
    "print(word_index_alphabetical_order(TESTLIST, \"boo\"))"
   ]
  },
  {
   "cell_type": "markdown",
   "metadata": {},
   "source": [
    "### Exercise 9: Word frequencies (4)\n",
    "\n",
    "Given a wordlist and a word, create a copy of the input list where all three letter words have been replaced by the given word."
   ]
  },
  {
   "cell_type": "code",
   "execution_count": 83,
   "metadata": {
    "collapsed": true
   },
   "outputs": [],
   "source": [
    "# replace_3_letter_words\n",
    "#      in:  a list of words: wordlist\n",
    "#           a string: word\n",
    "#      out: a list of words in which three letter words have been replaced by the given word\n",
    "def replace_3_letter_words(wordlist, word):\n",
    "    l = []\n",
    "    for i in wordlist:\n",
    "        if len(i) == 3:\n",
    "            l.append(word)\n",
    "        else:\n",
    "            l.append(i)\n",
    "    return l\n",
    "    # Complete the function here\n",
    "        "
   ]
  },
  {
   "cell_type": "code",
   "execution_count": 84,
   "metadata": {},
   "outputs": [
    {
     "name": "stdout",
     "output_type": "stream",
     "text": [
      "['as', 'soon', 'as', 'yo', 'sits', 'down', 'to', 'think', 'yo', 'becomes', 'yo', 'nose', 'or', 'yo', 'forehead', 'or', 'something', 'horrid']\n",
      "['as', 'soon', 'as', 'yo', 'sits', 'down', 'to', 'think', 'yo', 'becomes', 'yo', 'nose', 'or', 'yo', 'forehead', 'or', 'something', 'horrid', 'yo', 'yo']\n"
     ]
    }
   ],
   "source": [
    "# Example of correctly formatted function output (correct answer for TESTLIST):\n",
    "print([\"as\", \"soon\", \"as\", \"yo\", \"sits\", \"down\", \"to\", \"think\", \"yo\", \"becomes\", \"yo\", \"nose\",\n",
    "            \"or\", \"yo\", \"forehead\", \"or\", \"something\", \"horrid\"])\n",
    "\n",
    "# Your output:\n",
    "print(replace_3_letter_words(TESTLIST, \"yo\"))\n",
    "\n",
    "# Make sure that all three letter words are replaced by the testword in the input\n",
    "# list!"
   ]
  },
  {
   "cell_type": "markdown",
   "metadata": {},
   "source": [
    "### Exercise 10: Word frequencies (5)\n",
    "\n",
    "Along with this assignment, you can download a txt file containing some text (`word_frequencies_text_1.txt`). Save this text in the **same folder as this jupyter notebook**. You will be looking at the separate words in that text. To use this text in your code, you will need to read it into Python as separate strings for each word. The code to make a list containing all separate words is provided in the next code cell. You don't have to understand this code (yet!), just evaluate the cell and make sure the file gets loaded properly."
   ]
  },
  {
   "cell_type": "code",
   "execution_count": 86,
   "metadata": {
    "collapsed": true
   },
   "outputs": [],
   "source": [
    "with open(\"word_frequencies_text_1.txt\", 'r') as myfile:\n",
    "    WORDLIST = myfile.read().lower().replace(\".\", \"\").replace(\",\", \"\").split()"
   ]
  },
  {
   "cell_type": "markdown",
   "metadata": {},
   "source": [
    "Now we'll use the functions you've written before with this much larger wordlist. Find all unique words that occur in `WORDLIST`, __not in either__ `remove_words_that_end_with_d(WORDLIST)` __or__ `replace_3_letter_words(WORDLIST, word)`, where `word` is an input to your function. Give your answer in the form of a set."
   ]
  },
  {
   "cell_type": "code",
   "execution_count": 129,
   "metadata": {
    "collapsed": true
   },
   "outputs": [],
   "source": [
    "# comparing_wordlists\n",
    "#      in:  a list of words: wordlist\n",
    "#           a string: word\n",
    "#      out: a set of words that satisfy the condition of the exercise\n",
    "\n",
    "def comparing_wordlists(wordlist, word):\n",
    "    a = [i for i in wordlist if i.endswith('d') is False]\n",
    "    for i in wordlist:\n",
    "        if len(i) == 3:\n",
    "            a.append(word)\n",
    "        else:\n",
    "            a.append(i)\n",
    "    return set([i for i in set(wordlist) if i not in set(a) ])\n",
    "    # Use some of the functions you've written before! Copy the code, don't use the functions directly!\n",
    "        "
   ]
  },
  {
   "cell_type": "code",
   "execution_count": 130,
   "metadata": {},
   "outputs": [
    {
     "data": {
      "text/plain": [
       "False"
      ]
     },
     "execution_count": 130,
     "metadata": {},
     "output_type": "execute_result"
    }
   ],
   "source": [
    "'hello' in set(WORDLIST)"
   ]
  },
  {
   "cell_type": "code",
   "execution_count": 131,
   "metadata": {},
   "outputs": [
    {
     "data": {
      "text/plain": [
       "['nec',\n",
       " 'vel',\n",
       " 'per',\n",
       " 'sem',\n",
       " 'nam',\n",
       " 'mus',\n",
       " 'non',\n",
       " 'dui',\n",
       " 'est',\n",
       " 'dis',\n",
       " 'sed',\n",
       " 'leo',\n",
       " 'sit']"
      ]
     },
     "execution_count": 131,
     "metadata": {},
     "output_type": "execute_result"
    }
   ],
   "source": [
    "[i for i in set(WORDLIST) if len(i) == 3]"
   ]
  },
  {
   "cell_type": "code",
   "execution_count": 132,
   "metadata": {},
   "outputs": [
    {
     "name": "stdout",
     "output_type": "stream",
     "text": [
      "{'words', 'in', 'only', 'some', 'original', 'list', 'the'}\n",
      "{'sed'}\n"
     ]
    }
   ],
   "source": [
    "# Example of correctly formatted function output (not the actual answer!):\n",
    "print({\"some\", \"words\", \"only\", \"in\", \"the\", \"original\", \"list\"})\n",
    "\n",
    "# Your output:\n",
    "testword = \"hello\"\n",
    "\n",
    "print(comparing_wordlists(WORDLIST, testword))"
   ]
  },
  {
   "cell_type": "markdown",
   "metadata": {},
   "source": [
    "### Exercise 11: Word frequencies (6)\n",
    "\n",
    "Finally, write a function that finds the most common words in a given wordlist, that is, the __set__ of words with the highest frequency (this might be just a single word, or there may be several words with the same frequency). Note: for long wordlists, if you're not careful your function may become slow (and if it's too slow, your test will fail!). The trick is to make a *dictionary* containing the words as keys and the frequency of that word as the corresponding value. You can create this dictionary using *one* `for` loop over the input list."
   ]
  },
  {
   "cell_type": "code",
   "execution_count": 115,
   "metadata": {
    "collapsed": true
   },
   "outputs": [],
   "source": [
    "# most_common_words\n",
    "#      in:  a list of words: wordlist\n",
    "#      out: a set of words: the most common word in wordlist\n",
    "\n",
    "def most_common_words(wordlist):\n",
    "    a = dict()\n",
    "    for w in wordlist:\n",
    "        if w not in a:\n",
    "            a[w] = 1\n",
    "        else:\n",
    "            a[w] += 1\n",
    "    m = max(a, key=lambda key: a[key])\n",
    "    return set([i for i in a if a[i] == a[m]])\n",
    "    # Complete the function here\n",
    "    \n",
    "    "
   ]
  },
  {
   "cell_type": "code",
   "execution_count": 120,
   "metadata": {},
   "outputs": [
    {
     "name": "stdout",
     "output_type": "stream",
     "text": [
      "{'one', 'as', 'all', 'or'}\n",
      "{'boo', 'all'}\n",
      "{'sed'}\n"
     ]
    }
   ],
   "source": [
    "# Example of correctly formatted function output (correct answer for TESTLIST):\n",
    "print({\"as\", \"one\", \"all\", \"or\"})\n",
    "\n",
    "# Your output:\n",
    "print(most_common_words(TESTLIST))\n",
    "\n",
    "# also test your function on WORDLIST to check that it's fast enough!\n",
    "print(most_common_words(WORDLIST))"
   ]
  },
  {
   "cell_type": "code",
   "execution_count": 127,
   "metadata": {
    "collapsed": true
   },
   "outputs": [],
   "source": [
    "# check using pandas"
   ]
  },
  {
   "cell_type": "code",
   "execution_count": 128,
   "metadata": {},
   "outputs": [
    {
     "data": {
      "text/plain": [
       "sed             71\n",
       "ac              67\n",
       "in              67\n",
       "et              60\n",
       "sit             58\n",
       "amet            58\n",
       "ut              54\n",
       "a               53\n",
       "nunc            53\n",
       "vel             52\n",
       "quis            50\n",
       "id              49\n",
       "at              48\n",
       "nulla           46\n",
       "non             45\n",
       "nec             45\n",
       "aliquam         41\n",
       "eu              41\n",
       "vitae           41\n",
       "eget            40\n",
       "ipsum           39\n",
       "tincidunt       38\n",
       "mauris          37\n",
       "quam            35\n",
       "pellentesque    35\n",
       "arcu            35\n",
       "vestibulum      33\n",
       "est             31\n",
       "interdum        30\n",
       "dolor           30\n",
       "                ..\n",
       "porttitor        6\n",
       "per              6\n",
       "facilisi         4\n",
       "adipiscing       4\n",
       "netus            3\n",
       "conubia          3\n",
       "torquent         3\n",
       "potenti          3\n",
       "taciti           3\n",
       "ad               3\n",
       "habitant         3\n",
       "senectus         3\n",
       "sociosqu         3\n",
       "nostra           3\n",
       "inceptos         3\n",
       "himenaeos        3\n",
       "class            3\n",
       "aptent           3\n",
       "litora           3\n",
       "ridiculus        1\n",
       "penatibus        1\n",
       "parturient       1\n",
       "montes           1\n",
       "dis              1\n",
       "magnis           1\n",
       "curae;           1\n",
       "cubilia          1\n",
       "mus              1\n",
       "natoque          1\n",
       "nascetur         1\n",
       "Length: 182, dtype: int64"
      ]
     },
     "execution_count": 128,
     "metadata": {},
     "output_type": "execute_result"
    }
   ],
   "source": [
    "import pandas as pd\n",
    "a = pd.Series(WORDLIST)\n",
    "a.value_counts()"
   ]
  },
  {
   "cell_type": "code",
   "execution_count": null,
   "metadata": {
    "collapsed": true
   },
   "outputs": [],
   "source": []
  }
 ],
 "metadata": {
  "kernelspec": {
   "display_name": "Python [default]",
   "language": "python",
   "name": "python3"
  },
  "language_info": {
   "codemirror_mode": {
    "name": "ipython",
    "version": 3
   },
   "file_extension": ".py",
   "mimetype": "text/x-python",
   "name": "python",
   "nbconvert_exporter": "python",
   "pygments_lexer": "ipython3",
   "version": "3.5.3"
  }
 },
 "nbformat": 4,
 "nbformat_minor": 2
}
