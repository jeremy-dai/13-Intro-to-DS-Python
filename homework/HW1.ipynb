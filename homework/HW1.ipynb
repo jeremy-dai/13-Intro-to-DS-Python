{
 "cells": [
  {
   "cell_type": "markdown",
   "metadata": {},
   "source": [
    "# ItDS Assignment 1"
   ]
  },
  {
   "cell_type": "markdown",
   "metadata": {},
   "source": [
    "This homework assignment is about lecture 1."
   ]
  },
  {
   "cell_type": "markdown",
   "metadata": {},
   "source": [
    "The homework is automatically checked. There are some strict guidelines, which are explained below, including some other information.\n",
    "\n",
    "- The first code cell contains a function - `student()` - in which you have to fill in your name, student number and e-mail. Please do so __correctly__, since these will be used to store and mail your results.\n",
    "\n",
    "- All exercises are defined as a function (`def`), of which we will check whether your output of the function corresponds with ours. This means that __we will only check the answer__ (output). So, always check whether your function _returns_ (careful: this is not the same as print) an answer as specified in the exercise!\n",
    "\t- __Do not change the names__ of the given functions, these are specifically named this way for checking the homework. (e.g. if you are to answer exercise 1 which is a function coded: `def exercise1():`, then do not change the name of the function `exercise1()`)\n",
    "\t- __Do not define another new function with the same name__. Even if it is in other cells. We will not be able to find the right version.\n",
    "\t- Do not write additional code in the cell where the function is defined, so only include code within the function that is necessary for the answer. \n",
    "    - After the cell with the function (`def`) a code cell is added where an example of an answer is given to show the format of your output. It also contains a test of your function. You can adjust this to whatever you want (even delete it if you want).\n",
    "\t\n",
    "- Feel free to __add new cells to test snippets of code or for other purposes__.\n",
    "\n",
    "- There are no hard deadlines, but 15/100 points are awarded for submitting your work before the due date, which you can find on blackboard. It will need to pass at least one test at that time in order to earn those 15 points. __You will be able to resubmit your work at any time after that (until 1 January) and earn the remaining 85/100 points__.\n",
    "\n",
    "About your homework results: An _exercise_ is considered to be correct if all its subquestions are answered correctly, however an _exercise_ sometimes undergoes multiple tests (based on different inputs). The e-mail with results specifies per _exercise_ which tests you have passed and which you have failed. You will get a score proportional to the number of tested passed.\n",
    "\n",
    "\n",
    "For any questions about abovementioned guidelines and information or other homework related problems, please e-mail us or ask directly during the workgroup!\n",
    "\n",
    "- Nicolas Carmona: nicolascarmonao@gmail.com\n",
    "- Laura Zwep: l.b.zwep@lacdr.leidenuniv.nl\n",
    "\n"
   ]
  },
  {
   "cell_type": "code",
   "execution_count": 1,
   "metadata": {
    "collapsed": true,
    "scrolled": true
   },
   "outputs": [],
   "source": [
    "def student():\n",
    "    sname = 'Yizhen Dai' # enter your name\n",
    "    snum = '2395479' # enter you student number\n",
    "    semail = 'jeremydai1992@gmail.com' # enter the e-mail on which you would like the results for this homework assignment\n",
    "    return((sname, snum, semail))"
   ]
  },
  {
   "cell_type": "code",
   "execution_count": 2,
   "metadata": {},
   "outputs": [
    {
     "name": "stdout",
     "output_type": "stream",
     "text": [
      "('John Doe', '1234567', 'john@doe.com')\n"
     ]
    },
    {
     "data": {
      "text/plain": [
       "('Yizhen Dai', '2395479', 'jeremydai1992@gmail.com')"
      ]
     },
     "execution_count": 2,
     "metadata": {},
     "output_type": "execute_result"
    }
   ],
   "source": [
    "# The function should look the similar to this:\n",
    "print(('John Doe', '1234567', 'john@doe.com'))\n",
    "# Test your output with the function below (run this cell)\n",
    "student()"
   ]
  },
  {
   "cell_type": "markdown",
   "metadata": {},
   "source": [
    "# Exercises"
   ]
  },
  {
   "cell_type": "markdown",
   "metadata": {},
   "source": [
    "### Exercise 1: Datatypes\n",
    "For each expression below, answer: _What datatype does the expression evaluate to?_ \n",
    "\n",
    "Fill in your answers in the function `exercise1()` in the next cell by replacing the text between the parenthesis. All answers for this problem should be basic data types in python as discussed in the first lecture, i.e. integers, floats, strings and booleans. When filling in an answer, write it as `\"int\"`, `\"float\"`, `\"str\"` or `\"bool\"`, not as `\"integer\"` for example.\n",
    "\n",
    "You can, of course, just test the expressions below to find each answer, but it is more educative to also think of an answer beforehand!\n",
    "\n",
    "1. `'Thirteen'`\n",
    "2. `10`\n",
    "3. `10 + 12`\n",
    "4. `10 == 12`\n",
    "5. `10/12`\n",
    "6. `5.10`\n",
    "7. `'10e2 == 10**2'`\n",
    "8. `19//3`\n",
    "9. `10 - 2.0`\n",
    "10. `12 <= 20`\n",
    "11. `10 + (3 > 12)`\n",
    "12. `10**3`\n",
    "13. `'10' + '12'`\n",
    "14. `29%10`\n",
    "15. `12e5`"
   ]
  },
  {
   "cell_type": "code",
   "execution_count": 4,
   "metadata": {
    "collapsed": true
   },
   "outputs": [],
   "source": [
    "# exercise1\n",
    "    # in: Nothing\n",
    "    # out: A tuple containing your answers to exercise 1\n",
    "\n",
    "def exercise1():\n",
    "    \n",
    "    a1 = 'str' # examples of first two CORRECT answers. Good luck!\n",
    "    a2 = 'int'\n",
    "    a3 = 'int'\n",
    "    a4 = 'bool'\n",
    "    a5 = 'float'\n",
    "    a6 = 'float'\n",
    "    a7 = 'str'\n",
    "    a8 = 'int'\n",
    "    a9 = 'float'\n",
    "    a10 = 'bool'\n",
    "    a11 = 'int'\n",
    "    a12 = 'int'\n",
    "    a13 = 'str'\n",
    "    a14 = 'int'\n",
    "    a15 = 'float'\n",
    "    \n",
    "    answer = (a1,a2,a3,a4,a5,a6,a7,a8,a9,a10,a11,a12,a13,a14,a15)\n",
    "    \n",
    "    return(answer) "
   ]
  },
  {
   "cell_type": "code",
   "execution_count": 5,
   "metadata": {},
   "outputs": [
    {
     "name": "stdout",
     "output_type": "stream",
     "text": [
      "('int', 'int', 'int', 'int', 'float', 'float', 'float', 'float', 'str', 'str', 'str', 'str', 'bool', 'bool', 'bool')\n",
      "('str', 'int', 'int', 'bool', 'float', 'float', 'str', 'int', 'float', 'bool', 'int', 'int', 'str', 'int', 'float')\n"
     ]
    }
   ],
   "source": [
    "# Example of correctly formatted function output (not the actual answer):\n",
    "print(('int', 'int', 'int', 'int', 'float', 'float', 'float', 'float', 'str', 'str', 'str', 'str', 'bool', 'bool', 'bool')) \n",
    "\n",
    "# Your output:\n",
    "print(exercise1())"
   ]
  },
  {
   "cell_type": "markdown",
   "metadata": {},
   "source": [
    "### Exercise 2: Precision loss\n",
    "For each expression below, answer the next question: _Does the expression retain the intended precision?_\n",
    "\n",
    "> For example, if we have this expression: `100 + 0.001` or `1e2 + 1e-3`, we would want `100.001` as output. In this case, Python outputs `100.001` as intended. However, if the expression would be `10000000000000000000000000 + 0.1` or `1e25 + 1e-1`, the intended output is `10000000000000000000000000.1`. Python does not retain this precision, just outputting `1e25`.\n",
    "\n",
    "Answer this problem in the same way as problem 1. The possible answers for this problem are only 'yes' and 'no' (in __lowercase__).\n",
    "\n",
    "1. `1e-16`\n",
    "- `1e17+1`\n",
    "- `1e13-1e2`\n",
    "- `1e-3 * (1e18+1e3)`\n",
    "- `1e80`\n",
    "- `1e-16+1`\n",
    "- `(1+1e7)**3` \n",
    "\n",
    "Tip for the last expression: `1+1e7` is equal to `10000001`, how could you check whether you do not get the intended result?"
   ]
  },
  {
   "cell_type": "code",
   "execution_count": 5,
   "metadata": {
    "collapsed": true
   },
   "outputs": [],
   "source": [
    "# exercise2\n",
    "    # in: Nothing\n",
    "    # out: Tuple containing your answers to problem 2\n",
    "    \n",
    "def exercise2():\n",
    "    # Note that it does not matter if we use the same variable names within this function as in the function for exercise 1!\n",
    "    \n",
    "    a1 = 'yes'\n",
    "    a2 = 'no'\n",
    "    a3 = 'yes'\n",
    "    a4 = 'yes'\n",
    "    a5 = 'yes'\n",
    "    a6 = 'no'\n",
    "    a7 = 'no'\n",
    "    \n",
    "    answer = (a1,a2,a3,a4,a5,a6,a7)\n",
    "    \n",
    "    return(answer)"
   ]
  },
  {
   "cell_type": "code",
   "execution_count": 6,
   "metadata": {},
   "outputs": [
    {
     "name": "stdout",
     "output_type": "stream",
     "text": [
      "('yes', 'yes', 'yes', 'yes', 'no', 'no', 'no')\n",
      "('yes', 'no', 'yes', 'yes', 'yes', 'no', 'no')\n"
     ]
    }
   ],
   "source": [
    "# Example of correctly formatted function output (not the actual answer):\n",
    "print(('yes', 'yes', 'yes', 'yes', 'no', 'no', 'no')) \n",
    "\n",
    "# Your output:\n",
    "print(exercise2())"
   ]
  },
  {
   "cell_type": "markdown",
   "metadata": {},
   "source": [
    "### Exercise 3: Rounding and Precedence\n",
    "\n",
    "In this exercise, check the possible answers for each question in the table at the end of this cell.\n",
    "\n",
    "1. Is the operator `+` evaluated before the operator `>`?\n",
    "- Does `2+(3*4)` evaluate to the same value as `2+3*4`?\n",
    "- Does `int(1e100)*int(1e100)` evaluate to the same value as `int(1e100*1e100)`?\n",
    "- Which value is given by the expression `int(-8.3)`?\n",
    "- Does `int(2.0/6.0)` give the basic data type as `2.0//6.0`?\n",
    "\n",
    "\n",
    "| Question number | Possible answers |  |\n",
    "| --- | --- | --- |\n",
    "| 1,2,3 | `'yes'` | `'no'` | \n",
    "| 4  | `'-9'` | `'-8'` | \n",
    "| 5  | `'yes'` | `'no'` | "
   ]
  },
  {
   "cell_type": "code",
   "execution_count": 46,
   "metadata": {
    "collapsed": true
   },
   "outputs": [],
   "source": [
    "# exercise3\n",
    "    # in: Nothing\n",
    "    # out: Tuple containing your answers to problem 3\n",
    "    \n",
    "def exercise3():\n",
    "    \n",
    "    a1 = 'yes'\n",
    "    a2 = 'yes'\n",
    "    a3 = 'no'\n",
    "    a4 = '-8'\n",
    "    a5 = 'no'\n",
    "    \n",
    "    answer = (a1,a2,a3,a4,a5)\n",
    "    \n",
    "    return(answer)"
   ]
  },
  {
   "cell_type": "code",
   "execution_count": 47,
   "metadata": {},
   "outputs": [
    {
     "name": "stdout",
     "output_type": "stream",
     "text": [
      "('yes', 'yes', 'yes', '-9', 'yes')\n",
      "('yes', 'yes', 'no', '-8', 'no')\n"
     ]
    }
   ],
   "source": [
    "# Example of correctly formatted function output (not the actual answer):\n",
    "print(('yes', 'yes', 'yes', '-9', 'yes')) \n",
    "\n",
    "# Your output:\n",
    "print(exercise3())"
   ]
  },
  {
   "cell_type": "markdown",
   "metadata": {},
   "source": [
    "### Exercise 4: Indexing\n",
    "\n",
    "For this exercise you will be indexing a string. As the example we will use the string `'homework'`, but keep in mind that the indexing will have to work on another word as well! E.g. if you have to find an index for the first letter, so `'h'` in `'homework'`, it should return `'a'` if we would want to index the string `'assignment'`.\n",
    "\n",
    "1. Find all letters except the first and second (`'mework'`)\n",
    "- Find the first five letters (`'homew'`)\n",
    "- Find the first and eight letter (`'hk'`) \n",
    "- Find all even (i.e. the second, fourth, sixth... etc.) letters, so using steps of 2 (`'oeok'`). Keep in mind that if the string is longer, we still want __all__ even letters! E.g. for `'assignment'` the result should be `'sinet'`\n",
    "- Find the first three letters, but in inverted order (`'moh'`)\n"
   ]
  },
  {
   "cell_type": "code",
   "execution_count": 7,
   "metadata": {
    "collapsed": true
   },
   "outputs": [],
   "source": [
    "# exercise4\n",
    "    # in: String to perform the indexing on\n",
    "    # out: Tuple containing the indexed input strings\n",
    "    \n",
    "def exercise4(string):\n",
    "    # Index these strings below!\n",
    "    n = len(string)\n",
    "    a1 = string[2:]\n",
    "    a2 = string[:5]\n",
    "    a3 = string[0:8:7]\n",
    "    a4 = string[1::2]\n",
    "    a5 = string[2::-1]\n",
    "    \n",
    "    answer = (a1,a2,a3,a4,a5)\n",
    "    \n",
    "    return(answer)"
   ]
  },
  {
   "cell_type": "code",
   "execution_count": 8,
   "metadata": {},
   "outputs": [
    {
     "name": "stdout",
     "output_type": "stream",
     "text": [
      "('mework', 'homew', 'hk', 'oeok', 'moh')\n",
      "('mework', 'homew', 'hk', 'oeok', 'moh')\n"
     ]
    }
   ],
   "source": [
    "# Example of correctly formatted function output (actual answer if we use 'homework' as input):\n",
    "print(('mework', 'homew', 'hk', 'oeok', 'moh')) \n",
    "\n",
    "# Your output:\n",
    "test = \"homework\" # This can be replaced by any other string!\n",
    "print(exercise4(test))"
   ]
  },
  {
   "cell_type": "markdown",
   "metadata": {},
   "source": [
    "### Exercise 5: Miscellaneous Lecture 1\n"
   ]
  },
  {
   "cell_type": "markdown",
   "metadata": {},
   "source": [
    "Answer/program the questions below! They depend on some inputted variables `string`, `integer` and `tup`, which are some inputted string, integer and tuple respectively.\n",
    "\n",
    "1. Create a tuple with the string and the integer twice (i.e. given `'Room '` and `407`, your answer should be `('Room ', 407, 407)`)\n",
    "- Assign the first value of the tuple to the answer variable (`a2`). (I.e. if the input tuple is `('abc', 80, 53)`, then the first value of the tuple is `'abc'`)\n",
    "- Make a tuple with all values from the tuple and the integer (i.e. given `407` and `('abc', 80, 53)`, return `('abc', 80, 53, 407)`)\n",
    "- Convert an integer to a tuple of its individual numbers (i.e. when given `407`, your answer is `('4', '0', '7')`)"
   ]
  },
  {
   "cell_type": "code",
   "execution_count": 125,
   "metadata": {
    "collapsed": true
   },
   "outputs": [],
   "source": [
    "# exercise5\n",
    "    # in: A string, an integer and a tuple\n",
    "    # out: A tuple containing your answers\n",
    "\n",
    "def exercise5(string, integer, tup):\n",
    "    # Answer the questions/exercises here, given that the variable string is some inputted string,\n",
    "    # variable integer is some inputted integer and variable tup is some inputted tuple\n",
    "    \n",
    "    # For each answer the input variable (or a tuple containing the input variables) you will need for that answer is\n",
    "    # listed next to that answer. Replace that variable/tuple by your answer for that question/exercise!\n",
    "    a1 = (string, integer,integer)\n",
    "    a2 = tup[0]\n",
    "    temp=[x for x in tup]\n",
    "    temp.append(integer)\n",
    "    a3 = tuple(temp)\n",
    "    a4 = tuple([a for a in str(integer)])\n",
    "    \n",
    "    answer = (a1,a2,a3,a4)\n",
    "    \n",
    "    return(answer)"
   ]
  },
  {
   "cell_type": "code",
   "execution_count": 126,
   "metadata": {},
   "outputs": [
    {
     "name": "stdout",
     "output_type": "stream",
     "text": [
      "(('Room ', 407, 407), 'abc', ('abc', 80, 53, 407), ('4', '0', '7'))\n",
      "(('Room ', 407, 407), 'abc', ('abc', 80, 53, 407), ('4', '0', '7'))\n"
     ]
    }
   ],
   "source": [
    "# Example of correctly formatted function output (actual answer if we use string = 'Room ', integer = 407 and tup = ('abc', 80, 53) as input):\n",
    "print((('Room ', 407, 407), 'abc', ('abc', 80, 53, 407), ('4', '0', '7'))) \n",
    "\n",
    "# Test your output on some inputvariables:\n",
    "teststring = 'Room '\n",
    "testinteger = 407\n",
    "testtuple = ('abc', 80, 53)\n",
    "\n",
    "print(exercise5(teststring, testinteger, testtuple))"
   ]
  },
  {
   "cell_type": "markdown",
   "metadata": {},
   "source": [
    "### Exercise 6: User data\n"
   ]
  },
  {
   "cell_type": "markdown",
   "metadata": {},
   "source": [
    "We want to extract knowledge from user data. The data `userdata` is the input for your function. Give the following information from the database:\n",
    "\n",
    "1. Gather the information of the first two users from the data and return it as a tuple. Here return: `(('Steven', 'Haarlem', 3247934), ('Maarten', 'Leiden', 129831))`\n",
    "- Given there are three users, return their second variables (their locations) in a tuple. Here return: `('Haarlem', 'Leiden', 'Zoeterwoude')`\n",
    "- Give the first letter of the name of the second user. Here return: `'M'` \n",
    "- Given there are three users, add all usernumbers (third variable) up and return their sum as float. Here return: `3497765.0`\n",
    "- Verify that the first and second user have different names. Return `True` if the names are the same and `False` if they are different. This has to work for a different database as well! Here return: `False`"
   ]
  },
  {
   "cell_type": "code",
   "execution_count": 23,
   "metadata": {
    "collapsed": true
   },
   "outputs": [],
   "source": [
    "def exercise6(userdata):\n",
    "    # Answer the questions/exercises here given that the variable userdata \n",
    "    #  includes a list with tuples for every user with (name, city, usernumber)\n",
    "    a1 = tuple(userdata[:2])\n",
    "    a2 = tuple(i[1] for i in userdata)\n",
    "    a3 = userdata[1][0][0]\n",
    "    a4 = float(sum(i[2] for i in userdata))\n",
    "    a5 = userdata[0][0] == userdata[1][0]\n",
    "    \n",
    "    answer = (a1,a2,a3,a4,a5)\n",
    "    \n",
    "    return(answer)"
   ]
  },
  {
   "cell_type": "code",
   "execution_count": 24,
   "metadata": {},
   "outputs": [
    {
     "name": "stdout",
     "output_type": "stream",
     "text": [
      "((('Steven', 'Haarlem', 3247934), ('Maarten', 'Leiden', 129831)), ('Haarlem', 'Leiden', 'Zoeterwoude'), 'M', 3497765.0, False)\n",
      "((('Steven', 'Haarlem', 3247934), ('Maarten', 'Leiden', 129831)), ('Haarlem', 'Leiden', 'Zoeterwoude'), 'M', 3497765.0, False)\n"
     ]
    }
   ],
   "source": [
    "# Example of correctly formatted function output (actual answer if we use the testuserdata given below):\n",
    "print(((('Steven', 'Haarlem', 3247934), ('Maarten', 'Leiden', 129831)), ('Haarlem', 'Leiden', 'Zoeterwoude'), 'M', 3497765.0, False))\n",
    "\n",
    "# Test your output on some inputvariables:\n",
    "testuserdata = [(\"Steven\",  \"Haarlem\", 3247934),\n",
    "                (\"Maarten\", \"Leiden\",   129831),\n",
    "                (\"Laura\", \"Zoeterwoude\", 120000)]\n",
    "\n",
    "print(exercise6(testuserdata))"
   ]
  }
 ],
 "metadata": {
  "kernelspec": {
   "display_name": "Python [default]",
   "language": "python",
   "name": "python3"
  },
  "language_info": {
   "codemirror_mode": {
    "name": "ipython",
    "version": 3
   },
   "file_extension": ".py",
   "mimetype": "text/x-python",
   "name": "python",
   "nbconvert_exporter": "python",
   "pygments_lexer": "ipython3",
   "version": "3.5.3"
  }
 },
 "nbformat": 4,
 "nbformat_minor": 2
}
