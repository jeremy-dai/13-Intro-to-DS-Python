{
 "cells": [
  {
   "cell_type": "markdown",
   "metadata": {},
   "source": [
    "# ItDS Assignment 4"
   ]
  },
  {
   "cell_type": "markdown",
   "metadata": {},
   "source": [
    "This homework assignment is about lecture 4."
   ]
  },
  {
   "cell_type": "markdown",
   "metadata": {},
   "source": [
    "The homework is automatically checked. There are some strict guidelines, which are explained below, including some other information.\n",
    "\n",
    "- The first code cell contains a function - `student()` - in which you have to fill in your name, student number and e-mail. Please do so __correctly__, since these will be used to store and mail your results.\n",
    "\n",
    "- All exercises are defined as a function (`def`), of which we will check whether your output of the function corresponds with ours. This means that __we will only check the answer__ (output). So, always check whether your function _returns_ (careful: this is not the same as print) an answer as specified in the exercise!\n",
    "\t- __Do not change the names__ of the given functions, these are specifically named this way for checking the homework. (e.g. if you are to answer exercise 1 which is a function coded: `def exercise1():`, then do not change the name of the function `exercise1()`)\n",
    "\t- __Do not define another new function with the same name__. Even if it is in other cells. We will not be able to find the right version.\n",
    "\t- Do not write additional code in the cell where the function is defined, so only include code within the function that is necessary for the answer. \n",
    "    - After the cell with the function (`def`) a code cell is added where an example of an answer is given to show the format of your output. It also contains a test of your function. You can adjust this to whatever you want (even delete it if you want).\n",
    "\t\n",
    "- Feel free to __add new cells to test snippets of code or for other purposes__.\n",
    "\n",
    "- There are no hard deadlines, but 15/100 points are awarded for submitting your work before the due date, which you can find on blackboard. It will need to pass at least one test at that time in order to earn those 15 points. __You will be able to resubmit your work at any time after that (until 1 January) and earn the remaining 85/100 points__.\n",
    "\n",
    "About your homework results: An _exercise_ is considered to be correct if all its subquestions are answered correctly, however an _exercise_ sometimes undergoes multiple tests (based on different inputs). The e-mail with results specifies per _exercise_ which tests you have passed and which you have failed. You will get a score proportional to the number of tested passed.\n",
    "\n",
    "\n",
    "For any questions about abovementioned guidelines and information or other homework related problems, please e-mail us or ask directly during the workgroup!\n",
    "\n",
    "- Nicolas Carmona: nicolascarmonao@gmail.com\n",
    "- Laura Zwep: l.b.zwep@lacdr.leidenuniv.nl"
   ]
  },
  {
   "cell_type": "code",
   "execution_count": 30,
   "metadata": {
    "collapsed": true
   },
   "outputs": [],
   "source": [
    "def student():\n",
    "    sname = 'Yizhen Dai' # enter your name\n",
    "    snum = '2395479' # enter you student number\n",
    "    semail = 'jeremydai1992@gmail.com' # enter the e-mail on which you would like the results for this homework assignment\n",
    "    return((sname, snum, semail))"
   ]
  },
  {
   "cell_type": "code",
   "execution_count": 31,
   "metadata": {},
   "outputs": [
    {
     "name": "stdout",
     "output_type": "stream",
     "text": [
      "('John Doe', '1234567', 'john@doe.com')\n"
     ]
    },
    {
     "data": {
      "text/plain": [
       "('Yizhen Dai', '2395479', 'jeremydai1992@gmail.com')"
      ]
     },
     "execution_count": 31,
     "metadata": {},
     "output_type": "execute_result"
    }
   ],
   "source": [
    "# The function should look the similar to this:\n",
    "print(('John Doe', '1234567', 'john@doe.com'))\n",
    "# Test your output with the function below (run this cell)\n",
    "student()"
   ]
  },
  {
   "cell_type": "markdown",
   "metadata": {},
   "source": [
    "## Nearest Neighbours document classification\n",
    "\n",
    "In this homework, you will write a program that can classify documents into categories, based on provided training data.\n",
    "\n",
    "Here you will write a spam filter for email, which can define whether an email is in the category of spam or the category of ham (not spam).\n",
    "\n",
    "__The data:__\n",
    "Two datasets are provided: a training set and a test set. The training data will be used to make the classification algorithm, while the test set is used to evaluate your classifier.\n",
    "\n",
    "Both sets contain emails, with each a name, content and category variable ham or spam (which is provided by the folder name). These can be found in the data.zip file from Blackboard. \n",
    "\n",
    "The data is saved in the following structure: \n",
    "- data/\n",
    "    - ham/\n",
    "        - training/\n",
    "        - test/\n",
    "    - spam/\n",
    "        - training/\n",
    "        - test/\n",
    "\n",
    "\n",
    "__The algorithm:__\n",
    "We will look at one of the simplest classification algorithms: the *nearest neighbour classifier*. It works by assigning the category of the 'closest' document in the training data, which assumes that similar documents often fall within the same category.\n",
    "1. The distance between a new (or test) email and all training emails is calculated. The more similar the emails are, the smaller the distance between them.\n",
    "2. The training email with the smallest distance is the *nearest neighbour*. The category of this email is used as predicted category for the new (or test) email.\n",
    "\n",
    "The distance function needs to be decided on. We will make a distance function based only on distinct words in the email, not taking order and frequency of words into account. The distance is then determined by the proportions of overlapping words in the emails (this will become more clear later on in the assignment).\n",
    "\n",
    "__Lastly:__ The problems have been prepared to help you build a classfier step by step. It is possible and strongly advised to reuse functions that you previously created in this assignment. You don't have to copy the code, but can inmediately use that function. "
   ]
  },
  {
   "cell_type": "markdown",
   "metadata": {},
   "source": [
    "### Reading the data\n",
    "\n",
    "We provided some code that will help you read in all the email documents. You will need to use these functions in your exercises. You can try out the `filelist` function below to read and print the file names of all files in one of the email directories. The names of the files are pretty weird, don't worry about this. Make sure that you change the paths to where you stored the unzip version of the data folder.\n"
   ]
  },
  {
   "cell_type": "code",
   "execution_count": 32,
   "metadata": {
    "collapsed": true
   },
   "outputs": [],
   "source": [
    "#starting with importing functions from modules (you will learn this later on)\n",
    "from os import listdir           # used to see what files are in a directory\n",
    "from os.path import isfile, join # to check if a thing is a file or a directory\n",
    "\n",
    "#filelist\n",
    "# in:  the pathname of a directory\n",
    "# out: a list of files in that directory\n",
    "def filelist(path):\n",
    "    return [f for f in listdir(path) if isfile(join(path, f))]"
   ]
  },
  {
   "cell_type": "code",
   "execution_count": 33,
   "metadata": {},
   "outputs": [
    {
     "data": {
      "text/plain": [
       "'0125.44381546181fc6c5d7ea59e917f232c5'"
      ]
     },
     "execution_count": 33,
     "metadata": {},
     "output_type": "execute_result"
    }
   ],
   "source": [
    "# Try the filelist function here (you can change path below)\n",
    "path_to_directory = \"data/spam/train/\"\n",
    "filelist(path_to_directory)[0]"
   ]
  },
  {
   "cell_type": "markdown",
   "metadata": {},
   "source": [
    "You'll also need to be able to read all the contents of an email into a Python string. This can be done using the following function (`read_file`), which returns a single string which contains all the text of file. You can also try this out below."
   ]
  },
  {
   "cell_type": "code",
   "execution_count": 34,
   "metadata": {
    "collapsed": true
   },
   "outputs": [],
   "source": [
    "#read_file\n",
    "# in:  the pathname of a directory, and the name of a file in that directory\n",
    "# out: a string containing the contents of the file\n",
    "def read_file(filename):\n",
    "    with open(filename, \"rb\") as handle:\n",
    "        return handle.read().decode(errors=\"ignore\") # ignore errors"
   ]
  },
  {
   "cell_type": "code",
   "execution_count": 35,
   "metadata": {},
   "outputs": [
    {
     "data": {
      "text/plain": [
       "'From jjj@m'"
      ]
     },
     "execution_count": 35,
     "metadata": {},
     "output_type": "execute_result"
    }
   ],
   "source": [
    "# Try the read_file function here (you can change path below)\n",
    "path_to_file = \"data/spam/train/0018.259154a52bc55dcae491cfded60a5cd2\"\n",
    "read_file(path_to_file)[:10]"
   ]
  },
  {
   "cell_type": "markdown",
   "metadata": {},
   "source": [
    "### Exercise 1: Extract separate words\n",
    "\n",
    "By using the function above we can obtain a single string with the contents of an email. Now we want to extract all unique words from this string. To do so, finish the function below so it converts each email string into a *set* of (unique) words. __Important:__ include only words that consist solely of alphabetic characters and convert all words to lower case. This means for example that words with punctuations attached are removed (such as 'not.' and 'maybe;' in the example).\n",
    "\n",
    "Hint: look up the string method `split`.\n",
    "\n",
    "For extra practice: by using Python comprehensions (check lecture) you can write this function in just one line."
   ]
  },
  {
   "cell_type": "code",
   "execution_count": 36,
   "metadata": {
    "collapsed": true
   },
   "outputs": [],
   "source": [
    "#extract_words\n",
    "# in:  a long string containing a document as a string: docstr\n",
    "# out: a set containing all words in the document.\n",
    "def extract_words(docstr):\n",
    "    return({ i.lower() for i in docstr.split() if i.isalpha() })\n",
    "    '''\n",
    "    import string\n",
    "    words = docstr.split()\n",
    "    clean_words = set()\n",
    "    for w in words:\n",
    "        if all([(j not in string.punctuation and not j.isdigit())for j in w]):\n",
    "               clean_words.add(w.lower())\n",
    "    return clean_words\n",
    "    '''"
   ]
  },
  {
   "cell_type": "code",
   "execution_count": 37,
   "metadata": {},
   "outputs": [
    {
     "name": "stdout",
     "output_type": "stream",
     "text": [
      "{'spam', 'foo', 'bar', 'eggs'}\n",
      "{'spam', 'foo', 'bar', 'eggs'}\n"
     ]
    }
   ],
   "source": [
    "#Example of a correctly formatted function output:\n",
    "print({\"eggs\", \"spam\", \"foo\", \"bar\"})\n",
    "\n",
    "#Your output:\n",
    "testdocstr = \"eggs spam not. maybe; Foo Bar\" \n",
    "\n",
    "print(extract_words(testdocstr))"
   ]
  },
  {
   "cell_type": "markdown",
   "metadata": {},
   "source": [
    "### Exercise 2: Create email class\n",
    "\n",
    "Since we are going to work with emails throughout this whole assignment, it is nice to formalize the way we handle emails by creating the class `email`. This class should be able to hold 3 attributes: `filename`, `content` and `category` (with those names!). You will write a function in the class that will extract these from the file path and a provided category. An instance of this class will then contain the name of the file, the contents as a set of unique words and the category name.\n",
    "\n",
    "The use of classes might be complicated at first, but becomes more clear when you are working with it. Study the example of output and try out part very closely to understand what is expected of you! You can also check out the `test` class and `setnumber` method (a function inside a class) in the lecture.\n",
    "\n",
    "Hint: use the functions from earlier cells."
   ]
  },
  {
   "cell_type": "code",
   "execution_count": 38,
   "metadata": {
    "collapsed": true
   },
   "outputs": [],
   "source": [
    "#email\n",
    "# class with method fill_email_attributes\n",
    "\n",
    "class email:\n",
    "    #email.fill_email_attributes\n",
    "    # in: path to email file: path\n",
    "    #     the category of this email: category\n",
    "    # out: email class includes 3 attributes:\n",
    "    #         name of email file: name\n",
    "    #         set of words with content of email: content\n",
    "    #         category of email: category\n",
    "    \n",
    "    def fill_email_attributes(self, path, category):\n",
    "        #include the code for your method here\n",
    "        self.filename = path.split('/')[-1]\n",
    "        self.content = extract_words(read_file(path))\n",
    "        self.category = category\n",
    "        "
   ]
  },
  {
   "cell_type": "code",
   "execution_count": 39,
   "metadata": {
    "collapsed": true
   },
   "outputs": [],
   "source": [
    "a = {'no', 'from', 'id', 'smtp', 'looking', 'localhost', 'individuals', 'if', 'career', 'on', 'link', 'that', 'vast', 'self',\n",
    "       'tremendous', 'be', 'motivated', 'work', 'click', 'by', 'old', 'specialist', 'so', 'excellent', 'home', 'build', 'who', \n",
    "       'make', 'esmtp', 'than', 'microsoft', 'want', 'you', 'an', 'and', 'fri', 'employement', 'year', 'removed', 'contact', \n",
    "       'fortune', 'out', 'to', 'we', 'train', 'employed', 'this', 'normal', 'will', 'is', 'has', 'fill', 'growing', 'a', 'with', \n",
    "       'one', 'our', 'are', 'the', 'at', 'for', 'experience', 'then', 'of', 'simple', 'energetic', 'help', 'aug', 'go', \n",
    "       'opportunity'}"
   ]
  },
  {
   "cell_type": "code",
   "execution_count": 40,
   "metadata": {},
   "outputs": [
    {
     "data": {
      "text/plain": [
       "True"
      ]
     },
     "execution_count": 40,
     "metadata": {},
     "output_type": "execute_result"
    }
   ],
   "source": [
    "a == {'from', 'specialist', 'simple', 'individuals', 'one', 'localhost', 'employement', 'no', 'self', 'link', 'vast', 'and', 'want', 'to', 'career', 'fortune', 'if', 'this', 'who', 'on', 'help', 'experience', 'tremendous', 'at', 'excellent', 'energetic', 'motivated', 'by', 'a', 'year', 'make', 'train', 'you', 'with', 'click', 'home', 'old', 'that', 'build', 'our', 'for', 'id', 'is', 'be', 'employed', 'than', 'go', 'smtp', 'removed', 'microsoft', 'are', 'has', 'an', 'fri', 'the', 'fill', 'so', 'then', 'work', 'contact', 'growing', 'aug',\n",
    "      'out', 'will', 'of', 'looking', 'esmtp', 'normal', 'we', 'opportunity'}\n"
   ]
  },
  {
   "cell_type": "code",
   "execution_count": 41,
   "metadata": {},
   "outputs": [
    {
     "name": "stdout",
     "output_type": "stream",
     "text": [
      "0018.259154a52bc55dcae491cfded60a5cd2\n",
      "spam\n",
      "{'for', 'opportunity', 'link', 'employed', 'then', 'year', 'that', 'home', 'be', 'esmtp', 'will', 'help', 'build', 'experience', 'you', 'one', 'of', 'no', 'career', 'fortune', 'on', 'contact', 'simple', 'id', 'go', 'at', 'energetic', 'a', 'vast', 'than', 'self', 'out', 'train', 'removed', 'with', 'employement', 'growing', 'microsoft', 'fri', 'specialist', 'click', 'the', 'motivated', 'looking', 'aug', 'want', 'this', 'localhost', 'individuals', 'work', 'are', 'to', 'an', 'who', 'is', 'has', 'and', 'old', 'so', 'from', 'tremendous', 'fill', 'we', 'smtp', 'our', 'by', 'make', 'if', 'excellent', 'normal'}\n"
     ]
    }
   ],
   "source": [
    "#Example of correct output (with example file):\n",
    "#print('0018.259154a52bc55dcae491cfded60a5cd2')\n",
    "#print('spam')\n",
    "'''\n",
    "print({'no', 'from', 'id', 'smtp', 'looking', 'localhost', 'individuals', 'if', 'career', 'on', 'link', 'that', 'vast', 'self',\n",
    "       'tremendous', 'be', 'motivated', 'work', 'click', 'by', 'old', 'specialist', 'so', 'excellent', 'home', 'build', 'who', \n",
    "       'make', 'esmtp', 'than', 'microsoft', 'want', 'you', 'an', 'and', 'fri', 'employement', 'year', 'removed', 'contact', \n",
    "       'fortune', 'out', 'to', 'we', 'train', 'employed', 'this', 'normal', 'will', 'is', 'has', 'fill', 'growing', 'a', 'with', \n",
    "       'one', 'our', 'are', 'the', 'at', 'for', 'experience', 'then', 'of', 'simple', 'energetic', 'help', 'aug', 'go', \n",
    "       'opportunity'})\n",
    "'''\n",
    "#Try your own class and function (study closely how this works!):\n",
    "path_to_examplefile = \"data/spam/train/0018.259154a52bc55dcae491cfded60a5cd2\"\n",
    "cat = \"spam\"\n",
    "\n",
    "em1 = email()                                # creating an object (em1) with the class 'email'\n",
    "em1.fill_email_attributes(path_to_file, cat) # use the function that is in the class to fill up your object em1\n",
    "\n",
    "#Your object em1 now includes 3 attributes that can be printed this way:\n",
    "print(em1.filename)\n",
    "print(em1.category)\n",
    "print(em1.content)"
   ]
  },
  {
   "cell_type": "markdown",
   "metadata": {},
   "source": [
    "### Exercise 3: Load emails from folder\n",
    "\n",
    "We can now read an email file and put it into an instance of the email class. For our classification algorithm we need all the files from all the folders. Here you are going to make a function to read all files from one folder. Each folder is associated with a category. The input includes the folder path (with a '/' at the end!) and the category associated with this folder. It should return a list of email instances from all files. The instance is of the class `email` from exercise 2, with name, category and content.\n",
    "\n",
    "Note that if you print the resulting list, you will not see the contents of each email, instead, you will see the email instance and their locations in memory (you should not be concerned, nor scared by this). For example, a list would look like this:\n",
    "\n",
    "`[<__main__.email object at 0x000001A56AC99CC0>, <__main__.email object at 0x000001A56AC99550>, <__main__.email object at 0x000001A56AC99358>, <__main__.email object at 0x000001A56AC99080>]`\n",
    "\n",
    "If you want to look inside the actual contents of one of these email classes, just access them by their index in the list (e.g. `example_email.filename`). An example of what this looks like is shown in the output cell (two cells below).\n",
    "\n",
    "Hint: use the functions and class from earlier cells."
   ]
  },
  {
   "cell_type": "code",
   "execution_count": 42,
   "metadata": {
    "collapsed": true
   },
   "outputs": [],
   "source": [
    "#category_data_list\n",
    "# in:  the pathname of a directory containing email files: path\n",
    "#      the category of all emails in specified path: category \n",
    "# out: list with instances of all emails from the specified path.\n",
    "def load_category(path, category):\n",
    "    email_list = []\n",
    "    for f in filelist(path):\n",
    "        em = email()                                # creating an object (em1) with the class 'email'\n",
    "        em.fill_email_attributes(join(path, f), category)\n",
    "        email_list.append(em)    \n",
    "    return email_list "
   ]
  },
  {
   "cell_type": "code",
   "execution_count": 43,
   "metadata": {},
   "outputs": [
    {
     "name": "stdout",
     "output_type": "stream",
     "text": [
      "\n",
      "EXAMPLE\n",
      "\n",
      "[<__main__.email object at 0x000001A56AC99CC0>, <__main__.email object at 0x000001A56AC99550>, <__main__.email object at 0x000001A56AC99358>, <__main__.email object at 0x000001A56AC99080>]\n",
      "<__main__.email object at 0x000001A56AA760F0>\n",
      "0001.f0cf04027e74802f09f723cb8916b48e\n",
      "ham\n",
      "{'thin', 'stock', 'logo', 'identification', 'october', 'excess', 'time', 'moving', 'strike', 'pm', 'has', 'section', 'against', 'read', 'one', 'broadband'}\n",
      "\n",
      "YOUR OUTPUT\n",
      "\n",
      "[<__main__.email object at 0x102d29630>, <__main__.email object at 0x1034b3fd0>, <__main__.email object at 0x1034b3eb8>, <__main__.email object at 0x1034b3be0>]\n",
      "<__main__.email object at 0x102d29630>\n"
     ]
    }
   ],
   "source": [
    "#Example of a correctly formatted function output (not the actual output)\n",
    "print(\"\\nEXAMPLE\\n\")\n",
    "\n",
    "print(\"[<__main__.email object at 0x000001A56AC99CC0>, <__main__.email object at 0x000001A56AC99550>, <__main__.email object at 0x000001A56AC99358>, <__main__.email object at 0x000001A56AC99080>]\")\n",
    "\n",
    "#Example of accessing a single email\n",
    "print(\"<__main__.email object at 0x000001A56AA760F0>\")\n",
    "\n",
    "#Example of accessing filename, category and contents of a single email (not all content is shown)\n",
    "print(\"0001.f0cf04027e74802f09f723cb8916b48e\")\n",
    "print(\"ham\")\n",
    "print(\"{'thin', 'stock', 'logo', 'identification', 'october', 'excess', 'time', 'moving', 'strike', 'pm', 'has', 'section', 'against', 'read', 'one', 'broadband'}\")\n",
    "\n",
    "\n",
    "\n",
    "#Your function output:\n",
    "example_path_ham = \"data/ham/train/\"\n",
    "example_category  = \"ham\"\n",
    "\n",
    "print(\"\\nYOUR OUTPUT\\n\")\n",
    "\n",
    "list_of_training_ham = load_category(example_path_ham, example_category)\n",
    "print(list_of_training_ham[0:4]) #the index truncates the output to not overwhelm you too much\n",
    "\n",
    "#a single email\n",
    "ath = list_of_training_ham\n",
    "print(ath[0])\n",
    "\n",
    "#accessing contents of email\n",
    "#print(list_of_training_ham[0].filename)\n",
    "#print(list_of_training_ham[0].category)\n",
    "#print(list_of_training_ham[0].content)"
   ]
  },
  {
   "cell_type": "markdown",
   "metadata": {},
   "source": [
    "### Exercise 4: Read training data\n",
    "\n",
    "You now have a function to read the email files into a list of email instances. These lists only contain the data for one folder, but for our classification algorithm we want to put all training data in one list. You are going to write a function to import both ham and spam from the training data into a single list of emails. The input is a dictionary with the category and the associated path (e.g. `{'spam': 'data/spam/train/', 'ham': 'data/ham/train/'}`). Note: here we use this function for reading training data, but we can also use it to read test data.\n",
    "\n",
    "Hint: use the function from exercise 3."
   ]
  },
  {
   "cell_type": "code",
   "execution_count": 44,
   "metadata": {
    "collapsed": true
   },
   "outputs": [],
   "source": [
    "#read_data\n",
    "# in: dictionary with category as keys and filepath as values: category_and_paths_dict\n",
    "# out: list with instances of all emails from the specified paths.\n",
    "\n",
    "def read_data(category_and_paths_dict):\n",
    "    all_list = []\n",
    "    for k in category_and_paths_dict:\n",
    "        temp = load_category(category_and_paths_dict[k],k)\n",
    "        all_list = all_list + temp\n",
    "    return all_list"
   ]
  },
  {
   "cell_type": "code",
   "execution_count": 45,
   "metadata": {},
   "outputs": [
    {
     "name": "stdout",
     "output_type": "stream",
     "text": [
      "[<__main__.email object at 0x000001A56AC99CC0>, <__main__.email object at 0x000001A56AC99550>, <__main__.email object at 0x000001A56AC99358>, <__main__.email object at 0x000001A56AC99080>]\n",
      "[<__main__.email object at 0x102f7a320>, <__main__.email object at 0x102f8bf28>, <__main__.email object at 0x102f8bc88>, <__main__.email object at 0x102eddc88>]\n"
     ]
    }
   ],
   "source": [
    "#Example of output (similar to exercise 3)\n",
    "print(\"[<__main__.email object at 0x000001A56AC99CC0>, <__main__.email object at 0x000001A56AC99550>, <__main__.email object at 0x000001A56AC99358>, <__main__.email object at 0x000001A56AC99080>]\")\n",
    "\n",
    "#Try out your own function\n",
    "train_dict = {\"spam\":\"data/spam/train/\",\n",
    "              \"ham\":\"data/ham/train/\"}\n",
    "\n",
    "print(read_data(train_dict)[0:4])"
   ]
  },
  {
   "cell_type": "markdown",
   "metadata": {},
   "source": [
    "### Exercise 5: Distance\n",
    "\n",
    "Now that we have sorted out our data, we can finally start with the actual algorithm! It is time to decide on an appropriate distance function. As a first idea, we might consider the symmetric difference between the two sets. The *symmetric difference* between two sets $A$ and $B$, denoted $A\\triangle B$, is the nummber of elements that are found in $A$ or $B$, but not in both.\n",
    "\n",
    "A problem with this distance is that it is sensitive to the *size* of the emails: longer emails contain more words, and so will seem to be more distant from one another than shorter ones. To correct for this, we will normalise the difference by dividing by the sum of the sizes of $A$ and $B$. E.g. `{'a', 'b', 'c'}` and `{'c', 'd', 'e'}` should have a distance of $4 / 6\\approx 0.66$.\n",
    "\n",
    "Your function should be able to calculate the distance between two sets of words. It should return a float. For mathematicians it would be:\n",
    "\n",
    "$$\\textrm{distance}(A, B) = \\frac{|A\\triangle B|}{|A|+|B|} $$\n",
    "\n",
    "Hint: Test whether the function correctly yields a distance of 0 on equal wordsets and something greater than 0 on unequal wordsets.\n"
   ]
  },
  {
   "cell_type": "code",
   "execution_count": 46,
   "metadata": {},
   "outputs": [
    {
     "data": {
      "text/plain": [
       "{'c'}"
      ]
     },
     "execution_count": 46,
     "metadata": {},
     "output_type": "execute_result"
    }
   ],
   "source": [
    "a = {'a', 'b', 'c'} \n",
    "b={'c', 'd', 'e'}\n",
    "a & b"
   ]
  },
  {
   "cell_type": "code",
   "execution_count": 47,
   "metadata": {
    "collapsed": true
   },
   "outputs": [],
   "source": [
    "#distance\n",
    "# in:  two word sets: wordset1, wordset2\n",
    "# out: float with their distance (0 if the sets are equal, > 0 otherwise)\n",
    "def distance(wordset1, wordset2):\n",
    "    both = len(wordset1) + len(wordset2) \n",
    "    uni = len(wordset1 | wordset2) - len(wordset1 & wordset2)\n",
    "    return uni/both"
   ]
  },
  {
   "cell_type": "code",
   "execution_count": 48,
   "metadata": {},
   "outputs": [
    {
     "name": "stdout",
     "output_type": "stream",
     "text": [
      "0.14285714285714285\n",
      "0.3333333333333333\n"
     ]
    }
   ],
   "source": [
    "#Example of a correctly formatted function output:\n",
    "print(1/7)\n",
    "\n",
    "example_set1 = {\"a\", \"b\", \"c\"}\n",
    "example_set2 = {\"a\", \"d\", \"c\"}\n",
    "\n",
    "#Your function output:\n",
    "print(distance(example_set1, example_set2))"
   ]
  },
  {
   "cell_type": "markdown",
   "metadata": {},
   "source": [
    "### Exercise 6: Nearest neighbor classifier\n",
    "\n",
    "With the distance function in place and functions to import the data it is time to implement the nearest neighbour algorithm. The function has as inputs an email instance (from exercise 2) and the list with training data (from exercise 4). Use the distance function from exercise 5. The function should output a tuple with the distance and the category of the nearest neighbor."
   ]
  },
  {
   "cell_type": "code",
   "execution_count": 49,
   "metadata": {
    "collapsed": true
   },
   "outputs": [],
   "source": [
    "#nearest_neighbour\n",
    "# in:  an email instance: email_instance\n",
    "#      a list of email instances: training_data\n",
    "# out: a tuple containing the filename of the closest match, the name of its class, and the distance\n",
    "def nearest_neighbour(email_instance, training_data):\n",
    "    distances = []\n",
    "    for t in training_data:\n",
    "        d = distance(email_instance.content, t.content)\n",
    "        distances.append((d, t.category))\n",
    "    return min(distances,key=lambda item:item[0])"
   ]
  },
  {
   "cell_type": "code",
   "execution_count": 50,
   "metadata": {},
   "outputs": [
    {
     "name": "stdout",
     "output_type": "stream",
     "text": [
      "(0.763, 'spam')\n",
      "(0.4585152838427948, 'spam')\n"
     ]
    }
   ],
   "source": [
    "#Example of a correctly formatted function output (not the actual output):\n",
    "print((0.763, \"spam\"))\n",
    "\n",
    "#Your function output:\n",
    "example_email = email()\n",
    "example_email.fill_email_attributes(\"data/spam/test/0210.285d263b1a18e67c68ec9fe005253dd0\", \"spam\")\n",
    "\n",
    "train_dict = {\"spam\":\"data/spam/train/\",\n",
    "              \"ham\":\"data/ham/train/\"}\n",
    "training_data = read_data(train_dict)\n",
    "\n",
    "print(nearest_neighbour(example_email, training_data))"
   ]
  },
  {
   "cell_type": "markdown",
   "metadata": {},
   "source": [
    "### Exercise 7: Nearest neighbor on batch of emails\n",
    "\n",
    "We can already apply nearest neighbor to one email, but we want to predict the categories of all emails in the test data. That is why you are going to make a function that predicts the category of every email from a list of test emails. It should have the test data and training data as inputs and return a list of tuples with the prediction and the true category of the test email.\n"
   ]
  },
  {
   "cell_type": "code",
   "execution_count": 220,
   "metadata": {
    "collapsed": true
   },
   "outputs": [],
   "source": [
    "#batch_nn\n",
    "# in: a list of email instances: test_data\n",
    "#     a list of email instances: training_data\n",
    "# out: a list of tuples with predicted and true category respectively\n",
    "def batch_nn(test_data, training_data):\n",
    "    results = []\n",
    "    for t in test_data:\n",
    "        pred = nearest_neighbour(t, training_data)[1]\n",
    "        results.append((pred,t.category))\n",
    "        \n",
    "    return results"
   ]
  },
  {
   "cell_type": "code",
   "execution_count": 221,
   "metadata": {},
   "outputs": [
    {
     "name": "stdout",
     "output_type": "stream",
     "text": [
      "[('spam', 'spam'), ('spam', 'spam'), ('ham', 'ham'), ('ham', 'spam'), ('ham', 'ham'), ('spam', 'ham'), ('spam', 'spam'), ('spam', 'spam'), ('ham', 'ham'), ('ham', 'ham')]\n",
      "[('spam', 'spam'), ('spam', 'spam'), ('spam', 'spam'), ('spam', 'spam'), ('spam', 'spam'), ('spam', 'spam'), ('spam', 'spam'), ('spam', 'spam'), ('spam', 'spam'), ('spam', 'spam'), ('spam', 'spam'), ('spam', 'spam'), ('spam', 'spam'), ('spam', 'spam'), ('spam', 'spam'), ('spam', 'spam'), ('spam', 'spam'), ('spam', 'spam'), ('spam', 'spam'), ('spam', 'spam'), ('spam', 'spam'), ('spam', 'spam'), ('spam', 'spam'), ('spam', 'spam'), ('spam', 'spam'), ('spam', 'spam'), ('spam', 'spam'), ('spam', 'spam'), ('spam', 'spam'), ('spam', 'spam'), ('spam', 'spam'), ('spam', 'spam'), ('spam', 'spam'), ('spam', 'spam'), ('spam', 'spam'), ('spam', 'spam'), ('spam', 'spam'), ('spam', 'spam'), ('spam', 'spam'), ('spam', 'spam'), ('spam', 'spam'), ('spam', 'spam'), ('spam', 'spam'), ('spam', 'spam'), ('spam', 'spam'), ('ham', 'spam'), ('spam', 'spam'), ('spam', 'spam'), ('spam', 'spam'), ('spam', 'spam'), ('spam', 'spam'), ('spam', 'spam'), ('spam', 'spam'), ('spam', 'spam'), ('spam', 'spam'), ('spam', 'spam'), ('spam', 'spam'), ('spam', 'spam'), ('spam', 'spam'), ('spam', 'spam'), ('spam', 'spam'), ('spam', 'spam'), ('spam', 'spam'), ('spam', 'spam'), ('spam', 'spam'), ('spam', 'spam'), ('spam', 'spam'), ('spam', 'spam'), ('spam', 'spam'), ('spam', 'spam'), ('spam', 'spam'), ('spam', 'spam'), ('spam', 'spam'), ('spam', 'spam'), ('spam', 'spam'), ('spam', 'spam'), ('spam', 'spam'), ('spam', 'spam'), ('spam', 'spam'), ('spam', 'spam'), ('spam', 'spam'), ('spam', 'spam'), ('spam', 'spam'), ('spam', 'spam'), ('spam', 'spam'), ('spam', 'spam'), ('spam', 'spam'), ('spam', 'spam'), ('spam', 'spam'), ('spam', 'spam'), ('spam', 'spam'), ('spam', 'spam'), ('spam', 'spam'), ('spam', 'spam'), ('spam', 'spam'), ('spam', 'spam'), ('spam', 'spam'), ('spam', 'spam'), ('spam', 'spam'), ('spam', 'spam'), ('spam', 'spam'), ('spam', 'spam'), ('spam', 'spam'), ('spam', 'spam'), ('spam', 'spam'), ('spam', 'spam'), ('spam', 'spam'), ('spam', 'spam'), ('spam', 'spam'), ('spam', 'spam'), ('spam', 'spam'), ('spam', 'spam'), ('spam', 'spam'), ('spam', 'spam'), ('spam', 'spam'), ('spam', 'spam'), ('spam', 'spam'), ('spam', 'spam'), ('spam', 'spam'), ('spam', 'spam'), ('spam', 'spam'), ('spam', 'spam'), ('spam', 'spam'), ('spam', 'spam'), ('spam', 'spam'), ('spam', 'spam'), ('spam', 'spam'), ('spam', 'spam'), ('spam', 'spam'), ('spam', 'spam'), ('spam', 'spam'), ('spam', 'spam'), ('spam', 'spam'), ('spam', 'spam'), ('spam', 'spam'), ('spam', 'spam'), ('spam', 'spam'), ('spam', 'spam'), ('spam', 'spam'), ('spam', 'spam'), ('spam', 'spam'), ('spam', 'spam'), ('spam', 'spam'), ('spam', 'spam'), ('spam', 'spam'), ('spam', 'spam'), ('spam', 'spam'), ('spam', 'spam'), ('spam', 'spam'), ('spam', 'spam'), ('spam', 'spam'), ('spam', 'spam'), ('spam', 'spam'), ('spam', 'spam'), ('spam', 'spam'), ('spam', 'spam'), ('spam', 'spam'), ('spam', 'spam'), ('spam', 'spam'), ('spam', 'spam'), ('spam', 'spam'), ('spam', 'spam'), ('spam', 'spam'), ('spam', 'spam'), ('spam', 'spam'), ('spam', 'spam'), ('spam', 'spam'), ('spam', 'spam'), ('spam', 'spam'), ('spam', 'spam'), ('spam', 'spam'), ('spam', 'spam'), ('spam', 'spam'), ('spam', 'spam'), ('spam', 'spam'), ('spam', 'spam'), ('spam', 'spam'), ('spam', 'spam'), ('spam', 'spam'), ('spam', 'spam'), ('spam', 'spam'), ('spam', 'spam'), ('spam', 'spam'), ('spam', 'spam'), ('spam', 'spam'), ('spam', 'spam'), ('spam', 'spam'), ('spam', 'spam'), ('spam', 'spam'), ('spam', 'spam'), ('spam', 'spam'), ('spam', 'spam'), ('spam', 'spam'), ('spam', 'spam'), ('spam', 'spam'), ('spam', 'spam'), ('spam', 'spam'), ('spam', 'spam'), ('spam', 'spam'), ('spam', 'spam'), ('spam', 'spam'), ('spam', 'spam'), ('spam', 'spam'), ('spam', 'spam'), ('spam', 'spam'), ('spam', 'spam'), ('spam', 'spam'), ('spam', 'spam'), ('spam', 'spam'), ('spam', 'spam'), ('spam', 'spam'), ('spam', 'spam'), ('spam', 'spam'), ('spam', 'spam'), ('spam', 'spam'), ('spam', 'spam'), ('spam', 'spam'), ('spam', 'spam'), ('spam', 'spam'), ('spam', 'spam'), ('spam', 'spam'), ('spam', 'spam'), ('spam', 'spam'), ('spam', 'spam'), ('spam', 'spam'), ('spam', 'spam'), ('spam', 'spam'), ('spam', 'spam'), ('spam', 'spam'), ('spam', 'spam'), ('spam', 'spam'), ('spam', 'spam'), ('spam', 'spam'), ('spam', 'spam'), ('spam', 'spam'), ('spam', 'spam'), ('spam', 'spam'), ('spam', 'spam'), ('spam', 'spam'), ('spam', 'spam'), ('spam', 'spam'), ('spam', 'spam'), ('spam', 'spam'), ('spam', 'spam'), ('spam', 'spam'), ('spam', 'spam'), ('spam', 'spam'), ('spam', 'spam'), ('spam', 'spam'), ('spam', 'spam'), ('spam', 'spam'), ('ham', 'ham'), ('spam', 'ham'), ('ham', 'ham'), ('spam', 'ham'), ('ham', 'ham'), ('ham', 'ham'), ('ham', 'ham'), ('ham', 'ham'), ('spam', 'ham'), ('ham', 'ham'), ('ham', 'ham'), ('ham', 'ham'), ('spam', 'ham'), ('spam', 'ham'), ('ham', 'ham'), ('ham', 'ham'), ('ham', 'ham'), ('ham', 'ham'), ('ham', 'ham'), ('ham', 'ham'), ('ham', 'ham'), ('ham', 'ham'), ('ham', 'ham'), ('ham', 'ham'), ('ham', 'ham'), ('ham', 'ham'), ('spam', 'ham'), ('ham', 'ham'), ('ham', 'ham'), ('spam', 'ham'), ('ham', 'ham'), ('ham', 'ham'), ('ham', 'ham'), ('ham', 'ham'), ('ham', 'ham'), ('ham', 'ham'), ('spam', 'ham'), ('ham', 'ham'), ('ham', 'ham'), ('ham', 'ham'), ('ham', 'ham'), ('ham', 'ham'), ('ham', 'ham'), ('ham', 'ham'), ('ham', 'ham'), ('ham', 'ham'), ('ham', 'ham'), ('ham', 'ham'), ('ham', 'ham'), ('ham', 'ham'), ('ham', 'ham'), ('ham', 'ham'), ('ham', 'ham'), ('ham', 'ham'), ('ham', 'ham'), ('ham', 'ham'), ('ham', 'ham'), ('ham', 'ham'), ('ham', 'ham'), ('ham', 'ham'), ('ham', 'ham'), ('ham', 'ham'), ('ham', 'ham'), ('ham', 'ham'), ('ham', 'ham'), ('ham', 'ham'), ('ham', 'ham'), ('ham', 'ham'), ('ham', 'ham'), ('ham', 'ham'), ('ham', 'ham'), ('spam', 'ham'), ('ham', 'ham'), ('ham', 'ham'), ('spam', 'ham'), ('ham', 'ham'), ('spam', 'ham'), ('ham', 'ham'), ('ham', 'ham'), ('spam', 'ham'), ('ham', 'ham'), ('ham', 'ham'), ('ham', 'ham'), ('ham', 'ham'), ('ham', 'ham'), ('ham', 'ham'), ('ham', 'ham'), ('spam', 'ham'), ('ham', 'ham'), ('ham', 'ham'), ('ham', 'ham'), ('spam', 'ham'), ('ham', 'ham'), ('ham', 'ham'), ('ham', 'ham'), ('spam', 'ham'), ('ham', 'ham'), ('spam', 'ham'), ('ham', 'ham'), ('ham', 'ham'), ('ham', 'ham'), ('ham', 'ham'), ('ham', 'ham'), ('ham', 'ham'), ('ham', 'ham'), ('spam', 'ham'), ('spam', 'ham'), ('ham', 'ham'), ('ham', 'ham'), ('ham', 'ham'), ('ham', 'ham'), ('ham', 'ham'), ('ham', 'ham'), ('ham', 'ham'), ('ham', 'ham'), ('ham', 'ham'), ('ham', 'ham'), ('ham', 'ham'), ('ham', 'ham'), ('ham', 'ham'), ('ham', 'ham'), ('ham', 'ham'), ('ham', 'ham'), ('ham', 'ham'), ('spam', 'ham'), ('ham', 'ham')]\n"
     ]
    }
   ],
   "source": [
    "#tuple should contain first prediction, then truth -> ('predicted category', 'true category')\n",
    "#Example of a correctly formatted function output:\n",
    "print([('spam', 'spam'), ('spam', 'spam'), ('ham', 'ham'), ('ham', 'spam'), ('ham', 'ham'), ('spam', 'ham'), ('spam', 'spam'), ('spam', 'spam'), ('ham', 'ham'), ('ham', 'ham')])\n",
    "\n",
    "#Your function output:\n",
    "#read training data\n",
    "train_dict = {\"spam\":\"data/spam/train/\",\n",
    "               \"ham\":\"data/ham/train/\"}\n",
    "training_data = read_data(train_dict)\n",
    "\n",
    "#read test data\n",
    "test_dict = {\"spam\":\"data/spam/test/\",\n",
    "             \"ham\":\"data/ham/test/\"}\n",
    "test_data = read_data(test_dict)\n",
    "\n",
    "#execute function (this can take a some time)\n",
    "print(batch_nn(test_data, training_data))"
   ]
  },
  {
   "cell_type": "code",
   "execution_count": 222,
   "metadata": {},
   "outputs": [
    {
     "data": {
      "text/plain": [
       "377"
      ]
     },
     "execution_count": 222,
     "metadata": {},
     "output_type": "execute_result"
    }
   ],
   "source": [
    "len(batch_nn(test_data, training_data))"
   ]
  },
  {
   "cell_type": "markdown",
   "metadata": {},
   "source": [
    "### Exercise 8: accuracy\n",
    "\n",
    "Lastly we want you to test the accuracy of your brand new algorithm. The accuracy is defined as the proportion of correct predictions over all test mails.\n",
    "\n",
    "$$\\textrm{Accuracy} = \\frac{\\textrm{number of correct predictions}}{\\textrm{total number of predictions}}$$\n",
    "\n",
    "Make a function that takes the list of predictions from exercise 7 and returns a float with the accuracy."
   ]
  },
  {
   "cell_type": "code",
   "execution_count": 228,
   "metadata": {
    "collapsed": true
   },
   "outputs": [],
   "source": [
    "#accuracy\n",
    "# in: a list of tuples with predicted and true category respectively: list_of_predictions\n",
    "# out: a float with the accuracy\n",
    "def accuracy(list_of_predictions):\n",
    "    correct = sum([i[0] == i[1] for i in list_of_predictions])\n",
    "    acc = correct/len(list_of_predictions)\n",
    "    return acc\n",
    "    "
   ]
  },
  {
   "cell_type": "code",
   "execution_count": 229,
   "metadata": {},
   "outputs": [
    {
     "name": "stdout",
     "output_type": "stream",
     "text": [
      "0.8\n",
      "0.8\n"
     ]
    }
   ],
   "source": [
    "#Example of output\n",
    "print(0.8)\n",
    "\n",
    "#Your function on example data\n",
    "example_predictions = [('spam', 'spam'), ('spam', 'spam'), ('ham', 'ham'), ('ham', 'spam'), ('ham', 'ham'), ('spam', 'ham'), ('spam', 'spam'), ('spam', 'spam'), ('ham', 'ham'), ('ham', 'ham')]\n",
    "print(accuracy(example_predictions))\n"
   ]
  },
  {
   "cell_type": "code",
   "execution_count": 230,
   "metadata": {},
   "outputs": [
    {
     "name": "stdout",
     "output_type": "stream",
     "text": [
      "0.946949602122016\n"
     ]
    }
   ],
   "source": [
    "#You can now calculate the accuracy of your classifier:\n",
    "train_dict = {\"spam\":\"data/spam/train/\",\n",
    "               \"ham\":\"data/ham/train/\"}\n",
    "training_data = read_data(train_dict)\n",
    "\n",
    "test_dict = {\"spam\":\"data/spam/test/\",\n",
    "             \"ham\":\"data/ham/test/\"}\n",
    "test_data = read_data(test_dict)\n",
    "\n",
    "predictions = batch_nn(test_data, training_data)\n",
    "\n",
    "#This will take a while\n",
    "print(accuracy(predictions))\n"
   ]
  },
  {
   "cell_type": "code",
   "execution_count": null,
   "metadata": {
    "collapsed": true
   },
   "outputs": [],
   "source": []
  }
 ],
 "metadata": {
  "kernelspec": {
   "display_name": "Python [default]",
   "language": "python",
   "name": "python3"
  },
  "language_info": {
   "codemirror_mode": {
    "name": "ipython",
    "version": 3
   },
   "file_extension": ".py",
   "mimetype": "text/x-python",
   "name": "python",
   "nbconvert_exporter": "python",
   "pygments_lexer": "ipython3",
   "version": "3.5.3"
  }
 },
 "nbformat": 4,
 "nbformat_minor": 1
}
